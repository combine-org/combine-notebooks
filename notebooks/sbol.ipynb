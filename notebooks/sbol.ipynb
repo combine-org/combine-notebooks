{
  "cells": [
    {
      "attachments": {},
      "cell_type": "markdown",
      "metadata": {
        "id": "c9QFJ338xsQP"
      },
      "source": [
        "[![Binder](https://mybinder.org/badge_logo.svg)](https://mybinder.org/v2/gh/combine-org/combine-notebooks/binder_colab_testing?labpath=%2Fnotebooks%2Fsedml.ipynb)\n",
        "<a href=\"https://colab.research.google.com/github/combine-org/combine-notebooks/blob/main/notebooks/sedml.ipynb\" target=\"_parent\"><img src=\"https://colab.research.google.com/assets/colab-badge.svg\" alt=\"Open In Colab\\\"/></a>"
      ]
    },
    {
      "attachments": {},
      "cell_type": "markdown",
      "metadata": {
        "id": "_4H3KfaPxsQT"
      },
      "source": [
        "# Simple SBOL example"
      ]
    },
    {
      "attachments": {},
      "cell_type": "markdown",
      "metadata": {
        "id": "mZjQHFnZxsQX"
      },
      "source": [
        "This notebook creates a simple model in [Synthetic Biology Open Language (SBOL) Version 3.0.1](https://sbolstandard.org/docs/SBOL3.0.1.pdf)."
      ]
    },
    {
      "attachments": {},
      "cell_type": "markdown",
      "metadata": {
        "id": "tF-cOdCmxsQZ"
      },
      "source": [
        "## 1) Including libraries and setup"
      ]
    },
    {
      "attachments": {},
      "cell_type": "markdown",
      "metadata": {
        "id": "gDrGE7GHcpfi"
      },
      "source": [
        "Note: Please change the `colab` flag to `True` if you are using Google Colab."
      ]
    },
    {
      "cell_type": "code",
      "execution_count": null,
      "metadata": {
        "id": "FFJJyAbIxsQb"
      },
      "outputs": [],
      "source": [
        "colab = False\n",
        "if colab:\n",
        "  %pip install git+https://github.com/combine-org/combine-notebooks\n",
        "  %pip install pyflapjack --quiet\n",
        "  %pip install loica --quiet\n",
        "  %pip install sbol3 --quiet\n",
        "  %pip install sbol_utilities --quiet"
      ]
    },
    {
      "cell_type": "code",
      "execution_count": 2,
      "metadata": {
        "colab": {
          "base_uri": "https://localhost:8080/"
        },
        "id": "QpeLhn1exsQf",
        "outputId": "2864754c-764a-42de-b8c7-0e8d31a0f448"
      },
      "outputs": [
        {
          "name": "stderr",
          "output_type": "stream",
          "text": [
            "/usr/local/lib/python3.10/dist-packages/requests/__init__.py:102: RequestsDependencyWarning: urllib3 (1.26.16) or chardet (5.1.0)/charset_normalizer (2.0.12) doesn't match a supported version!\n",
            "  warnings.warn(\"urllib3 ({}) or chardet ({})/charset_normalizer ({}) doesn't match a supported \"\n"
          ]
        }
      ],
      "source": [
        "from pathlib import Path\n",
        "\n",
        "import sbol3\n",
        "from sbol_utilities import component\n",
        "from flapjack import Flapjack\n",
        "import loica as lc\n",
        "import getpass\n",
        "\n",
        "from combine_notebooks import RESULTS_DIR\n",
        "\n",
        "%matplotlib inline"
      ]
    },
    {
      "cell_type": "code",
      "execution_count": 3,
      "metadata": {
        "id": "yEg6H0h7xsQh"
      },
      "outputs": [],
      "source": [
        "user = input()\n",
        "passwd = getpass.getpass()\n",
        "fj = Flapjack('flapjack.rudge-lab.org:8000') #Web Instance\n",
        "#fj = Flapjack(url_base='localhost:8000') #Local Instance\n",
        "fj.log_in(username=user, password=passwd)"
      ]
    },
    {
      "attachments": {},
      "cell_type": "markdown",
      "metadata": {
        "id": "6ykS0hotxsQj"
      },
      "source": [
        "## 2) Declaring the SBOL model"
      ]
    },
    {
      "attachments": {},
      "cell_type": "markdown",
      "metadata": {
        "id": "sK_-8DpCxsQl"
      },
      "source": [
        "These are all the necessary Flapjack objects and ids that we will need for two-way communication."
      ]
    },
    {
      "cell_type": "code",
      "execution_count": 4,
      "metadata": {
        "id": "OER4q-iDxsQo"
      },
      "outputs": [],
      "source": [
        "dna = fj.get('dna', name='J23101_GFP')\n",
        "if len(dna)==0:\n",
        "    dna = fj.create('dna', name='J23101_GFP')\n",
        "vector = fj.get('vector', name='J23101_GFP')\n",
        "if len(vector)==0:\n",
        "    vector = fj.create('vector', name='J23101_GFP', dnas=dna.id)\n",
        "study = fj.get('study', name='Loica testing')\n",
        "if len(study)==0:\n",
        "    study = fj.create('study', name='Loica testing', description='Test')\n",
        "media = fj.get('media', name='Loica')\n",
        "if len(media)==0:\n",
        "    media = fj.create('media', name='Loica', description='Simulated loica media')\n",
        "strain = fj.get('strain', name='Loica strain')\n",
        "if len(strain)==0:\n",
        "    strain = fj.create('strain', name='Loica strain', description='Loica test strain')\n",
        "\n",
        "gfp = fj.get('signal', name='GFP')\n",
        "if len(gfp)==0:\n",
        "    gfp = fj.create('signal', name='GFP', color='green', description='Simulated green fluorescent protein')\n",
        "\n",
        "biomass_signal = fj.get('signal', name='OD')\n"
      ]
    },
    {
      "attachments": {},
      "cell_type": "markdown",
      "metadata": {
        "id": "mGFfPu52xsQp"
      },
      "source": [
        "A valid SBOL Document with the sequences and parts that we will use in the design. Here we create the J23101 Operator as an Engineered Region composed by the promoter J23101 and the BASIC RBS1 (derived from BBa_B0033). We create the GFP GeneProduct also as an Engineering Region now composed by GFP CDS, M0050 degradation tag and rrnbT1 terminator. First, we will decalre the SBOL document and set the namespace."
      ]
    },
    {
      "cell_type": "code",
      "execution_count": 5,
      "metadata": {
        "id": "FC_Plc2nxsQr"
      },
      "outputs": [],
      "source": [
        "doc = sbol3.Document()\n",
        "sbol3.set_namespace('https://github.com/Gonza10V')"
      ]
    },
    {
      "attachments": {},
      "cell_type": "markdown",
      "metadata": {
        "id": "YhxZ47w9xsQs"
      },
      "source": [
        "Next, we will create a promoter.  A synthetic promoter is a sequence of DNA that does not exist in nature and which has been designed to control gene expression of a target gene."
      ]
    },
    {
      "cell_type": "code",
      "execution_count": 6,
      "metadata": {
        "id": "JonkziJkxsQt"
      },
      "outputs": [],
      "source": [
        "j23101, j23101_seq = component.promoter('J23101','tttacagctagctcagtcctaggtattatgctagc ', description='https://synbiohub.org/public/igem/BBa_J23101/1')"
      ]
    },
    {
      "attachments": {},
      "cell_type": "markdown",
      "metadata": {
        "id": "Mjr67Nr2xsQu"
      },
      "source": [
        "Now, we will create a ribosome binding site (RBS), which is a sequence of nucleotides upstream of the start codon of an mRNA transcript that is responsible for the recruitment of a ribosome during the initiation of translation."
      ]
    },
    {
      "cell_type": "code",
      "execution_count": 7,
      "metadata": {
        "id": "-IXdm_WExsQu"
      },
      "outputs": [],
      "source": [
        "rbs1, rbs1_seq = component.rbs('RBS1', 'ttgaacaccgtcTCAGGTAAGTATCAGTTGTAAatcacacaggacta', description='BASIC Linker RBS1')"
      ]
    },
    {
      "attachments": {},
      "cell_type": "markdown",
      "metadata": {
        "id": "pXjx7lV3xsQv"
      },
      "source": [
        "Define the promoter and RBS as our first engineered region."
      ]
    },
    {
      "cell_type": "code",
      "execution_count": 8,
      "metadata": {
        "id": "ewZcVtd_xsQw"
      },
      "outputs": [],
      "source": [
        "op_j23101 = component.engineered_region('operator_ptet', [j23101,rbs1], description= 'LOICA Operator J23101')"
      ]
    },
    {
      "attachments": {},
      "cell_type": "markdown",
      "metadata": {
        "id": "1B3lYwtFxsQx"
      },
      "source": [
        "The next step is to create a CoDing Sequence (CDS).  This is a region of DNA or RNA whose sequence determines the sequence of amino acids in a protein."
      ]
    },
    {
      "cell_type": "code",
      "execution_count": 9,
      "metadata": {
        "id": "jLLQIAHZxsQx"
      },
      "outputs": [],
      "source": [
        "gfpm3, gfpm3_seq = component.cds('GFP_mut3', 'atgcgtaaaggagaagaacttttcactggagttgtcccaattcttgttgaattagatggtgatgttaatgggcacaaattttctgtcagtggagagggtgaaggtgatgcaacatacggaaaacttacccttaaatttatttgcactactggaaaactacctgttccatggccaacacttgtcactactttcggttatggtgttcaatgctttgcgagatacccagatcatatgaaacagcatgactttttcaagagtgccatgcccgaaggttatgtacaggaaagaactatatttttcaaagatgacgggaactacaagacacgtgctgaagtcaagtttgaaggtgatacccttgttaatagaatcgagttaaaaggtattgattttaaagaagatggaaacattcttggacacaaattggaatacaactataactcacacaatgtatacatcatggcagacaaacaaaagaatggaatcaaagttaacttcaaaattagacacaacattgaagatggaagcgttcaactagcagaccattatcaacaaaatactccaattggcgatggccctgtccttttaccagacaaccattacctgtccacacaatctgccctttcgaaagatcccaacgaaaagcgcgaccacatggtccttcttgagtttgtaacagctgctgggattacacatggcatggatgaactatacaaa', description='GFP mut3 Coding Sequence, no BsaI site, no stop codon')"
      ]
    },
    {
      "attachments": {},
      "cell_type": "markdown",
      "metadata": {
        "id": "HrAx6Y2vxsQy"
      },
      "source": [
        "Next, we add a sequence that will ensure the resultant protein susceptible to very fast degradation."
      ]
    },
    {
      "cell_type": "code",
      "execution_count": 10,
      "metadata": {
        "id": "IvYz701JxsQz"
      },
      "outputs": [],
      "source": [
        "m0050, m0050_seq = component.protein_stability_element('M0050', 'gctgctaacgacgaaaactacgctctggctgctTAAattgaacta', description='http://parts.igem.org/wiki/index.php?title=Part:BBa_M0050')"
      ]
    },
    {
      "attachments": {},
      "cell_type": "markdown",
      "metadata": {
        "id": "sklG38m8xsQ0"
      },
      "source": [
        "Finally, we will create a terminator sequence. Terminators are genetic parts that usually occur at the end of a gene or operon and cause transcription to stop."
      ]
    },
    {
      "cell_type": "code",
      "execution_count": 11,
      "metadata": {
        "id": "RaR9J5chxsQ1"
      },
      "outputs": [],
      "source": [
        "ter1, ter1_seq = component.terminator('TER1', 'GTCCatttgtcctactcaggagagcgttcaccgacaaacaacagataaaacgaaaggcccagtctttcgactgagcctttcgttttatttgTAAGGCTCG', description='rrnB T1 terminator from Potvin-Trottier pLPT119, extra stop codon')"
      ]
    },
    {
      "attachments": {},
      "cell_type": "markdown",
      "metadata": {
        "id": "G5eESkDvxsQ1"
      },
      "source": [
        "Define the CDS, stability element, and terminator as our second engineered region."
      ]
    },
    {
      "cell_type": "code",
      "execution_count": 12,
      "metadata": {
        "id": "8p9dXOq4xsQ2"
      },
      "outputs": [],
      "source": [
        "gp_gfp = component.engineered_region(f'geneproduct_{gfpm3.display_id}_{m0050.display_id}_{ter1.display_id}', [gfpm3, m0050, ter1], description='LOICA GeneProduct GFP')"
      ]
    },
    {
      "attachments": {},
      "cell_type": "markdown",
      "metadata": {
        "id": "xq_PVU4mxsQ3"
      },
      "source": [
        "Add everything we have just created to the SBOL document."
      ]
    },
    {
      "cell_type": "code",
      "execution_count": 13,
      "metadata": {
        "colab": {
          "base_uri": "https://localhost:8080/"
        },
        "id": "hiPHV3cKxsQ4",
        "outputId": "1cdd6e80-1f7c-41b9-c6fc-7516c4cf4c38"
      },
      "outputs": [
        {
          "data": {
            "text/plain": [
              "[<sbol3.component.Component at 0x7836301b21a0>,\n",
              " <sbol3.sequence.Sequence at 0x7836301b21d0>,\n",
              " <sbol3.component.Component at 0x7836301b1660>,\n",
              " <sbol3.sequence.Sequence at 0x7836301b1540>,\n",
              " <sbol3.component.Component at 0x7836301b1720>,\n",
              " <sbol3.component.Component at 0x7836301b3b80>,\n",
              " <sbol3.sequence.Sequence at 0x7836301b34c0>,\n",
              " <sbol3.component.Component at 0x7836656b18a0>,\n",
              " <sbol3.sequence.Sequence at 0x7836656b1120>,\n",
              " <sbol3.component.Component at 0x78363020ca90>,\n",
              " <sbol3.sequence.Sequence at 0x78363020c910>,\n",
              " <sbol3.component.Component at 0x78363020d5a0>]"
            ]
          },
          "execution_count": 13,
          "metadata": {},
          "output_type": "execute_result"
        }
      ],
      "source": [
        "doc.add([j23101, j23101_seq, rbs1, rbs1_seq, op_j23101, gfpm3, gfpm3_seq, m0050, m0050_seq, ter1, ter1_seq, gp_gfp])"
      ]
    },
    {
      "attachments": {},
      "cell_type": "markdown",
      "metadata": {
        "id": "dfrFOgv8xsQ4"
      },
      "source": [
        "## 3) Validate, save and display SBOL document"
      ]
    },
    {
      "attachments": {},
      "cell_type": "markdown",
      "metadata": {
        "id": "28ExKwqUxsQ4"
      },
      "source": [
        "Print out all object identities in the SBOL document.  Then validate the document."
      ]
    },
    {
      "cell_type": "code",
      "execution_count": 14,
      "metadata": {
        "colab": {
          "base_uri": "https://localhost:8080/"
        },
        "id": "kcl1Ypo8xsQ4",
        "outputId": "adffbd1c-ae83-4154-96b4-8040f59d5ab0"
      },
      "outputs": [
        {
          "name": "stdout",
          "output_type": "stream",
          "text": [
            "https://github.com/Gonza10V/J23101\n",
            "https://github.com/Gonza10V/J23101_seq\n",
            "https://github.com/Gonza10V/RBS1\n",
            "https://github.com/Gonza10V/RBS1_seq\n",
            "https://github.com/Gonza10V/operator_ptet\n",
            "https://github.com/Gonza10V/GFP_mut3\n",
            "https://github.com/Gonza10V/GFP_mut3_seq\n",
            "https://github.com/Gonza10V/M0050\n",
            "https://github.com/Gonza10V/M0050_seq\n",
            "https://github.com/Gonza10V/TER1\n",
            "https://github.com/Gonza10V/TER1_seq\n",
            "https://github.com/Gonza10V/geneproduct_GFP_mut3_M0050_TER1\n",
            "0\n"
          ]
        }
      ],
      "source": [
        "for obj in doc.objects:\n",
        "    print(obj.identity)\n",
        "report_sbol3 = doc.validate()\n",
        "print(len(report_sbol3))"
      ]
    },
    {
      "attachments": {},
      "cell_type": "markdown",
      "metadata": {
        "id": "lHyPoHKOCUHs"
      },
      "source": [
        "We can save this SBOL as an XML file which is in RDF format. An RDF file is a document written in the Resource Description Framework (RDF) language, which is used to represent information about resources on the web. As you can see in the text, most tags are pointing to a specific URI on the internet."
      ]
    },
    {
      "cell_type": "code",
      "execution_count": 16,
      "metadata": {
        "colab": {
          "base_uri": "https://localhost:8080/"
        },
        "id": "nwF8XYxwCTXV",
        "outputId": "12744983-d1d6-4cd1-ce1b-78b0026439cf"
      },
      "outputs": [
        {
          "name": "stdout",
          "output_type": "stream",
          "text": [
            "<?xml version=\"1.0\" encoding=\"utf-8\"?>\n",
            "<rdf:RDF\n",
            "   xmlns:rdf=\"http://www.w3.org/1999/02/22-rdf-syntax-ns#\"\n",
            "   xmlns:sbol=\"http://sbols.org/v3#\"\n",
            ">\n",
            "  <rdf:Description rdf:about=\"https://github.com/Gonza10V/geneproduct_GFP_mut3_M0050_TER1\">\n",
            "    <sbol:displayId>geneproduct_GFP_mut3_M0050_TER1</sbol:displayId>\n",
            "    <sbol:description>LOICA GeneProduct GFP</sbol:description>\n",
            "    <rdf:type rdf:resource=\"http://sbols.org/v3#Component\"/>\n",
            "    <sbol:hasNamespace rdf:resource=\"https://github.com/Gonza10V\"/>\n",
            "    <sbol:type rdf:resource=\"https://identifiers.org/SBO:0000251\"/>\n",
            "    <sbol:role rdf:resource=\"https://identifiers.org/SO:0000804\"/>\n",
            "    <sbol:hasFeature rdf:resource=\"https://github.com/Gonza10V/geneproduct_GFP_mut3_M0050_TER1/SubComponent1\"/>\n",
            "    <sbol:hasFeature rdf:resource=\"https://github.com/Gonza10V/geneproduct_GFP_mut3_M0050_TER1/SubComponent2\"/>\n",
            "    <sbol:hasFeature rdf:resource=\"https://github.com/Gonza10V/geneproduct_GFP_mut3_M0050_TER1/SubComponent3\"/>\n",
            "    <sbol:hasConstraint rdf:resource=\"https://github.com/Gonza10V/geneproduct_GFP_mut3_M0050_TER1/Constraint1\"/>\n",
            "  </rdf:Description>\n",
            "  <rdf:Description rdf:about=\"https://github.com/Gonza10V/operator_ptet/SubComponent2\">\n",
            "    <sbol:displayId>SubComponent2</sbol:displayId>\n",
            "    <rdf:type rdf:resource=\"http://sbols.org/v3#SubComponent\"/>\n",
            "    <sbol:instanceOf rdf:resource=\"https://github.com/Gonza10V/RBS1\"/>\n",
            "  </rdf:Description>\n",
            "  <rdf:Description rdf:about=\"https://github.com/Gonza10V/RBS1_seq\">\n",
            "    <sbol:displayId>RBS1_seq</sbol:displayId>\n",
            "    <rdf:type rdf:resource=\"http://sbols.org/v3#Sequence\"/>\n",
            "    <sbol:hasNamespace rdf:resource=\"https://github.com/Gonza10V\"/>\n",
            "    <sbol:elements>ttgaacaccgtcTCAGGTAAGTATCAGTTGTAAatcacacaggacta</sbol:elements>\n",
            "    <sbol:encoding rdf:resource=\"https://identifiers.org/edam:format_1207\"/>\n",
            "  </rdf:Description>\n",
            "  <rdf:Description rdf:about=\"https://github.com/Gonza10V/operator_ptet\">\n",
            "    <sbol:displayId>operator_ptet</sbol:displayId>\n",
            "    <sbol:description>LOICA Operator J23101</sbol:description>\n",
            "    <rdf:type rdf:resource=\"http://sbols.org/v3#Component\"/>\n",
            "    <sbol:hasNamespace rdf:resource=\"https://github.com/Gonza10V\"/>\n",
            "    <sbol:type rdf:resource=\"https://identifiers.org/SBO:0000251\"/>\n",
            "    <sbol:role rdf:resource=\"https://identifiers.org/SO:0000804\"/>\n",
            "    <sbol:hasFeature rdf:resource=\"https://github.com/Gonza10V/operator_ptet/SubComponent1\"/>\n",
            "    <sbol:hasFeature rdf:resource=\"https://github.com/Gonza10V/operator_ptet/SubComponent2\"/>\n",
            "    <sbol:hasConstraint rdf:resource=\"https://github.com/Gonza10V/operator_ptet/Constraint1\"/>\n",
            "  </rdf:Description>\n",
            "  <rdf:Description rdf:about=\"https://github.com/Gonza10V/operator_ptet/Constraint1\">\n",
            "    <sbol:displayId>Constraint1</sbol:displayId>\n",
            "    <rdf:type rdf:resource=\"http://sbols.org/v3#Constraint\"/>\n",
            "    <sbol:restriction rdf:resource=\"http://sbols.org/v3#precedes\"/>\n",
            "    <sbol:subject rdf:resource=\"https://github.com/Gonza10V/operator_ptet/SubComponent1\"/>\n",
            "    <sbol:object rdf:resource=\"https://github.com/Gonza10V/operator_ptet/SubComponent2\"/>\n",
            "  </rdf:Description>\n",
            "  <rdf:Description rdf:about=\"https://github.com/Gonza10V/GFP_mut3\">\n",
            "    <sbol:displayId>GFP_mut3</sbol:displayId>\n",
            "    <sbol:description>GFP mut3 Coding Sequence, no BsaI site, no stop codon</sbol:description>\n",
            "    <rdf:type rdf:resource=\"http://sbols.org/v3#Component\"/>\n",
            "    <sbol:hasNamespace rdf:resource=\"https://github.com/Gonza10V\"/>\n",
            "    <sbol:type rdf:resource=\"https://identifiers.org/SBO:0000251\"/>\n",
            "    <sbol:role rdf:resource=\"https://identifiers.org/SO:0000316\"/>\n",
            "    <sbol:hasSequence rdf:resource=\"https://github.com/Gonza10V/GFP_mut3_seq\"/>\n",
            "  </rdf:Description>\n",
            "  <rdf:Description rdf:about=\"https://github.com/Gonza10V/M0050_seq\">\n",
            "    <sbol:displayId>M0050_seq</sbol:displayId>\n",
            "    <rdf:type rdf:resource=\"http://sbols.org/v3#Sequence\"/>\n",
            "    <sbol:hasNamespace rdf:resource=\"https://github.com/Gonza10V\"/>\n",
            "    <sbol:elements>gctgctaacgacgaaaactacgctctggctgctTAAattgaacta</sbol:elements>\n",
            "    <sbol:encoding rdf:resource=\"https://identifiers.org/edam:format_1207\"/>\n",
            "  </rdf:Description>\n",
            "  <rdf:Description rdf:about=\"https://github.com/Gonza10V/TER1_seq\">\n",
            "    <sbol:displayId>TER1_seq</sbol:displayId>\n",
            "    <rdf:type rdf:resource=\"http://sbols.org/v3#Sequence\"/>\n",
            "    <sbol:hasNamespace rdf:resource=\"https://github.com/Gonza10V\"/>\n",
            "    <sbol:elements>GTCCatttgtcctactcaggagagcgttcaccgacaaacaacagataaaacgaaaggcccagtctttcgactgagcctttcgttttatttgTAAGGCTCG</sbol:elements>\n",
            "    <sbol:encoding rdf:resource=\"https://identifiers.org/edam:format_1207\"/>\n",
            "  </rdf:Description>\n",
            "  <rdf:Description rdf:about=\"https://github.com/Gonza10V/J23101\">\n",
            "    <sbol:displayId>J23101</sbol:displayId>\n",
            "    <sbol:description>https://synbiohub.org/public/igem/BBa_J23101/1</sbol:description>\n",
            "    <rdf:type rdf:resource=\"http://sbols.org/v3#Component\"/>\n",
            "    <sbol:hasNamespace rdf:resource=\"https://github.com/Gonza10V\"/>\n",
            "    <sbol:type rdf:resource=\"https://identifiers.org/SBO:0000251\"/>\n",
            "    <sbol:role rdf:resource=\"https://identifiers.org/SO:0000167\"/>\n",
            "    <sbol:hasSequence rdf:resource=\"https://github.com/Gonza10V/J23101_seq\"/>\n",
            "  </rdf:Description>\n",
            "  <rdf:Description rdf:about=\"https://github.com/Gonza10V/GFP_mut3_seq\">\n",
            "    <sbol:displayId>GFP_mut3_seq</sbol:displayId>\n",
            "    <rdf:type rdf:resource=\"http://sbols.org/v3#Sequence\"/>\n",
            "    <sbol:hasNamespace rdf:resource=\"https://github.com/Gonza10V\"/>\n",
            "    <sbol:elements>atgcgtaaaggagaagaacttttcactggagttgtcccaattcttgttgaattagatggtgatgttaatgggcacaaattttctgtcagtggagagggtgaaggtgatgcaacatacggaaaacttacccttaaatttatttgcactactggaaaactacctgttccatggccaacacttgtcactactttcggttatggtgttcaatgctttgcgagatacccagatcatatgaaacagcatgactttttcaagagtgccatgcccgaaggttatgtacaggaaagaactatatttttcaaagatgacgggaactacaagacacgtgctgaagtcaagtttgaaggtgatacccttgttaatagaatcgagttaaaaggtattgattttaaagaagatggaaacattcttggacacaaattggaatacaactataactcacacaatgtatacatcatggcagacaaacaaaagaatggaatcaaagttaacttcaaaattagacacaacattgaagatggaagcgttcaactagcagaccattatcaacaaaatactccaattggcgatggccctgtccttttaccagacaaccattacctgtccacacaatctgccctttcgaaagatcccaacgaaaagcgcgaccacatggtccttcttgagtttgtaacagctgctgggattacacatggcatggatgaactatacaaa</sbol:elements>\n",
            "    <sbol:encoding rdf:resource=\"https://identifiers.org/edam:format_1207\"/>\n",
            "  </rdf:Description>\n",
            "  <rdf:Description rdf:about=\"https://github.com/Gonza10V/J23101_seq\">\n",
            "    <sbol:displayId>J23101_seq</sbol:displayId>\n",
            "    <rdf:type rdf:resource=\"http://sbols.org/v3#Sequence\"/>\n",
            "    <sbol:hasNamespace rdf:resource=\"https://github.com/Gonza10V\"/>\n",
            "    <sbol:elements>tttacagctagctcagtcctaggtattatgctagc </sbol:elements>\n",
            "    <sbol:encoding rdf:resource=\"https://identifiers.org/edam:format_1207\"/>\n",
            "  </rdf:Description>\n",
            "  <rdf:Description rdf:about=\"https://github.com/Gonza10V/geneproduct_GFP_mut3_M0050_TER1/SubComponent1\">\n",
            "    <sbol:displayId>SubComponent1</sbol:displayId>\n",
            "    <rdf:type rdf:resource=\"http://sbols.org/v3#SubComponent\"/>\n",
            "    <sbol:instanceOf rdf:resource=\"https://github.com/Gonza10V/GFP_mut3\"/>\n",
            "  </rdf:Description>\n",
            "  <rdf:Description rdf:about=\"https://github.com/Gonza10V/M0050\">\n",
            "    <sbol:displayId>M0050</sbol:displayId>\n",
            "    <sbol:description>http://parts.igem.org/wiki/index.php?title=Part:BBa_M0050</sbol:description>\n",
            "    <rdf:type rdf:resource=\"http://sbols.org/v3#Component\"/>\n",
            "    <sbol:hasNamespace rdf:resource=\"https://github.com/Gonza10V\"/>\n",
            "    <sbol:type rdf:resource=\"https://identifiers.org/SBO:0000251\"/>\n",
            "    <sbol:role rdf:resource=\"https://identifiers.org/SO:0001955\"/>\n",
            "    <sbol:hasSequence rdf:resource=\"https://github.com/Gonza10V/M0050_seq\"/>\n",
            "  </rdf:Description>\n",
            "  <rdf:Description rdf:about=\"https://github.com/Gonza10V/geneproduct_GFP_mut3_M0050_TER1/Constraint1\">\n",
            "    <sbol:displayId>Constraint1</sbol:displayId>\n",
            "    <rdf:type rdf:resource=\"http://sbols.org/v3#Constraint\"/>\n",
            "    <sbol:restriction rdf:resource=\"http://sbols.org/v3#precedes\"/>\n",
            "    <sbol:subject rdf:resource=\"https://github.com/Gonza10V/geneproduct_GFP_mut3_M0050_TER1/SubComponent2\"/>\n",
            "    <sbol:object rdf:resource=\"https://github.com/Gonza10V/geneproduct_GFP_mut3_M0050_TER1/SubComponent3\"/>\n",
            "  </rdf:Description>\n",
            "  <rdf:Description rdf:about=\"https://github.com/Gonza10V/TER1\">\n",
            "    <sbol:displayId>TER1</sbol:displayId>\n",
            "    <sbol:description>rrnB T1 terminator from Potvin-Trottier pLPT119, extra stop codon</sbol:description>\n",
            "    <rdf:type rdf:resource=\"http://sbols.org/v3#Component\"/>\n",
            "    <sbol:hasNamespace rdf:resource=\"https://github.com/Gonza10V\"/>\n",
            "    <sbol:type rdf:resource=\"https://identifiers.org/SBO:0000251\"/>\n",
            "    <sbol:role rdf:resource=\"https://identifiers.org/SO:0000141\"/>\n",
            "    <sbol:hasSequence rdf:resource=\"https://github.com/Gonza10V/TER1_seq\"/>\n",
            "  </rdf:Description>\n",
            "  <rdf:Description rdf:about=\"https://github.com/Gonza10V/RBS1\">\n",
            "    <sbol:displayId>RBS1</sbol:displayId>\n",
            "    <sbol:description>BASIC Linker RBS1</sbol:description>\n",
            "    <rdf:type rdf:resource=\"http://sbols.org/v3#Component\"/>\n",
            "    <sbol:hasNamespace rdf:resource=\"https://github.com/Gonza10V\"/>\n",
            "    <sbol:type rdf:resource=\"https://identifiers.org/SBO:0000251\"/>\n",
            "    <sbol:role rdf:resource=\"https://identifiers.org/SO:0000139\"/>\n",
            "    <sbol:hasSequence rdf:resource=\"https://github.com/Gonza10V/RBS1_seq\"/>\n",
            "  </rdf:Description>\n",
            "  <rdf:Description rdf:about=\"https://github.com/Gonza10V/geneproduct_GFP_mut3_M0050_TER1/SubComponent3\">\n",
            "    <sbol:displayId>SubComponent3</sbol:displayId>\n",
            "    <rdf:type rdf:resource=\"http://sbols.org/v3#SubComponent\"/>\n",
            "    <sbol:instanceOf rdf:resource=\"https://github.com/Gonza10V/TER1\"/>\n",
            "  </rdf:Description>\n",
            "  <rdf:Description rdf:about=\"https://github.com/Gonza10V/operator_ptet/SubComponent1\">\n",
            "    <sbol:displayId>SubComponent1</sbol:displayId>\n",
            "    <rdf:type rdf:resource=\"http://sbols.org/v3#SubComponent\"/>\n",
            "    <sbol:instanceOf rdf:resource=\"https://github.com/Gonza10V/J23101\"/>\n",
            "  </rdf:Description>\n",
            "  <rdf:Description rdf:about=\"https://github.com/Gonza10V/geneproduct_GFP_mut3_M0050_TER1/SubComponent2\">\n",
            "    <sbol:displayId>SubComponent2</sbol:displayId>\n",
            "    <rdf:type rdf:resource=\"http://sbols.org/v3#SubComponent\"/>\n",
            "    <sbol:instanceOf rdf:resource=\"https://github.com/Gonza10V/M0050\"/>\n",
            "  </rdf:Description>\n",
            "</rdf:RDF>\n",
            "\n"
          ]
        }
      ],
      "source": [
        "RESULTS_DIR.mkdir(parents=True, exist_ok=True)\n",
        "sbol_file = RESULTS_DIR / 'hello_world_sbol.xml'\n",
        "doc.write(sbol_file)\n",
        "with open(sbol_file) as f:\n",
        "   print(f.read())"
      ]
    },
    {
      "attachments": {},
      "cell_type": "markdown",
      "metadata": {
        "id": "x6MAXV_NxsRE"
      },
      "source": [
        "Instantiated objects are connected with Flapjack through ids and with SBOL through Components.  An inspection of the design can be made by drawing its network representation."
      ]
    },
    {
      "cell_type": "code",
      "execution_count": 17,
      "metadata": {
        "colab": {
          "base_uri": "https://localhost:8080/",
          "height": 580
        },
        "id": "SZv9LTXWxsRF",
        "outputId": "e8981a89-e1ff-4552-fd8d-6cca410641ca"
      },
      "outputs": [
        {
          "name": "stderr",
          "output_type": "stream",
          "text": [
            "WARNING:matplotlib.font_manager:findfont: Font family 'Tahoma' not found.\n",
            "WARNING:matplotlib.font_manager:findfont: Font family 'Tahoma' not found.\n",
            "WARNING:matplotlib.font_manager:findfont: Font family 'Tahoma' not found.\n",
            "WARNING:matplotlib.font_manager:findfont: Font family 'Tahoma' not found.\n",
            "WARNING:matplotlib.font_manager:findfont: Font family 'Tahoma' not found.\n",
            "WARNING:matplotlib.font_manager:findfont: Font family 'Tahoma' not found.\n",
            "WARNING:matplotlib.font_manager:findfont: Font family 'Tahoma' not found.\n",
            "WARNING:matplotlib.font_manager:findfont: Font family 'Tahoma' not found.\n",
            "WARNING:matplotlib.font_manager:findfont: Font family 'Tahoma' not found.\n",
            "WARNING:matplotlib.font_manager:findfont: Font family 'Tahoma' not found.\n"
          ]
        },
        {
          "data": {
            "image/png": "[encoded data removed]",
            "text/plain": [
              "<Figure size 640x480 with 1 Axes>"
            ]
          },
          "metadata": {},
          "output_type": "display_data"
        }
      ],
      "source": [
        "src = lc.GeneticNetwork(vector=vector.id[0])\n",
        "\n",
        "gfp_rep = lc.Reporter(name='GFP_mut3', degradation_rate=0, signal_id=gfp.id[0], sbol_comp=gp_gfp, color='red')\n",
        "src.add_reporter(gfp_rep)\n",
        "\n",
        "j23101_source_gfp = lc.Source(output=gfp_rep, rate=10, sbol_comp=op_j23101)\n",
        "src.add_operator(j23101_source_gfp)\n",
        "\n",
        "src.draw()"
      ]
    }
  ],
  "metadata": {
    "colab": {
      "provenance": []
    },
    "kernelspec": {
      "display_name": "Python 3",
      "language": "python",
      "name": "python3"
    },
    "language_info": {
      "codemirror_mode": {
        "name": "ipython",
        "version": 3
      },
      "file_extension": ".py",
      "mimetype": "text/x-python",
      "name": "python",
      "nbconvert_exporter": "python",
      "pygments_lexer": "ipython3",
      "version": "3.11.1"
    }
  },
  "nbformat": 4,
  "nbformat_minor": 0
}
