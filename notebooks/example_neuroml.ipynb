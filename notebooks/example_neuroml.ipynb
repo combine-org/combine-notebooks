{
 "cells": [
  {
   "cell_type": "code",
   "execution_count": null,
   "id": "125402fc",
   "metadata": {
    "collapsed": false
   },
   "outputs": [],
   "source": [
    "\"\"\"Example script for creating SBML repressilator with neuroml.\n",
    "\n",
    "https://neuroml.org/\n",
    "https://docs.neuroml.org/Userdocs/CreatingNeuroMLModels.html\n",
    "\n",
    "https://pyneuroml.readthedocs.io/en/latest/pyneuroml.html#module-pyneuroml.pynml\n",
    "https://docs.biosimulators.org/Biosimulators_pyNeuroML/installation.html\n",
    "https://github.com/NeuroML/Documentation/blob/master/source/Userdocs/NML2_examples/SingleNeuron.ipynb\n",
    "\n",
    "# TODO: create Hudgkin-Huxley model, this is standard Neuron model\n",
    "\"\"\"\n",
    "from pathlib import Path\n",
    "\n",
    "import pyneuroml\n",
    "from neuroml import NeuroMLDocument\n",
    "\n",
    "\n",
    "# create a neuroml document\n",
    "nml_doc = NeuroMLDocument(id=\"repressilator\")\n",
    "\n",
    "# compartment\n",
    "# species\n",
    "# parameters\n",
    "# rules\n",
    "# reactions\n",
    "\n",
    "        # <markdowncell>\n",
    "        "
   ]
  }
 ],
 "metadata": {},
 "nbformat": 4,
 "nbformat_minor": 5
}
