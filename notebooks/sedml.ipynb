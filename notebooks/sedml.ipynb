{
 "cells": [
  {
   "attachments": {},
   "cell_type": "markdown",
   "metadata": {},
   "source": [
    "# Simple SED-ML example"
   ]
  },
  {
   "attachments": {},
   "cell_type": "markdown",
   "metadata": {},
   "source": [
    "This notebook creates a simple model in [SED-ML version 1 level 4](https://sed-ml.org/specifications.html). It builds a model of metabolite A degrading."
   ]
  },
  {
   "attachments": {},
   "cell_type": "markdown",
   "metadata": {},
   "source": [
    "## 1) Including libraries"
   ]
  },
  {
   "cell_type": "code",
   "execution_count": 1,
   "metadata": {},
   "outputs": [],
   "source": [
    "from combine_notebooks import RESULTS_DIR\n",
    "import libsedml"
   ]
  },
  {
   "attachments": {},
   "cell_type": "markdown",
   "metadata": {},
   "source": [
    "## 2) Declaring the SED-ML model"
   ]
  },
  {
   "cell_type": "code",
   "execution_count": 2,
   "metadata": {},
   "outputs": [
    {
     "data": {
      "text/plain": [
       "0"
      ]
     },
     "execution_count": 2,
     "metadata": {},
     "output_type": "execute_result"
    }
   ],
   "source": [
    " # create the document\n",
    "doc = libsedml.SedDocument(1, 4)\n",
    "# create a first model referencing an sbml file\n",
    "model = doc.createModel()\n",
    "model.setId(\"model1\")\n",
    "model.setSource(\"model1.xml\")\n",
    "model.setLanguage(\"urn:sedml:language:sbml\") "
   ]
  },
  {
   "attachments": {},
   "cell_type": "markdown",
   "metadata": {},
   "source": [
    "Simulators"
   ]
  },
  {
   "cell_type": "code",
   "execution_count": 3,
   "metadata": {},
   "outputs": [
    {
     "data": {
      "text/plain": [
       "0"
      ]
     },
     "execution_count": 3,
     "metadata": {},
     "output_type": "execute_result"
    }
   ],
   "source": [
    "# create simulation\n",
    "tc = doc.createUniformTimeCourse()\n",
    "tc.setId(\"sim1\")\n",
    "tc.setInitialTime(0.0)\n",
    "tc.setOutputStartTime(0.0)\n",
    "tc.setOutputEndTime(10.0)\n",
    "tc.setNumberOfSteps(100)\n",
    "# need to set the correct KISAO Term\n",
    "alg = tc.createAlgorithm()\n",
    "alg.setName(\"Deterministic (LSODA)\")\n",
    "alg.setKisaoID(\"KISAO:0000560\")\n",
    "# add algorithm parameters\n",
    "alg_par1 = alg.createAlgorithmParameter()\n",
    "alg_par1.setName(\"Relative Tolerance\")\n",
    "alg_par1.setKisaoID(\"KISAO:0000209\")\n",
    "alg_par1.setValue(\"1e-06\")\n",
    "alg_par2 = alg.createAlgorithmParameter()\n",
    "alg_par2.setName(\"Absolute Tolerance\")\n",
    "alg_par2.setKisaoID(\"KISAO:0000211\")\n",
    "alg_par2.setValue(\"1e-12\")\n",
    "alg_par3 = alg.createAlgorithmParameter()\n",
    "alg_par3.setName(\"Integrate Reduced Model\")\n",
    "alg_par3.setKisaoID(\"KISAO:0000216\")\n",
    "alg_par3.setValue(\"0\")\n",
    "alg_par4 = alg.createAlgorithmParameter()\n",
    "alg_par4.setName(\"Max Internal Steps\")\n",
    "alg_par4.setKisaoID(\"KISAO:0000415\")\n",
    "alg_par4.setValue(\"100000\")\n"
   ]
  },
  {
   "attachments": {},
   "cell_type": "markdown",
   "metadata": {},
   "source": [
    "Task"
   ]
  },
  {
   "cell_type": "code",
   "execution_count": 4,
   "metadata": {},
   "outputs": [
    {
     "data": {
      "text/plain": [
       "0"
      ]
     },
     "execution_count": 4,
     "metadata": {},
     "output_type": "execute_result"
    }
   ],
   "source": [
    "# create a task that uses the simulation and the model above\n",
    "task = doc.createTask()\n",
    "task.setId(\"task1\")\n",
    "task.setModelReference(\"model1\")\n",
    "task.setSimulationReference(\"sim1\")\n"
   ]
  },
  {
   "attachments": {},
   "cell_type": "markdown",
   "metadata": {},
   "source": [
    "Data generators"
   ]
  },
  {
   "cell_type": "code",
   "execution_count": 5,
   "metadata": {},
   "outputs": [
    {
     "data": {
      "text/plain": [
       "0"
      ]
     },
     "execution_count": 5,
     "metadata": {},
     "output_type": "execute_result"
    }
   ],
   "source": [
    "# add a DataGenerator to hold the output for time\n",
    "dg = doc.createDataGenerator()\n",
    "dg.setId(\"_1_task1\")\n",
    "dg.setName(\"Time\")\n",
    "var = dg.createVariable()\n",
    "var.setId(\"p1__1_task1\")\n",
    "var.setName(\"Time\")\n",
    "var.setTaskReference(\"task1\")\n",
    "var.setSymbol(\"urn:sedml:symbol:time\")\n",
    "var.setTerm(\"KISAO:0000832\")\n",
    "dg.setMath(libsedml.parseFormula(\"p1__1_task1\"))\n",
    "\n",
    "dg = doc.createDataGenerator()\n",
    "dg.setId(\"A_1_task1\")\n",
    "dg.setName(\"[A]\")\n",
    "var = dg.createVariable()\n",
    "var.setId(\"p1_A_1_task1\")\n",
    "var.setName(\"[A]\")\n",
    "var.setTarget(\"/sbml:sbml/sbml:model/sbml:listOfSpecies/sbml:species[@id=&apos;A&apos;]\")\n",
    "var.setTaskReference(\"task1\")\n",
    "var.setTerm(\"KISAO:0000838\")\n",
    "dg.setMath(libsedml.parseFormula(\"p1_A_1_task1\"))\n",
    "\n"
   ]
  },
  {
   "attachments": {},
   "cell_type": "markdown",
   "metadata": {},
   "source": [
    "Outputs"
   ]
  },
  {
   "cell_type": "code",
   "execution_count": 6,
   "metadata": {},
   "outputs": [
    {
     "data": {
      "text/plain": [
       "0"
      ]
     },
     "execution_count": 6,
     "metadata": {},
     "output_type": "execute_result"
    }
   ],
   "source": [
    "# add a 2d plot\n",
    "plot = doc.createPlot2D()\n",
    "plot.setId(\"plot_1_task1\")\n",
    "plot.setName(\"Concentrations, Volumes, and Global Quantity Values\")\n",
    "curve = plot.createCurve()\n",
    "curve.setId(\"p1_curve_1_task1\")\n",
    "curve.setName(\"[A]\")\n",
    "curve.setLogX(False)\n",
    "curve.setLogY(False)\n",
    "curve.setStyle(\"style1\")\n",
    "curve.setXDataReference(\"_1_task1\")\n",
    "curve.setYDataReference(\"A_1_task1\")"
   ]
  },
  {
   "attachments": {},
   "cell_type": "markdown",
   "metadata": {},
   "source": [
    "Styles"
   ]
  },
  {
   "cell_type": "code",
   "execution_count": 7,
   "metadata": {},
   "outputs": [
    {
     "data": {
      "text/plain": [
       "0"
      ]
     },
     "execution_count": 7,
     "metadata": {},
     "output_type": "execute_result"
    }
   ],
   "source": [
    "style : libsedml.SedStyle = doc.createStyle()\n",
    "style.setId(\"style1\")\n",
    "line = style.createLineStyle()\n",
    "line.setType(\"solid\")\n",
    "line.setThickness(1.2)\n",
    "marker = style.createMarkerStyle()\n",
    "marker.setType(\"none\")\n"
   ]
  },
  {
   "attachments": {},
   "cell_type": "markdown",
   "metadata": {},
   "source": [
    "## 3) Write and print the generated file "
   ]
  },
  {
   "cell_type": "code",
   "execution_count": 8,
   "metadata": {},
   "outputs": [
    {
     "name": "stdout",
     "output_type": "stream",
     "text": [
      "<?xml version=\"1.0\" encoding=\"UTF-8\"?>\n",
      "<sedML xmlns=\"http://sed-ml.org/sed-ml/level1/version4\" level=\"1\" version=\"4\">\n",
      "  <listOfModels>\n",
      "    <model id=\"model1\" language=\"urn:sedml:language:sbml\" source=\"model1.xml\"/>\n",
      "  </listOfModels>\n",
      "  <listOfSimulations>\n",
      "    <uniformTimeCourse id=\"sim1\" initialTime=\"0\" outputStartTime=\"0\" outputEndTime=\"10\" numberOfSteps=\"100\">\n",
      "      <algorithm name=\"Deterministic (LSODA)\" kisaoID=\"KISAO:0000560\">\n",
      "        <listOfAlgorithmParameters>\n",
      "          <algorithmParameter name=\"Relative Tolerance\" kisaoID=\"KISAO:0000209\" value=\"1e-06\"/>\n",
      "          <algorithmParameter name=\"Absolute Tolerance\" kisaoID=\"KISAO:0000211\" value=\"1e-12\"/>\n",
      "          <algorithmParameter name=\"Integrate Reduced Model\" kisaoID=\"KISAO:0000216\" value=\"0\"/>\n",
      "          <algorithmParameter name=\"Max Internal Steps\" kisaoID=\"KISAO:0000415\" value=\"100000\"/>\n",
      "        </listOfAlgorithmParameters>\n",
      "      </algorithm>\n",
      "    </uniformTimeCourse>\n",
      "  </listOfSimulations>\n",
      "  <listOfTasks>\n",
      "    <task id=\"task1\" modelReference=\"model1\" simulationReference=\"sim1\"/>\n",
      "  </listOfTasks>\n",
      "  <listOfDataGenerators>\n",
      "    <dataGenerator id=\"_1_task1\" name=\"Time\">\n",
      "      <math xmlns=\"http://www.w3.org/1998/Math/MathML\">\n",
      "        <ci> p1__1_task1 </ci>\n",
      "      </math>\n",
      "      <listOfVariables>\n",
      "        <variable id=\"p1__1_task1\" name=\"Time\" symbol=\"urn:sedml:symbol:time\" taskReference=\"task1\" term=\"KISAO:0000832\"/>\n",
      "      </listOfVariables>\n",
      "    </dataGenerator>\n",
      "    <dataGenerator id=\"A_1_task1\" name=\"[A]\">\n",
      "      <math xmlns=\"http://www.w3.org/1998/Math/MathML\">\n",
      "        <ci> p1_A_1_task1 </ci>\n",
      "      </math>\n",
      "      <listOfVariables>\n",
      "        <variable id=\"p1_A_1_task1\" name=\"[A]\" target=\"/sbml:sbml/sbml:model/sbml:listOfSpecies/sbml:species[@id=&apos;A&apos;]\" taskReference=\"task1\" term=\"KISAO:0000838\"/>\n",
      "      </listOfVariables>\n",
      "    </dataGenerator>\n",
      "  </listOfDataGenerators>\n",
      "  <listOfOutputs>\n",
      "    <plot2D id=\"plot_1_task1\" name=\"Concentrations, Volumes, and Global Quantity Values\">\n",
      "      <listOfCurves>\n",
      "        <curve id=\"p1_curve_1_task1\" name=\"[A]\" logX=\"false\" style=\"style1\" xDataReference=\"_1_task1\" logY=\"false\" yDataReference=\"A_1_task1\"/>\n",
      "      </listOfCurves>\n",
      "    </plot2D>\n",
      "  </listOfOutputs>\n",
      "  <listOfStyles>\n",
      "    <style id=\"style1\">\n",
      "      <line type=\"solid\" thickness=\"1.2\"/>\n",
      "      <marker type=\"none\"/>\n",
      "    </style>\n",
      "  </listOfStyles>\n",
      "</sedML>\n",
      "\n"
     ]
    }
   ],
   "source": [
    "sedml_file = str(RESULTS_DIR) + '/hello_world_sedml.sedml'\n",
    "libsedml.writeSedML(doc, sedml_file)\n",
    "sedml_str = open(sedml_file).read()\n",
    "print(sedml_str)\n"
   ]
  },
  {
   "attachments": {},
   "cell_type": "markdown",
   "metadata": {},
   "source": [
    "## 4) Simulating the model"
   ]
  },
  {
   "cell_type": "code",
   "execution_count": 11,
   "metadata": {},
   "outputs": [
    {
     "name": "stdout",
     "output_type": "stream",
     "text": [
      "<?xml version=\"1.0\" encoding=\"UTF-8\"?>\n",
      "<!-- Created by phraSED-ML version v1.3.0 with libSBML version 5.19.5. -->\n",
      "<sedML xmlns=\"http://sed-ml.org/sed-ml/level1/version4\" xmlns:sbml=\"http://www.sbml.org/sbml/level3/version1/core\" level=\"1\" version=\"4\">\n",
      "  <listOfModels>\n",
      "    <model id=\"model1\" language=\"urn:sedml:language:sbml.level-3.version-1\" source=\"myModel\"/>\n",
      "  </listOfModels>\n",
      "  <listOfSimulations>\n",
      "    <uniformTimeCourse id=\"sim1\" initialTime=\"0\" outputStartTime=\"0\" outputEndTime=\"5\" numberOfSteps=\"100\">\n",
      "      <algorithm name=\"CVODE\" kisaoID=\"KISAO:0000019\"/>\n",
      "    </uniformTimeCourse>\n",
      "  </listOfSimulations>\n",
      "  <listOfTasks>\n",
      "    <task id=\"task1\" modelReference=\"model1\" simulationReference=\"sim1\"/>\n",
      "  </listOfTasks>\n",
      "  <listOfDataGenerators>\n",
      "    <dataGenerator id=\"plot_0_0_0\" name=\"time\">\n",
      "      <math xmlns=\"http://www.w3.org/1998/Math/MathML\">\n",
      "        <ci> time </ci>\n",
      "      </math>\n",
      "      <listOfVariables>\n",
      "        <variable id=\"time\" symbol=\"urn:sedml:symbol:time\" taskReference=\"task1\" modelReference=\"model1\"/>\n",
      "      </listOfVariables>\n",
      "    </dataGenerator>\n",
      "    <dataGenerator id=\"plot_0_0_1\" name=\"S1\">\n",
      "      <math xmlns=\"http://www.w3.org/1998/Math/MathML\">\n",
      "        <ci> S1 </ci>\n",
      "      </math>\n",
      "      <listOfVariables>\n",
      "        <variable id=\"S1\" target=\"/sbml:sbml/sbml:model/sbml:listOfSpecies/sbml:species[@id='S1']\" taskReference=\"task1\" modelReference=\"model1\"/>\n",
      "      </listOfVariables>\n",
      "    </dataGenerator>\n",
      "    <dataGenerator id=\"plot_0_1_1\" name=\"S2\">\n",
      "      <math xmlns=\"http://www.w3.org/1998/Math/MathML\">\n",
      "        <ci> S2 </ci>\n",
      "      </math>\n",
      "      <listOfVariables>\n",
      "        <variable id=\"S2\" target=\"/sbml:sbml/sbml:model/sbml:listOfSpecies/sbml:species[@id='S2']\" taskReference=\"task1\" modelReference=\"model1\"/>\n",
      "      </listOfVariables>\n",
      "    </dataGenerator>\n",
      "  </listOfDataGenerators>\n",
      "  <listOfOutputs>\n",
      "    <plot2D id=\"plot_0\" name=\"Figure 1\">\n",
      "      <listOfCurves>\n",
      "        <curve id=\"plot_0__plot_0_0_0__plot_0_0_1\" logX=\"false\" xDataReference=\"plot_0_0_0\" logY=\"false\" yDataReference=\"plot_0_0_1\"/>\n",
      "        <curve id=\"plot_0__plot_0_0_0__plot_0_1_1\" logX=\"false\" xDataReference=\"plot_0_0_0\" logY=\"false\" yDataReference=\"plot_0_1_1\"/>\n",
      "      </listOfCurves>\n",
      "    </plot2D>\n",
      "  </listOfOutputs>\n",
      "</sedML>\n",
      "\n"
     ]
    }
   ],
   "source": [
    "import tellurium as te\n",
    "te.setDefaultPlottingEngine('matplotlib')\n",
    "import phrasedml\n",
    "\n",
    "antimony_str = '''\n",
    "model myModel\n",
    "  S1 -> S2; k1*S1\n",
    "  S1 = 10; S2 = 0\n",
    "  k1 = 1\n",
    "end\n",
    "'''\n",
    "\n",
    "phrasedml_str = '''\n",
    "  model1 = model \"myModel\"\n",
    "  sim1 = simulate uniform(0, 5, 100)\n",
    "  task1 = run sim1 on model1\n",
    "  plot \"Figure 1\" time vs S1, S2\n",
    "'''\n",
    "\n",
    "# create the sedml xml string from the phrasedml\n",
    "sbml_str = te.antimonyToSBML(antimony_str)\n",
    "phrasedml.setReferencedSBML(\"myModel\", sbml_str)\n",
    "\n",
    "sedml_str = phrasedml.convertString(phrasedml_str)\n",
    "if sedml_str == None:\n",
    "    print(phrasedml.getLastPhrasedError())\n",
    "print(sedml_str)"
   ]
  },
  {
   "cell_type": "code",
   "execution_count": 15,
   "metadata": {},
   "outputs": [
    {
     "name": "stdout",
     "output_type": "stream",
     "text": [
      "<?xml version=\"1.0\" encoding=\"UTF-8\"?>\n",
      "<!-- Created by libAntimony version v2.13.2 with libSBML version 5.19.5. -->\n",
      "<sbml xmlns=\"http://www.sbml.org/sbml/level3/version1/core\" level=\"3\" version=\"1\">\n",
      "  <model metaid=\"myModel\" id=\"myModel\">\n",
      "    <listOfCompartments>\n",
      "      <compartment sboTerm=\"SBO:0000410\" id=\"default_compartment\" spatialDimensions=\"3\" size=\"1\" constant=\"true\"/>\n",
      "    </listOfCompartments>\n",
      "    <listOfSpecies>\n",
      "      <species id=\"S1\" compartment=\"default_compartment\" initialConcentration=\"10\" hasOnlySubstanceUnits=\"false\" boundaryCondition=\"false\" constant=\"false\"/>\n",
      "      <species id=\"S2\" compartment=\"default_compartment\" initialConcentration=\"0\" hasOnlySubstanceUnits=\"false\" boundaryCondition=\"false\" constant=\"false\"/>\n",
      "    </listOfSpecies>\n",
      "    <listOfParameters>\n",
      "      <parameter id=\"k1\" value=\"1\" constant=\"true\"/>\n",
      "    </listOfParameters>\n",
      "    <listOfReactions>\n",
      "      <reaction id=\"_J0\" reversible=\"true\" fast=\"false\">\n",
      "        <listOfReactants>\n",
      "          <speciesReference species=\"S1\" stoichiometry=\"1\" constant=\"true\"/>\n",
      "        </listOfReactants>\n",
      "        <listOfProducts>\n",
      "          <speciesReference species=\"S2\" stoichiometry=\"1\" constant=\"true\"/>\n",
      "        </listOfProducts>\n",
      "        <kineticLaw>\n",
      "          <math xmlns=\"http://www.w3.org/1998/Math/MathML\">\n",
      "            <apply>\n",
      "              <times/>\n",
      "              <ci> k1 </ci>\n",
      "              <ci> S1 </ci>\n",
      "            </apply>\n",
      "          </math>\n",
      "        </kineticLaw>\n",
      "      </reaction>\n",
      "    </listOfReactions>\n",
      "  </model>\n",
      "</sbml>\n",
      "\n"
     ]
    }
   ],
   "source": [
    "print(sbml_str)"
   ]
  },
  {
   "cell_type": "code",
   "execution_count": 13,
   "metadata": {},
   "outputs": [
    {
     "name": "stdout",
     "output_type": "stream",
     "text": [
      "SBML written to temporary file\n",
      "SED-ML written to temporary file\n",
      "Read SED-ML file, number of errors: 0\n"
     ]
    },
    {
     "data": {
      "image/png": "[encoded data removed]",
      "text/plain": [
       "<Figure size 900x600 with 1 Axes>"
      ]
     },
     "metadata": {},
     "output_type": "display_data"
    }
   ],
   "source": [
    "import tempfile, os, shutil\n",
    "\n",
    "workingDir = tempfile.mkdtemp(suffix=\"_sedml\")\n",
    "\n",
    "sbml_file = os.path.join(workingDir, 'myModel')\n",
    "sedml_file = os.path.join(workingDir, 'sed_main.xml')\n",
    "\n",
    "with open(sbml_file, 'wb') as f:\n",
    "    f.write(sbml_str.encode('utf-8'))\n",
    "    f.flush()\n",
    "    print('SBML written to temporary file')\n",
    "\n",
    "with open(sedml_file, 'wb') as f:\n",
    "    f.write(sedml_str.encode('utf-8'))\n",
    "    f.flush()\n",
    "    print('SED-ML written to temporary file')\n",
    "\n",
    "# For technical reasons, any software which uses libSEDML\n",
    "# must provide a custom build - Tellurium uses tesedml\n",
    "import libsedml\n",
    "sedml_doc = libsedml.readSedML(sedml_file)\n",
    "n_errors = sedml_doc.getErrorLog().getNumFailsWithSeverity(libsedml.LIBSEDML_SEV_ERROR)\n",
    "print('Read SED-ML file, number of errors: {}'.format(n_errors))\n",
    "if n_errors > 0:\n",
    "    print(sedml_doc.getErrorLog().toString())\n",
    "\n",
    "# execute SED-ML using Tellurium\n",
    "te.executeSEDML(sedml_str, workingDir=workingDir)\n",
    "\n",
    "# clean up\n",
    "#shutil.rmtree(workingDir)"
   ]
  }
 ],
 "metadata": {
  "kernelspec": {
   "display_name": "Python 3",
   "language": "python",
   "name": "python3"
  },
  "language_info": {
   "codemirror_mode": {
    "name": "ipython",
    "version": 3
   },
   "file_extension": ".py",
   "mimetype": "text/x-python",
   "name": "python",
   "nbconvert_exporter": "python",
   "pygments_lexer": "ipython3",
   "version": "3.10.6"
  },
  "orig_nbformat": 4
 },
 "nbformat": 4,
 "nbformat_minor": 2
}
