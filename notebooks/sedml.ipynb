{
 "cells": [
  {
   "cell_type": "code",
   "execution_count": 1,
   "metadata": {},
   "outputs": [],
   "source": [
    "from pathlib import Path\n",
    "import libsedml"
   ]
  },
  {
   "attachments": {},
   "cell_type": "markdown",
   "metadata": {},
   "source": [
    "## Declaring the SED-ML model"
   ]
  },
  {
   "cell_type": "code",
   "execution_count": 2,
   "metadata": {},
   "outputs": [
    {
     "data": {
      "text/plain": [
       "0"
      ]
     },
     "execution_count": 2,
     "metadata": {},
     "output_type": "execute_result"
    }
   ],
   "source": [
    " # create the document\n",
    "doc = libsedml.SedDocument(1, 4)\n",
    "# create a first model referencing an sbml file\n",
    "model = doc.createModel()\n",
    "model.setId(\"model1\")\n",
    "model.setSource(\"model1.xml\")\n",
    "model.setLanguage(\"urn:sedml:language:sbml\") "
   ]
  },
  {
   "attachments": {},
   "cell_type": "markdown",
   "metadata": {},
   "source": [
    "Simulators"
   ]
  },
  {
   "cell_type": "code",
   "execution_count": 3,
   "metadata": {},
   "outputs": [
    {
     "data": {
      "text/plain": [
       "0"
      ]
     },
     "execution_count": 3,
     "metadata": {},
     "output_type": "execute_result"
    }
   ],
   "source": [
    "# create simulation\n",
    "tc = doc.createUniformTimeCourse()\n",
    "tc.setId(\"sim1\")\n",
    "tc.setInitialTime(0.0)\n",
    "tc.setOutputStartTime(0.0)\n",
    "tc.setOutputEndTime(10.0)\n",
    "tc.setNumberOfSteps(100)\n",
    "# need to set the correct KISAO Term\n",
    "alg = tc.createAlgorithm()\n",
    "alg.setName(\"Deterministic (LSODA)\")\n",
    "alg.setKisaoID(\"KISAO:0000560\")\n",
    "# add algorithm parameters\n",
    "alg_par1 = alg.createAlgorithmParameter()\n",
    "alg_par1.setName(\"Relative Tolerance\")\n",
    "alg_par1.setKisaoID(\"KISAO:0000209\")\n",
    "alg_par1.setValue(\"1e-06\")\n",
    "alg_par2 = alg.createAlgorithmParameter()\n",
    "alg_par2.setName(\"Absolute Tolerance\")\n",
    "alg_par2.setKisaoID(\"KISAO:0000211\")\n",
    "alg_par2.setValue(\"1e-12\")\n",
    "alg_par3 = alg.createAlgorithmParameter()\n",
    "alg_par3.setName(\"Integrate Reduced Model\")\n",
    "alg_par3.setKisaoID(\"KISAO:0000216\")\n",
    "alg_par3.setValue(\"0\")\n",
    "alg_par4 = alg.createAlgorithmParameter()\n",
    "alg_par4.setName(\"Max Internal Steps\")\n",
    "alg_par4.setKisaoID(\"KISAO:0000415\")\n",
    "alg_par4.setValue(\"100000\")\n"
   ]
  },
  {
   "attachments": {},
   "cell_type": "markdown",
   "metadata": {},
   "source": [
    "Task"
   ]
  },
  {
   "cell_type": "code",
   "execution_count": 4,
   "metadata": {},
   "outputs": [
    {
     "data": {
      "text/plain": [
       "0"
      ]
     },
     "execution_count": 4,
     "metadata": {},
     "output_type": "execute_result"
    }
   ],
   "source": [
    "# create a task that uses the simulation and the model above\n",
    "task = doc.createTask()\n",
    "task.setId(\"task1\")\n",
    "task.setModelReference(\"model1\")\n",
    "task.setSimulationReference(\"sim1\")\n"
   ]
  },
  {
   "attachments": {},
   "cell_type": "markdown",
   "metadata": {},
   "source": [
    "Data generators"
   ]
  },
  {
   "cell_type": "code",
   "execution_count": 5,
   "metadata": {},
   "outputs": [
    {
     "data": {
      "text/plain": [
       "0"
      ]
     },
     "execution_count": 5,
     "metadata": {},
     "output_type": "execute_result"
    }
   ],
   "source": [
    "# add a DataGenerator to hold the output for time\n",
    "dg = doc.createDataGenerator()\n",
    "dg.setId(\"_1_task1\")\n",
    "dg.setName(\"Time\")\n",
    "var = dg.createVariable()\n",
    "var.setId(\"p1__1_task1\")\n",
    "var.setName(\"Time\")\n",
    "var.setTaskReference(\"task1\")\n",
    "var.setSymbol(\"urn:sedml:symbol:time\")\n",
    "var.setTerm(\"KISAO:0000832\")\n",
    "dg.setMath(libsedml.parseFormula(\"p1__1_task1\"))\n",
    "\n",
    "dg = doc.createDataGenerator()\n",
    "dg.setId(\"A_1_task1\")\n",
    "dg.setName(\"[A]\")\n",
    "var = dg.createVariable()\n",
    "var.setId(\"p1_A_1_task1\")\n",
    "var.setName(\"[A]\")\n",
    "var.setTarget(\"/sbml:sbml/sbml:model/sbml:listOfSpecies/sbml:species[@id=&apos;A&apos;]\")\n",
    "var.setTaskReference(\"task1\")\n",
    "var.setTerm(\"KISAO:0000838\")\n",
    "dg.setMath(libsedml.parseFormula(\"p1_A_1_task1\"))\n",
    "\n"
   ]
  },
  {
   "attachments": {},
   "cell_type": "markdown",
   "metadata": {},
   "source": [
    "Outputs"
   ]
  },
  {
   "cell_type": "code",
   "execution_count": 6,
   "metadata": {},
   "outputs": [
    {
     "data": {
      "text/plain": [
       "0"
      ]
     },
     "execution_count": 6,
     "metadata": {},
     "output_type": "execute_result"
    }
   ],
   "source": [
    "# add a 2d plot\n",
    "plot = doc.createPlot2D()\n",
    "plot.setId(\"plot_1_task1\")\n",
    "plot.setName(\"Concentrations, Volumes, and Global Quantity Values\")\n",
    "curve = plot.createCurve()\n",
    "curve.setId(\"p1_curve_1_task1\")\n",
    "curve.setName(\"[A]\")\n",
    "curve.setLogX(False)\n",
    "curve.setLogY(False)\n",
    "curve.setStyle(\"style1\")\n",
    "curve.setXDataReference(\"_1_task1\")\n",
    "curve.setYDataReference(\"A_1_task1\")"
   ]
  },
  {
   "attachments": {},
   "cell_type": "markdown",
   "metadata": {},
   "source": [
    "Styles"
   ]
  },
  {
   "cell_type": "code",
   "execution_count": 7,
   "metadata": {},
   "outputs": [
    {
     "data": {
      "text/plain": [
       "0"
      ]
     },
     "execution_count": 7,
     "metadata": {},
     "output_type": "execute_result"
    }
   ],
   "source": [
    "style : libsedml.SedStyle = doc.createStyle()\n",
    "style.setId(\"style1\")\n",
    "line = style.createLineStyle()\n",
    "line.setType(\"solid\")\n",
    "line.setThickness(1.2)\n",
    "marker = style.createMarkerStyle()\n",
    "marker.setType(\"none\")\n"
   ]
  },
  {
   "cell_type": "code",
   "execution_count": 8,
   "metadata": {},
   "outputs": [
    {
     "data": {
      "text/plain": [
       "1"
      ]
     },
     "execution_count": 8,
     "metadata": {},
     "output_type": "execute_result"
    }
   ],
   "source": [
    "from combine_notebooks import RESULTS_DIR\n",
    "\n",
    "sedml_file = str(RESULTS_DIR) + '/hello_world_sedml.sedml'\n",
    "\n",
    "libsedml.writeSedML(doc, sedml_file)\n"
   ]
  }
 ],
 "metadata": {
  "kernelspec": {
   "display_name": "Python 3",
   "language": "python",
   "name": "python3"
  },
  "language_info": {
   "codemirror_mode": {
    "name": "ipython",
    "version": 3
   },
   "file_extension": ".py",
   "mimetype": "text/x-python",
   "name": "python",
   "nbconvert_exporter": "python",
   "pygments_lexer": "ipython3",
   "version": "3.10.6"
  },
  "orig_nbformat": 4
 },
 "nbformat": 4,
 "nbformat_minor": 2
}
