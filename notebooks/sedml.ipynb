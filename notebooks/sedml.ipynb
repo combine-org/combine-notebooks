{
 "cells": [
  {
   "attachments": {},
   "cell_type": "markdown",
   "metadata": {},
   "source": [
    "[![Binder](https://mybinder.org/badge_logo.svg)](https://mybinder.org/v2/gh/combine-org/combine-notebooks/binder_colab_testing?labpath=%2Fnotebooks%2Fsedml.ipynb)\n",
    "<a href=\"https://colab.research.google.com/github/combine-org/combine-notebooks/blob/main/notebooks/sedml.ipynb\" target=\"_parent\"><img src=\"https://colab.research.google.com/assets/colab-badge.svg\" alt=\"Open In Colab\\\"/></a>"
   ]
  },
  {
   "attachments": {},
   "cell_type": "markdown",
   "metadata": {},
   "source": [
    "# Simple SED-ML example"
   ]
  },
  {
   "attachments": {},
   "cell_type": "markdown",
   "metadata": {},
   "source": [
    "This notebook creates a simple model in [SED-ML Level 1 Version 4](https://sed-ml.org/specifications.html)."
   ]
  },
  {
   "attachments": {},
   "cell_type": "markdown",
   "metadata": {},
   "source": [
    "## 1) Including libraries and helper functions"
   ]
  },
  {
   "cell_type": "code",
   "execution_count": 45,
   "metadata": {},
   "outputs": [],
   "source": [
    "import tempfile\n",
    "from pathlib import Path\n",
    "\n",
    "import libsedml\n",
    "import tellurium as te\n",
    "\n",
    "from combine_notebooks import RESULTS_DIR"
   ]
  },
  {
   "cell_type": "code",
   "execution_count": 46,
   "metadata": {},
   "outputs": [],
   "source": [
    "def pretty_print(doc_before : libsedml.SedDocument, doc_after : libsedml.SedDocument = None):\n",
    "    # Break the original SBML into lines\n",
    "    original_document = libsedml.writeSedMLToString(doc_before)\n",
    "    original_document_lines = original_document.split('\\n')\n",
    "    # Print the entire document in red\n",
    "    if doc_after == None:\n",
    "        original_document = '\\n'.join(original_document_lines)\n",
    "        print(\"\\x1b[31m\" + original_document + \"\\x1b[0m\") # ANSI escape used to print colours here\n",
    "    # If a new document is also given, highlight the lines that have changed\n",
    "    else:\n",
    "        # Split the updated SBML into lines\n",
    "        new_document = libsedml.writeSedMLToString(doc_after)\n",
    "        new_document_lines = new_document.split('\\n')\n",
    "        # Iterate over each new line\n",
    "        for new_line in new_document_lines:\n",
    "            # Print any new lines in red, otherwise print normally\n",
    "            if new_line in original_document_lines:\n",
    "                print(new_line)\n",
    "            else:\n",
    "                print(\"\\x1b[31m\" + new_line + \"\\x1b[0m\") # ANSI escape used to print colours here"
   ]
  },
  {
   "attachments": {},
   "cell_type": "markdown",
   "metadata": {},
   "source": [
    "## 2) Declaring the SED-ML model"
   ]
  },
  {
   "attachments": {},
   "cell_type": "markdown",
   "metadata": {},
   "source": [
    "First we create a SED-ML document at Level 1 Version 4."
   ]
  },
  {
   "cell_type": "code",
   "execution_count": 47,
   "metadata": {},
   "outputs": [
    {
     "name": "stdout",
     "output_type": "stream",
     "text": [
      "\u001b[31m<?xml version=\"1.0\" encoding=\"UTF-8\"?>\n",
      "<sedML xmlns=\"http://sed-ml.org/sed-ml/level1/version4\" level=\"1\" version=\"4\"/>\n",
      "\u001b[0m\n"
     ]
    }
   ],
   "source": [
    "doc = libsedml.SedDocument(1, 4)\n",
    "\n",
    "pretty_print(doc)"
   ]
  },
  {
   "attachments": {},
   "cell_type": "markdown",
   "metadata": {},
   "source": [
    "Create a first model referencing an sbml file."
   ]
  },
  {
   "cell_type": "code",
   "execution_count": 48,
   "metadata": {},
   "outputs": [
    {
     "name": "stdout",
     "output_type": "stream",
     "text": [
      "<?xml version=\"1.0\" encoding=\"UTF-8\"?>\n",
      "\u001b[31m<sedML xmlns=\"http://sed-ml.org/sed-ml/level1/version4\" level=\"1\" version=\"4\">\u001b[0m\n",
      "\u001b[31m  <listOfModels>\u001b[0m\n",
      "\u001b[31m    <model id=\"model1\" language=\"urn:sedml:language:sbml.level-3.version-1\" source=\"sbml.xml\"/>\u001b[0m\n",
      "\u001b[31m  </listOfModels>\u001b[0m\n",
      "\u001b[31m</sedML>\u001b[0m\n",
      "\n"
     ]
    }
   ],
   "source": [
    "start_doc = libsedml.SedDocument(doc)\n",
    "\n",
    "model = doc.createModel()\n",
    "model.setId(\"model1\")\n",
    "model.setSource(\"sbml.xml\")\n",
    "model.setLanguage(\"urn:sedml:language:sbml.level-3.version-1\") \n",
    "\n",
    "pretty_print(start_doc, doc)"
   ]
  },
  {
   "attachments": {},
   "cell_type": "markdown",
   "metadata": {},
   "source": [
    "Create a simulation and set the important parameters (e.g. inital time, number of steps).  We also specify that we want to use the CVODE algorithm, which is a method for integrating ordinary differential equations."
   ]
  },
  {
   "cell_type": "code",
   "execution_count": 49,
   "metadata": {},
   "outputs": [
    {
     "name": "stdout",
     "output_type": "stream",
     "text": [
      "<?xml version=\"1.0\" encoding=\"UTF-8\"?>\n",
      "<sedML xmlns=\"http://sed-ml.org/sed-ml/level1/version4\" level=\"1\" version=\"4\">\n",
      "  <listOfModels>\n",
      "    <model id=\"model1\" language=\"urn:sedml:language:sbml.level-3.version-1\" source=\"sbml.xml\"/>\n",
      "  </listOfModels>\n",
      "\u001b[31m  <listOfSimulations>\u001b[0m\n",
      "\u001b[31m    <uniformTimeCourse id=\"sim1\" initialTime=\"0\" outputStartTime=\"0\" outputEndTime=\"5\" numberOfSteps=\"100\">\u001b[0m\n",
      "\u001b[31m      <algorithm name=\"CVODE\" kisaoID=\"KISAO:0000019\"/>\u001b[0m\n",
      "\u001b[31m    </uniformTimeCourse>\u001b[0m\n",
      "\u001b[31m  </listOfSimulations>\u001b[0m\n",
      "</sedML>\n",
      "\n"
     ]
    }
   ],
   "source": [
    "start_doc = libsedml.SedDocument(doc)\n",
    "\n",
    "# create simulation\n",
    "tc = doc.createUniformTimeCourse()\n",
    "tc.setId(\"sim1\")\n",
    "tc.setInitialTime(0.0)\n",
    "tc.setOutputStartTime(0.0)\n",
    "tc.setOutputEndTime(5.0)\n",
    "tc.setNumberOfSteps(100)\n",
    "# need to set the correct KISAO Term\n",
    "alg = tc.createAlgorithm()\n",
    "alg.setName(\"CVODE\")\n",
    "alg.setKisaoID(\"KISAO:0000019\")\n",
    "\n",
    "pretty_print(start_doc, doc)"
   ]
  },
  {
   "attachments": {},
   "cell_type": "markdown",
   "metadata": {},
   "source": [
    "Create a task that uses the simulation and the model above."
   ]
  },
  {
   "cell_type": "code",
   "execution_count": 50,
   "metadata": {},
   "outputs": [
    {
     "name": "stdout",
     "output_type": "stream",
     "text": [
      "<?xml version=\"1.0\" encoding=\"UTF-8\"?>\n",
      "<sedML xmlns=\"http://sed-ml.org/sed-ml/level1/version4\" level=\"1\" version=\"4\">\n",
      "  <listOfModels>\n",
      "    <model id=\"model1\" language=\"urn:sedml:language:sbml.level-3.version-1\" source=\"sbml.xml\"/>\n",
      "  </listOfModels>\n",
      "  <listOfSimulations>\n",
      "    <uniformTimeCourse id=\"sim1\" initialTime=\"0\" outputStartTime=\"0\" outputEndTime=\"5\" numberOfSteps=\"100\">\n",
      "      <algorithm name=\"CVODE\" kisaoID=\"KISAO:0000019\"/>\n",
      "    </uniformTimeCourse>\n",
      "  </listOfSimulations>\n",
      "\u001b[31m  <listOfTasks>\u001b[0m\n",
      "\u001b[31m    <task id=\"task1\" modelReference=\"model1\" simulationReference=\"sim1\"/>\u001b[0m\n",
      "\u001b[31m  </listOfTasks>\u001b[0m\n",
      "</sedML>\n",
      "\n"
     ]
    }
   ],
   "source": [
    "start_doc = libsedml.SedDocument(doc)\n",
    "\n",
    "task = doc.createTask()\n",
    "task.setId(\"task1\")\n",
    "task.setModelReference(\"model1\")\n",
    "task.setSimulationReference(\"sim1\")\n",
    "\n",
    "pretty_print(start_doc, doc)"
   ]
  },
  {
   "attachments": {},
   "cell_type": "markdown",
   "metadata": {},
   "source": [
    "Add three DataGenerator to hold the outputs."
   ]
  },
  {
   "cell_type": "code",
   "execution_count": 51,
   "metadata": {},
   "outputs": [
    {
     "name": "stdout",
     "output_type": "stream",
     "text": [
      "<?xml version=\"1.0\" encoding=\"UTF-8\"?>\n",
      "<sedML xmlns=\"http://sed-ml.org/sed-ml/level1/version4\" level=\"1\" version=\"4\">\n",
      "  <listOfModels>\n",
      "    <model id=\"model1\" language=\"urn:sedml:language:sbml.level-3.version-1\" source=\"sbml.xml\"/>\n",
      "  </listOfModels>\n",
      "  <listOfSimulations>\n",
      "    <uniformTimeCourse id=\"sim1\" initialTime=\"0\" outputStartTime=\"0\" outputEndTime=\"5\" numberOfSteps=\"100\">\n",
      "      <algorithm name=\"CVODE\" kisaoID=\"KISAO:0000019\"/>\n",
      "    </uniformTimeCourse>\n",
      "  </listOfSimulations>\n",
      "  <listOfTasks>\n",
      "    <task id=\"task1\" modelReference=\"model1\" simulationReference=\"sim1\"/>\n",
      "  </listOfTasks>\n",
      "\u001b[31m  <listOfDataGenerators>\u001b[0m\n",
      "\u001b[31m    <dataGenerator id=\"plot_0_0_0\" name=\"time\">\u001b[0m\n",
      "\u001b[31m      <math xmlns=\"http://www.w3.org/1998/Math/MathML\">\u001b[0m\n",
      "\u001b[31m        <ci> time </ci>\u001b[0m\n",
      "\u001b[31m      </math>\u001b[0m\n",
      "\u001b[31m      <listOfVariables>\u001b[0m\n",
      "\u001b[31m        <variable id=\"time\" symbol=\"urn:sedml:symbol:time\" taskReference=\"task1\" modelReference=\"model1\"/>\u001b[0m\n",
      "\u001b[31m      </listOfVariables>\u001b[0m\n",
      "\u001b[31m    </dataGenerator>\u001b[0m\n",
      "\u001b[31m    <dataGenerator id=\"plot_0_0_1\" name=\"S1\">\u001b[0m\n",
      "\u001b[31m      <math xmlns=\"http://www.w3.org/1998/Math/MathML\">\u001b[0m\n",
      "\u001b[31m        <ci> S1 </ci>\u001b[0m\n",
      "\u001b[31m      </math>\u001b[0m\n",
      "\u001b[31m      <listOfVariables>\u001b[0m\n",
      "\u001b[31m        <variable id=\"S1\" target=\"/sbml:sbml/sbml:model/sbml:listOfSpecies/sbml:species[@id=&apos;S1&apos;]\" taskReference=\"task1\" modelReference=\"model1\"/>\u001b[0m\n",
      "\u001b[31m      </listOfVariables>\u001b[0m\n",
      "\u001b[31m    </dataGenerator>\u001b[0m\n",
      "\u001b[31m    <dataGenerator id=\"plot_0_1_1\" name=\"S2\">\u001b[0m\n",
      "\u001b[31m      <math xmlns=\"http://www.w3.org/1998/Math/MathML\">\u001b[0m\n",
      "\u001b[31m        <ci> S2 </ci>\u001b[0m\n",
      "\u001b[31m      </math>\u001b[0m\n",
      "\u001b[31m      <listOfVariables>\u001b[0m\n",
      "\u001b[31m        <variable id=\"S2\" target=\"/sbml:sbml/sbml:model/sbml:listOfSpecies/sbml:species[@id=&apos;S2&apos;]\" taskReference=\"task1\" modelReference=\"model1\"/>\u001b[0m\n",
      "\u001b[31m      </listOfVariables>\u001b[0m\n",
      "\u001b[31m    </dataGenerator>\u001b[0m\n",
      "\u001b[31m  </listOfDataGenerators>\u001b[0m\n",
      "</sedML>\n",
      "\n"
     ]
    }
   ],
   "source": [
    "start_doc = libsedml.SedDocument(doc)\n",
    "\n",
    "dg = doc.createDataGenerator()\n",
    "dg.setId(\"plot_0_0_0\")\n",
    "dg.setName(\"time\")\n",
    "var = dg.createVariable()\n",
    "var.setId(\"time\")\n",
    "var.setTaskReference(\"task1\")\n",
    "var.setModelReference(\"model1\")\n",
    "var.setSymbol(\"urn:sedml:symbol:time\")\n",
    "dg.setMath(libsedml.parseFormula(\"time\"))\n",
    "\n",
    "dg = doc.createDataGenerator()\n",
    "dg.setId(\"plot_0_0_1\")\n",
    "dg.setName(\"S1\")\n",
    "var = dg.createVariable()\n",
    "var.setId(\"S1\")\n",
    "var.setTaskReference(\"task1\")\n",
    "var.setModelReference(\"model1\")\n",
    "var.setTarget(\"/sbml:sbml/sbml:model/sbml:listOfSpecies/sbml:species[@id='S1']\")\n",
    "dg.setMath(libsedml.parseFormula(\"S1\"))\n",
    "\n",
    "dg = doc.createDataGenerator()\n",
    "dg.setId(\"plot_0_1_1\")\n",
    "dg.setName(\"S2\")\n",
    "var = dg.createVariable()\n",
    "var.setId(\"S2\")\n",
    "var.setTaskReference(\"task1\")\n",
    "var.setModelReference(\"model1\")\n",
    "var.setTarget(\"/sbml:sbml/sbml:model/sbml:listOfSpecies/sbml:species[@id='S2']\")\n",
    "dg.setMath(libsedml.parseFormula(\"S2\"))\n",
    "\n",
    "pretty_print(start_doc, doc)\n"
   ]
  },
  {
   "attachments": {},
   "cell_type": "markdown",
   "metadata": {},
   "source": [
    "Finally, we will create a 2d plot with two curves."
   ]
  },
  {
   "cell_type": "code",
   "execution_count": 52,
   "metadata": {},
   "outputs": [
    {
     "name": "stdout",
     "output_type": "stream",
     "text": [
      "<?xml version=\"1.0\" encoding=\"UTF-8\"?>\n",
      "<sedML xmlns=\"http://sed-ml.org/sed-ml/level1/version4\" level=\"1\" version=\"4\">\n",
      "  <listOfModels>\n",
      "    <model id=\"model1\" language=\"urn:sedml:language:sbml.level-3.version-1\" source=\"sbml.xml\"/>\n",
      "  </listOfModels>\n",
      "  <listOfSimulations>\n",
      "    <uniformTimeCourse id=\"sim1\" initialTime=\"0\" outputStartTime=\"0\" outputEndTime=\"5\" numberOfSteps=\"100\">\n",
      "      <algorithm name=\"CVODE\" kisaoID=\"KISAO:0000019\"/>\n",
      "    </uniformTimeCourse>\n",
      "  </listOfSimulations>\n",
      "  <listOfTasks>\n",
      "    <task id=\"task1\" modelReference=\"model1\" simulationReference=\"sim1\"/>\n",
      "  </listOfTasks>\n",
      "  <listOfDataGenerators>\n",
      "    <dataGenerator id=\"plot_0_0_0\" name=\"time\">\n",
      "      <math xmlns=\"http://www.w3.org/1998/Math/MathML\">\n",
      "        <ci> time </ci>\n",
      "      </math>\n",
      "      <listOfVariables>\n",
      "        <variable id=\"time\" symbol=\"urn:sedml:symbol:time\" taskReference=\"task1\" modelReference=\"model1\"/>\n",
      "      </listOfVariables>\n",
      "    </dataGenerator>\n",
      "    <dataGenerator id=\"plot_0_0_1\" name=\"S1\">\n",
      "      <math xmlns=\"http://www.w3.org/1998/Math/MathML\">\n",
      "        <ci> S1 </ci>\n",
      "      </math>\n",
      "      <listOfVariables>\n",
      "        <variable id=\"S1\" target=\"/sbml:sbml/sbml:model/sbml:listOfSpecies/sbml:species[@id=&apos;S1&apos;]\" taskReference=\"task1\" modelReference=\"model1\"/>\n",
      "      </listOfVariables>\n",
      "    </dataGenerator>\n",
      "    <dataGenerator id=\"plot_0_1_1\" name=\"S2\">\n",
      "      <math xmlns=\"http://www.w3.org/1998/Math/MathML\">\n",
      "        <ci> S2 </ci>\n",
      "      </math>\n",
      "      <listOfVariables>\n",
      "        <variable id=\"S2\" target=\"/sbml:sbml/sbml:model/sbml:listOfSpecies/sbml:species[@id=&apos;S2&apos;]\" taskReference=\"task1\" modelReference=\"model1\"/>\n",
      "      </listOfVariables>\n",
      "    </dataGenerator>\n",
      "  </listOfDataGenerators>\n",
      "\u001b[31m  <listOfOutputs>\u001b[0m\n",
      "\u001b[31m    <plot2D id=\"plot_0\" name=\"Figure 1\">\u001b[0m\n",
      "\u001b[31m      <listOfCurves>\u001b[0m\n",
      "\u001b[31m        <curve id=\"plot_0__plot_0_0_0__plot_0_0_1\" logX=\"false\" xDataReference=\"plot_0_0_0\" logY=\"false\" yDataReference=\"plot_0_0_1\"/>\u001b[0m\n",
      "\u001b[31m        <curve id=\"plot_0__plot_0_0_0__plot_0_1_1\" logX=\"false\" xDataReference=\"plot_0_0_0\" logY=\"false\" yDataReference=\"plot_0_1_1\"/>\u001b[0m\n",
      "\u001b[31m      </listOfCurves>\u001b[0m\n",
      "\u001b[31m    </plot2D>\u001b[0m\n",
      "\u001b[31m  </listOfOutputs>\u001b[0m\n",
      "</sedML>\n",
      "\n"
     ]
    }
   ],
   "source": [
    "start_doc = libsedml.SedDocument(doc)\n",
    "\n",
    "plot = doc.createPlot2D()\n",
    "plot.setId(\"plot_0\")\n",
    "plot.setName(\"Figure 1\")\n",
    "curve = plot.createCurve()\n",
    "curve.setId(\"plot_0__plot_0_0_0__plot_0_0_1\")\n",
    "curve.setLogX(False)\n",
    "curve.setLogY(False)\n",
    "curve.setXDataReference(\"plot_0_0_0\")\n",
    "curve.setYDataReference(\"plot_0_0_1\")\n",
    "\n",
    "curve = plot.createCurve()\n",
    "curve.setId(\"plot_0__plot_0_0_0__plot_0_1_1\")\n",
    "curve.setLogX(False)\n",
    "curve.setLogY(False)\n",
    "curve.setXDataReference(\"plot_0_0_0\")\n",
    "curve.setYDataReference(\"plot_0_1_1\")\n",
    "\n",
    "pretty_print(start_doc, doc)"
   ]
  },
  {
   "attachments": {},
   "cell_type": "markdown",
   "metadata": {},
   "source": [
    "## 3) Print the simulation experiment model"
   ]
  },
  {
   "attachments": {},
   "cell_type": "markdown",
   "metadata": {},
   "source": [
    "And we're done creating the basic model.\n",
    "Now save a text string containing the model into a SED-ML file."
   ]
  },
  {
   "cell_type": "code",
   "execution_count": 53,
   "metadata": {},
   "outputs": [
    {
     "name": "stdout",
     "output_type": "stream",
     "text": [
      "<?xml version=\"1.0\" encoding=\"UTF-8\"?>\n",
      "<sedML xmlns=\"http://sed-ml.org/sed-ml/level1/version4\" level=\"1\" version=\"4\">\n",
      "  <listOfModels>\n",
      "    <model id=\"model1\" language=\"urn:sedml:language:sbml.level-3.version-1\" source=\"sbml.xml\"/>\n",
      "  </listOfModels>\n",
      "  <listOfSimulations>\n",
      "    <uniformTimeCourse id=\"sim1\" initialTime=\"0\" outputStartTime=\"0\" outputEndTime=\"5\" numberOfSteps=\"100\">\n",
      "      <algorithm name=\"CVODE\" kisaoID=\"KISAO:0000019\"/>\n",
      "    </uniformTimeCourse>\n",
      "  </listOfSimulations>\n",
      "  <listOfTasks>\n",
      "    <task id=\"task1\" modelReference=\"model1\" simulationReference=\"sim1\"/>\n",
      "  </listOfTasks>\n",
      "  <listOfDataGenerators>\n",
      "    <dataGenerator id=\"plot_0_0_0\" name=\"time\">\n",
      "      <math xmlns=\"http://www.w3.org/1998/Math/MathML\">\n",
      "        <ci> time </ci>\n",
      "      </math>\n",
      "      <listOfVariables>\n",
      "        <variable id=\"time\" symbol=\"urn:sedml:symbol:time\" taskReference=\"task1\" modelReference=\"model1\"/>\n",
      "      </listOfVariables>\n",
      "    </dataGenerator>\n",
      "    <dataGenerator id=\"plot_0_0_1\" name=\"S1\">\n",
      "      <math xmlns=\"http://www.w3.org/1998/Math/MathML\">\n",
      "        <ci> S1 </ci>\n",
      "      </math>\n",
      "      <listOfVariables>\n",
      "        <variable id=\"S1\" target=\"/sbml:sbml/sbml:model/sbml:listOfSpecies/sbml:species[@id=&apos;S1&apos;]\" taskReference=\"task1\" modelReference=\"model1\"/>\n",
      "      </listOfVariables>\n",
      "    </dataGenerator>\n",
      "    <dataGenerator id=\"plot_0_1_1\" name=\"S2\">\n",
      "      <math xmlns=\"http://www.w3.org/1998/Math/MathML\">\n",
      "        <ci> S2 </ci>\n",
      "      </math>\n",
      "      <listOfVariables>\n",
      "        <variable id=\"S2\" target=\"/sbml:sbml/sbml:model/sbml:listOfSpecies/sbml:species[@id=&apos;S2&apos;]\" taskReference=\"task1\" modelReference=\"model1\"/>\n",
      "      </listOfVariables>\n",
      "    </dataGenerator>\n",
      "  </listOfDataGenerators>\n",
      "  <listOfOutputs>\n",
      "    <plot2D id=\"plot_0\" name=\"Figure 1\">\n",
      "      <listOfCurves>\n",
      "        <curve id=\"plot_0__plot_0_0_0__plot_0_0_1\" logX=\"false\" xDataReference=\"plot_0_0_0\" logY=\"false\" yDataReference=\"plot_0_0_1\"/>\n",
      "        <curve id=\"plot_0__plot_0_0_0__plot_0_1_1\" logX=\"false\" xDataReference=\"plot_0_0_0\" logY=\"false\" yDataReference=\"plot_0_1_1\"/>\n",
      "      </listOfCurves>\n",
      "    </plot2D>\n",
      "  </listOfOutputs>\n",
      "</sedML>\n",
      "\n"
     ]
    }
   ],
   "source": [
    "RESULTS_DIR.mkdir(parents=True, exist_ok=True)\n",
    "sedml_loc = RESULTS_DIR / 'hello_world_sedml.sedml'\n",
    "libsedml.writeSedML(doc, str(sedml_loc))\n",
    "sedml_str = open(sedml_loc).read()\n",
    "print(sedml_str)"
   ]
  },
  {
   "attachments": {},
   "cell_type": "markdown",
   "metadata": {},
   "source": [
    "## 4) Running the simulation experiment model"
   ]
  },
  {
   "cell_type": "code",
   "execution_count": 54,
   "metadata": {},
   "outputs": [
    {
     "name": "stdout",
     "output_type": "stream",
     "text": [
      "SBML written to temporary file\n"
     ]
    }
   ],
   "source": [
    "te.setDefaultPlottingEngine('matplotlib')\n",
    "\n",
    "# Load a SBML model we want to simulate\n",
    "sbml_loc = Path(RESULTS_DIR.stem) / 'hello_world_sbml.xml'\n",
    "sbml_str = open(sbml_loc).read()\n",
    "\n",
    "# Load SED-ML string created in section 2\n",
    "sedml_str = open(sedml_loc).read()\n",
    "\n",
    "# Create a temporary directory to store SED-ML and SBML files\n",
    "workingDir = tempfile.mkdtemp(suffix=\"_sedml\")\n",
    "\n",
    "# Get paths for a temporary file, the filename here should \n",
    "# match what is in our SED-ML document\n",
    "sbml_file = Path(workingDir) / 'sbml.xml'\n",
    "\n",
    "# Save SBML to the temporary file\n",
    "with open(sbml_file, 'wb') as f:\n",
    "    f.write(sbml_str.encode('utf-8'))\n",
    "    f.flush()\n",
    "    print('SBML written to temporary file')"
   ]
  },
  {
   "cell_type": "code",
   "execution_count": 55,
   "metadata": {},
   "outputs": [
    {
     "name": "stdout",
     "output_type": "stream",
     "text": [
      "Read SED-ML file, number of errors: 0\n"
     ]
    },
    {
     "data": {
      "image/png": "[encoded data removed]",
      "text/plain": [
       "<Figure size 900x600 with 1 Axes>"
      ]
     },
     "metadata": {},
     "output_type": "display_data"
    }
   ],
   "source": [
    "# Validate our SED-ML\n",
    "n_errors = doc.getErrorLog().getNumFailsWithSeverity(libsedml.LIBSEDML_SEV_ERROR)\n",
    "print('Read SED-ML file, number of errors: {}'.format(n_errors))\n",
    "if n_errors > 0:\n",
    "    print(doc.getErrorLog().toString())\n",
    "\n",
    "# execute SED-ML using Tellurium\n",
    "te.executeSEDML(sedml_str, workingDir=workingDir)"
   ]
  }
 ],
 "metadata": {
  "kernelspec": {
   "display_name": "Python 3",
   "language": "python",
   "name": "python3"
  },
  "language_info": {
   "codemirror_mode": {
    "name": "ipython",
    "version": 3
   },
   "file_extension": ".py",
   "mimetype": "text/x-python",
   "name": "python",
   "nbconvert_exporter": "python",
   "pygments_lexer": "ipython3",
   "version": "3.11.1"
  },
  "orig_nbformat": 4
 },
 "nbformat": 4,
 "nbformat_minor": 2
}
