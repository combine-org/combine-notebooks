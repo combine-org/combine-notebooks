{
 "cells": [
  {
   "cell_type": "code",
   "execution_count": 1,
   "id": "2fdd8a1a",
   "metadata": {
    "lines_to_next_cell": 0
   },
   "outputs": [],
   "source": [
    "# <markdowncell>\n",
    "# Example script for creating SBML repressilator with sbmlutils.\n",
    "\n",
    "import os\n",
    "\n",
    "# https://github.com/matthiaskoenig/libsbgn-python"
   ]
  },
  {
   "cell_type": "code",
   "execution_count": 2,
   "id": "b3bdc3a6",
   "metadata": {
    "execution": {
     "iopub.execute_input": "2023-04-17T14:02:02.692509Z",
     "iopub.status.busy": "2023-04-17T14:02:02.692213Z",
     "iopub.status.idle": "2023-04-17T14:02:04.916146Z",
     "shell.execute_reply": "2023-04-17T14:02:04.916637Z"
    },
    "lines_to_next_cell": 2
   },
   "outputs": [],
   "source": [
    "from pathlib import Path\n",
    "\n",
    "from sbmlutils.factory import (\n",
    "    AssignmentRule,\n",
    "    Compartment,\n",
    "    FactoryResult,\n",
    "    Model,\n",
    "    ModelUnits,\n",
    "    Parameter,\n",
    "    Reaction,\n",
    "    Species,\n",
    "    Units,\n",
    "    create_model,\n",
    ")\n",
    "from sbmlutils.metadata import *\n",
    "from sbmlutils.metadata import BQB\n",
    "\n",
    "from combine_notebooks import RESULTS_DIR"
   ]
  },
  {
   "cell_type": "code",
   "execution_count": 3,
   "id": "b48e09fa",
   "metadata": {
    "execution": {
     "iopub.execute_input": "2023-04-17T14:02:04.919375Z",
     "iopub.status.busy": "2023-04-17T14:02:04.918492Z",
     "iopub.status.idle": "2023-04-17T14:02:04.931709Z",
     "shell.execute_reply": "2023-04-17T14:02:04.932180Z"
    }
   },
   "outputs": [],
   "source": [
    "model = Model(\n",
    "    \"repressilator_sbmlutils\",\n",
    "    units=Units,\n",
    "    model_units=ModelUnits(\n",
    "        time=Units.second,\n",
    "        substance=Units.mole,\n",
    "        extent=Units.mole,\n",
    "        volume=Units.litre,\n",
    "    ),\n",
    "    compartments=[\n",
    "        Compartment(\n",
    "            sid=\"cell\",\n",
    "            value=1.0,\n",
    "            sboTerm=\"SBO:0000290\",\n",
    "            annotations=[(BQB.IS, \"obo.go/GO:0005623\")],\n",
    "        )\n",
    "    ],\n",
    "    # obo.go/GO:3A0005623\n",
    "    species=[\n",
    "        Species(\n",
    "            sid=\"PX\",\n",
    "            compartment=\"cell\",\n",
    "            name=\"LacI protein\",\n",
    "            sboTerm=\"SBO:0000252\",\n",
    "            initialAmount=0,\n",
    "            hasOnlySubstanceUnits=True,\n",
    "            annotations=[(BQB.IS, \"uniprot/P03023\")],\n",
    "        ),\n",
    "        Species(\n",
    "            sid=\"PY\",\n",
    "            compartment=\"cell\",\n",
    "            name=\"TetR protein\",\n",
    "            sboTerm=\"SBO:0000252\",\n",
    "            initialAmount=0,\n",
    "            hasOnlySubstanceUnits=True,\n",
    "            annotations=[(BQB.IS, \"uniprot/P04483\")],\n",
    "        ),\n",
    "        Species(\n",
    "            sid=\"PZ\",\n",
    "            compartment=\"cell\",\n",
    "            name=\"cI protein\",\n",
    "            sboTerm=\"SBO:0000252\",\n",
    "            initialAmount=0,\n",
    "            hasOnlySubstanceUnits=True,\n",
    "            annotations=[(BQB.IS, \"uniprot/P03034\")],\n",
    "        ),\n",
    "        Species(\n",
    "            sid=\"X\",\n",
    "            compartment=\"cell\",\n",
    "            name=\"Lacl mRNA\",\n",
    "            sboTerm=\"SBO:0000250\",\n",
    "            initialAmount=20,\n",
    "            hasOnlySubstanceUnits=True,\n",
    "            annotations=[\n",
    "                (BQB.IS_VERSION_OF, \"chebi/CHEBI:33699\"),\n",
    "                (BQB.IS_VERSION_OF, \"kegg.compound/C00046\"),\n",
    "                (BQB.ENCODES, \"uniprot/P03023\"),\n",
    "            ],\n",
    "        ),\n",
    "        Species(\n",
    "            sid=\"Y\",\n",
    "            compartment=\"cell\",\n",
    "            name=\"TetR mRNA\",\n",
    "            sboTerm=\"SBO:0000250\",\n",
    "            initialAmount=20,\n",
    "            hasOnlySubstanceUnits=True,\n",
    "            annotations=[\n",
    "                (BQB.IS_VERSION_OF, \"chebi/CHEBI:33699\"),\n",
    "                (BQB.IS_VERSION_OF, \"kegg.compound/C00046\"),\n",
    "                (BQB.ENCODES, \"uniprot/P04483\"),\n",
    "            ],\n",
    "        ),\n",
    "        Species(\n",
    "            sid=\"Z\",\n",
    "            compartment=\"cell\",\n",
    "            name=\"cl mRNA\",\n",
    "            sboTerm=\"SBO:0000250\",\n",
    "            initialAmount=0,\n",
    "            hasOnlySubstanceUnits=True,\n",
    "            annotations=[\n",
    "                (BQB.IS_VERSION_OF, \"chebi/CHEBI:33699\"),\n",
    "                (BQB.IS_VERSION_OF, \"kegg.compound/C00046\"),\n",
    "                (BQB.ENCODES, \"uniprot/P03034\"),\n",
    "            ],\n",
    "        ),\n",
    "    ],\n",
    "    parameters=[\n",
    "        Parameter(sid=\"tau_mRNA\", name=\"mRNA half life\", constant=True, value=2.0),\n",
    "        Parameter(sid=\"kd_mRNA\", name=\"kd_mRNA\", constant=False, sboTerm=\"SBO:0000356\"),\n",
    "        Parameter(sid=\"k_tl\", name=\"k_tl\", constant=False, sboTerm=\"SBO:0000016\"),\n",
    "        Parameter(\n",
    "            sid=\"t_ave\",\n",
    "            name=\"average mRNA life time\",\n",
    "            constant=False,\n",
    "            sboTerm=\"SBO:0000348\",\n",
    "        ),\n",
    "        Parameter(sid=\"eff\", name=\"translation efficiency\", constant=True, value=20),\n",
    "        Parameter(sid=\"kd_prot\", name=\"kd_prot\", constant=False, sboTerm=\"SBO:0000356\"),\n",
    "        Parameter(sid=\"tau_prot\", name=\"protien half life\", constant=True, value=10),\n",
    "        Parameter(sid=\"a0_tr\", name=\"a0_tr\", constant=False, sboTerm=\"SBO:0000485\"),\n",
    "        Parameter(sid=\"ps_0\", name=\"tps_repr\", constant=True, value=0.0005),\n",
    "        Parameter(sid=\"ps_a\", name=\"tps_active\", constant=True, value=0.5),\n",
    "        Parameter(sid=\"KM\", name=\"KM\", constant=True, value=40),\n",
    "        Parameter(sid=\"n\", name=\"n\", constant=True, value=2.0),\n",
    "        Parameter(sid=\"a_tr\", name=\"a_tr\", constant=False, sboTerm=\"SBO:0000186\"),\n",
    "    ],\n",
    "    rules=[\n",
    "        AssignmentRule(\n",
    "            variable=\"kd_mRNA\",\n",
    "            sid=\"kd_mRNA\",\n",
    "            value=\"ln(2) / tau_mRNA\",\n",
    "            name=\"kd_MRNA\",\n",
    "            sboTerm=None,\n",
    "        ),\n",
    "        AssignmentRule(\n",
    "            variable=\"t_ave\",\n",
    "            sid=\"t_ave\",\n",
    "            value=\"tau_mRNA / ln(2)\",\n",
    "            name=\"t_ave\",\n",
    "            sboTerm=None,\n",
    "        ),\n",
    "        AssignmentRule(\n",
    "            variable=\"k_tl\", sid=\"k_tl\", value=\"eff / t_ave\", name=\"k_tl\", sboTerm=None\n",
    "        ),\n",
    "        AssignmentRule(\n",
    "            variable=\"kd_prot\",\n",
    "            sid=\"kd_prot\",\n",
    "            value=\"ln(2) / tau_prot\",\n",
    "            name=\"kd_prot\",\n",
    "            sboTerm=None,\n",
    "        ),\n",
    "        AssignmentRule(\n",
    "            variable=\"a0_tr\", sid=\"a0_tr\", value=\"ps_0 * 60\", name=\"a0_tr\", sboTerm=None\n",
    "        ),\n",
    "        AssignmentRule(\n",
    "            variable=\"a_tr\",\n",
    "            sid=\"a_tr\",\n",
    "            value=\"(ps_a - ps_0) * 60\",\n",
    "            name=\"a_tr\",\n",
    "            sboTerm=None,\n",
    "        ),\n",
    "    ],\n",
    "    reactions=[\n",
    "        Reaction(\n",
    "            sid=\"Reaction1\",\n",
    "            sboTerm=\"SBO:0000179\",\n",
    "            name=\"degradation of LacI transcripts\",\n",
    "            reversible=False,\n",
    "            equation=\"X -> \",\n",
    "            formula=(\"kd_mRNA * X\", None),\n",
    "            annotations=[(BQB.IS_VERSION_OF, \"obo.go/GO:0006402\")],\n",
    "        ),\n",
    "        Reaction(\n",
    "            sid=\"Reaction2\",\n",
    "            sboTerm=\"SBO:0000179\",\n",
    "            name=\"degradation of TetR transcripts\",\n",
    "            reversible=False,\n",
    "            equation=\"Y -> \",\n",
    "            formula=(\"kd_mRNA * Y\", None),\n",
    "            annotations=[(BQB.IS_VERSION_OF, \"obo.go/GO:0006402\")],\n",
    "        ),\n",
    "        Reaction(\n",
    "            sid=\"Reaction3\",\n",
    "            sboTerm=\"SBO:0000179\",\n",
    "            name=\"degradation of CI transcripts\",\n",
    "            reversible=False,\n",
    "            equation=\"Z -> \",\n",
    "            formula=(\"kd_mRNA * Z\", None),\n",
    "            annotations=[(BQB.IS_VERSION_OF, \"obo.go/GO:0006402\")],\n",
    "        ),\n",
    "        Reaction(\n",
    "            sid=\"Reaction4\",\n",
    "            sboTerm=\"SBO:0000184\",\n",
    "            name=\"translation of LacI\",\n",
    "            reversible=False,\n",
    "            equation=\" -> PX [X]\",\n",
    "            formula=(\"k_tl * X\", None),\n",
    "            annotations=[(BQB.IS_VERSION_OF, \"obo.go/GO:0006412\")],\n",
    "        ),\n",
    "        Reaction(\n",
    "            sid=\"Reaction5\",\n",
    "            sboTerm=\"SBO:0000184\",\n",
    "            name=\"translation of TetR\",\n",
    "            reversible=False,\n",
    "            equation=\" -> PY [Y]\",\n",
    "            formula=(\"k_tl * Y\", None),\n",
    "            annotations=[(BQB.IS_VERSION_OF, \"obo.go/GO:0006412\")],\n",
    "        ),\n",
    "        Reaction(\n",
    "            sid=\"Reaction6\",\n",
    "            sboTerm=\"SBO:0000184\",\n",
    "            name=\"translation of CI\",\n",
    "            reversible=False,\n",
    "            equation=\" -> PZ [Z]\",\n",
    "            formula=(\"k_tl *Z\", None),\n",
    "            annotations=[(BQB.IS_VERSION_OF, \"obo.go/GO:0006412\")],\n",
    "        ),\n",
    "        Reaction(\n",
    "            sid=\"Reaction7\",\n",
    "            sboTerm=\"SBO:0000179\",\n",
    "            name=\"degradation of LacI\",\n",
    "            reversible=False,\n",
    "            equation=\"PX -> \",\n",
    "            formula=(\"kd_prot * PX\", None),\n",
    "            annotations=[(BQB.IS_VERSION_OF, \"obo.go/GO:0030163\")],\n",
    "        ),\n",
    "        Reaction(\n",
    "            sid=\"Reaction8\",\n",
    "            sboTerm=\"SBO:0000179\",\n",
    "            name=\"degradation of TetR\",\n",
    "            reversible=False,\n",
    "            equation=\"PY -> \",\n",
    "            formula=(\"kd_prot * PY\", None),\n",
    "            annotations=[(BQB.IS_VERSION_OF, \"obo.go/GO:0030163\")],\n",
    "        ),\n",
    "        Reaction(\n",
    "            sid=\"Reaction9\",\n",
    "            sboTerm=\"SBO:0000179\",\n",
    "            name=\"degradation of CI\",\n",
    "            reversible=False,\n",
    "            equation=\"PZ -> \",\n",
    "            formula=(\"kd_prot * PZ\", None),\n",
    "            annotations=[(BQB.IS_VERSION_OF, \"obo.go/GO:0030163\")],\n",
    "        ),\n",
    "        Reaction(\n",
    "            sid=\"Reaction10\",\n",
    "            sboTerm=\"SBO:0000183\",\n",
    "            name=\"transcription of LacI\",\n",
    "            reversible=False,\n",
    "            equation=\" -> X [PZ]\",\n",
    "            formula=(\n",
    "                \"a0_tr + (a_tr * power(KM, n)) / (power(KM, n) + power(PZ, n))\",\n",
    "                None,\n",
    "            ),\n",
    "            annotations=[(BQB.IS_VERSION_OF, \"obo.go/GO:0006351\")],\n",
    "        ),\n",
    "        Reaction(\n",
    "            sid=\"Reaction11\",\n",
    "            sboTerm=\"SBO:0000183\",\n",
    "            name=\"transcription of TetR\",\n",
    "            reversible=False,\n",
    "            equation=\" -> Y [PX]\",\n",
    "            formula=(\n",
    "                \"a0_tr + (a_tr * power(KM, n)) / (power(KM, n) + power(PX, n))\",\n",
    "                None,\n",
    "            ),\n",
    "            annotations=[(BQB.IS_VERSION_OF, \"obo.go/GO:0006351\")],\n",
    "        ),\n",
    "        Reaction(\n",
    "            sid=\"Reaction12\",\n",
    "            sboTerm=\"SBO:0000184\",\n",
    "            name=\"transcription of CI\",\n",
    "            reversible=False,\n",
    "            equation=\" -> Z [PY]\",\n",
    "            formula=(\n",
    "                \"a0_tr + (a_tr * power(KM, n)) / (power(KM, n) + power(PY, n))\",\n",
    "                None,\n",
    "            ),\n",
    "            annotations=[(BQB.IS_VERSION_OF, \"obo.go/GO:0006351\")],\n",
    "        ),\n",
    "    ],\n",
    ")"
   ]
  },
  {
   "cell_type": "code",
   "execution_count": 4,
   "id": "bdbd7604",
   "metadata": {
    "execution": {
     "iopub.execute_input": "2023-04-17T14:02:04.935619Z",
     "iopub.status.busy": "2023-04-17T14:02:04.934430Z",
     "iopub.status.idle": "2023-04-17T14:02:04.938575Z",
     "shell.execute_reply": "2023-04-17T14:02:04.938961Z"
    }
   },
   "outputs": [],
   "source": [
    "\n",
    "\n",
    "def create_repressilator(sbml_path: Path) -> FactoryResult:\n",
    "    \"\"\"Create the repressilator model in the results_dir.\"\"\"\n",
    "    results = create_model(\n",
    "        model=model,\n",
    "        filepath=sbml_path,\n",
    "        sbml_level=2,\n",
    "        sbml_version=3,\n",
    "    )\n",
    "    return results"
   ]
  },
  {
   "cell_type": "code",
   "execution_count": 5,
   "id": "4a87ee59",
   "metadata": {
    "execution": {
     "iopub.execute_input": "2023-04-17T14:02:04.940924Z",
     "iopub.status.busy": "2023-04-17T14:02:04.940312Z",
     "iopub.status.idle": "2023-04-17T14:02:05.106579Z",
     "shell.execute_reply": "2023-04-17T14:02:05.106992Z"
    }
   },
   "outputs": [
    {
     "data": {
      "text/html": [
       "<pre style=\"white-space:pre;overflow-x:auto;line-height:normal;font-family:Menlo,'DejaVu Sans Mono',consolas,'Courier New',monospace\"><span style=\"color: #c0c0c0; text-decoration-color: #c0c0c0\">─────────────────────────────────────────────────── </span>Create SBML<span style=\"color: #c0c0c0; text-decoration-color: #c0c0c0\"> ───────────────────────────────────────────────────</span>\n",
       "</pre>\n"
      ],
      "text/plain": [
       "\u001b[37m─────────────────────────────────────────────────── \u001b[0mCreate SBML\u001b[37m ───────────────────────────────────────────────────\u001b[0m\n"
      ]
     },
     "metadata": {},
     "output_type": "display_data"
    },
    {
     "data": {
      "text/html": [
       "<pre style=\"white-space:pre;overflow-x:auto;line-height:normal;font-family:Menlo,'DejaVu Sans Mono',consolas,'Courier New',monospace\"><span style=\"color: #000080; text-decoration-color: #000080\">INFO    </span> Create SBML for model <span style=\"color: #008000; text-decoration-color: #008000\">'repressilator_sbmlutils'</span>                                            <a href=\"file:///home/vboxuser/.local/lib/python3.10/site-packages/sbmlutils/factory.py\" target=\"_blank\"><span style=\"color: #7f7f7f; text-decoration-color: #7f7f7f\">factory.py</span></a><span style=\"color: #7f7f7f; text-decoration-color: #7f7f7f\">:</span><a href=\"file:///home/vboxuser/.local/lib/python3.10/site-packages/sbmlutils/factory.py#3526\" target=\"_blank\"><span style=\"color: #7f7f7f; text-decoration-color: #7f7f7f\">3526</span></a>\n",
       "</pre>\n"
      ],
      "text/plain": [
       "\u001b[34mINFO    \u001b[0m Create SBML for model \u001b[32m'repressilator_sbmlutils'\u001b[0m                                            \u001b]8;id=380288;file:///home/vboxuser/.local/lib/python3.10/site-packages/sbmlutils/factory.py\u001b\\\u001b[2mfactory.py\u001b[0m\u001b]8;;\u001b\\\u001b[2m:\u001b[0m\u001b]8;id=267438;file:///home/vboxuser/.local/lib/python3.10/site-packages/sbmlutils/factory.py#3526\u001b\\\u001b[2m3526\u001b[0m\u001b]8;;\u001b\\\n"
      ]
     },
     "metadata": {},
     "output_type": "display_data"
    },
    {
     "data": {
      "text/html": [
       "<pre style=\"white-space:pre;overflow-x:auto;line-height:normal;font-family:Menlo,'DejaVu Sans Mono',consolas,'Courier New',monospace\"><span style=\"color: #800000; text-decoration-color: #800000\">WARNING </span> <span style=\"color: #008000; text-decoration-color: #008000\">'name'</span> should be set on <span style=\"color: #008000; text-decoration-color: #008000\">'Model(sid='</span>repressilator_sbmlutils', <span style=\"color: #808000; text-decoration-color: #808000\">packages</span>=<span style=\"font-weight: bold\">[&lt;</span><span style=\"color: #ff00ff; text-decoration-color: #ff00ff; font-weight: bold\">Package.COMP_V1:</span><span style=\"color: #000000; text-decoration-color: #000000\"> </span>  <a href=\"file:///home/vboxuser/.local/lib/python3.10/site-packages/sbmlutils/factory.py\" target=\"_blank\"><span style=\"color: #7f7f7f; text-decoration-color: #7f7f7f\">factory.py</span></a><span style=\"color: #7f7f7f; text-decoration-color: #7f7f7f\">:</span><a href=\"file:///home/vboxuser/.local/lib/python3.10/site-packages/sbmlutils/factory.py#441\" target=\"_blank\"><span style=\"color: #7f7f7f; text-decoration-color: #7f7f7f\">441</span></a>\n",
       "         <span style=\"color: #008000; text-decoration-color: #008000\">'comp-v1'</span><span style=\"color: #000000; text-decoration-color: #000000\">&gt;</span><span style=\"color: #000000; text-decoration-color: #000000; font-weight: bold\">]</span><span style=\"color: #000000; text-decoration-color: #000000\">, </span><span style=\"color: #808000; text-decoration-color: #808000\">model_units</span><span style=\"color: #000000; text-decoration-color: #000000\">=&lt;sbmlutils.factory.ModelUnits object at </span><span style=\"color: #008080; text-decoration-color: #008080; font-weight: bold\">0x7f0b8800b8b0</span><span style=\"color: #000000; text-decoration-color: #000000\">&gt;, </span>          <span style=\"color: #7f7f7f; text-decoration-color: #7f7f7f\">              </span>\n",
       "         <span style=\"color: #808000; text-decoration-color: #808000\">units</span><span style=\"color: #000000; text-decoration-color: #000000\">=&lt;class </span><span style=\"color: #008000; text-decoration-color: #008000\">'sbmlutils.factory.Units'</span><span style=\"color: #000000; text-decoration-color: #000000\">&gt;, </span><span style=\"color: #808000; text-decoration-color: #808000\">compartments</span><span style=\"color: #000000; text-decoration-color: #000000\">=</span><span style=\"color: #000000; text-decoration-color: #000000; font-weight: bold\">[</span><span style=\"color: #000000; text-decoration-color: #000000\">cell = </span><span style=\"color: #008080; text-decoration-color: #008080; font-weight: bold\">1.0</span><span style=\"color: #000000; text-decoration-color: #000000\"> </span><span style=\"color: #000000; text-decoration-color: #000000; font-weight: bold\">[</span><span style=\"color: #800080; text-decoration-color: #800080; font-style: italic\">None</span><span style=\"color: #000000; text-decoration-color: #000000; font-weight: bold\">]]</span><span style=\"color: #000000; text-decoration-color: #000000\">, </span>                 <span style=\"color: #7f7f7f; text-decoration-color: #7f7f7f\">              </span>\n",
       "         <span style=\"color: #808000; text-decoration-color: #808000\">species</span><span style=\"color: #000000; text-decoration-color: #000000\">=</span><span style=\"color: #000000; text-decoration-color: #000000; font-weight: bold\">[</span><span style=\"color: #000000; text-decoration-color: #000000\">&lt;sbmlutils.factory.Species object at </span><span style=\"color: #008080; text-decoration-color: #008080; font-weight: bold\">0x7f0b8800b850</span><span style=\"color: #000000; text-decoration-color: #000000\">&gt;, &lt;sbmlutils.factory.Species </span>  <span style=\"color: #7f7f7f; text-decoration-color: #7f7f7f\">              </span>\n",
       "         <span style=\"color: #000000; text-decoration-color: #000000\">object at </span><span style=\"color: #008080; text-decoration-color: #008080; font-weight: bold\">0x7f0b8800b820</span><span style=\"color: #000000; text-decoration-color: #000000\">&gt;, &lt;sbmlutils.factory.Species object at </span><span style=\"color: #008080; text-decoration-color: #008080; font-weight: bold\">0x7f0b8800b7f0</span><span style=\"color: #000000; text-decoration-color: #000000\">&gt;, </span>           <span style=\"color: #7f7f7f; text-decoration-color: #7f7f7f\">              </span>\n",
       "         <span style=\"color: #000000; text-decoration-color: #000000\">&lt;sbmlutils.factory.Species object at </span><span style=\"color: #008080; text-decoration-color: #008080; font-weight: bold\">0x7f0b8800b7c0</span><span style=\"color: #000000; text-decoration-color: #000000\">&gt;, &lt;sbmlutils.factory.Species object at </span> <span style=\"color: #7f7f7f; text-decoration-color: #7f7f7f\">              </span>\n",
       "         <span style=\"color: #008080; text-decoration-color: #008080; font-weight: bold\">0x7f0b8800b790</span><span style=\"color: #000000; text-decoration-color: #000000\">&gt;, &lt;sbmlutils.factory.Species object at </span><span style=\"color: #008080; text-decoration-color: #008080; font-weight: bold\">0x7f0b8800b760</span><span style=\"color: #000000; text-decoration-color: #000000\">&gt;</span><span style=\"color: #000000; text-decoration-color: #000000; font-weight: bold\">]</span><span style=\"color: #000000; text-decoration-color: #000000\">, </span>                    <span style=\"color: #7f7f7f; text-decoration-color: #7f7f7f\">              </span>\n",
       "         <span style=\"color: #808000; text-decoration-color: #808000\">parameters</span><span style=\"color: #000000; text-decoration-color: #000000\">=</span><span style=\"color: #000000; text-decoration-color: #000000; font-weight: bold\">[</span><span style=\"color: #000000; text-decoration-color: #000000\">tau_mRNA = </span><span style=\"color: #008080; text-decoration-color: #008080; font-weight: bold\">2.0</span><span style=\"color: #000000; text-decoration-color: #000000\"> </span><span style=\"color: #000000; text-decoration-color: #000000; font-weight: bold\">[</span><span style=\"color: #800080; text-decoration-color: #800080; font-style: italic\">None</span><span style=\"color: #000000; text-decoration-color: #000000; font-weight: bold\">]</span><span style=\"color: #000000; text-decoration-color: #000000\">, kd_mRNA = </span><span style=\"color: #800080; text-decoration-color: #800080; font-style: italic\">None</span><span style=\"color: #000000; text-decoration-color: #000000\"> </span><span style=\"color: #000000; text-decoration-color: #000000; font-weight: bold\">[</span><span style=\"color: #800080; text-decoration-color: #800080; font-style: italic\">None</span><span style=\"color: #000000; text-decoration-color: #000000; font-weight: bold\">]</span><span style=\"color: #000000; text-decoration-color: #000000\">, k_tl = </span><span style=\"color: #800080; text-decoration-color: #800080; font-style: italic\">None</span><span style=\"color: #000000; text-decoration-color: #000000\"> </span><span style=\"color: #000000; text-decoration-color: #000000; font-weight: bold\">[</span><span style=\"color: #800080; text-decoration-color: #800080; font-style: italic\">None</span><span style=\"color: #000000; text-decoration-color: #000000; font-weight: bold\">]</span><span style=\"color: #000000; text-decoration-color: #000000\">, t_ave = </span><span style=\"color: #800080; text-decoration-color: #800080; font-style: italic\">None</span><span style=\"color: #000000; text-decoration-color: #000000\"> </span> <span style=\"color: #7f7f7f; text-decoration-color: #7f7f7f\">              </span>\n",
       "         <span style=\"color: #000000; text-decoration-color: #000000; font-weight: bold\">[</span><span style=\"color: #800080; text-decoration-color: #800080; font-style: italic\">None</span><span style=\"color: #000000; text-decoration-color: #000000; font-weight: bold\">]</span><span style=\"color: #000000; text-decoration-color: #000000\">, eff = </span><span style=\"color: #008080; text-decoration-color: #008080; font-weight: bold\">20</span><span style=\"color: #000000; text-decoration-color: #000000\"> </span><span style=\"color: #000000; text-decoration-color: #000000; font-weight: bold\">[</span><span style=\"color: #800080; text-decoration-color: #800080; font-style: italic\">None</span><span style=\"color: #000000; text-decoration-color: #000000; font-weight: bold\">]</span><span style=\"color: #000000; text-decoration-color: #000000\">, kd_prot = </span><span style=\"color: #800080; text-decoration-color: #800080; font-style: italic\">None</span><span style=\"color: #000000; text-decoration-color: #000000\"> </span><span style=\"color: #000000; text-decoration-color: #000000; font-weight: bold\">[</span><span style=\"color: #800080; text-decoration-color: #800080; font-style: italic\">None</span><span style=\"color: #000000; text-decoration-color: #000000; font-weight: bold\">]</span><span style=\"color: #000000; text-decoration-color: #000000\">, tau_prot = </span><span style=\"color: #008080; text-decoration-color: #008080; font-weight: bold\">10</span><span style=\"color: #000000; text-decoration-color: #000000\"> </span><span style=\"color: #000000; text-decoration-color: #000000; font-weight: bold\">[</span><span style=\"color: #800080; text-decoration-color: #800080; font-style: italic\">None</span><span style=\"color: #000000; text-decoration-color: #000000; font-weight: bold\">]</span><span style=\"color: #000000; text-decoration-color: #000000\">, a0_tr = </span><span style=\"color: #800080; text-decoration-color: #800080; font-style: italic\">None</span><span style=\"color: #000000; text-decoration-color: #000000\"> </span><span style=\"color: #000000; text-decoration-color: #000000; font-weight: bold\">[</span><span style=\"color: #800080; text-decoration-color: #800080; font-style: italic\">None</span><span style=\"color: #000000; text-decoration-color: #000000; font-weight: bold\">]</span><span style=\"color: #000000; text-decoration-color: #000000\">, </span> <span style=\"color: #7f7f7f; text-decoration-color: #7f7f7f\">              </span>\n",
       "         <span style=\"color: #000000; text-decoration-color: #000000\">ps_0 = </span><span style=\"color: #008080; text-decoration-color: #008080; font-weight: bold\">0.0005</span><span style=\"color: #000000; text-decoration-color: #000000\"> </span><span style=\"color: #000000; text-decoration-color: #000000; font-weight: bold\">[</span><span style=\"color: #800080; text-decoration-color: #800080; font-style: italic\">None</span><span style=\"color: #000000; text-decoration-color: #000000; font-weight: bold\">]</span><span style=\"color: #000000; text-decoration-color: #000000\">, ps_a = </span><span style=\"color: #008080; text-decoration-color: #008080; font-weight: bold\">0.5</span><span style=\"color: #000000; text-decoration-color: #000000\"> </span><span style=\"color: #000000; text-decoration-color: #000000; font-weight: bold\">[</span><span style=\"color: #800080; text-decoration-color: #800080; font-style: italic\">None</span><span style=\"color: #000000; text-decoration-color: #000000; font-weight: bold\">]</span><span style=\"color: #000000; text-decoration-color: #000000\">, KM = </span><span style=\"color: #008080; text-decoration-color: #008080; font-weight: bold\">40</span><span style=\"color: #000000; text-decoration-color: #000000\"> </span><span style=\"color: #000000; text-decoration-color: #000000; font-weight: bold\">[</span><span style=\"color: #800080; text-decoration-color: #800080; font-style: italic\">None</span><span style=\"color: #000000; text-decoration-color: #000000; font-weight: bold\">]</span><span style=\"color: #000000; text-decoration-color: #000000\">, n = </span><span style=\"color: #008080; text-decoration-color: #008080; font-weight: bold\">2.0</span><span style=\"color: #000000; text-decoration-color: #000000\"> </span><span style=\"color: #000000; text-decoration-color: #000000; font-weight: bold\">[</span><span style=\"color: #800080; text-decoration-color: #800080; font-style: italic\">None</span><span style=\"color: #000000; text-decoration-color: #000000; font-weight: bold\">]</span><span style=\"color: #000000; text-decoration-color: #000000\">, a_tr = </span><span style=\"color: #800080; text-decoration-color: #800080; font-style: italic\">None</span><span style=\"color: #000000; text-decoration-color: #000000\"> </span>       <span style=\"color: #7f7f7f; text-decoration-color: #7f7f7f\">              </span>\n",
       "         <span style=\"color: #000000; text-decoration-color: #000000; font-weight: bold\">[</span><span style=\"color: #800080; text-decoration-color: #800080; font-style: italic\">None</span><span style=\"color: #000000; text-decoration-color: #000000; font-weight: bold\">]]</span><span style=\"color: #000000; text-decoration-color: #000000\">, </span><span style=\"color: #808000; text-decoration-color: #808000\">rules</span><span style=\"color: #000000; text-decoration-color: #000000\">=</span><span style=\"color: #000000; text-decoration-color: #000000; font-weight: bold\">[</span><span style=\"color: #000000; text-decoration-color: #000000\">kd_mRNA = </span><span style=\"color: #800080; text-decoration-color: #800080; font-weight: bold\">ln</span><span style=\"color: #000000; text-decoration-color: #000000; font-weight: bold\">(</span><span style=\"color: #008080; text-decoration-color: #008080; font-weight: bold\">2</span><span style=\"color: #000000; text-decoration-color: #000000; font-weight: bold\">)</span><span style=\"color: #000000; text-decoration-color: #000000\"> </span><span style=\"color: #800080; text-decoration-color: #800080\">/</span><span style=\"color: #000000; text-decoration-color: #000000\"> tau_mRNA </span><span style=\"color: #000000; text-decoration-color: #000000; font-weight: bold\">[</span><span style=\"color: #800080; text-decoration-color: #800080; font-weight: bold\">UnitDefinition</span><span style=\"color: #000000; text-decoration-color: #000000; font-weight: bold\">(</span><span style=\"color: #000000; text-decoration-color: #000000\">dimensionless, dimensionless</span><span style=\"color: #000000; text-decoration-color: #000000; font-weight: bold\">)]</span><span style=\"color: #000000; text-decoration-color: #000000\">, </span> <span style=\"color: #7f7f7f; text-decoration-color: #7f7f7f\">              </span>\n",
       "         <span style=\"color: #000000; text-decoration-color: #000000\">t_ave = tau_mRNA </span><span style=\"color: #800080; text-decoration-color: #800080\">/</span><span style=\"color: #000000; text-decoration-color: #000000\"> </span><span style=\"color: #800080; text-decoration-color: #800080; font-weight: bold\">ln</span><span style=\"color: #000000; text-decoration-color: #000000; font-weight: bold\">(</span><span style=\"color: #008080; text-decoration-color: #008080; font-weight: bold\">2</span><span style=\"color: #000000; text-decoration-color: #000000; font-weight: bold\">)</span><span style=\"color: #000000; text-decoration-color: #000000\"> </span><span style=\"color: #000000; text-decoration-color: #000000; font-weight: bold\">[</span><span style=\"color: #800080; text-decoration-color: #800080; font-weight: bold\">UnitDefinition</span><span style=\"color: #000000; text-decoration-color: #000000; font-weight: bold\">(</span><span style=\"color: #000000; text-decoration-color: #000000\">dimensionless, dimensionless</span><span style=\"color: #000000; text-decoration-color: #000000; font-weight: bold\">)]</span><span style=\"color: #000000; text-decoration-color: #000000\">, k_tl = eff </span><span style=\"color: #800080; text-decoration-color: #800080\">/</span><span style=\"color: #000000; text-decoration-color: #000000\"> t_ave</span> <span style=\"color: #7f7f7f; text-decoration-color: #7f7f7f\">              </span>\n",
       "         <span style=\"color: #000000; text-decoration-color: #000000; font-weight: bold\">[</span><span style=\"color: #800080; text-decoration-color: #800080; font-weight: bold\">UnitDefinition</span><span style=\"color: #000000; text-decoration-color: #000000; font-weight: bold\">(</span><span style=\"color: #000000; text-decoration-color: #000000\">dimensionless, dimensionless</span><span style=\"color: #000000; text-decoration-color: #000000; font-weight: bold\">)]</span><span style=\"color: #000000; text-decoration-color: #000000\">, kd_prot = </span><span style=\"color: #800080; text-decoration-color: #800080; font-weight: bold\">ln</span><span style=\"color: #000000; text-decoration-color: #000000; font-weight: bold\">(</span><span style=\"color: #008080; text-decoration-color: #008080; font-weight: bold\">2</span><span style=\"color: #000000; text-decoration-color: #000000; font-weight: bold\">)</span><span style=\"color: #000000; text-decoration-color: #000000\"> </span><span style=\"color: #800080; text-decoration-color: #800080\">/</span><span style=\"color: #000000; text-decoration-color: #000000\"> tau_prot </span>                 <span style=\"color: #7f7f7f; text-decoration-color: #7f7f7f\">              </span>\n",
       "         <span style=\"color: #000000; text-decoration-color: #000000; font-weight: bold\">[</span><span style=\"color: #800080; text-decoration-color: #800080; font-weight: bold\">UnitDefinition</span><span style=\"color: #000000; text-decoration-color: #000000; font-weight: bold\">(</span><span style=\"color: #000000; text-decoration-color: #000000\">dimensionless, dimensionless</span><span style=\"color: #000000; text-decoration-color: #000000; font-weight: bold\">)]</span><span style=\"color: #000000; text-decoration-color: #000000\">, a0_tr = ps_0 * </span><span style=\"color: #008080; text-decoration-color: #008080; font-weight: bold\">60</span><span style=\"color: #000000; text-decoration-color: #000000\"> </span>                          <span style=\"color: #7f7f7f; text-decoration-color: #7f7f7f\">              </span>\n",
       "         <span style=\"color: #000000; text-decoration-color: #000000; font-weight: bold\">[</span><span style=\"color: #800080; text-decoration-color: #800080; font-weight: bold\">UnitDefinition</span><span style=\"color: #000000; text-decoration-color: #000000; font-weight: bold\">(</span><span style=\"color: #000000; text-decoration-color: #000000\">dimensionless, dimensionless</span><span style=\"color: #000000; text-decoration-color: #000000; font-weight: bold\">)]</span><span style=\"color: #000000; text-decoration-color: #000000\">, a_tr = </span><span style=\"color: #000000; text-decoration-color: #000000; font-weight: bold\">(</span><span style=\"color: #000000; text-decoration-color: #000000\">ps_a - ps_0</span><span style=\"color: #000000; text-decoration-color: #000000; font-weight: bold\">)</span><span style=\"color: #000000; text-decoration-color: #000000\"> * </span><span style=\"color: #008080; text-decoration-color: #008080; font-weight: bold\">60</span><span style=\"color: #000000; text-decoration-color: #000000\"> </span>                  <span style=\"color: #7f7f7f; text-decoration-color: #7f7f7f\">              </span>\n",
       "         <span style=\"color: #000000; text-decoration-color: #000000; font-weight: bold\">[</span><span style=\"color: #800080; text-decoration-color: #800080; font-weight: bold\">UnitDefinition</span><span style=\"color: #000000; text-decoration-color: #000000; font-weight: bold\">(</span><span style=\"color: #000000; text-decoration-color: #000000\">dimensionless, dimensionless</span><span style=\"color: #000000; text-decoration-color: #000000; font-weight: bold\">)]]</span><span style=\"color: #000000; text-decoration-color: #000000\">, </span><span style=\"color: #808000; text-decoration-color: #808000\">reactions</span><span style=\"color: #000000; text-decoration-color: #000000\">=</span><span style=\"color: #000000; text-decoration-color: #000000; font-weight: bold\">[</span><span style=\"color: #000000; text-decoration-color: #000000\">&lt;sbmlutils.factory.Reaction </span>    <span style=\"color: #7f7f7f; text-decoration-color: #7f7f7f\">              </span>\n",
       "         <span style=\"color: #000000; text-decoration-color: #000000\">object at </span><span style=\"color: #008080; text-decoration-color: #008080; font-weight: bold\">0x7f0b8800b340</span><span style=\"color: #000000; text-decoration-color: #000000\">&gt;, &lt;sbmlutils.factory.Reaction object at </span><span style=\"color: #008080; text-decoration-color: #008080; font-weight: bold\">0x7f0b8800b1f0</span><span style=\"color: #000000; text-decoration-color: #000000\">&gt;, </span>          <span style=\"color: #7f7f7f; text-decoration-color: #7f7f7f\">              </span>\n",
       "         <span style=\"color: #000000; text-decoration-color: #000000\">&lt;sbmlutils.factory.Reaction object at </span><span style=\"color: #008080; text-decoration-color: #008080; font-weight: bold\">0x7f0b8800b220</span><span style=\"color: #000000; text-decoration-color: #000000\">&gt;, &lt;sbmlutils.factory.Reaction object </span>  <span style=\"color: #7f7f7f; text-decoration-color: #7f7f7f\">              </span>\n",
       "         <span style=\"color: #000000; text-decoration-color: #000000\">at </span><span style=\"color: #008080; text-decoration-color: #008080; font-weight: bold\">0x7f0b8800b130</span><span style=\"color: #000000; text-decoration-color: #000000\">&gt;, &lt;sbmlutils.factory.Reaction object at </span><span style=\"color: #008080; text-decoration-color: #008080; font-weight: bold\">0x7f0b8800afe0</span><span style=\"color: #000000; text-decoration-color: #000000\">&gt;, </span>                 <span style=\"color: #7f7f7f; text-decoration-color: #7f7f7f\">              </span>\n",
       "         <span style=\"color: #000000; text-decoration-color: #000000\">&lt;sbmlutils.factory.Reaction object at </span><span style=\"color: #008080; text-decoration-color: #008080; font-weight: bold\">0x7f0b8800b040</span><span style=\"color: #000000; text-decoration-color: #000000\">&gt;, &lt;sbmlutils.factory.Reaction object </span>  <span style=\"color: #7f7f7f; text-decoration-color: #7f7f7f\">              </span>\n",
       "         <span style=\"color: #000000; text-decoration-color: #000000\">at </span><span style=\"color: #008080; text-decoration-color: #008080; font-weight: bold\">0x7f0b8800aef0</span><span style=\"color: #000000; text-decoration-color: #000000\">&gt;, &lt;sbmlutils.factory.Reaction object at </span><span style=\"color: #008080; text-decoration-color: #008080; font-weight: bold\">0x7f0b8800ae30</span><span style=\"color: #000000; text-decoration-color: #000000\">&gt;, </span>                 <span style=\"color: #7f7f7f; text-decoration-color: #7f7f7f\">              </span>\n",
       "         <span style=\"color: #000000; text-decoration-color: #000000\">&lt;sbmlutils.factory.Reaction object at </span><span style=\"color: #008080; text-decoration-color: #008080; font-weight: bold\">0x7f0b8800ad70</span><span style=\"color: #000000; text-decoration-color: #000000\">&gt;, &lt;sbmlutils.factory.Reaction object </span>  <span style=\"color: #7f7f7f; text-decoration-color: #7f7f7f\">              </span>\n",
       "         <span style=\"color: #000000; text-decoration-color: #000000\">at </span><span style=\"color: #008080; text-decoration-color: #008080; font-weight: bold\">0x7f0b8800acb0</span><span style=\"color: #000000; text-decoration-color: #000000\">&gt;, &lt;sbmlutils.factory.Reaction object at </span><span style=\"color: #008080; text-decoration-color: #008080; font-weight: bold\">0x7f0b8800abf0</span><span style=\"color: #000000; text-decoration-color: #000000\">&gt;, </span>                 <span style=\"color: #7f7f7f; text-decoration-color: #7f7f7f\">              </span>\n",
       "         <span style=\"color: #000000; text-decoration-color: #000000\">&lt;sbmlutils.factory.Reaction object at </span><span style=\"color: #008080; text-decoration-color: #008080; font-weight: bold\">0x7f0b8800ab30</span><span style=\"font-weight: bold\">&gt;]</span>, <span style=\"color: #808000; text-decoration-color: #808000\">_FrozenClass__isfrozen</span>=<span style=\"color: #00ff00; text-decoration-color: #00ff00; font-style: italic\">True</span><span style=\"font-weight: bold\">)</span>'       <span style=\"color: #7f7f7f; text-decoration-color: #7f7f7f\">              </span>\n",
       "</pre>\n"
      ],
      "text/plain": [
       "\u001b[31mWARNING \u001b[0m \u001b[32m'name'\u001b[0m should be set on \u001b[32m'Model\u001b[0m\u001b[32m(\u001b[0m\u001b[32msid\u001b[0m\u001b[32m='\u001b[0mrepressilator_sbmlutils', \u001b[33mpackages\u001b[0m=\u001b[1m[\u001b[0m\u001b[1m<\u001b[0m\u001b[1;95mPackage.COMP_V1:\u001b[0m\u001b[39m \u001b[0m  \u001b]8;id=247658;file:///home/vboxuser/.local/lib/python3.10/site-packages/sbmlutils/factory.py\u001b\\\u001b[2mfactory.py\u001b[0m\u001b]8;;\u001b\\\u001b[2m:\u001b[0m\u001b]8;id=97437;file:///home/vboxuser/.local/lib/python3.10/site-packages/sbmlutils/factory.py#441\u001b\\\u001b[2m441\u001b[0m\u001b]8;;\u001b\\\n",
       "         \u001b[32m'comp-v1'\u001b[0m\u001b[39m>\u001b[0m\u001b[1;39m]\u001b[0m\u001b[39m, \u001b[0m\u001b[33mmodel_units\u001b[0m\u001b[39m=<sbmlutils.factory.ModelUnits object at \u001b[0m\u001b[1;36m0x7f0b8800b8b0\u001b[0m\u001b[39m>, \u001b[0m          \u001b[2m              \u001b[0m\n",
       "         \u001b[33munits\u001b[0m\u001b[39m=<class \u001b[0m\u001b[32m'sbmlutils.factory.Units'\u001b[0m\u001b[39m>, \u001b[0m\u001b[33mcompartments\u001b[0m\u001b[39m=\u001b[0m\u001b[1;39m[\u001b[0m\u001b[39mcell = \u001b[0m\u001b[1;36m1.0\u001b[0m\u001b[39m \u001b[0m\u001b[1;39m[\u001b[0m\u001b[3;35mNone\u001b[0m\u001b[1;39m]\u001b[0m\u001b[1;39m]\u001b[0m\u001b[39m, \u001b[0m                 \u001b[2m              \u001b[0m\n",
       "         \u001b[33mspecies\u001b[0m\u001b[39m=\u001b[0m\u001b[1;39m[\u001b[0m\u001b[39m<sbmlutils.factory.Species object at \u001b[0m\u001b[1;36m0x7f0b8800b850\u001b[0m\u001b[39m>, <sbmlutils.factory.Species \u001b[0m  \u001b[2m              \u001b[0m\n",
       "         \u001b[39mobject at \u001b[0m\u001b[1;36m0x7f0b8800b820\u001b[0m\u001b[39m>, <sbmlutils.factory.Species object at \u001b[0m\u001b[1;36m0x7f0b8800b7f0\u001b[0m\u001b[39m>, \u001b[0m           \u001b[2m              \u001b[0m\n",
       "         \u001b[39m<sbmlutils.factory.Species object at \u001b[0m\u001b[1;36m0x7f0b8800b7c0\u001b[0m\u001b[39m>, <sbmlutils.factory.Species object at \u001b[0m \u001b[2m              \u001b[0m\n",
       "         \u001b[1;36m0x7f0b8800b790\u001b[0m\u001b[39m>, <sbmlutils.factory.Species object at \u001b[0m\u001b[1;36m0x7f0b8800b760\u001b[0m\u001b[39m>\u001b[0m\u001b[1;39m]\u001b[0m\u001b[39m, \u001b[0m                    \u001b[2m              \u001b[0m\n",
       "         \u001b[33mparameters\u001b[0m\u001b[39m=\u001b[0m\u001b[1;39m[\u001b[0m\u001b[39mtau_mRNA = \u001b[0m\u001b[1;36m2.0\u001b[0m\u001b[39m \u001b[0m\u001b[1;39m[\u001b[0m\u001b[3;35mNone\u001b[0m\u001b[1;39m]\u001b[0m\u001b[39m, kd_mRNA = \u001b[0m\u001b[3;35mNone\u001b[0m\u001b[39m \u001b[0m\u001b[1;39m[\u001b[0m\u001b[3;35mNone\u001b[0m\u001b[1;39m]\u001b[0m\u001b[39m, k_tl = \u001b[0m\u001b[3;35mNone\u001b[0m\u001b[39m \u001b[0m\u001b[1;39m[\u001b[0m\u001b[3;35mNone\u001b[0m\u001b[1;39m]\u001b[0m\u001b[39m, t_ave = \u001b[0m\u001b[3;35mNone\u001b[0m\u001b[39m \u001b[0m \u001b[2m              \u001b[0m\n",
       "         \u001b[1;39m[\u001b[0m\u001b[3;35mNone\u001b[0m\u001b[1;39m]\u001b[0m\u001b[39m, eff = \u001b[0m\u001b[1;36m20\u001b[0m\u001b[39m \u001b[0m\u001b[1;39m[\u001b[0m\u001b[3;35mNone\u001b[0m\u001b[1;39m]\u001b[0m\u001b[39m, kd_prot = \u001b[0m\u001b[3;35mNone\u001b[0m\u001b[39m \u001b[0m\u001b[1;39m[\u001b[0m\u001b[3;35mNone\u001b[0m\u001b[1;39m]\u001b[0m\u001b[39m, tau_prot = \u001b[0m\u001b[1;36m10\u001b[0m\u001b[39m \u001b[0m\u001b[1;39m[\u001b[0m\u001b[3;35mNone\u001b[0m\u001b[1;39m]\u001b[0m\u001b[39m, a0_tr = \u001b[0m\u001b[3;35mNone\u001b[0m\u001b[39m \u001b[0m\u001b[1;39m[\u001b[0m\u001b[3;35mNone\u001b[0m\u001b[1;39m]\u001b[0m\u001b[39m, \u001b[0m \u001b[2m              \u001b[0m\n",
       "         \u001b[39mps_0 = \u001b[0m\u001b[1;36m0.0005\u001b[0m\u001b[39m \u001b[0m\u001b[1;39m[\u001b[0m\u001b[3;35mNone\u001b[0m\u001b[1;39m]\u001b[0m\u001b[39m, ps_a = \u001b[0m\u001b[1;36m0.5\u001b[0m\u001b[39m \u001b[0m\u001b[1;39m[\u001b[0m\u001b[3;35mNone\u001b[0m\u001b[1;39m]\u001b[0m\u001b[39m, KM = \u001b[0m\u001b[1;36m40\u001b[0m\u001b[39m \u001b[0m\u001b[1;39m[\u001b[0m\u001b[3;35mNone\u001b[0m\u001b[1;39m]\u001b[0m\u001b[39m, n = \u001b[0m\u001b[1;36m2.0\u001b[0m\u001b[39m \u001b[0m\u001b[1;39m[\u001b[0m\u001b[3;35mNone\u001b[0m\u001b[1;39m]\u001b[0m\u001b[39m, a_tr = \u001b[0m\u001b[3;35mNone\u001b[0m\u001b[39m \u001b[0m       \u001b[2m              \u001b[0m\n",
       "         \u001b[1;39m[\u001b[0m\u001b[3;35mNone\u001b[0m\u001b[1;39m]\u001b[0m\u001b[1;39m]\u001b[0m\u001b[39m, \u001b[0m\u001b[33mrules\u001b[0m\u001b[39m=\u001b[0m\u001b[1;39m[\u001b[0m\u001b[39mkd_mRNA = \u001b[0m\u001b[1;35mln\u001b[0m\u001b[1;39m(\u001b[0m\u001b[1;36m2\u001b[0m\u001b[1;39m)\u001b[0m\u001b[39m \u001b[0m\u001b[35m/\u001b[0m\u001b[39m tau_mRNA \u001b[0m\u001b[1;39m[\u001b[0m\u001b[1;35mUnitDefinition\u001b[0m\u001b[1;39m(\u001b[0m\u001b[39mdimensionless, dimensionless\u001b[0m\u001b[1;39m)\u001b[0m\u001b[1;39m]\u001b[0m\u001b[39m, \u001b[0m \u001b[2m              \u001b[0m\n",
       "         \u001b[39mt_ave = tau_mRNA \u001b[0m\u001b[35m/\u001b[0m\u001b[39m \u001b[0m\u001b[1;35mln\u001b[0m\u001b[1;39m(\u001b[0m\u001b[1;36m2\u001b[0m\u001b[1;39m)\u001b[0m\u001b[39m \u001b[0m\u001b[1;39m[\u001b[0m\u001b[1;35mUnitDefinition\u001b[0m\u001b[1;39m(\u001b[0m\u001b[39mdimensionless, dimensionless\u001b[0m\u001b[1;39m)\u001b[0m\u001b[1;39m]\u001b[0m\u001b[39m, k_tl = eff \u001b[0m\u001b[35m/\u001b[0m\u001b[39m t_ave\u001b[0m \u001b[2m              \u001b[0m\n",
       "         \u001b[1;39m[\u001b[0m\u001b[1;35mUnitDefinition\u001b[0m\u001b[1;39m(\u001b[0m\u001b[39mdimensionless, dimensionless\u001b[0m\u001b[1;39m)\u001b[0m\u001b[1;39m]\u001b[0m\u001b[39m, kd_prot = \u001b[0m\u001b[1;35mln\u001b[0m\u001b[1;39m(\u001b[0m\u001b[1;36m2\u001b[0m\u001b[1;39m)\u001b[0m\u001b[39m \u001b[0m\u001b[35m/\u001b[0m\u001b[39m tau_prot \u001b[0m                 \u001b[2m              \u001b[0m\n",
       "         \u001b[1;39m[\u001b[0m\u001b[1;35mUnitDefinition\u001b[0m\u001b[1;39m(\u001b[0m\u001b[39mdimensionless, dimensionless\u001b[0m\u001b[1;39m)\u001b[0m\u001b[1;39m]\u001b[0m\u001b[39m, a0_tr = ps_0 * \u001b[0m\u001b[1;36m60\u001b[0m\u001b[39m \u001b[0m                          \u001b[2m              \u001b[0m\n",
       "         \u001b[1;39m[\u001b[0m\u001b[1;35mUnitDefinition\u001b[0m\u001b[1;39m(\u001b[0m\u001b[39mdimensionless, dimensionless\u001b[0m\u001b[1;39m)\u001b[0m\u001b[1;39m]\u001b[0m\u001b[39m, a_tr = \u001b[0m\u001b[1;39m(\u001b[0m\u001b[39mps_a - ps_0\u001b[0m\u001b[1;39m)\u001b[0m\u001b[39m * \u001b[0m\u001b[1;36m60\u001b[0m\u001b[39m \u001b[0m                  \u001b[2m              \u001b[0m\n",
       "         \u001b[1;39m[\u001b[0m\u001b[1;35mUnitDefinition\u001b[0m\u001b[1;39m(\u001b[0m\u001b[39mdimensionless, dimensionless\u001b[0m\u001b[1;39m)\u001b[0m\u001b[1;39m]\u001b[0m\u001b[1;39m]\u001b[0m\u001b[39m, \u001b[0m\u001b[33mreactions\u001b[0m\u001b[39m=\u001b[0m\u001b[1;39m[\u001b[0m\u001b[39m<sbmlutils.factory.Reaction \u001b[0m    \u001b[2m              \u001b[0m\n",
       "         \u001b[39mobject at \u001b[0m\u001b[1;36m0x7f0b8800b340\u001b[0m\u001b[39m>, <sbmlutils.factory.Reaction object at \u001b[0m\u001b[1;36m0x7f0b8800b1f0\u001b[0m\u001b[39m>, \u001b[0m          \u001b[2m              \u001b[0m\n",
       "         \u001b[39m<sbmlutils.factory.Reaction object at \u001b[0m\u001b[1;36m0x7f0b8800b220\u001b[0m\u001b[39m>, <sbmlutils.factory.Reaction object \u001b[0m  \u001b[2m              \u001b[0m\n",
       "         \u001b[39mat \u001b[0m\u001b[1;36m0x7f0b8800b130\u001b[0m\u001b[39m>, <sbmlutils.factory.Reaction object at \u001b[0m\u001b[1;36m0x7f0b8800afe0\u001b[0m\u001b[39m>, \u001b[0m                 \u001b[2m              \u001b[0m\n",
       "         \u001b[39m<sbmlutils.factory.Reaction object at \u001b[0m\u001b[1;36m0x7f0b8800b040\u001b[0m\u001b[39m>, <sbmlutils.factory.Reaction object \u001b[0m  \u001b[2m              \u001b[0m\n",
       "         \u001b[39mat \u001b[0m\u001b[1;36m0x7f0b8800aef0\u001b[0m\u001b[39m>, <sbmlutils.factory.Reaction object at \u001b[0m\u001b[1;36m0x7f0b8800ae30\u001b[0m\u001b[39m>, \u001b[0m                 \u001b[2m              \u001b[0m\n",
       "         \u001b[39m<sbmlutils.factory.Reaction object at \u001b[0m\u001b[1;36m0x7f0b8800ad70\u001b[0m\u001b[39m>, <sbmlutils.factory.Reaction object \u001b[0m  \u001b[2m              \u001b[0m\n",
       "         \u001b[39mat \u001b[0m\u001b[1;36m0x7f0b8800acb0\u001b[0m\u001b[39m>, <sbmlutils.factory.Reaction object at \u001b[0m\u001b[1;36m0x7f0b8800abf0\u001b[0m\u001b[39m>, \u001b[0m                 \u001b[2m              \u001b[0m\n",
       "         \u001b[39m<sbmlutils.factory.Reaction object at \u001b[0m\u001b[1;36m0x7f0b8800ab30\u001b[0m\u001b[1m>\u001b[0m\u001b[1m]\u001b[0m, \u001b[33m_FrozenClass__isfrozen\u001b[0m=\u001b[3;92mTrue\u001b[0m\u001b[1m)\u001b[0m'       \u001b[2m              \u001b[0m\n"
      ]
     },
     "metadata": {},
     "output_type": "display_data"
    },
    {
     "data": {
      "text/html": [
       "<pre style=\"white-space:pre;overflow-x:auto;line-height:normal;font-family:Menlo,'DejaVu Sans Mono',consolas,'Courier New',monospace\"><span style=\"color: #000080; text-decoration-color: #000080\">INFO    </span> <span style=\"color: #008000; text-decoration-color: #008000\">'length'</span> should be set in <span style=\"color: #008000; text-decoration-color: #008000\">'model_units'</span>.                                                    <a href=\"file:///home/vboxuser/.local/lib/python3.10/site-packages/sbmlutils/factory.py\" target=\"_blank\"><span style=\"color: #7f7f7f; text-decoration-color: #7f7f7f\">factory.py</span></a><span style=\"color: #7f7f7f; text-decoration-color: #7f7f7f\">:</span><a href=\"file:///home/vboxuser/.local/lib/python3.10/site-packages/sbmlutils/factory.py#266\" target=\"_blank\"><span style=\"color: #7f7f7f; text-decoration-color: #7f7f7f\">266</span></a>\n",
       "</pre>\n"
      ],
      "text/plain": [
       "\u001b[34mINFO    \u001b[0m \u001b[32m'length'\u001b[0m should be set in \u001b[32m'model_units'\u001b[0m.                                                    \u001b]8;id=176081;file:///home/vboxuser/.local/lib/python3.10/site-packages/sbmlutils/factory.py\u001b\\\u001b[2mfactory.py\u001b[0m\u001b]8;;\u001b\\\u001b[2m:\u001b[0m\u001b]8;id=89588;file:///home/vboxuser/.local/lib/python3.10/site-packages/sbmlutils/factory.py#266\u001b\\\u001b[2m266\u001b[0m\u001b]8;;\u001b\\\n"
      ]
     },
     "metadata": {},
     "output_type": "display_data"
    },
    {
     "data": {
      "text/html": [
       "<pre style=\"white-space:pre;overflow-x:auto;line-height:normal;font-family:Menlo,'DejaVu Sans Mono',consolas,'Courier New',monospace\"><span style=\"color: #000080; text-decoration-color: #000080\">INFO    </span> <span style=\"color: #008000; text-decoration-color: #008000\">'area'</span> should be set in <span style=\"color: #008000; text-decoration-color: #008000\">'model_units'</span>.                                                      <a href=\"file:///home/vboxuser/.local/lib/python3.10/site-packages/sbmlutils/factory.py\" target=\"_blank\"><span style=\"color: #7f7f7f; text-decoration-color: #7f7f7f\">factory.py</span></a><span style=\"color: #7f7f7f; text-decoration-color: #7f7f7f\">:</span><a href=\"file:///home/vboxuser/.local/lib/python3.10/site-packages/sbmlutils/factory.py#266\" target=\"_blank\"><span style=\"color: #7f7f7f; text-decoration-color: #7f7f7f\">266</span></a>\n",
       "</pre>\n"
      ],
      "text/plain": [
       "\u001b[34mINFO    \u001b[0m \u001b[32m'area'\u001b[0m should be set in \u001b[32m'model_units'\u001b[0m.                                                      \u001b]8;id=833630;file:///home/vboxuser/.local/lib/python3.10/site-packages/sbmlutils/factory.py\u001b\\\u001b[2mfactory.py\u001b[0m\u001b]8;;\u001b\\\u001b[2m:\u001b[0m\u001b]8;id=544979;file:///home/vboxuser/.local/lib/python3.10/site-packages/sbmlutils/factory.py#266\u001b\\\u001b[2m266\u001b[0m\u001b]8;;\u001b\\\n"
      ]
     },
     "metadata": {},
     "output_type": "display_data"
    },
    {
     "data": {
      "text/html": [
       "<pre style=\"white-space:pre;overflow-x:auto;line-height:normal;font-family:Menlo,'DejaVu Sans Mono',consolas,'Courier New',monospace\"><span style=\"color: #800000; text-decoration-color: #800000\">WARNING </span> <span style=\"color: #008000; text-decoration-color: #008000\">'sboTerm'</span> should be set on <span style=\"color: #008000; text-decoration-color: #008000\">'Parameter(tau_mRNA, mRNA half life)'</span>                            <a href=\"file:///home/vboxuser/.local/lib/python3.10/site-packages/sbmlutils/factory.py\" target=\"_blank\"><span style=\"color: #7f7f7f; text-decoration-color: #7f7f7f\">factory.py</span></a><span style=\"color: #7f7f7f; text-decoration-color: #7f7f7f\">:</span><a href=\"file:///home/vboxuser/.local/lib/python3.10/site-packages/sbmlutils/factory.py#466\" target=\"_blank\"><span style=\"color: #7f7f7f; text-decoration-color: #7f7f7f\">466</span></a>\n",
       "</pre>\n"
      ],
      "text/plain": [
       "\u001b[31mWARNING \u001b[0m \u001b[32m'sboTerm'\u001b[0m should be set on \u001b[32m'Parameter\u001b[0m\u001b[32m(\u001b[0m\u001b[32mtau_mRNA, mRNA half life\u001b[0m\u001b[32m)\u001b[0m\u001b[32m'\u001b[0m                            \u001b]8;id=921563;file:///home/vboxuser/.local/lib/python3.10/site-packages/sbmlutils/factory.py\u001b\\\u001b[2mfactory.py\u001b[0m\u001b]8;;\u001b\\\u001b[2m:\u001b[0m\u001b]8;id=70705;file:///home/vboxuser/.local/lib/python3.10/site-packages/sbmlutils/factory.py#466\u001b\\\u001b[2m466\u001b[0m\u001b]8;;\u001b\\\n"
      ]
     },
     "metadata": {},
     "output_type": "display_data"
    },
    {
     "data": {
      "text/html": [
       "<pre style=\"white-space:pre;overflow-x:auto;line-height:normal;font-family:Menlo,'DejaVu Sans Mono',consolas,'Courier New',monospace\"><span style=\"color: #800000; text-decoration-color: #800000\">WARNING </span> <span style=\"color: #008000; text-decoration-color: #008000\">'sboTerm'</span> should be set on <span style=\"color: #008000; text-decoration-color: #008000\">'Parameter(eff, translation efficiency)'</span>                         <a href=\"file:///home/vboxuser/.local/lib/python3.10/site-packages/sbmlutils/factory.py\" target=\"_blank\"><span style=\"color: #7f7f7f; text-decoration-color: #7f7f7f\">factory.py</span></a><span style=\"color: #7f7f7f; text-decoration-color: #7f7f7f\">:</span><a href=\"file:///home/vboxuser/.local/lib/python3.10/site-packages/sbmlutils/factory.py#466\" target=\"_blank\"><span style=\"color: #7f7f7f; text-decoration-color: #7f7f7f\">466</span></a>\n",
       "</pre>\n"
      ],
      "text/plain": [
       "\u001b[31mWARNING \u001b[0m \u001b[32m'sboTerm'\u001b[0m should be set on \u001b[32m'Parameter\u001b[0m\u001b[32m(\u001b[0m\u001b[32meff, translation efficiency\u001b[0m\u001b[32m)\u001b[0m\u001b[32m'\u001b[0m                         \u001b]8;id=981804;file:///home/vboxuser/.local/lib/python3.10/site-packages/sbmlutils/factory.py\u001b\\\u001b[2mfactory.py\u001b[0m\u001b]8;;\u001b\\\u001b[2m:\u001b[0m\u001b]8;id=786643;file:///home/vboxuser/.local/lib/python3.10/site-packages/sbmlutils/factory.py#466\u001b\\\u001b[2m466\u001b[0m\u001b]8;;\u001b\\\n"
      ]
     },
     "metadata": {},
     "output_type": "display_data"
    },
    {
     "data": {
      "text/html": [
       "<pre style=\"white-space:pre;overflow-x:auto;line-height:normal;font-family:Menlo,'DejaVu Sans Mono',consolas,'Courier New',monospace\"><span style=\"color: #800000; text-decoration-color: #800000\">WARNING </span> <span style=\"color: #008000; text-decoration-color: #008000\">'sboTerm'</span> should be set on <span style=\"color: #008000; text-decoration-color: #008000\">'Parameter(tau_prot, protien half life)'</span>                         <a href=\"file:///home/vboxuser/.local/lib/python3.10/site-packages/sbmlutils/factory.py\" target=\"_blank\"><span style=\"color: #7f7f7f; text-decoration-color: #7f7f7f\">factory.py</span></a><span style=\"color: #7f7f7f; text-decoration-color: #7f7f7f\">:</span><a href=\"file:///home/vboxuser/.local/lib/python3.10/site-packages/sbmlutils/factory.py#466\" target=\"_blank\"><span style=\"color: #7f7f7f; text-decoration-color: #7f7f7f\">466</span></a>\n",
       "</pre>\n"
      ],
      "text/plain": [
       "\u001b[31mWARNING \u001b[0m \u001b[32m'sboTerm'\u001b[0m should be set on \u001b[32m'Parameter\u001b[0m\u001b[32m(\u001b[0m\u001b[32mtau_prot, protien half life\u001b[0m\u001b[32m)\u001b[0m\u001b[32m'\u001b[0m                         \u001b]8;id=43669;file:///home/vboxuser/.local/lib/python3.10/site-packages/sbmlutils/factory.py\u001b\\\u001b[2mfactory.py\u001b[0m\u001b]8;;\u001b\\\u001b[2m:\u001b[0m\u001b]8;id=307464;file:///home/vboxuser/.local/lib/python3.10/site-packages/sbmlutils/factory.py#466\u001b\\\u001b[2m466\u001b[0m\u001b]8;;\u001b\\\n"
      ]
     },
     "metadata": {},
     "output_type": "display_data"
    },
    {
     "data": {
      "text/html": [
       "<pre style=\"white-space:pre;overflow-x:auto;line-height:normal;font-family:Menlo,'DejaVu Sans Mono',consolas,'Courier New',monospace\"><span style=\"color: #800000; text-decoration-color: #800000\">WARNING </span> <span style=\"color: #008000; text-decoration-color: #008000\">'sboTerm'</span> should be set on <span style=\"color: #008000; text-decoration-color: #008000\">'Parameter(ps_0, tps_repr)'</span>                                      <a href=\"file:///home/vboxuser/.local/lib/python3.10/site-packages/sbmlutils/factory.py\" target=\"_blank\"><span style=\"color: #7f7f7f; text-decoration-color: #7f7f7f\">factory.py</span></a><span style=\"color: #7f7f7f; text-decoration-color: #7f7f7f\">:</span><a href=\"file:///home/vboxuser/.local/lib/python3.10/site-packages/sbmlutils/factory.py#466\" target=\"_blank\"><span style=\"color: #7f7f7f; text-decoration-color: #7f7f7f\">466</span></a>\n",
       "</pre>\n"
      ],
      "text/plain": [
       "\u001b[31mWARNING \u001b[0m \u001b[32m'sboTerm'\u001b[0m should be set on \u001b[32m'Parameter\u001b[0m\u001b[32m(\u001b[0m\u001b[32mps_0, tps_repr\u001b[0m\u001b[32m)\u001b[0m\u001b[32m'\u001b[0m                                      \u001b]8;id=291220;file:///home/vboxuser/.local/lib/python3.10/site-packages/sbmlutils/factory.py\u001b\\\u001b[2mfactory.py\u001b[0m\u001b]8;;\u001b\\\u001b[2m:\u001b[0m\u001b]8;id=800468;file:///home/vboxuser/.local/lib/python3.10/site-packages/sbmlutils/factory.py#466\u001b\\\u001b[2m466\u001b[0m\u001b]8;;\u001b\\\n"
      ]
     },
     "metadata": {},
     "output_type": "display_data"
    },
    {
     "data": {
      "text/html": [
       "<pre style=\"white-space:pre;overflow-x:auto;line-height:normal;font-family:Menlo,'DejaVu Sans Mono',consolas,'Courier New',monospace\"><span style=\"color: #800000; text-decoration-color: #800000\">WARNING </span> <span style=\"color: #008000; text-decoration-color: #008000\">'sboTerm'</span> should be set on <span style=\"color: #008000; text-decoration-color: #008000\">'Parameter(ps_a, tps_active)'</span>                                    <a href=\"file:///home/vboxuser/.local/lib/python3.10/site-packages/sbmlutils/factory.py\" target=\"_blank\"><span style=\"color: #7f7f7f; text-decoration-color: #7f7f7f\">factory.py</span></a><span style=\"color: #7f7f7f; text-decoration-color: #7f7f7f\">:</span><a href=\"file:///home/vboxuser/.local/lib/python3.10/site-packages/sbmlutils/factory.py#466\" target=\"_blank\"><span style=\"color: #7f7f7f; text-decoration-color: #7f7f7f\">466</span></a>\n",
       "</pre>\n"
      ],
      "text/plain": [
       "\u001b[31mWARNING \u001b[0m \u001b[32m'sboTerm'\u001b[0m should be set on \u001b[32m'Parameter\u001b[0m\u001b[32m(\u001b[0m\u001b[32mps_a, tps_active\u001b[0m\u001b[32m)\u001b[0m\u001b[32m'\u001b[0m                                    \u001b]8;id=789093;file:///home/vboxuser/.local/lib/python3.10/site-packages/sbmlutils/factory.py\u001b\\\u001b[2mfactory.py\u001b[0m\u001b]8;;\u001b\\\u001b[2m:\u001b[0m\u001b]8;id=965933;file:///home/vboxuser/.local/lib/python3.10/site-packages/sbmlutils/factory.py#466\u001b\\\u001b[2m466\u001b[0m\u001b]8;;\u001b\\\n"
      ]
     },
     "metadata": {},
     "output_type": "display_data"
    },
    {
     "data": {
      "text/html": [
       "<pre style=\"white-space:pre;overflow-x:auto;line-height:normal;font-family:Menlo,'DejaVu Sans Mono',consolas,'Courier New',monospace\"><span style=\"color: #800000; text-decoration-color: #800000\">WARNING </span> <span style=\"color: #008000; text-decoration-color: #008000\">'sboTerm'</span> should be set on <span style=\"color: #008000; text-decoration-color: #008000\">'Parameter(KM, KM)'</span>                                              <a href=\"file:///home/vboxuser/.local/lib/python3.10/site-packages/sbmlutils/factory.py\" target=\"_blank\"><span style=\"color: #7f7f7f; text-decoration-color: #7f7f7f\">factory.py</span></a><span style=\"color: #7f7f7f; text-decoration-color: #7f7f7f\">:</span><a href=\"file:///home/vboxuser/.local/lib/python3.10/site-packages/sbmlutils/factory.py#466\" target=\"_blank\"><span style=\"color: #7f7f7f; text-decoration-color: #7f7f7f\">466</span></a>\n",
       "</pre>\n"
      ],
      "text/plain": [
       "\u001b[31mWARNING \u001b[0m \u001b[32m'sboTerm'\u001b[0m should be set on \u001b[32m'Parameter\u001b[0m\u001b[32m(\u001b[0m\u001b[32mKM, KM\u001b[0m\u001b[32m)\u001b[0m\u001b[32m'\u001b[0m                                              \u001b]8;id=276055;file:///home/vboxuser/.local/lib/python3.10/site-packages/sbmlutils/factory.py\u001b\\\u001b[2mfactory.py\u001b[0m\u001b]8;;\u001b\\\u001b[2m:\u001b[0m\u001b]8;id=580309;file:///home/vboxuser/.local/lib/python3.10/site-packages/sbmlutils/factory.py#466\u001b\\\u001b[2m466\u001b[0m\u001b]8;;\u001b\\\n"
      ]
     },
     "metadata": {},
     "output_type": "display_data"
    },
    {
     "data": {
      "text/html": [
       "<pre style=\"white-space:pre;overflow-x:auto;line-height:normal;font-family:Menlo,'DejaVu Sans Mono',consolas,'Courier New',monospace\"><span style=\"color: #800000; text-decoration-color: #800000\">WARNING </span> <span style=\"color: #008000; text-decoration-color: #008000\">'sboTerm'</span> should be set on <span style=\"color: #008000; text-decoration-color: #008000\">'Parameter(n, n)'</span>                                                <a href=\"file:///home/vboxuser/.local/lib/python3.10/site-packages/sbmlutils/factory.py\" target=\"_blank\"><span style=\"color: #7f7f7f; text-decoration-color: #7f7f7f\">factory.py</span></a><span style=\"color: #7f7f7f; text-decoration-color: #7f7f7f\">:</span><a href=\"file:///home/vboxuser/.local/lib/python3.10/site-packages/sbmlutils/factory.py#466\" target=\"_blank\"><span style=\"color: #7f7f7f; text-decoration-color: #7f7f7f\">466</span></a>\n",
       "</pre>\n"
      ],
      "text/plain": [
       "\u001b[31mWARNING \u001b[0m \u001b[32m'sboTerm'\u001b[0m should be set on \u001b[32m'Parameter\u001b[0m\u001b[32m(\u001b[0m\u001b[32mn, n\u001b[0m\u001b[32m)\u001b[0m\u001b[32m'\u001b[0m                                                \u001b]8;id=45722;file:///home/vboxuser/.local/lib/python3.10/site-packages/sbmlutils/factory.py\u001b\\\u001b[2mfactory.py\u001b[0m\u001b]8;;\u001b\\\u001b[2m:\u001b[0m\u001b]8;id=9294;file:///home/vboxuser/.local/lib/python3.10/site-packages/sbmlutils/factory.py#466\u001b\\\u001b[2m466\u001b[0m\u001b]8;;\u001b\\\n"
      ]
     },
     "metadata": {},
     "output_type": "display_data"
    },
    {
     "data": {
      "text/html": [
       "<pre style=\"white-space:pre;overflow-x:auto;line-height:normal;font-family:Menlo,'DejaVu Sans Mono',consolas,'Courier New',monospace\"><span style=\"color: #800000; text-decoration-color: #800000\">WARNING </span> <span style=\"color: #008000; text-decoration-color: #008000\">'name'</span> should be set on <span style=\"color: #008000; text-decoration-color: #008000\">'Compartment(cell, SBO:0000290, [(&lt;BQB.IS: '</span><span style=\"color: #000000; text-decoration-color: #000000\">BQB_IS'</span><span style=\"font-weight: bold\">&gt;</span>,               <a href=\"file:///home/vboxuser/.local/lib/python3.10/site-packages/sbmlutils/factory.py\" target=\"_blank\"><span style=\"color: #7f7f7f; text-decoration-color: #7f7f7f\">factory.py</span></a><span style=\"color: #7f7f7f; text-decoration-color: #7f7f7f\">:</span><a href=\"file:///home/vboxuser/.local/lib/python3.10/site-packages/sbmlutils/factory.py#441\" target=\"_blank\"><span style=\"color: #7f7f7f; text-decoration-color: #7f7f7f\">441</span></a>\n",
       "         <span style=\"color: #008000; text-decoration-color: #008000\">'obo.go/GO:0005623'</span><span style=\"font-weight: bold\">)])</span>'                                                                     <span style=\"color: #7f7f7f; text-decoration-color: #7f7f7f\">              </span>\n",
       "</pre>\n"
      ],
      "text/plain": [
       "\u001b[31mWARNING \u001b[0m \u001b[32m'name'\u001b[0m should be set on \u001b[32m'Compartment\u001b[0m\u001b[32m(\u001b[0m\u001b[32mcell, SBO:0000290, \u001b[0m\u001b[32m[\u001b[0m\u001b[32m(\u001b[0m\u001b[32m<\u001b[0m\u001b[32mBQB.IS:\u001b[0m\u001b[32m '\u001b[0m\u001b[39mBQB_IS'\u001b[0m\u001b[1m>\u001b[0m,               \u001b]8;id=667416;file:///home/vboxuser/.local/lib/python3.10/site-packages/sbmlutils/factory.py\u001b\\\u001b[2mfactory.py\u001b[0m\u001b]8;;\u001b\\\u001b[2m:\u001b[0m\u001b]8;id=157400;file:///home/vboxuser/.local/lib/python3.10/site-packages/sbmlutils/factory.py#441\u001b\\\u001b[2m441\u001b[0m\u001b]8;;\u001b\\\n",
       "         \u001b[32m'obo.go/GO:0005623'\u001b[0m\u001b[1m)\u001b[0m\u001b[1m]\u001b[0m\u001b[1m)\u001b[0m'                                                                     \u001b[2m              \u001b[0m\n"
      ]
     },
     "metadata": {},
     "output_type": "display_data"
    },
    {
     "data": {
      "text/html": [
       "<pre style=\"white-space:pre;overflow-x:auto;line-height:normal;font-family:Menlo,'DejaVu Sans Mono',consolas,'Courier New',monospace\">\n",
       "</pre>\n"
      ],
      "text/plain": [
       "\n"
      ]
     },
     "metadata": {},
     "output_type": "display_data"
    },
    {
     "data": {
      "text/html": [
       "<pre style=\"white-space:pre;overflow-x:auto;line-height:normal;font-family:Menlo,'DejaVu Sans Mono',consolas,'Courier New',monospace\"><span style=\"color: #d78700; text-decoration-color: #d78700\">────────────────────────────────────────────────── </span>Validate SBML<span style=\"color: #d78700; text-decoration-color: #d78700\"> ──────────────────────────────────────────────────</span>\n",
       "</pre>\n"
      ],
      "text/plain": [
       "\u001b[38;5;172m────────────────────────────────────────────────── \u001b[0mValidate SBML\u001b[38;5;172m ──────────────────────────────────────────────────\u001b[0m\n"
      ]
     },
     "metadata": {},
     "output_type": "display_data"
    },
    {
     "data": {
      "text/html": [
       "<pre style=\"white-space:pre;overflow-x:auto;line-height:normal;font-family:Menlo,'DejaVu Sans Mono',consolas,'Courier New',monospace\"><span style=\"color: #0000ff; text-decoration-color: #0000ff; text-decoration: underline\">file:///home/vboxuser/Documents/compbiolibs/combine-notebooks/results/repressilator_sbmlutils.xml</span>\n",
       "<span style=\"color: #d78700; text-decoration-color: #d78700\">valid                    : TRUE</span>\n",
       "<span style=\"color: #d78700; text-decoration-color: #d78700\">validation </span><span style=\"color: #800080; text-decoration-color: #800080; font-weight: bold\">error</span><span style=\"color: #d78700; text-decoration-color: #d78700; font-weight: bold\">(</span><span style=\"color: #d78700; text-decoration-color: #d78700\">s</span><span style=\"color: #d78700; text-decoration-color: #d78700; font-weight: bold\">)</span><span style=\"color: #d78700; text-decoration-color: #d78700\">      : </span><span style=\"color: #008080; text-decoration-color: #008080; font-weight: bold\">0</span>\n",
       "<span style=\"color: #d78700; text-decoration-color: #d78700\">validation </span><span style=\"color: #800080; text-decoration-color: #800080; font-weight: bold\">warnings</span><span style=\"color: #d78700; text-decoration-color: #d78700; font-weight: bold\">(</span><span style=\"color: #d78700; text-decoration-color: #d78700\">s</span><span style=\"color: #d78700; text-decoration-color: #d78700; font-weight: bold\">)</span><span style=\"color: #d78700; text-decoration-color: #d78700\">   : </span><span style=\"color: #008080; text-decoration-color: #008080; font-weight: bold\">31</span>\n",
       "<span style=\"color: #d78700; text-decoration-color: #d78700\">check time </span><span style=\"color: #d78700; text-decoration-color: #d78700; font-weight: bold\">(</span><span style=\"color: #d78700; text-decoration-color: #d78700\">s</span><span style=\"color: #d78700; text-decoration-color: #d78700; font-weight: bold\">)</span><span style=\"color: #d78700; text-decoration-color: #d78700\">           : </span><span style=\"color: #008080; text-decoration-color: #008080; font-weight: bold\">0.065</span>\n",
       "</pre>\n"
      ],
      "text/plain": [
       "\u001b[4;94mfile:///home/vboxuser/Documents/compbiolibs/combine-notebooks/results/repressilator_sbmlutils.xml\u001b[0m\n",
       "\u001b[38;5;172mvalid                    : TRUE\u001b[0m\n",
       "\u001b[38;5;172mvalidation \u001b[0m\u001b[1;35merror\u001b[0m\u001b[1;38;5;172m(\u001b[0m\u001b[38;5;172ms\u001b[0m\u001b[1;38;5;172m)\u001b[0m\u001b[38;5;172m      : \u001b[0m\u001b[1;36m0\u001b[0m\n",
       "\u001b[38;5;172mvalidation \u001b[0m\u001b[1;35mwarnings\u001b[0m\u001b[1;38;5;172m(\u001b[0m\u001b[38;5;172ms\u001b[0m\u001b[1;38;5;172m)\u001b[0m\u001b[38;5;172m   : \u001b[0m\u001b[1;36m31\u001b[0m\n",
       "\u001b[38;5;172mcheck time \u001b[0m\u001b[1;38;5;172m(\u001b[0m\u001b[38;5;172ms\u001b[0m\u001b[1;38;5;172m)\u001b[0m\u001b[38;5;172m           : \u001b[0m\u001b[1;36m0.065\u001b[0m\n"
      ]
     },
     "metadata": {},
     "output_type": "display_data"
    },
    {
     "data": {
      "text/html": [
       "<pre style=\"white-space:pre;overflow-x:auto;line-height:normal;font-family:Menlo,'DejaVu Sans Mono',consolas,'Courier New',monospace\"><span style=\"color: #d78700; text-decoration-color: #d78700\">───────────────────────────────────────────────────────────────────────────────────────────────────────────────────</span>\n",
       "</pre>\n"
      ],
      "text/plain": [
       "\u001b[38;5;172m───────────────────────────────────────────────────────────────────────────────────────────────────────────────────\u001b[0m\n"
      ]
     },
     "metadata": {},
     "output_type": "display_data"
    },
    {
     "data": {
      "text/html": [
       "<pre style=\"white-space:pre;overflow-x:auto;line-height:normal;font-family:Menlo,'DejaVu Sans Mono',consolas,'Courier New',monospace\">\n",
       "</pre>\n"
      ],
      "text/plain": [
       "\n"
      ]
     },
     "metadata": {},
     "output_type": "display_data"
    },
    {
     "data": {
      "text/html": [
       "<pre style=\"white-space:pre;overflow-x:auto;line-height:normal;font-family:Menlo,'DejaVu Sans Mono',consolas,'Courier New',monospace\"><span style=\"color: #800000; text-decoration-color: #800000\">WARNING </span> <span style=\"color: #000000; text-decoration-color: #000000; background-color: #c0c0c0\">E0: SBML unit consistency </span><span style=\"color: #000000; text-decoration-color: #000000; background-color: #c0c0c0; font-weight: bold\">(</span><span style=\"color: #000000; text-decoration-color: #000000; background-color: #c0c0c0\">core, L231, code</span><span style=\"color: #000000; text-decoration-color: #000000; background-color: #c0c0c0; font-weight: bold\">)</span>                                             <a href=\"file:///home/vboxuser/.local/lib/python3.10/site-packages/sbmlutils/validation.py\" target=\"_blank\"><span style=\"color: #7f7f7f; text-decoration-color: #7f7f7f\">validation.py</span></a><span style=\"color: #7f7f7f; text-decoration-color: #7f7f7f\">:</span><a href=\"file:///home/vboxuser/.local/lib/python3.10/site-packages/sbmlutils/validation.py#186\" target=\"_blank\"><span style=\"color: #7f7f7f; text-decoration-color: #7f7f7f\">186</span></a>\n",
       "         <span style=\"color: #d78700; text-decoration-color: #d78700; background-color: #000000; font-weight: bold\">[</span><span style=\"color: #d78700; text-decoration-color: #d78700; background-color: #000000\">Warning</span><span style=\"color: #d78700; text-decoration-color: #d78700; background-color: #000000; font-weight: bold\">]</span><span style=\"color: #d78700; text-decoration-color: #d78700; background-color: #000000\"> Missing unit declarations on parameters or literal numbers in expression</span>       <span style=\"color: #7f7f7f; text-decoration-color: #7f7f7f\">                 </span>\n",
       "         In situations where a mathematical expression contains literal numbers or parameters     <span style=\"color: #7f7f7f; text-decoration-color: #7f7f7f\">                 </span>\n",
       "         whose units have not been declared, it is not possible to verify accurately the          <span style=\"color: #7f7f7f; text-decoration-color: #7f7f7f\">                 </span>\n",
       "         consistency of the units in the expression.                                              <span style=\"color: #7f7f7f; text-decoration-color: #7f7f7f\">                 </span>\n",
       "          The units of the <span style=\"font-weight: bold\">&lt;</span><span style=\"color: #ff00ff; text-decoration-color: #ff00ff; font-weight: bold\">assignmentRule</span><span style=\"color: #000000; text-decoration-color: #000000\">&gt; &lt;math</span><span style=\"font-weight: bold\">&gt;</span> expression <span style=\"color: #008000; text-decoration-color: #008000\">'log(2) / tau_mRNA'</span> cannot be fully <span style=\"color: #7f7f7f; text-decoration-color: #7f7f7f\">                 </span>\n",
       "         checked. Unit consistency reported as either no errors or further unit errors related to <span style=\"color: #7f7f7f; text-decoration-color: #7f7f7f\">                 </span>\n",
       "         this object may not be accurate.                                                         <span style=\"color: #7f7f7f; text-decoration-color: #7f7f7f\">                 </span>\n",
       "                                                                                                  <span style=\"color: #7f7f7f; text-decoration-color: #7f7f7f\">                 </span>\n",
       "</pre>\n"
      ],
      "text/plain": [
       "\u001b[31mWARNING \u001b[0m \u001b[30;47mE0: SBML unit consistency \u001b[0m\u001b[1;30;47m(\u001b[0m\u001b[30;47mcore, L231, code\u001b[0m\u001b[1;30;47m)\u001b[0m                                             \u001b]8;id=441762;file:///home/vboxuser/.local/lib/python3.10/site-packages/sbmlutils/validation.py\u001b\\\u001b[2mvalidation.py\u001b[0m\u001b]8;;\u001b\\\u001b[2m:\u001b[0m\u001b]8;id=586645;file:///home/vboxuser/.local/lib/python3.10/site-packages/sbmlutils/validation.py#186\u001b\\\u001b[2m186\u001b[0m\u001b]8;;\u001b\\\n",
       "         \u001b[1;38;5;172;40m[\u001b[0m\u001b[38;5;172;40mWarning\u001b[0m\u001b[1;38;5;172;40m]\u001b[0m\u001b[38;5;172;40m Missing unit declarations on parameters or literal numbers in expression\u001b[0m       \u001b[2m                 \u001b[0m\n",
       "         In situations where a mathematical expression contains literal numbers or parameters     \u001b[2m                 \u001b[0m\n",
       "         whose units have not been declared, it is not possible to verify accurately the          \u001b[2m                 \u001b[0m\n",
       "         consistency of the units in the expression.                                              \u001b[2m                 \u001b[0m\n",
       "          The units of the \u001b[1m<\u001b[0m\u001b[1;95massignmentRule\u001b[0m\u001b[39m> <math\u001b[0m\u001b[1m>\u001b[0m expression \u001b[32m'log\u001b[0m\u001b[32m(\u001b[0m\u001b[32m2\u001b[0m\u001b[32m)\u001b[0m\u001b[32m / tau_mRNA'\u001b[0m cannot be fully \u001b[2m                 \u001b[0m\n",
       "         checked. Unit consistency reported as either no errors or further unit errors related to \u001b[2m                 \u001b[0m\n",
       "         this object may not be accurate.                                                         \u001b[2m                 \u001b[0m\n",
       "                                                                                                  \u001b[2m                 \u001b[0m\n"
      ]
     },
     "metadata": {},
     "output_type": "display_data"
    },
    {
     "data": {
      "text/html": [
       "<pre style=\"white-space:pre;overflow-x:auto;line-height:normal;font-family:Menlo,'DejaVu Sans Mono',consolas,'Courier New',monospace\"><span style=\"color: #800000; text-decoration-color: #800000\">WARNING </span> <span style=\"color: #000000; text-decoration-color: #000000; background-color: #c0c0c0\">E1: SBML unit consistency </span><span style=\"color: #000000; text-decoration-color: #000000; background-color: #c0c0c0; font-weight: bold\">(</span><span style=\"color: #000000; text-decoration-color: #000000; background-color: #c0c0c0\">core, L243, code</span><span style=\"color: #000000; text-decoration-color: #000000; background-color: #c0c0c0; font-weight: bold\">)</span>                                             <a href=\"file:///home/vboxuser/.local/lib/python3.10/site-packages/sbmlutils/validation.py\" target=\"_blank\"><span style=\"color: #7f7f7f; text-decoration-color: #7f7f7f\">validation.py</span></a><span style=\"color: #7f7f7f; text-decoration-color: #7f7f7f\">:</span><a href=\"file:///home/vboxuser/.local/lib/python3.10/site-packages/sbmlutils/validation.py#186\" target=\"_blank\"><span style=\"color: #7f7f7f; text-decoration-color: #7f7f7f\">186</span></a>\n",
       "         <span style=\"color: #d78700; text-decoration-color: #d78700; background-color: #000000; font-weight: bold\">[</span><span style=\"color: #d78700; text-decoration-color: #d78700; background-color: #000000\">Warning</span><span style=\"color: #d78700; text-decoration-color: #d78700; background-color: #000000; font-weight: bold\">]</span><span style=\"color: #d78700; text-decoration-color: #d78700; background-color: #000000\"> Missing unit declarations on parameters or literal numbers in expression</span>       <span style=\"color: #7f7f7f; text-decoration-color: #7f7f7f\">                 </span>\n",
       "         In situations where a mathematical expression contains literal numbers or parameters     <span style=\"color: #7f7f7f; text-decoration-color: #7f7f7f\">                 </span>\n",
       "         whose units have not been declared, it is not possible to verify accurately the          <span style=\"color: #7f7f7f; text-decoration-color: #7f7f7f\">                 </span>\n",
       "         consistency of the units in the expression.                                              <span style=\"color: #7f7f7f; text-decoration-color: #7f7f7f\">                 </span>\n",
       "          The units of the <span style=\"font-weight: bold\">&lt;</span><span style=\"color: #ff00ff; text-decoration-color: #ff00ff; font-weight: bold\">assignmentRule</span><span style=\"color: #000000; text-decoration-color: #000000\">&gt; &lt;math</span><span style=\"font-weight: bold\">&gt;</span> expression <span style=\"color: #008000; text-decoration-color: #008000\">'tau_mRNA / log(2)'</span> cannot be fully <span style=\"color: #7f7f7f; text-decoration-color: #7f7f7f\">                 </span>\n",
       "         checked. Unit consistency reported as either no errors or further unit errors related to <span style=\"color: #7f7f7f; text-decoration-color: #7f7f7f\">                 </span>\n",
       "         this object may not be accurate.                                                         <span style=\"color: #7f7f7f; text-decoration-color: #7f7f7f\">                 </span>\n",
       "                                                                                                  <span style=\"color: #7f7f7f; text-decoration-color: #7f7f7f\">                 </span>\n",
       "</pre>\n"
      ],
      "text/plain": [
       "\u001b[31mWARNING \u001b[0m \u001b[30;47mE1: SBML unit consistency \u001b[0m\u001b[1;30;47m(\u001b[0m\u001b[30;47mcore, L243, code\u001b[0m\u001b[1;30;47m)\u001b[0m                                             \u001b]8;id=29164;file:///home/vboxuser/.local/lib/python3.10/site-packages/sbmlutils/validation.py\u001b\\\u001b[2mvalidation.py\u001b[0m\u001b]8;;\u001b\\\u001b[2m:\u001b[0m\u001b]8;id=606564;file:///home/vboxuser/.local/lib/python3.10/site-packages/sbmlutils/validation.py#186\u001b\\\u001b[2m186\u001b[0m\u001b]8;;\u001b\\\n",
       "         \u001b[1;38;5;172;40m[\u001b[0m\u001b[38;5;172;40mWarning\u001b[0m\u001b[1;38;5;172;40m]\u001b[0m\u001b[38;5;172;40m Missing unit declarations on parameters or literal numbers in expression\u001b[0m       \u001b[2m                 \u001b[0m\n",
       "         In situations where a mathematical expression contains literal numbers or parameters     \u001b[2m                 \u001b[0m\n",
       "         whose units have not been declared, it is not possible to verify accurately the          \u001b[2m                 \u001b[0m\n",
       "         consistency of the units in the expression.                                              \u001b[2m                 \u001b[0m\n",
       "          The units of the \u001b[1m<\u001b[0m\u001b[1;95massignmentRule\u001b[0m\u001b[39m> <math\u001b[0m\u001b[1m>\u001b[0m expression \u001b[32m'tau_mRNA / log\u001b[0m\u001b[32m(\u001b[0m\u001b[32m2\u001b[0m\u001b[32m)\u001b[0m\u001b[32m'\u001b[0m cannot be fully \u001b[2m                 \u001b[0m\n",
       "         checked. Unit consistency reported as either no errors or further unit errors related to \u001b[2m                 \u001b[0m\n",
       "         this object may not be accurate.                                                         \u001b[2m                 \u001b[0m\n",
       "                                                                                                  \u001b[2m                 \u001b[0m\n"
      ]
     },
     "metadata": {},
     "output_type": "display_data"
    },
    {
     "data": {
      "text/html": [
       "<pre style=\"white-space:pre;overflow-x:auto;line-height:normal;font-family:Menlo,'DejaVu Sans Mono',consolas,'Courier New',monospace\"><span style=\"color: #800000; text-decoration-color: #800000\">WARNING </span> <span style=\"color: #000000; text-decoration-color: #000000; background-color: #c0c0c0\">E2: SBML unit consistency </span><span style=\"color: #000000; text-decoration-color: #000000; background-color: #c0c0c0; font-weight: bold\">(</span><span style=\"color: #000000; text-decoration-color: #000000; background-color: #c0c0c0\">core, L255, code</span><span style=\"color: #000000; text-decoration-color: #000000; background-color: #c0c0c0; font-weight: bold\">)</span>                                             <a href=\"file:///home/vboxuser/.local/lib/python3.10/site-packages/sbmlutils/validation.py\" target=\"_blank\"><span style=\"color: #7f7f7f; text-decoration-color: #7f7f7f\">validation.py</span></a><span style=\"color: #7f7f7f; text-decoration-color: #7f7f7f\">:</span><a href=\"file:///home/vboxuser/.local/lib/python3.10/site-packages/sbmlutils/validation.py#186\" target=\"_blank\"><span style=\"color: #7f7f7f; text-decoration-color: #7f7f7f\">186</span></a>\n",
       "         <span style=\"color: #d78700; text-decoration-color: #d78700; background-color: #000000; font-weight: bold\">[</span><span style=\"color: #d78700; text-decoration-color: #d78700; background-color: #000000\">Warning</span><span style=\"color: #d78700; text-decoration-color: #d78700; background-color: #000000; font-weight: bold\">]</span><span style=\"color: #d78700; text-decoration-color: #d78700; background-color: #000000\"> Missing unit declarations on parameters or literal numbers in expression</span>       <span style=\"color: #7f7f7f; text-decoration-color: #7f7f7f\">                 </span>\n",
       "         In situations where a mathematical expression contains literal numbers or parameters     <span style=\"color: #7f7f7f; text-decoration-color: #7f7f7f\">                 </span>\n",
       "         whose units have not been declared, it is not possible to verify accurately the          <span style=\"color: #7f7f7f; text-decoration-color: #7f7f7f\">                 </span>\n",
       "         consistency of the units in the expression.                                              <span style=\"color: #7f7f7f; text-decoration-color: #7f7f7f\">                 </span>\n",
       "          The units of the <span style=\"font-weight: bold\">&lt;</span><span style=\"color: #ff00ff; text-decoration-color: #ff00ff; font-weight: bold\">assignmentRule</span><span style=\"color: #000000; text-decoration-color: #000000\">&gt; &lt;math</span><span style=\"font-weight: bold\">&gt;</span> expression <span style=\"color: #008000; text-decoration-color: #008000\">'eff / t_ave'</span> cannot be fully       <span style=\"color: #7f7f7f; text-decoration-color: #7f7f7f\">                 </span>\n",
       "         checked. Unit consistency reported as either no errors or further unit errors related to <span style=\"color: #7f7f7f; text-decoration-color: #7f7f7f\">                 </span>\n",
       "         this object may not be accurate.                                                         <span style=\"color: #7f7f7f; text-decoration-color: #7f7f7f\">                 </span>\n",
       "                                                                                                  <span style=\"color: #7f7f7f; text-decoration-color: #7f7f7f\">                 </span>\n",
       "</pre>\n"
      ],
      "text/plain": [
       "\u001b[31mWARNING \u001b[0m \u001b[30;47mE2: SBML unit consistency \u001b[0m\u001b[1;30;47m(\u001b[0m\u001b[30;47mcore, L255, code\u001b[0m\u001b[1;30;47m)\u001b[0m                                             \u001b]8;id=643991;file:///home/vboxuser/.local/lib/python3.10/site-packages/sbmlutils/validation.py\u001b\\\u001b[2mvalidation.py\u001b[0m\u001b]8;;\u001b\\\u001b[2m:\u001b[0m\u001b]8;id=283970;file:///home/vboxuser/.local/lib/python3.10/site-packages/sbmlutils/validation.py#186\u001b\\\u001b[2m186\u001b[0m\u001b]8;;\u001b\\\n",
       "         \u001b[1;38;5;172;40m[\u001b[0m\u001b[38;5;172;40mWarning\u001b[0m\u001b[1;38;5;172;40m]\u001b[0m\u001b[38;5;172;40m Missing unit declarations on parameters or literal numbers in expression\u001b[0m       \u001b[2m                 \u001b[0m\n",
       "         In situations where a mathematical expression contains literal numbers or parameters     \u001b[2m                 \u001b[0m\n",
       "         whose units have not been declared, it is not possible to verify accurately the          \u001b[2m                 \u001b[0m\n",
       "         consistency of the units in the expression.                                              \u001b[2m                 \u001b[0m\n",
       "          The units of the \u001b[1m<\u001b[0m\u001b[1;95massignmentRule\u001b[0m\u001b[39m> <math\u001b[0m\u001b[1m>\u001b[0m expression \u001b[32m'eff / t_ave'\u001b[0m cannot be fully       \u001b[2m                 \u001b[0m\n",
       "         checked. Unit consistency reported as either no errors or further unit errors related to \u001b[2m                 \u001b[0m\n",
       "         this object may not be accurate.                                                         \u001b[2m                 \u001b[0m\n",
       "                                                                                                  \u001b[2m                 \u001b[0m\n"
      ]
     },
     "metadata": {},
     "output_type": "display_data"
    },
    {
     "data": {
      "text/html": [
       "<pre style=\"white-space:pre;overflow-x:auto;line-height:normal;font-family:Menlo,'DejaVu Sans Mono',consolas,'Courier New',monospace\"><span style=\"color: #800000; text-decoration-color: #800000\">WARNING </span> <span style=\"color: #000000; text-decoration-color: #000000; background-color: #c0c0c0\">E3: SBML unit consistency </span><span style=\"color: #000000; text-decoration-color: #000000; background-color: #c0c0c0; font-weight: bold\">(</span><span style=\"color: #000000; text-decoration-color: #000000; background-color: #c0c0c0\">core, L264, code</span><span style=\"color: #000000; text-decoration-color: #000000; background-color: #c0c0c0; font-weight: bold\">)</span>                                             <a href=\"file:///home/vboxuser/.local/lib/python3.10/site-packages/sbmlutils/validation.py\" target=\"_blank\"><span style=\"color: #7f7f7f; text-decoration-color: #7f7f7f\">validation.py</span></a><span style=\"color: #7f7f7f; text-decoration-color: #7f7f7f\">:</span><a href=\"file:///home/vboxuser/.local/lib/python3.10/site-packages/sbmlutils/validation.py#186\" target=\"_blank\"><span style=\"color: #7f7f7f; text-decoration-color: #7f7f7f\">186</span></a>\n",
       "         <span style=\"color: #d78700; text-decoration-color: #d78700; background-color: #000000; font-weight: bold\">[</span><span style=\"color: #d78700; text-decoration-color: #d78700; background-color: #000000\">Warning</span><span style=\"color: #d78700; text-decoration-color: #d78700; background-color: #000000; font-weight: bold\">]</span><span style=\"color: #d78700; text-decoration-color: #d78700; background-color: #000000\"> Missing unit declarations on parameters or literal numbers in expression</span>       <span style=\"color: #7f7f7f; text-decoration-color: #7f7f7f\">                 </span>\n",
       "         In situations where a mathematical expression contains literal numbers or parameters     <span style=\"color: #7f7f7f; text-decoration-color: #7f7f7f\">                 </span>\n",
       "         whose units have not been declared, it is not possible to verify accurately the          <span style=\"color: #7f7f7f; text-decoration-color: #7f7f7f\">                 </span>\n",
       "         consistency of the units in the expression.                                              <span style=\"color: #7f7f7f; text-decoration-color: #7f7f7f\">                 </span>\n",
       "          The units of the <span style=\"font-weight: bold\">&lt;</span><span style=\"color: #ff00ff; text-decoration-color: #ff00ff; font-weight: bold\">assignmentRule</span><span style=\"color: #000000; text-decoration-color: #000000\">&gt; &lt;math</span><span style=\"font-weight: bold\">&gt;</span> expression <span style=\"color: #008000; text-decoration-color: #008000\">'log(2) / tau_prot'</span> cannot be fully <span style=\"color: #7f7f7f; text-decoration-color: #7f7f7f\">                 </span>\n",
       "         checked. Unit consistency reported as either no errors or further unit errors related to <span style=\"color: #7f7f7f; text-decoration-color: #7f7f7f\">                 </span>\n",
       "         this object may not be accurate.                                                         <span style=\"color: #7f7f7f; text-decoration-color: #7f7f7f\">                 </span>\n",
       "                                                                                                  <span style=\"color: #7f7f7f; text-decoration-color: #7f7f7f\">                 </span>\n",
       "</pre>\n"
      ],
      "text/plain": [
       "\u001b[31mWARNING \u001b[0m \u001b[30;47mE3: SBML unit consistency \u001b[0m\u001b[1;30;47m(\u001b[0m\u001b[30;47mcore, L264, code\u001b[0m\u001b[1;30;47m)\u001b[0m                                             \u001b]8;id=438976;file:///home/vboxuser/.local/lib/python3.10/site-packages/sbmlutils/validation.py\u001b\\\u001b[2mvalidation.py\u001b[0m\u001b]8;;\u001b\\\u001b[2m:\u001b[0m\u001b]8;id=483120;file:///home/vboxuser/.local/lib/python3.10/site-packages/sbmlutils/validation.py#186\u001b\\\u001b[2m186\u001b[0m\u001b]8;;\u001b\\\n",
       "         \u001b[1;38;5;172;40m[\u001b[0m\u001b[38;5;172;40mWarning\u001b[0m\u001b[1;38;5;172;40m]\u001b[0m\u001b[38;5;172;40m Missing unit declarations on parameters or literal numbers in expression\u001b[0m       \u001b[2m                 \u001b[0m\n",
       "         In situations where a mathematical expression contains literal numbers or parameters     \u001b[2m                 \u001b[0m\n",
       "         whose units have not been declared, it is not possible to verify accurately the          \u001b[2m                 \u001b[0m\n",
       "         consistency of the units in the expression.                                              \u001b[2m                 \u001b[0m\n",
       "          The units of the \u001b[1m<\u001b[0m\u001b[1;95massignmentRule\u001b[0m\u001b[39m> <math\u001b[0m\u001b[1m>\u001b[0m expression \u001b[32m'log\u001b[0m\u001b[32m(\u001b[0m\u001b[32m2\u001b[0m\u001b[32m)\u001b[0m\u001b[32m / tau_prot'\u001b[0m cannot be fully \u001b[2m                 \u001b[0m\n",
       "         checked. Unit consistency reported as either no errors or further unit errors related to \u001b[2m                 \u001b[0m\n",
       "         this object may not be accurate.                                                         \u001b[2m                 \u001b[0m\n",
       "                                                                                                  \u001b[2m                 \u001b[0m\n"
      ]
     },
     "metadata": {},
     "output_type": "display_data"
    },
    {
     "data": {
      "text/html": [
       "<pre style=\"white-space:pre;overflow-x:auto;line-height:normal;font-family:Menlo,'DejaVu Sans Mono',consolas,'Courier New',monospace\"><span style=\"color: #800000; text-decoration-color: #800000\">WARNING </span> <span style=\"color: #000000; text-decoration-color: #000000; background-color: #c0c0c0\">E4: SBML unit consistency </span><span style=\"color: #000000; text-decoration-color: #000000; background-color: #c0c0c0; font-weight: bold\">(</span><span style=\"color: #000000; text-decoration-color: #000000; background-color: #c0c0c0\">core, L276, code</span><span style=\"color: #000000; text-decoration-color: #000000; background-color: #c0c0c0; font-weight: bold\">)</span>                                             <a href=\"file:///home/vboxuser/.local/lib/python3.10/site-packages/sbmlutils/validation.py\" target=\"_blank\"><span style=\"color: #7f7f7f; text-decoration-color: #7f7f7f\">validation.py</span></a><span style=\"color: #7f7f7f; text-decoration-color: #7f7f7f\">:</span><a href=\"file:///home/vboxuser/.local/lib/python3.10/site-packages/sbmlutils/validation.py#186\" target=\"_blank\"><span style=\"color: #7f7f7f; text-decoration-color: #7f7f7f\">186</span></a>\n",
       "         <span style=\"color: #d78700; text-decoration-color: #d78700; background-color: #000000; font-weight: bold\">[</span><span style=\"color: #d78700; text-decoration-color: #d78700; background-color: #000000\">Warning</span><span style=\"color: #d78700; text-decoration-color: #d78700; background-color: #000000; font-weight: bold\">]</span><span style=\"color: #d78700; text-decoration-color: #d78700; background-color: #000000\"> Missing unit declarations on parameters or literal numbers in expression</span>       <span style=\"color: #7f7f7f; text-decoration-color: #7f7f7f\">                 </span>\n",
       "         In situations where a mathematical expression contains literal numbers or parameters     <span style=\"color: #7f7f7f; text-decoration-color: #7f7f7f\">                 </span>\n",
       "         whose units have not been declared, it is not possible to verify accurately the          <span style=\"color: #7f7f7f; text-decoration-color: #7f7f7f\">                 </span>\n",
       "         consistency of the units in the expression.                                              <span style=\"color: #7f7f7f; text-decoration-color: #7f7f7f\">                 </span>\n",
       "          The units of the <span style=\"font-weight: bold\">&lt;</span><span style=\"color: #ff00ff; text-decoration-color: #ff00ff; font-weight: bold\">assignmentRule</span><span style=\"color: #000000; text-decoration-color: #000000\">&gt; &lt;math</span><span style=\"font-weight: bold\">&gt;</span> expression <span style=\"color: #008000; text-decoration-color: #008000\">'ps_0 * 60'</span> cannot be fully         <span style=\"color: #7f7f7f; text-decoration-color: #7f7f7f\">                 </span>\n",
       "         checked. Unit consistency reported as either no errors or further unit errors related to <span style=\"color: #7f7f7f; text-decoration-color: #7f7f7f\">                 </span>\n",
       "         this object may not be accurate.                                                         <span style=\"color: #7f7f7f; text-decoration-color: #7f7f7f\">                 </span>\n",
       "                                                                                                  <span style=\"color: #7f7f7f; text-decoration-color: #7f7f7f\">                 </span>\n",
       "</pre>\n"
      ],
      "text/plain": [
       "\u001b[31mWARNING \u001b[0m \u001b[30;47mE4: SBML unit consistency \u001b[0m\u001b[1;30;47m(\u001b[0m\u001b[30;47mcore, L276, code\u001b[0m\u001b[1;30;47m)\u001b[0m                                             \u001b]8;id=671826;file:///home/vboxuser/.local/lib/python3.10/site-packages/sbmlutils/validation.py\u001b\\\u001b[2mvalidation.py\u001b[0m\u001b]8;;\u001b\\\u001b[2m:\u001b[0m\u001b]8;id=708685;file:///home/vboxuser/.local/lib/python3.10/site-packages/sbmlutils/validation.py#186\u001b\\\u001b[2m186\u001b[0m\u001b]8;;\u001b\\\n",
       "         \u001b[1;38;5;172;40m[\u001b[0m\u001b[38;5;172;40mWarning\u001b[0m\u001b[1;38;5;172;40m]\u001b[0m\u001b[38;5;172;40m Missing unit declarations on parameters or literal numbers in expression\u001b[0m       \u001b[2m                 \u001b[0m\n",
       "         In situations where a mathematical expression contains literal numbers or parameters     \u001b[2m                 \u001b[0m\n",
       "         whose units have not been declared, it is not possible to verify accurately the          \u001b[2m                 \u001b[0m\n",
       "         consistency of the units in the expression.                                              \u001b[2m                 \u001b[0m\n",
       "          The units of the \u001b[1m<\u001b[0m\u001b[1;95massignmentRule\u001b[0m\u001b[39m> <math\u001b[0m\u001b[1m>\u001b[0m expression \u001b[32m'ps_0 * 60'\u001b[0m cannot be fully         \u001b[2m                 \u001b[0m\n",
       "         checked. Unit consistency reported as either no errors or further unit errors related to \u001b[2m                 \u001b[0m\n",
       "         this object may not be accurate.                                                         \u001b[2m                 \u001b[0m\n",
       "                                                                                                  \u001b[2m                 \u001b[0m\n"
      ]
     },
     "metadata": {},
     "output_type": "display_data"
    },
    {
     "data": {
      "text/html": [
       "<pre style=\"white-space:pre;overflow-x:auto;line-height:normal;font-family:Menlo,'DejaVu Sans Mono',consolas,'Courier New',monospace\"><span style=\"color: #800000; text-decoration-color: #800000\">WARNING </span> <span style=\"color: #000000; text-decoration-color: #000000; background-color: #c0c0c0\">E5: SBML unit consistency </span><span style=\"color: #000000; text-decoration-color: #000000; background-color: #c0c0c0; font-weight: bold\">(</span><span style=\"color: #000000; text-decoration-color: #000000; background-color: #c0c0c0\">core, L285, code</span><span style=\"color: #000000; text-decoration-color: #000000; background-color: #c0c0c0; font-weight: bold\">)</span>                                             <a href=\"file:///home/vboxuser/.local/lib/python3.10/site-packages/sbmlutils/validation.py\" target=\"_blank\"><span style=\"color: #7f7f7f; text-decoration-color: #7f7f7f\">validation.py</span></a><span style=\"color: #7f7f7f; text-decoration-color: #7f7f7f\">:</span><a href=\"file:///home/vboxuser/.local/lib/python3.10/site-packages/sbmlutils/validation.py#186\" target=\"_blank\"><span style=\"color: #7f7f7f; text-decoration-color: #7f7f7f\">186</span></a>\n",
       "         <span style=\"color: #d78700; text-decoration-color: #d78700; background-color: #000000; font-weight: bold\">[</span><span style=\"color: #d78700; text-decoration-color: #d78700; background-color: #000000\">Warning</span><span style=\"color: #d78700; text-decoration-color: #d78700; background-color: #000000; font-weight: bold\">]</span><span style=\"color: #d78700; text-decoration-color: #d78700; background-color: #000000\"> Missing unit declarations on parameters or literal numbers in expression</span>       <span style=\"color: #7f7f7f; text-decoration-color: #7f7f7f\">                 </span>\n",
       "         In situations where a mathematical expression contains literal numbers or parameters     <span style=\"color: #7f7f7f; text-decoration-color: #7f7f7f\">                 </span>\n",
       "         whose units have not been declared, it is not possible to verify accurately the          <span style=\"color: #7f7f7f; text-decoration-color: #7f7f7f\">                 </span>\n",
       "         consistency of the units in the expression.                                              <span style=\"color: #7f7f7f; text-decoration-color: #7f7f7f\">                 </span>\n",
       "          The units of the <span style=\"font-weight: bold\">&lt;</span><span style=\"color: #ff00ff; text-decoration-color: #ff00ff; font-weight: bold\">assignmentRule</span><span style=\"color: #000000; text-decoration-color: #000000\">&gt; &lt;math</span><span style=\"font-weight: bold\">&gt;</span> expression <span style=\"color: #008000; text-decoration-color: #008000\">'(ps_a - ps_0) * 60'</span> cannot be      <span style=\"color: #7f7f7f; text-decoration-color: #7f7f7f\">                 </span>\n",
       "         fully checked. Unit consistency reported as either no errors or further unit errors      <span style=\"color: #7f7f7f; text-decoration-color: #7f7f7f\">                 </span>\n",
       "         related to this object may not be accurate.                                              <span style=\"color: #7f7f7f; text-decoration-color: #7f7f7f\">                 </span>\n",
       "                                                                                                  <span style=\"color: #7f7f7f; text-decoration-color: #7f7f7f\">                 </span>\n",
       "</pre>\n"
      ],
      "text/plain": [
       "\u001b[31mWARNING \u001b[0m \u001b[30;47mE5: SBML unit consistency \u001b[0m\u001b[1;30;47m(\u001b[0m\u001b[30;47mcore, L285, code\u001b[0m\u001b[1;30;47m)\u001b[0m                                             \u001b]8;id=205846;file:///home/vboxuser/.local/lib/python3.10/site-packages/sbmlutils/validation.py\u001b\\\u001b[2mvalidation.py\u001b[0m\u001b]8;;\u001b\\\u001b[2m:\u001b[0m\u001b]8;id=560905;file:///home/vboxuser/.local/lib/python3.10/site-packages/sbmlutils/validation.py#186\u001b\\\u001b[2m186\u001b[0m\u001b]8;;\u001b\\\n",
       "         \u001b[1;38;5;172;40m[\u001b[0m\u001b[38;5;172;40mWarning\u001b[0m\u001b[1;38;5;172;40m]\u001b[0m\u001b[38;5;172;40m Missing unit declarations on parameters or literal numbers in expression\u001b[0m       \u001b[2m                 \u001b[0m\n",
       "         In situations where a mathematical expression contains literal numbers or parameters     \u001b[2m                 \u001b[0m\n",
       "         whose units have not been declared, it is not possible to verify accurately the          \u001b[2m                 \u001b[0m\n",
       "         consistency of the units in the expression.                                              \u001b[2m                 \u001b[0m\n",
       "          The units of the \u001b[1m<\u001b[0m\u001b[1;95massignmentRule\u001b[0m\u001b[39m> <math\u001b[0m\u001b[1m>\u001b[0m expression \u001b[32m'\u001b[0m\u001b[32m(\u001b[0m\u001b[32mps_a - ps_0\u001b[0m\u001b[32m)\u001b[0m\u001b[32m * 60'\u001b[0m cannot be      \u001b[2m                 \u001b[0m\n",
       "         fully checked. Unit consistency reported as either no errors or further unit errors      \u001b[2m                 \u001b[0m\n",
       "         related to this object may not be accurate.                                              \u001b[2m                 \u001b[0m\n",
       "                                                                                                  \u001b[2m                 \u001b[0m\n"
      ]
     },
     "metadata": {},
     "output_type": "display_data"
    },
    {
     "data": {
      "text/html": [
       "<pre style=\"white-space:pre;overflow-x:auto;line-height:normal;font-family:Menlo,'DejaVu Sans Mono',consolas,'Courier New',monospace\"><span style=\"color: #800000; text-decoration-color: #800000\">WARNING </span> <span style=\"color: #000000; text-decoration-color: #000000; background-color: #c0c0c0\">E6: SBML unit consistency </span><span style=\"color: #000000; text-decoration-color: #000000; background-color: #c0c0c0; font-weight: bold\">(</span><span style=\"color: #000000; text-decoration-color: #000000; background-color: #c0c0c0\">core, L320, code</span><span style=\"color: #000000; text-decoration-color: #000000; background-color: #c0c0c0; font-weight: bold\">)</span>                                             <a href=\"file:///home/vboxuser/.local/lib/python3.10/site-packages/sbmlutils/validation.py\" target=\"_blank\"><span style=\"color: #7f7f7f; text-decoration-color: #7f7f7f\">validation.py</span></a><span style=\"color: #7f7f7f; text-decoration-color: #7f7f7f\">:</span><a href=\"file:///home/vboxuser/.local/lib/python3.10/site-packages/sbmlutils/validation.py#186\" target=\"_blank\"><span style=\"color: #7f7f7f; text-decoration-color: #7f7f7f\">186</span></a>\n",
       "         <span style=\"color: #d78700; text-decoration-color: #d78700; background-color: #000000; font-weight: bold\">[</span><span style=\"color: #d78700; text-decoration-color: #d78700; background-color: #000000\">Warning</span><span style=\"color: #d78700; text-decoration-color: #d78700; background-color: #000000; font-weight: bold\">]</span><span style=\"color: #d78700; text-decoration-color: #d78700; background-color: #000000\"> Missing unit declarations on parameters or literal numbers in expression</span>       <span style=\"color: #7f7f7f; text-decoration-color: #7f7f7f\">                 </span>\n",
       "         In situations where a mathematical expression contains literal numbers or parameters     <span style=\"color: #7f7f7f; text-decoration-color: #7f7f7f\">                 </span>\n",
       "         whose units have not been declared, it is not possible to verify accurately the          <span style=\"color: #7f7f7f; text-decoration-color: #7f7f7f\">                 </span>\n",
       "         consistency of the units in the expression.                                              <span style=\"color: #7f7f7f; text-decoration-color: #7f7f7f\">                 </span>\n",
       "          The units of the <span style=\"font-weight: bold\">&lt;</span><span style=\"color: #ff00ff; text-decoration-color: #ff00ff; font-weight: bold\">kineticLaw</span><span style=\"color: #000000; text-decoration-color: #000000\">&gt; &lt;math</span><span style=\"font-weight: bold\">&gt;</span> expression <span style=\"color: #008000; text-decoration-color: #008000\">'kd_mRNA * X'</span> cannot be fully checked.  <span style=\"color: #7f7f7f; text-decoration-color: #7f7f7f\">                 </span>\n",
       "         Unit consistency reported as either no errors or further unit errors related to this     <span style=\"color: #7f7f7f; text-decoration-color: #7f7f7f\">                 </span>\n",
       "         object may not be accurate.                                                              <span style=\"color: #7f7f7f; text-decoration-color: #7f7f7f\">                 </span>\n",
       "                                                                                                  <span style=\"color: #7f7f7f; text-decoration-color: #7f7f7f\">                 </span>\n",
       "</pre>\n"
      ],
      "text/plain": [
       "\u001b[31mWARNING \u001b[0m \u001b[30;47mE6: SBML unit consistency \u001b[0m\u001b[1;30;47m(\u001b[0m\u001b[30;47mcore, L320, code\u001b[0m\u001b[1;30;47m)\u001b[0m                                             \u001b]8;id=251883;file:///home/vboxuser/.local/lib/python3.10/site-packages/sbmlutils/validation.py\u001b\\\u001b[2mvalidation.py\u001b[0m\u001b]8;;\u001b\\\u001b[2m:\u001b[0m\u001b]8;id=503945;file:///home/vboxuser/.local/lib/python3.10/site-packages/sbmlutils/validation.py#186\u001b\\\u001b[2m186\u001b[0m\u001b]8;;\u001b\\\n",
       "         \u001b[1;38;5;172;40m[\u001b[0m\u001b[38;5;172;40mWarning\u001b[0m\u001b[1;38;5;172;40m]\u001b[0m\u001b[38;5;172;40m Missing unit declarations on parameters or literal numbers in expression\u001b[0m       \u001b[2m                 \u001b[0m\n",
       "         In situations where a mathematical expression contains literal numbers or parameters     \u001b[2m                 \u001b[0m\n",
       "         whose units have not been declared, it is not possible to verify accurately the          \u001b[2m                 \u001b[0m\n",
       "         consistency of the units in the expression.                                              \u001b[2m                 \u001b[0m\n",
       "          The units of the \u001b[1m<\u001b[0m\u001b[1;95mkineticLaw\u001b[0m\u001b[39m> <math\u001b[0m\u001b[1m>\u001b[0m expression \u001b[32m'kd_mRNA * X'\u001b[0m cannot be fully checked.  \u001b[2m                 \u001b[0m\n",
       "         Unit consistency reported as either no errors or further unit errors related to this     \u001b[2m                 \u001b[0m\n",
       "         object may not be accurate.                                                              \u001b[2m                 \u001b[0m\n",
       "                                                                                                  \u001b[2m                 \u001b[0m\n"
      ]
     },
     "metadata": {},
     "output_type": "display_data"
    },
    {
     "data": {
      "text/html": [
       "<pre style=\"white-space:pre;overflow-x:auto;line-height:normal;font-family:Menlo,'DejaVu Sans Mono',consolas,'Courier New',monospace\"><span style=\"color: #800000; text-decoration-color: #800000\">WARNING </span> <span style=\"color: #000000; text-decoration-color: #000000; background-color: #c0c0c0\">E7: SBML unit consistency </span><span style=\"color: #000000; text-decoration-color: #000000; background-color: #c0c0c0; font-weight: bold\">(</span><span style=\"color: #000000; text-decoration-color: #000000; background-color: #c0c0c0\">core, L350, code</span><span style=\"color: #000000; text-decoration-color: #000000; background-color: #c0c0c0; font-weight: bold\">)</span>                                             <a href=\"file:///home/vboxuser/.local/lib/python3.10/site-packages/sbmlutils/validation.py\" target=\"_blank\"><span style=\"color: #7f7f7f; text-decoration-color: #7f7f7f\">validation.py</span></a><span style=\"color: #7f7f7f; text-decoration-color: #7f7f7f\">:</span><a href=\"file:///home/vboxuser/.local/lib/python3.10/site-packages/sbmlutils/validation.py#186\" target=\"_blank\"><span style=\"color: #7f7f7f; text-decoration-color: #7f7f7f\">186</span></a>\n",
       "         <span style=\"color: #d78700; text-decoration-color: #d78700; background-color: #000000; font-weight: bold\">[</span><span style=\"color: #d78700; text-decoration-color: #d78700; background-color: #000000\">Warning</span><span style=\"color: #d78700; text-decoration-color: #d78700; background-color: #000000; font-weight: bold\">]</span><span style=\"color: #d78700; text-decoration-color: #d78700; background-color: #000000\"> Missing unit declarations on parameters or literal numbers in expression</span>       <span style=\"color: #7f7f7f; text-decoration-color: #7f7f7f\">                 </span>\n",
       "         In situations where a mathematical expression contains literal numbers or parameters     <span style=\"color: #7f7f7f; text-decoration-color: #7f7f7f\">                 </span>\n",
       "         whose units have not been declared, it is not possible to verify accurately the          <span style=\"color: #7f7f7f; text-decoration-color: #7f7f7f\">                 </span>\n",
       "         consistency of the units in the expression.                                              <span style=\"color: #7f7f7f; text-decoration-color: #7f7f7f\">                 </span>\n",
       "          The units of the <span style=\"font-weight: bold\">&lt;</span><span style=\"color: #ff00ff; text-decoration-color: #ff00ff; font-weight: bold\">kineticLaw</span><span style=\"color: #000000; text-decoration-color: #000000\">&gt; &lt;math</span><span style=\"font-weight: bold\">&gt;</span> expression <span style=\"color: #008000; text-decoration-color: #008000\">'kd_mRNA * Y'</span> cannot be fully checked.  <span style=\"color: #7f7f7f; text-decoration-color: #7f7f7f\">                 </span>\n",
       "         Unit consistency reported as either no errors or further unit errors related to this     <span style=\"color: #7f7f7f; text-decoration-color: #7f7f7f\">                 </span>\n",
       "         object may not be accurate.                                                              <span style=\"color: #7f7f7f; text-decoration-color: #7f7f7f\">                 </span>\n",
       "                                                                                                  <span style=\"color: #7f7f7f; text-decoration-color: #7f7f7f\">                 </span>\n",
       "</pre>\n"
      ],
      "text/plain": [
       "\u001b[31mWARNING \u001b[0m \u001b[30;47mE7: SBML unit consistency \u001b[0m\u001b[1;30;47m(\u001b[0m\u001b[30;47mcore, L350, code\u001b[0m\u001b[1;30;47m)\u001b[0m                                             \u001b]8;id=116798;file:///home/vboxuser/.local/lib/python3.10/site-packages/sbmlutils/validation.py\u001b\\\u001b[2mvalidation.py\u001b[0m\u001b]8;;\u001b\\\u001b[2m:\u001b[0m\u001b]8;id=557469;file:///home/vboxuser/.local/lib/python3.10/site-packages/sbmlutils/validation.py#186\u001b\\\u001b[2m186\u001b[0m\u001b]8;;\u001b\\\n",
       "         \u001b[1;38;5;172;40m[\u001b[0m\u001b[38;5;172;40mWarning\u001b[0m\u001b[1;38;5;172;40m]\u001b[0m\u001b[38;5;172;40m Missing unit declarations on parameters or literal numbers in expression\u001b[0m       \u001b[2m                 \u001b[0m\n",
       "         In situations where a mathematical expression contains literal numbers or parameters     \u001b[2m                 \u001b[0m\n",
       "         whose units have not been declared, it is not possible to verify accurately the          \u001b[2m                 \u001b[0m\n",
       "         consistency of the units in the expression.                                              \u001b[2m                 \u001b[0m\n",
       "          The units of the \u001b[1m<\u001b[0m\u001b[1;95mkineticLaw\u001b[0m\u001b[39m> <math\u001b[0m\u001b[1m>\u001b[0m expression \u001b[32m'kd_mRNA * Y'\u001b[0m cannot be fully checked.  \u001b[2m                 \u001b[0m\n",
       "         Unit consistency reported as either no errors or further unit errors related to this     \u001b[2m                 \u001b[0m\n",
       "         object may not be accurate.                                                              \u001b[2m                 \u001b[0m\n",
       "                                                                                                  \u001b[2m                 \u001b[0m\n"
      ]
     },
     "metadata": {},
     "output_type": "display_data"
    },
    {
     "data": {
      "text/html": [
       "<pre style=\"white-space:pre;overflow-x:auto;line-height:normal;font-family:Menlo,'DejaVu Sans Mono',consolas,'Courier New',monospace\"><span style=\"color: #800000; text-decoration-color: #800000\">WARNING </span> <span style=\"color: #000000; text-decoration-color: #000000; background-color: #c0c0c0\">E8: SBML unit consistency </span><span style=\"color: #000000; text-decoration-color: #000000; background-color: #c0c0c0; font-weight: bold\">(</span><span style=\"color: #000000; text-decoration-color: #000000; background-color: #c0c0c0\">core, L380, code</span><span style=\"color: #000000; text-decoration-color: #000000; background-color: #c0c0c0; font-weight: bold\">)</span>                                             <a href=\"file:///home/vboxuser/.local/lib/python3.10/site-packages/sbmlutils/validation.py\" target=\"_blank\"><span style=\"color: #7f7f7f; text-decoration-color: #7f7f7f\">validation.py</span></a><span style=\"color: #7f7f7f; text-decoration-color: #7f7f7f\">:</span><a href=\"file:///home/vboxuser/.local/lib/python3.10/site-packages/sbmlutils/validation.py#186\" target=\"_blank\"><span style=\"color: #7f7f7f; text-decoration-color: #7f7f7f\">186</span></a>\n",
       "         <span style=\"color: #d78700; text-decoration-color: #d78700; background-color: #000000; font-weight: bold\">[</span><span style=\"color: #d78700; text-decoration-color: #d78700; background-color: #000000\">Warning</span><span style=\"color: #d78700; text-decoration-color: #d78700; background-color: #000000; font-weight: bold\">]</span><span style=\"color: #d78700; text-decoration-color: #d78700; background-color: #000000\"> Missing unit declarations on parameters or literal numbers in expression</span>       <span style=\"color: #7f7f7f; text-decoration-color: #7f7f7f\">                 </span>\n",
       "         In situations where a mathematical expression contains literal numbers or parameters     <span style=\"color: #7f7f7f; text-decoration-color: #7f7f7f\">                 </span>\n",
       "         whose units have not been declared, it is not possible to verify accurately the          <span style=\"color: #7f7f7f; text-decoration-color: #7f7f7f\">                 </span>\n",
       "         consistency of the units in the expression.                                              <span style=\"color: #7f7f7f; text-decoration-color: #7f7f7f\">                 </span>\n",
       "          The units of the <span style=\"font-weight: bold\">&lt;</span><span style=\"color: #ff00ff; text-decoration-color: #ff00ff; font-weight: bold\">kineticLaw</span><span style=\"color: #000000; text-decoration-color: #000000\">&gt; &lt;math</span><span style=\"font-weight: bold\">&gt;</span> expression <span style=\"color: #008000; text-decoration-color: #008000\">'kd_mRNA * Z'</span> cannot be fully checked.  <span style=\"color: #7f7f7f; text-decoration-color: #7f7f7f\">                 </span>\n",
       "         Unit consistency reported as either no errors or further unit errors related to this     <span style=\"color: #7f7f7f; text-decoration-color: #7f7f7f\">                 </span>\n",
       "         object may not be accurate.                                                              <span style=\"color: #7f7f7f; text-decoration-color: #7f7f7f\">                 </span>\n",
       "                                                                                                  <span style=\"color: #7f7f7f; text-decoration-color: #7f7f7f\">                 </span>\n",
       "</pre>\n"
      ],
      "text/plain": [
       "\u001b[31mWARNING \u001b[0m \u001b[30;47mE8: SBML unit consistency \u001b[0m\u001b[1;30;47m(\u001b[0m\u001b[30;47mcore, L380, code\u001b[0m\u001b[1;30;47m)\u001b[0m                                             \u001b]8;id=402918;file:///home/vboxuser/.local/lib/python3.10/site-packages/sbmlutils/validation.py\u001b\\\u001b[2mvalidation.py\u001b[0m\u001b]8;;\u001b\\\u001b[2m:\u001b[0m\u001b]8;id=273054;file:///home/vboxuser/.local/lib/python3.10/site-packages/sbmlutils/validation.py#186\u001b\\\u001b[2m186\u001b[0m\u001b]8;;\u001b\\\n",
       "         \u001b[1;38;5;172;40m[\u001b[0m\u001b[38;5;172;40mWarning\u001b[0m\u001b[1;38;5;172;40m]\u001b[0m\u001b[38;5;172;40m Missing unit declarations on parameters or literal numbers in expression\u001b[0m       \u001b[2m                 \u001b[0m\n",
       "         In situations where a mathematical expression contains literal numbers or parameters     \u001b[2m                 \u001b[0m\n",
       "         whose units have not been declared, it is not possible to verify accurately the          \u001b[2m                 \u001b[0m\n",
       "         consistency of the units in the expression.                                              \u001b[2m                 \u001b[0m\n",
       "          The units of the \u001b[1m<\u001b[0m\u001b[1;95mkineticLaw\u001b[0m\u001b[39m> <math\u001b[0m\u001b[1m>\u001b[0m expression \u001b[32m'kd_mRNA * Z'\u001b[0m cannot be fully checked.  \u001b[2m                 \u001b[0m\n",
       "         Unit consistency reported as either no errors or further unit errors related to this     \u001b[2m                 \u001b[0m\n",
       "         object may not be accurate.                                                              \u001b[2m                 \u001b[0m\n",
       "                                                                                                  \u001b[2m                 \u001b[0m\n"
      ]
     },
     "metadata": {},
     "output_type": "display_data"
    },
    {
     "data": {
      "text/html": [
       "<pre style=\"white-space:pre;overflow-x:auto;line-height:normal;font-family:Menlo,'DejaVu Sans Mono',consolas,'Courier New',monospace\"><span style=\"color: #800000; text-decoration-color: #800000\">WARNING </span> <span style=\"color: #000000; text-decoration-color: #000000; background-color: #c0c0c0\">E9: SBML unit consistency </span><span style=\"color: #000000; text-decoration-color: #000000; background-color: #c0c0c0; font-weight: bold\">(</span><span style=\"color: #000000; text-decoration-color: #000000; background-color: #c0c0c0\">core, L413, code</span><span style=\"color: #000000; text-decoration-color: #000000; background-color: #c0c0c0; font-weight: bold\">)</span>                                             <a href=\"file:///home/vboxuser/.local/lib/python3.10/site-packages/sbmlutils/validation.py\" target=\"_blank\"><span style=\"color: #7f7f7f; text-decoration-color: #7f7f7f\">validation.py</span></a><span style=\"color: #7f7f7f; text-decoration-color: #7f7f7f\">:</span><a href=\"file:///home/vboxuser/.local/lib/python3.10/site-packages/sbmlutils/validation.py#186\" target=\"_blank\"><span style=\"color: #7f7f7f; text-decoration-color: #7f7f7f\">186</span></a>\n",
       "         <span style=\"color: #d78700; text-decoration-color: #d78700; background-color: #000000; font-weight: bold\">[</span><span style=\"color: #d78700; text-decoration-color: #d78700; background-color: #000000\">Warning</span><span style=\"color: #d78700; text-decoration-color: #d78700; background-color: #000000; font-weight: bold\">]</span><span style=\"color: #d78700; text-decoration-color: #d78700; background-color: #000000\"> Missing unit declarations on parameters or literal numbers in expression</span>       <span style=\"color: #7f7f7f; text-decoration-color: #7f7f7f\">                 </span>\n",
       "         In situations where a mathematical expression contains literal numbers or parameters     <span style=\"color: #7f7f7f; text-decoration-color: #7f7f7f\">                 </span>\n",
       "         whose units have not been declared, it is not possible to verify accurately the          <span style=\"color: #7f7f7f; text-decoration-color: #7f7f7f\">                 </span>\n",
       "         consistency of the units in the expression.                                              <span style=\"color: #7f7f7f; text-decoration-color: #7f7f7f\">                 </span>\n",
       "          The units of the <span style=\"font-weight: bold\">&lt;</span><span style=\"color: #ff00ff; text-decoration-color: #ff00ff; font-weight: bold\">kineticLaw</span><span style=\"color: #000000; text-decoration-color: #000000\">&gt; &lt;math</span><span style=\"font-weight: bold\">&gt;</span> expression <span style=\"color: #008000; text-decoration-color: #008000\">'k_tl * X'</span> cannot be fully checked.     <span style=\"color: #7f7f7f; text-decoration-color: #7f7f7f\">                 </span>\n",
       "         Unit consistency reported as either no errors or further unit errors related to this     <span style=\"color: #7f7f7f; text-decoration-color: #7f7f7f\">                 </span>\n",
       "         object may not be accurate.                                                              <span style=\"color: #7f7f7f; text-decoration-color: #7f7f7f\">                 </span>\n",
       "                                                                                                  <span style=\"color: #7f7f7f; text-decoration-color: #7f7f7f\">                 </span>\n",
       "</pre>\n"
      ],
      "text/plain": [
       "\u001b[31mWARNING \u001b[0m \u001b[30;47mE9: SBML unit consistency \u001b[0m\u001b[1;30;47m(\u001b[0m\u001b[30;47mcore, L413, code\u001b[0m\u001b[1;30;47m)\u001b[0m                                             \u001b]8;id=321740;file:///home/vboxuser/.local/lib/python3.10/site-packages/sbmlutils/validation.py\u001b\\\u001b[2mvalidation.py\u001b[0m\u001b]8;;\u001b\\\u001b[2m:\u001b[0m\u001b]8;id=921156;file:///home/vboxuser/.local/lib/python3.10/site-packages/sbmlutils/validation.py#186\u001b\\\u001b[2m186\u001b[0m\u001b]8;;\u001b\\\n",
       "         \u001b[1;38;5;172;40m[\u001b[0m\u001b[38;5;172;40mWarning\u001b[0m\u001b[1;38;5;172;40m]\u001b[0m\u001b[38;5;172;40m Missing unit declarations on parameters or literal numbers in expression\u001b[0m       \u001b[2m                 \u001b[0m\n",
       "         In situations where a mathematical expression contains literal numbers or parameters     \u001b[2m                 \u001b[0m\n",
       "         whose units have not been declared, it is not possible to verify accurately the          \u001b[2m                 \u001b[0m\n",
       "         consistency of the units in the expression.                                              \u001b[2m                 \u001b[0m\n",
       "          The units of the \u001b[1m<\u001b[0m\u001b[1;95mkineticLaw\u001b[0m\u001b[39m> <math\u001b[0m\u001b[1m>\u001b[0m expression \u001b[32m'k_tl * X'\u001b[0m cannot be fully checked.     \u001b[2m                 \u001b[0m\n",
       "         Unit consistency reported as either no errors or further unit errors related to this     \u001b[2m                 \u001b[0m\n",
       "         object may not be accurate.                                                              \u001b[2m                 \u001b[0m\n",
       "                                                                                                  \u001b[2m                 \u001b[0m\n"
      ]
     },
     "metadata": {},
     "output_type": "display_data"
    },
    {
     "data": {
      "text/html": [
       "<pre style=\"white-space:pre;overflow-x:auto;line-height:normal;font-family:Menlo,'DejaVu Sans Mono',consolas,'Courier New',monospace\"><span style=\"color: #800000; text-decoration-color: #800000\">WARNING </span> <span style=\"color: #000000; text-decoration-color: #000000; background-color: #c0c0c0\">E10: SBML unit consistency </span><span style=\"color: #000000; text-decoration-color: #000000; background-color: #c0c0c0; font-weight: bold\">(</span><span style=\"color: #000000; text-decoration-color: #000000; background-color: #c0c0c0\">core, L446, code</span><span style=\"color: #000000; text-decoration-color: #000000; background-color: #c0c0c0; font-weight: bold\">)</span>                                            <a href=\"file:///home/vboxuser/.local/lib/python3.10/site-packages/sbmlutils/validation.py\" target=\"_blank\"><span style=\"color: #7f7f7f; text-decoration-color: #7f7f7f\">validation.py</span></a><span style=\"color: #7f7f7f; text-decoration-color: #7f7f7f\">:</span><a href=\"file:///home/vboxuser/.local/lib/python3.10/site-packages/sbmlutils/validation.py#186\" target=\"_blank\"><span style=\"color: #7f7f7f; text-decoration-color: #7f7f7f\">186</span></a>\n",
       "         <span style=\"color: #d78700; text-decoration-color: #d78700; background-color: #000000; font-weight: bold\">[</span><span style=\"color: #d78700; text-decoration-color: #d78700; background-color: #000000\">Warning</span><span style=\"color: #d78700; text-decoration-color: #d78700; background-color: #000000; font-weight: bold\">]</span><span style=\"color: #d78700; text-decoration-color: #d78700; background-color: #000000\"> Missing unit declarations on parameters or literal numbers in expression</span>       <span style=\"color: #7f7f7f; text-decoration-color: #7f7f7f\">                 </span>\n",
       "         In situations where a mathematical expression contains literal numbers or parameters     <span style=\"color: #7f7f7f; text-decoration-color: #7f7f7f\">                 </span>\n",
       "         whose units have not been declared, it is not possible to verify accurately the          <span style=\"color: #7f7f7f; text-decoration-color: #7f7f7f\">                 </span>\n",
       "         consistency of the units in the expression.                                              <span style=\"color: #7f7f7f; text-decoration-color: #7f7f7f\">                 </span>\n",
       "          The units of the <span style=\"font-weight: bold\">&lt;</span><span style=\"color: #ff00ff; text-decoration-color: #ff00ff; font-weight: bold\">kineticLaw</span><span style=\"color: #000000; text-decoration-color: #000000\">&gt; &lt;math</span><span style=\"font-weight: bold\">&gt;</span> expression <span style=\"color: #008000; text-decoration-color: #008000\">'k_tl * Y'</span> cannot be fully checked.     <span style=\"color: #7f7f7f; text-decoration-color: #7f7f7f\">                 </span>\n",
       "         Unit consistency reported as either no errors or further unit errors related to this     <span style=\"color: #7f7f7f; text-decoration-color: #7f7f7f\">                 </span>\n",
       "         object may not be accurate.                                                              <span style=\"color: #7f7f7f; text-decoration-color: #7f7f7f\">                 </span>\n",
       "                                                                                                  <span style=\"color: #7f7f7f; text-decoration-color: #7f7f7f\">                 </span>\n",
       "</pre>\n"
      ],
      "text/plain": [
       "\u001b[31mWARNING \u001b[0m \u001b[30;47mE10: SBML unit consistency \u001b[0m\u001b[1;30;47m(\u001b[0m\u001b[30;47mcore, L446, code\u001b[0m\u001b[1;30;47m)\u001b[0m                                            \u001b]8;id=746717;file:///home/vboxuser/.local/lib/python3.10/site-packages/sbmlutils/validation.py\u001b\\\u001b[2mvalidation.py\u001b[0m\u001b]8;;\u001b\\\u001b[2m:\u001b[0m\u001b]8;id=605917;file:///home/vboxuser/.local/lib/python3.10/site-packages/sbmlutils/validation.py#186\u001b\\\u001b[2m186\u001b[0m\u001b]8;;\u001b\\\n",
       "         \u001b[1;38;5;172;40m[\u001b[0m\u001b[38;5;172;40mWarning\u001b[0m\u001b[1;38;5;172;40m]\u001b[0m\u001b[38;5;172;40m Missing unit declarations on parameters or literal numbers in expression\u001b[0m       \u001b[2m                 \u001b[0m\n",
       "         In situations where a mathematical expression contains literal numbers or parameters     \u001b[2m                 \u001b[0m\n",
       "         whose units have not been declared, it is not possible to verify accurately the          \u001b[2m                 \u001b[0m\n",
       "         consistency of the units in the expression.                                              \u001b[2m                 \u001b[0m\n",
       "          The units of the \u001b[1m<\u001b[0m\u001b[1;95mkineticLaw\u001b[0m\u001b[39m> <math\u001b[0m\u001b[1m>\u001b[0m expression \u001b[32m'k_tl * Y'\u001b[0m cannot be fully checked.     \u001b[2m                 \u001b[0m\n",
       "         Unit consistency reported as either no errors or further unit errors related to this     \u001b[2m                 \u001b[0m\n",
       "         object may not be accurate.                                                              \u001b[2m                 \u001b[0m\n",
       "                                                                                                  \u001b[2m                 \u001b[0m\n"
      ]
     },
     "metadata": {},
     "output_type": "display_data"
    },
    {
     "data": {
      "text/html": [
       "<pre style=\"white-space:pre;overflow-x:auto;line-height:normal;font-family:Menlo,'DejaVu Sans Mono',consolas,'Courier New',monospace\"><span style=\"color: #800000; text-decoration-color: #800000\">WARNING </span> <span style=\"color: #000000; text-decoration-color: #000000; background-color: #c0c0c0\">E11: SBML unit consistency </span><span style=\"color: #000000; text-decoration-color: #000000; background-color: #c0c0c0; font-weight: bold\">(</span><span style=\"color: #000000; text-decoration-color: #000000; background-color: #c0c0c0\">core, L479, code</span><span style=\"color: #000000; text-decoration-color: #000000; background-color: #c0c0c0; font-weight: bold\">)</span>                                            <a href=\"file:///home/vboxuser/.local/lib/python3.10/site-packages/sbmlutils/validation.py\" target=\"_blank\"><span style=\"color: #7f7f7f; text-decoration-color: #7f7f7f\">validation.py</span></a><span style=\"color: #7f7f7f; text-decoration-color: #7f7f7f\">:</span><a href=\"file:///home/vboxuser/.local/lib/python3.10/site-packages/sbmlutils/validation.py#186\" target=\"_blank\"><span style=\"color: #7f7f7f; text-decoration-color: #7f7f7f\">186</span></a>\n",
       "         <span style=\"color: #d78700; text-decoration-color: #d78700; background-color: #000000; font-weight: bold\">[</span><span style=\"color: #d78700; text-decoration-color: #d78700; background-color: #000000\">Warning</span><span style=\"color: #d78700; text-decoration-color: #d78700; background-color: #000000; font-weight: bold\">]</span><span style=\"color: #d78700; text-decoration-color: #d78700; background-color: #000000\"> Missing unit declarations on parameters or literal numbers in expression</span>       <span style=\"color: #7f7f7f; text-decoration-color: #7f7f7f\">                 </span>\n",
       "         In situations where a mathematical expression contains literal numbers or parameters     <span style=\"color: #7f7f7f; text-decoration-color: #7f7f7f\">                 </span>\n",
       "         whose units have not been declared, it is not possible to verify accurately the          <span style=\"color: #7f7f7f; text-decoration-color: #7f7f7f\">                 </span>\n",
       "         consistency of the units in the expression.                                              <span style=\"color: #7f7f7f; text-decoration-color: #7f7f7f\">                 </span>\n",
       "          The units of the <span style=\"font-weight: bold\">&lt;</span><span style=\"color: #ff00ff; text-decoration-color: #ff00ff; font-weight: bold\">kineticLaw</span><span style=\"color: #000000; text-decoration-color: #000000\">&gt; &lt;math</span><span style=\"font-weight: bold\">&gt;</span> expression <span style=\"color: #008000; text-decoration-color: #008000\">'k_tl * Z'</span> cannot be fully checked.     <span style=\"color: #7f7f7f; text-decoration-color: #7f7f7f\">                 </span>\n",
       "         Unit consistency reported as either no errors or further unit errors related to this     <span style=\"color: #7f7f7f; text-decoration-color: #7f7f7f\">                 </span>\n",
       "         object may not be accurate.                                                              <span style=\"color: #7f7f7f; text-decoration-color: #7f7f7f\">                 </span>\n",
       "                                                                                                  <span style=\"color: #7f7f7f; text-decoration-color: #7f7f7f\">                 </span>\n",
       "</pre>\n"
      ],
      "text/plain": [
       "\u001b[31mWARNING \u001b[0m \u001b[30;47mE11: SBML unit consistency \u001b[0m\u001b[1;30;47m(\u001b[0m\u001b[30;47mcore, L479, code\u001b[0m\u001b[1;30;47m)\u001b[0m                                            \u001b]8;id=394644;file:///home/vboxuser/.local/lib/python3.10/site-packages/sbmlutils/validation.py\u001b\\\u001b[2mvalidation.py\u001b[0m\u001b]8;;\u001b\\\u001b[2m:\u001b[0m\u001b]8;id=433169;file:///home/vboxuser/.local/lib/python3.10/site-packages/sbmlutils/validation.py#186\u001b\\\u001b[2m186\u001b[0m\u001b]8;;\u001b\\\n",
       "         \u001b[1;38;5;172;40m[\u001b[0m\u001b[38;5;172;40mWarning\u001b[0m\u001b[1;38;5;172;40m]\u001b[0m\u001b[38;5;172;40m Missing unit declarations on parameters or literal numbers in expression\u001b[0m       \u001b[2m                 \u001b[0m\n",
       "         In situations where a mathematical expression contains literal numbers or parameters     \u001b[2m                 \u001b[0m\n",
       "         whose units have not been declared, it is not possible to verify accurately the          \u001b[2m                 \u001b[0m\n",
       "         consistency of the units in the expression.                                              \u001b[2m                 \u001b[0m\n",
       "          The units of the \u001b[1m<\u001b[0m\u001b[1;95mkineticLaw\u001b[0m\u001b[39m> <math\u001b[0m\u001b[1m>\u001b[0m expression \u001b[32m'k_tl * Z'\u001b[0m cannot be fully checked.     \u001b[2m                 \u001b[0m\n",
       "         Unit consistency reported as either no errors or further unit errors related to this     \u001b[2m                 \u001b[0m\n",
       "         object may not be accurate.                                                              \u001b[2m                 \u001b[0m\n",
       "                                                                                                  \u001b[2m                 \u001b[0m\n"
      ]
     },
     "metadata": {},
     "output_type": "display_data"
    },
    {
     "data": {
      "text/html": [
       "<pre style=\"white-space:pre;overflow-x:auto;line-height:normal;font-family:Menlo,'DejaVu Sans Mono',consolas,'Courier New',monospace\"><span style=\"color: #800000; text-decoration-color: #800000\">WARNING </span> <span style=\"color: #000000; text-decoration-color: #000000; background-color: #c0c0c0\">E12: SBML unit consistency </span><span style=\"color: #000000; text-decoration-color: #000000; background-color: #c0c0c0; font-weight: bold\">(</span><span style=\"color: #000000; text-decoration-color: #000000; background-color: #c0c0c0\">core, L509, code</span><span style=\"color: #000000; text-decoration-color: #000000; background-color: #c0c0c0; font-weight: bold\">)</span>                                            <a href=\"file:///home/vboxuser/.local/lib/python3.10/site-packages/sbmlutils/validation.py\" target=\"_blank\"><span style=\"color: #7f7f7f; text-decoration-color: #7f7f7f\">validation.py</span></a><span style=\"color: #7f7f7f; text-decoration-color: #7f7f7f\">:</span><a href=\"file:///home/vboxuser/.local/lib/python3.10/site-packages/sbmlutils/validation.py#186\" target=\"_blank\"><span style=\"color: #7f7f7f; text-decoration-color: #7f7f7f\">186</span></a>\n",
       "         <span style=\"color: #d78700; text-decoration-color: #d78700; background-color: #000000; font-weight: bold\">[</span><span style=\"color: #d78700; text-decoration-color: #d78700; background-color: #000000\">Warning</span><span style=\"color: #d78700; text-decoration-color: #d78700; background-color: #000000; font-weight: bold\">]</span><span style=\"color: #d78700; text-decoration-color: #d78700; background-color: #000000\"> Missing unit declarations on parameters or literal numbers in expression</span>       <span style=\"color: #7f7f7f; text-decoration-color: #7f7f7f\">                 </span>\n",
       "         In situations where a mathematical expression contains literal numbers or parameters     <span style=\"color: #7f7f7f; text-decoration-color: #7f7f7f\">                 </span>\n",
       "         whose units have not been declared, it is not possible to verify accurately the          <span style=\"color: #7f7f7f; text-decoration-color: #7f7f7f\">                 </span>\n",
       "         consistency of the units in the expression.                                              <span style=\"color: #7f7f7f; text-decoration-color: #7f7f7f\">                 </span>\n",
       "          The units of the <span style=\"font-weight: bold\">&lt;</span><span style=\"color: #ff00ff; text-decoration-color: #ff00ff; font-weight: bold\">kineticLaw</span><span style=\"color: #000000; text-decoration-color: #000000\">&gt; &lt;math</span><span style=\"font-weight: bold\">&gt;</span> expression <span style=\"color: #008000; text-decoration-color: #008000\">'kd_prot * PX'</span> cannot be fully checked. <span style=\"color: #7f7f7f; text-decoration-color: #7f7f7f\">                 </span>\n",
       "         Unit consistency reported as either no errors or further unit errors related to this     <span style=\"color: #7f7f7f; text-decoration-color: #7f7f7f\">                 </span>\n",
       "         object may not be accurate.                                                              <span style=\"color: #7f7f7f; text-decoration-color: #7f7f7f\">                 </span>\n",
       "                                                                                                  <span style=\"color: #7f7f7f; text-decoration-color: #7f7f7f\">                 </span>\n",
       "</pre>\n"
      ],
      "text/plain": [
       "\u001b[31mWARNING \u001b[0m \u001b[30;47mE12: SBML unit consistency \u001b[0m\u001b[1;30;47m(\u001b[0m\u001b[30;47mcore, L509, code\u001b[0m\u001b[1;30;47m)\u001b[0m                                            \u001b]8;id=179653;file:///home/vboxuser/.local/lib/python3.10/site-packages/sbmlutils/validation.py\u001b\\\u001b[2mvalidation.py\u001b[0m\u001b]8;;\u001b\\\u001b[2m:\u001b[0m\u001b]8;id=507618;file:///home/vboxuser/.local/lib/python3.10/site-packages/sbmlutils/validation.py#186\u001b\\\u001b[2m186\u001b[0m\u001b]8;;\u001b\\\n",
       "         \u001b[1;38;5;172;40m[\u001b[0m\u001b[38;5;172;40mWarning\u001b[0m\u001b[1;38;5;172;40m]\u001b[0m\u001b[38;5;172;40m Missing unit declarations on parameters or literal numbers in expression\u001b[0m       \u001b[2m                 \u001b[0m\n",
       "         In situations where a mathematical expression contains literal numbers or parameters     \u001b[2m                 \u001b[0m\n",
       "         whose units have not been declared, it is not possible to verify accurately the          \u001b[2m                 \u001b[0m\n",
       "         consistency of the units in the expression.                                              \u001b[2m                 \u001b[0m\n",
       "          The units of the \u001b[1m<\u001b[0m\u001b[1;95mkineticLaw\u001b[0m\u001b[39m> <math\u001b[0m\u001b[1m>\u001b[0m expression \u001b[32m'kd_prot * PX'\u001b[0m cannot be fully checked. \u001b[2m                 \u001b[0m\n",
       "         Unit consistency reported as either no errors or further unit errors related to this     \u001b[2m                 \u001b[0m\n",
       "         object may not be accurate.                                                              \u001b[2m                 \u001b[0m\n",
       "                                                                                                  \u001b[2m                 \u001b[0m\n"
      ]
     },
     "metadata": {},
     "output_type": "display_data"
    },
    {
     "data": {
      "text/html": [
       "<pre style=\"white-space:pre;overflow-x:auto;line-height:normal;font-family:Menlo,'DejaVu Sans Mono',consolas,'Courier New',monospace\"><span style=\"color: #800000; text-decoration-color: #800000\">WARNING </span> <span style=\"color: #000000; text-decoration-color: #000000; background-color: #c0c0c0\">E13: SBML unit consistency </span><span style=\"color: #000000; text-decoration-color: #000000; background-color: #c0c0c0; font-weight: bold\">(</span><span style=\"color: #000000; text-decoration-color: #000000; background-color: #c0c0c0\">core, L539, code</span><span style=\"color: #000000; text-decoration-color: #000000; background-color: #c0c0c0; font-weight: bold\">)</span>                                            <a href=\"file:///home/vboxuser/.local/lib/python3.10/site-packages/sbmlutils/validation.py\" target=\"_blank\"><span style=\"color: #7f7f7f; text-decoration-color: #7f7f7f\">validation.py</span></a><span style=\"color: #7f7f7f; text-decoration-color: #7f7f7f\">:</span><a href=\"file:///home/vboxuser/.local/lib/python3.10/site-packages/sbmlutils/validation.py#186\" target=\"_blank\"><span style=\"color: #7f7f7f; text-decoration-color: #7f7f7f\">186</span></a>\n",
       "         <span style=\"color: #d78700; text-decoration-color: #d78700; background-color: #000000; font-weight: bold\">[</span><span style=\"color: #d78700; text-decoration-color: #d78700; background-color: #000000\">Warning</span><span style=\"color: #d78700; text-decoration-color: #d78700; background-color: #000000; font-weight: bold\">]</span><span style=\"color: #d78700; text-decoration-color: #d78700; background-color: #000000\"> Missing unit declarations on parameters or literal numbers in expression</span>       <span style=\"color: #7f7f7f; text-decoration-color: #7f7f7f\">                 </span>\n",
       "         In situations where a mathematical expression contains literal numbers or parameters     <span style=\"color: #7f7f7f; text-decoration-color: #7f7f7f\">                 </span>\n",
       "         whose units have not been declared, it is not possible to verify accurately the          <span style=\"color: #7f7f7f; text-decoration-color: #7f7f7f\">                 </span>\n",
       "         consistency of the units in the expression.                                              <span style=\"color: #7f7f7f; text-decoration-color: #7f7f7f\">                 </span>\n",
       "          The units of the <span style=\"font-weight: bold\">&lt;</span><span style=\"color: #ff00ff; text-decoration-color: #ff00ff; font-weight: bold\">kineticLaw</span><span style=\"color: #000000; text-decoration-color: #000000\">&gt; &lt;math</span><span style=\"font-weight: bold\">&gt;</span> expression <span style=\"color: #008000; text-decoration-color: #008000\">'kd_prot * PY'</span> cannot be fully checked. <span style=\"color: #7f7f7f; text-decoration-color: #7f7f7f\">                 </span>\n",
       "         Unit consistency reported as either no errors or further unit errors related to this     <span style=\"color: #7f7f7f; text-decoration-color: #7f7f7f\">                 </span>\n",
       "         object may not be accurate.                                                              <span style=\"color: #7f7f7f; text-decoration-color: #7f7f7f\">                 </span>\n",
       "                                                                                                  <span style=\"color: #7f7f7f; text-decoration-color: #7f7f7f\">                 </span>\n",
       "</pre>\n"
      ],
      "text/plain": [
       "\u001b[31mWARNING \u001b[0m \u001b[30;47mE13: SBML unit consistency \u001b[0m\u001b[1;30;47m(\u001b[0m\u001b[30;47mcore, L539, code\u001b[0m\u001b[1;30;47m)\u001b[0m                                            \u001b]8;id=253079;file:///home/vboxuser/.local/lib/python3.10/site-packages/sbmlutils/validation.py\u001b\\\u001b[2mvalidation.py\u001b[0m\u001b]8;;\u001b\\\u001b[2m:\u001b[0m\u001b]8;id=6786;file:///home/vboxuser/.local/lib/python3.10/site-packages/sbmlutils/validation.py#186\u001b\\\u001b[2m186\u001b[0m\u001b]8;;\u001b\\\n",
       "         \u001b[1;38;5;172;40m[\u001b[0m\u001b[38;5;172;40mWarning\u001b[0m\u001b[1;38;5;172;40m]\u001b[0m\u001b[38;5;172;40m Missing unit declarations on parameters or literal numbers in expression\u001b[0m       \u001b[2m                 \u001b[0m\n",
       "         In situations where a mathematical expression contains literal numbers or parameters     \u001b[2m                 \u001b[0m\n",
       "         whose units have not been declared, it is not possible to verify accurately the          \u001b[2m                 \u001b[0m\n",
       "         consistency of the units in the expression.                                              \u001b[2m                 \u001b[0m\n",
       "          The units of the \u001b[1m<\u001b[0m\u001b[1;95mkineticLaw\u001b[0m\u001b[39m> <math\u001b[0m\u001b[1m>\u001b[0m expression \u001b[32m'kd_prot * PY'\u001b[0m cannot be fully checked. \u001b[2m                 \u001b[0m\n",
       "         Unit consistency reported as either no errors or further unit errors related to this     \u001b[2m                 \u001b[0m\n",
       "         object may not be accurate.                                                              \u001b[2m                 \u001b[0m\n",
       "                                                                                                  \u001b[2m                 \u001b[0m\n"
      ]
     },
     "metadata": {},
     "output_type": "display_data"
    },
    {
     "data": {
      "text/html": [
       "<pre style=\"white-space:pre;overflow-x:auto;line-height:normal;font-family:Menlo,'DejaVu Sans Mono',consolas,'Courier New',monospace\"><span style=\"color: #800000; text-decoration-color: #800000\">WARNING </span> <span style=\"color: #000000; text-decoration-color: #000000; background-color: #c0c0c0\">E14: SBML unit consistency </span><span style=\"color: #000000; text-decoration-color: #000000; background-color: #c0c0c0; font-weight: bold\">(</span><span style=\"color: #000000; text-decoration-color: #000000; background-color: #c0c0c0\">core, L569, code</span><span style=\"color: #000000; text-decoration-color: #000000; background-color: #c0c0c0; font-weight: bold\">)</span>                                            <a href=\"file:///home/vboxuser/.local/lib/python3.10/site-packages/sbmlutils/validation.py\" target=\"_blank\"><span style=\"color: #7f7f7f; text-decoration-color: #7f7f7f\">validation.py</span></a><span style=\"color: #7f7f7f; text-decoration-color: #7f7f7f\">:</span><a href=\"file:///home/vboxuser/.local/lib/python3.10/site-packages/sbmlutils/validation.py#186\" target=\"_blank\"><span style=\"color: #7f7f7f; text-decoration-color: #7f7f7f\">186</span></a>\n",
       "         <span style=\"color: #d78700; text-decoration-color: #d78700; background-color: #000000; font-weight: bold\">[</span><span style=\"color: #d78700; text-decoration-color: #d78700; background-color: #000000\">Warning</span><span style=\"color: #d78700; text-decoration-color: #d78700; background-color: #000000; font-weight: bold\">]</span><span style=\"color: #d78700; text-decoration-color: #d78700; background-color: #000000\"> Missing unit declarations on parameters or literal numbers in expression</span>       <span style=\"color: #7f7f7f; text-decoration-color: #7f7f7f\">                 </span>\n",
       "         In situations where a mathematical expression contains literal numbers or parameters     <span style=\"color: #7f7f7f; text-decoration-color: #7f7f7f\">                 </span>\n",
       "         whose units have not been declared, it is not possible to verify accurately the          <span style=\"color: #7f7f7f; text-decoration-color: #7f7f7f\">                 </span>\n",
       "         consistency of the units in the expression.                                              <span style=\"color: #7f7f7f; text-decoration-color: #7f7f7f\">                 </span>\n",
       "          The units of the <span style=\"font-weight: bold\">&lt;</span><span style=\"color: #ff00ff; text-decoration-color: #ff00ff; font-weight: bold\">kineticLaw</span><span style=\"color: #000000; text-decoration-color: #000000\">&gt; &lt;math</span><span style=\"font-weight: bold\">&gt;</span> expression <span style=\"color: #008000; text-decoration-color: #008000\">'kd_prot * PZ'</span> cannot be fully checked. <span style=\"color: #7f7f7f; text-decoration-color: #7f7f7f\">                 </span>\n",
       "         Unit consistency reported as either no errors or further unit errors related to this     <span style=\"color: #7f7f7f; text-decoration-color: #7f7f7f\">                 </span>\n",
       "         object may not be accurate.                                                              <span style=\"color: #7f7f7f; text-decoration-color: #7f7f7f\">                 </span>\n",
       "                                                                                                  <span style=\"color: #7f7f7f; text-decoration-color: #7f7f7f\">                 </span>\n",
       "</pre>\n"
      ],
      "text/plain": [
       "\u001b[31mWARNING \u001b[0m \u001b[30;47mE14: SBML unit consistency \u001b[0m\u001b[1;30;47m(\u001b[0m\u001b[30;47mcore, L569, code\u001b[0m\u001b[1;30;47m)\u001b[0m                                            \u001b]8;id=304892;file:///home/vboxuser/.local/lib/python3.10/site-packages/sbmlutils/validation.py\u001b\\\u001b[2mvalidation.py\u001b[0m\u001b]8;;\u001b\\\u001b[2m:\u001b[0m\u001b]8;id=713787;file:///home/vboxuser/.local/lib/python3.10/site-packages/sbmlutils/validation.py#186\u001b\\\u001b[2m186\u001b[0m\u001b]8;;\u001b\\\n",
       "         \u001b[1;38;5;172;40m[\u001b[0m\u001b[38;5;172;40mWarning\u001b[0m\u001b[1;38;5;172;40m]\u001b[0m\u001b[38;5;172;40m Missing unit declarations on parameters or literal numbers in expression\u001b[0m       \u001b[2m                 \u001b[0m\n",
       "         In situations where a mathematical expression contains literal numbers or parameters     \u001b[2m                 \u001b[0m\n",
       "         whose units have not been declared, it is not possible to verify accurately the          \u001b[2m                 \u001b[0m\n",
       "         consistency of the units in the expression.                                              \u001b[2m                 \u001b[0m\n",
       "          The units of the \u001b[1m<\u001b[0m\u001b[1;95mkineticLaw\u001b[0m\u001b[39m> <math\u001b[0m\u001b[1m>\u001b[0m expression \u001b[32m'kd_prot * PZ'\u001b[0m cannot be fully checked. \u001b[2m                 \u001b[0m\n",
       "         Unit consistency reported as either no errors or further unit errors related to this     \u001b[2m                 \u001b[0m\n",
       "         object may not be accurate.                                                              \u001b[2m                 \u001b[0m\n",
       "                                                                                                  \u001b[2m                 \u001b[0m\n"
      ]
     },
     "metadata": {},
     "output_type": "display_data"
    },
    {
     "data": {
      "text/html": [
       "<pre style=\"white-space:pre;overflow-x:auto;line-height:normal;font-family:Menlo,'DejaVu Sans Mono',consolas,'Courier New',monospace\"><span style=\"color: #800000; text-decoration-color: #800000\">WARNING </span> <span style=\"color: #000000; text-decoration-color: #000000; background-color: #c0c0c0\">E15: SBML unit consistency </span><span style=\"color: #000000; text-decoration-color: #000000; background-color: #c0c0c0; font-weight: bold\">(</span><span style=\"color: #000000; text-decoration-color: #000000; background-color: #c0c0c0\">core, L602, code</span><span style=\"color: #000000; text-decoration-color: #000000; background-color: #c0c0c0; font-weight: bold\">)</span>                                            <a href=\"file:///home/vboxuser/.local/lib/python3.10/site-packages/sbmlutils/validation.py\" target=\"_blank\"><span style=\"color: #7f7f7f; text-decoration-color: #7f7f7f\">validation.py</span></a><span style=\"color: #7f7f7f; text-decoration-color: #7f7f7f\">:</span><a href=\"file:///home/vboxuser/.local/lib/python3.10/site-packages/sbmlutils/validation.py#186\" target=\"_blank\"><span style=\"color: #7f7f7f; text-decoration-color: #7f7f7f\">186</span></a>\n",
       "         <span style=\"color: #d78700; text-decoration-color: #d78700; background-color: #000000; font-weight: bold\">[</span><span style=\"color: #d78700; text-decoration-color: #d78700; background-color: #000000\">Warning</span><span style=\"color: #d78700; text-decoration-color: #d78700; background-color: #000000; font-weight: bold\">]</span><span style=\"color: #d78700; text-decoration-color: #d78700; background-color: #000000\"> Missing unit declarations on parameters or literal numbers in expression</span>       <span style=\"color: #7f7f7f; text-decoration-color: #7f7f7f\">                 </span>\n",
       "         In situations where a mathematical expression contains literal numbers or parameters     <span style=\"color: #7f7f7f; text-decoration-color: #7f7f7f\">                 </span>\n",
       "         whose units have not been declared, it is not possible to verify accurately the          <span style=\"color: #7f7f7f; text-decoration-color: #7f7f7f\">                 </span>\n",
       "         consistency of the units in the expression.                                              <span style=\"color: #7f7f7f; text-decoration-color: #7f7f7f\">                 </span>\n",
       "          The units of the <span style=\"font-weight: bold\">&lt;</span><span style=\"color: #ff00ff; text-decoration-color: #ff00ff; font-weight: bold\">kineticLaw</span><span style=\"color: #000000; text-decoration-color: #000000\">&gt; &lt;math</span><span style=\"font-weight: bold\">&gt;</span> expression <span style=\"color: #008000; text-decoration-color: #008000\">'a0_tr + a_tr * pow(KM, n) / (pow(KM, </span>  <span style=\"color: #7f7f7f; text-decoration-color: #7f7f7f\">                 </span>\n",
       "         <span style=\"color: #008000; text-decoration-color: #008000\">n) + pow(PZ, n))'</span> cannot be fully checked. Unit consistency reported as either no errors <span style=\"color: #7f7f7f; text-decoration-color: #7f7f7f\">                 </span>\n",
       "         or further unit errors related to this object may not be accurate.                       <span style=\"color: #7f7f7f; text-decoration-color: #7f7f7f\">                 </span>\n",
       "                                                                                                  <span style=\"color: #7f7f7f; text-decoration-color: #7f7f7f\">                 </span>\n",
       "</pre>\n"
      ],
      "text/plain": [
       "\u001b[31mWARNING \u001b[0m \u001b[30;47mE15: SBML unit consistency \u001b[0m\u001b[1;30;47m(\u001b[0m\u001b[30;47mcore, L602, code\u001b[0m\u001b[1;30;47m)\u001b[0m                                            \u001b]8;id=182298;file:///home/vboxuser/.local/lib/python3.10/site-packages/sbmlutils/validation.py\u001b\\\u001b[2mvalidation.py\u001b[0m\u001b]8;;\u001b\\\u001b[2m:\u001b[0m\u001b]8;id=456180;file:///home/vboxuser/.local/lib/python3.10/site-packages/sbmlutils/validation.py#186\u001b\\\u001b[2m186\u001b[0m\u001b]8;;\u001b\\\n",
       "         \u001b[1;38;5;172;40m[\u001b[0m\u001b[38;5;172;40mWarning\u001b[0m\u001b[1;38;5;172;40m]\u001b[0m\u001b[38;5;172;40m Missing unit declarations on parameters or literal numbers in expression\u001b[0m       \u001b[2m                 \u001b[0m\n",
       "         In situations where a mathematical expression contains literal numbers or parameters     \u001b[2m                 \u001b[0m\n",
       "         whose units have not been declared, it is not possible to verify accurately the          \u001b[2m                 \u001b[0m\n",
       "         consistency of the units in the expression.                                              \u001b[2m                 \u001b[0m\n",
       "          The units of the \u001b[1m<\u001b[0m\u001b[1;95mkineticLaw\u001b[0m\u001b[39m> <math\u001b[0m\u001b[1m>\u001b[0m expression \u001b[32m'a0_tr + a_tr * pow\u001b[0m\u001b[32m(\u001b[0m\u001b[32mKM, n\u001b[0m\u001b[32m)\u001b[0m\u001b[32m / \u001b[0m\u001b[32m(\u001b[0m\u001b[32mpow\u001b[0m\u001b[32m(\u001b[0m\u001b[32mKM, \u001b[0m  \u001b[2m                 \u001b[0m\n",
       "         \u001b[32mn\u001b[0m\u001b[32m)\u001b[0m\u001b[32m + pow\u001b[0m\u001b[32m(\u001b[0m\u001b[32mPZ, n\u001b[0m\u001b[32m)\u001b[0m\u001b[32m)\u001b[0m\u001b[32m'\u001b[0m cannot be fully checked. Unit consistency reported as either no errors \u001b[2m                 \u001b[0m\n",
       "         or further unit errors related to this object may not be accurate.                       \u001b[2m                 \u001b[0m\n",
       "                                                                                                  \u001b[2m                 \u001b[0m\n"
      ]
     },
     "metadata": {},
     "output_type": "display_data"
    },
    {
     "data": {
      "text/html": [
       "<pre style=\"white-space:pre;overflow-x:auto;line-height:normal;font-family:Menlo,'DejaVu Sans Mono',consolas,'Courier New',monospace\"><span style=\"color: #800000; text-decoration-color: #800000\">WARNING </span> <span style=\"color: #000000; text-decoration-color: #000000; background-color: #c0c0c0\">E16: SBML unit consistency </span><span style=\"color: #000000; text-decoration-color: #000000; background-color: #c0c0c0; font-weight: bold\">(</span><span style=\"color: #000000; text-decoration-color: #000000; background-color: #c0c0c0\">core, L659, code</span><span style=\"color: #000000; text-decoration-color: #000000; background-color: #c0c0c0; font-weight: bold\">)</span>                                            <a href=\"file:///home/vboxuser/.local/lib/python3.10/site-packages/sbmlutils/validation.py\" target=\"_blank\"><span style=\"color: #7f7f7f; text-decoration-color: #7f7f7f\">validation.py</span></a><span style=\"color: #7f7f7f; text-decoration-color: #7f7f7f\">:</span><a href=\"file:///home/vboxuser/.local/lib/python3.10/site-packages/sbmlutils/validation.py#186\" target=\"_blank\"><span style=\"color: #7f7f7f; text-decoration-color: #7f7f7f\">186</span></a>\n",
       "         <span style=\"color: #d78700; text-decoration-color: #d78700; background-color: #000000; font-weight: bold\">[</span><span style=\"color: #d78700; text-decoration-color: #d78700; background-color: #000000\">Warning</span><span style=\"color: #d78700; text-decoration-color: #d78700; background-color: #000000; font-weight: bold\">]</span><span style=\"color: #d78700; text-decoration-color: #d78700; background-color: #000000\"> Missing unit declarations on parameters or literal numbers in expression</span>       <span style=\"color: #7f7f7f; text-decoration-color: #7f7f7f\">                 </span>\n",
       "         In situations where a mathematical expression contains literal numbers or parameters     <span style=\"color: #7f7f7f; text-decoration-color: #7f7f7f\">                 </span>\n",
       "         whose units have not been declared, it is not possible to verify accurately the          <span style=\"color: #7f7f7f; text-decoration-color: #7f7f7f\">                 </span>\n",
       "         consistency of the units in the expression.                                              <span style=\"color: #7f7f7f; text-decoration-color: #7f7f7f\">                 </span>\n",
       "          The units of the <span style=\"font-weight: bold\">&lt;</span><span style=\"color: #ff00ff; text-decoration-color: #ff00ff; font-weight: bold\">kineticLaw</span><span style=\"color: #000000; text-decoration-color: #000000\">&gt; &lt;math</span><span style=\"font-weight: bold\">&gt;</span> expression <span style=\"color: #008000; text-decoration-color: #008000\">'a0_tr + a_tr * pow(KM, n) / (pow(KM, </span>  <span style=\"color: #7f7f7f; text-decoration-color: #7f7f7f\">                 </span>\n",
       "         <span style=\"color: #008000; text-decoration-color: #008000\">n) + pow(PX, n))'</span> cannot be fully checked. Unit consistency reported as either no errors <span style=\"color: #7f7f7f; text-decoration-color: #7f7f7f\">                 </span>\n",
       "         or further unit errors related to this object may not be accurate.                       <span style=\"color: #7f7f7f; text-decoration-color: #7f7f7f\">                 </span>\n",
       "                                                                                                  <span style=\"color: #7f7f7f; text-decoration-color: #7f7f7f\">                 </span>\n",
       "</pre>\n"
      ],
      "text/plain": [
       "\u001b[31mWARNING \u001b[0m \u001b[30;47mE16: SBML unit consistency \u001b[0m\u001b[1;30;47m(\u001b[0m\u001b[30;47mcore, L659, code\u001b[0m\u001b[1;30;47m)\u001b[0m                                            \u001b]8;id=380177;file:///home/vboxuser/.local/lib/python3.10/site-packages/sbmlutils/validation.py\u001b\\\u001b[2mvalidation.py\u001b[0m\u001b]8;;\u001b\\\u001b[2m:\u001b[0m\u001b]8;id=682472;file:///home/vboxuser/.local/lib/python3.10/site-packages/sbmlutils/validation.py#186\u001b\\\u001b[2m186\u001b[0m\u001b]8;;\u001b\\\n",
       "         \u001b[1;38;5;172;40m[\u001b[0m\u001b[38;5;172;40mWarning\u001b[0m\u001b[1;38;5;172;40m]\u001b[0m\u001b[38;5;172;40m Missing unit declarations on parameters or literal numbers in expression\u001b[0m       \u001b[2m                 \u001b[0m\n",
       "         In situations where a mathematical expression contains literal numbers or parameters     \u001b[2m                 \u001b[0m\n",
       "         whose units have not been declared, it is not possible to verify accurately the          \u001b[2m                 \u001b[0m\n",
       "         consistency of the units in the expression.                                              \u001b[2m                 \u001b[0m\n",
       "          The units of the \u001b[1m<\u001b[0m\u001b[1;95mkineticLaw\u001b[0m\u001b[39m> <math\u001b[0m\u001b[1m>\u001b[0m expression \u001b[32m'a0_tr + a_tr * pow\u001b[0m\u001b[32m(\u001b[0m\u001b[32mKM, n\u001b[0m\u001b[32m)\u001b[0m\u001b[32m / \u001b[0m\u001b[32m(\u001b[0m\u001b[32mpow\u001b[0m\u001b[32m(\u001b[0m\u001b[32mKM, \u001b[0m  \u001b[2m                 \u001b[0m\n",
       "         \u001b[32mn\u001b[0m\u001b[32m)\u001b[0m\u001b[32m + pow\u001b[0m\u001b[32m(\u001b[0m\u001b[32mPX, n\u001b[0m\u001b[32m)\u001b[0m\u001b[32m)\u001b[0m\u001b[32m'\u001b[0m cannot be fully checked. Unit consistency reported as either no errors \u001b[2m                 \u001b[0m\n",
       "         or further unit errors related to this object may not be accurate.                       \u001b[2m                 \u001b[0m\n",
       "                                                                                                  \u001b[2m                 \u001b[0m\n"
      ]
     },
     "metadata": {},
     "output_type": "display_data"
    },
    {
     "data": {
      "text/html": [
       "<pre style=\"white-space:pre;overflow-x:auto;line-height:normal;font-family:Menlo,'DejaVu Sans Mono',consolas,'Courier New',monospace\"><span style=\"color: #800000; text-decoration-color: #800000\">WARNING </span> <span style=\"color: #000000; text-decoration-color: #000000; background-color: #c0c0c0\">E17: SBML unit consistency </span><span style=\"color: #000000; text-decoration-color: #000000; background-color: #c0c0c0; font-weight: bold\">(</span><span style=\"color: #000000; text-decoration-color: #000000; background-color: #c0c0c0\">core, L716, code</span><span style=\"color: #000000; text-decoration-color: #000000; background-color: #c0c0c0; font-weight: bold\">)</span>                                            <a href=\"file:///home/vboxuser/.local/lib/python3.10/site-packages/sbmlutils/validation.py\" target=\"_blank\"><span style=\"color: #7f7f7f; text-decoration-color: #7f7f7f\">validation.py</span></a><span style=\"color: #7f7f7f; text-decoration-color: #7f7f7f\">:</span><a href=\"file:///home/vboxuser/.local/lib/python3.10/site-packages/sbmlutils/validation.py#186\" target=\"_blank\"><span style=\"color: #7f7f7f; text-decoration-color: #7f7f7f\">186</span></a>\n",
       "         <span style=\"color: #d78700; text-decoration-color: #d78700; background-color: #000000; font-weight: bold\">[</span><span style=\"color: #d78700; text-decoration-color: #d78700; background-color: #000000\">Warning</span><span style=\"color: #d78700; text-decoration-color: #d78700; background-color: #000000; font-weight: bold\">]</span><span style=\"color: #d78700; text-decoration-color: #d78700; background-color: #000000\"> Missing unit declarations on parameters or literal numbers in expression</span>       <span style=\"color: #7f7f7f; text-decoration-color: #7f7f7f\">                 </span>\n",
       "         In situations where a mathematical expression contains literal numbers or parameters     <span style=\"color: #7f7f7f; text-decoration-color: #7f7f7f\">                 </span>\n",
       "         whose units have not been declared, it is not possible to verify accurately the          <span style=\"color: #7f7f7f; text-decoration-color: #7f7f7f\">                 </span>\n",
       "         consistency of the units in the expression.                                              <span style=\"color: #7f7f7f; text-decoration-color: #7f7f7f\">                 </span>\n",
       "          The units of the <span style=\"font-weight: bold\">&lt;</span><span style=\"color: #ff00ff; text-decoration-color: #ff00ff; font-weight: bold\">kineticLaw</span><span style=\"color: #000000; text-decoration-color: #000000\">&gt; &lt;math</span><span style=\"font-weight: bold\">&gt;</span> expression <span style=\"color: #008000; text-decoration-color: #008000\">'a0_tr + a_tr * pow(KM, n) / (pow(KM, </span>  <span style=\"color: #7f7f7f; text-decoration-color: #7f7f7f\">                 </span>\n",
       "         <span style=\"color: #008000; text-decoration-color: #008000\">n) + pow(PY, n))'</span> cannot be fully checked. Unit consistency reported as either no errors <span style=\"color: #7f7f7f; text-decoration-color: #7f7f7f\">                 </span>\n",
       "         or further unit errors related to this object may not be accurate.                       <span style=\"color: #7f7f7f; text-decoration-color: #7f7f7f\">                 </span>\n",
       "                                                                                                  <span style=\"color: #7f7f7f; text-decoration-color: #7f7f7f\">                 </span>\n",
       "</pre>\n"
      ],
      "text/plain": [
       "\u001b[31mWARNING \u001b[0m \u001b[30;47mE17: SBML unit consistency \u001b[0m\u001b[1;30;47m(\u001b[0m\u001b[30;47mcore, L716, code\u001b[0m\u001b[1;30;47m)\u001b[0m                                            \u001b]8;id=24433;file:///home/vboxuser/.local/lib/python3.10/site-packages/sbmlutils/validation.py\u001b\\\u001b[2mvalidation.py\u001b[0m\u001b]8;;\u001b\\\u001b[2m:\u001b[0m\u001b]8;id=61557;file:///home/vboxuser/.local/lib/python3.10/site-packages/sbmlutils/validation.py#186\u001b\\\u001b[2m186\u001b[0m\u001b]8;;\u001b\\\n",
       "         \u001b[1;38;5;172;40m[\u001b[0m\u001b[38;5;172;40mWarning\u001b[0m\u001b[1;38;5;172;40m]\u001b[0m\u001b[38;5;172;40m Missing unit declarations on parameters or literal numbers in expression\u001b[0m       \u001b[2m                 \u001b[0m\n",
       "         In situations where a mathematical expression contains literal numbers or parameters     \u001b[2m                 \u001b[0m\n",
       "         whose units have not been declared, it is not possible to verify accurately the          \u001b[2m                 \u001b[0m\n",
       "         consistency of the units in the expression.                                              \u001b[2m                 \u001b[0m\n",
       "          The units of the \u001b[1m<\u001b[0m\u001b[1;95mkineticLaw\u001b[0m\u001b[39m> <math\u001b[0m\u001b[1m>\u001b[0m expression \u001b[32m'a0_tr + a_tr * pow\u001b[0m\u001b[32m(\u001b[0m\u001b[32mKM, n\u001b[0m\u001b[32m)\u001b[0m\u001b[32m / \u001b[0m\u001b[32m(\u001b[0m\u001b[32mpow\u001b[0m\u001b[32m(\u001b[0m\u001b[32mKM, \u001b[0m  \u001b[2m                 \u001b[0m\n",
       "         \u001b[32mn\u001b[0m\u001b[32m)\u001b[0m\u001b[32m + pow\u001b[0m\u001b[32m(\u001b[0m\u001b[32mPY, n\u001b[0m\u001b[32m)\u001b[0m\u001b[32m)\u001b[0m\u001b[32m'\u001b[0m cannot be fully checked. Unit consistency reported as either no errors \u001b[2m                 \u001b[0m\n",
       "         or further unit errors related to this object may not be accurate.                       \u001b[2m                 \u001b[0m\n",
       "                                                                                                  \u001b[2m                 \u001b[0m\n"
      ]
     },
     "metadata": {},
     "output_type": "display_data"
    },
    {
     "data": {
      "text/html": [
       "<pre style=\"white-space:pre;overflow-x:auto;line-height:normal;font-family:Menlo,'DejaVu Sans Mono',consolas,'Courier New',monospace\"><span style=\"color: #800000; text-decoration-color: #800000\">WARNING </span> <span style=\"color: #000000; text-decoration-color: #000000; background-color: #c0c0c0\">E18: Modeling practice </span><span style=\"color: #000000; text-decoration-color: #000000; background-color: #c0c0c0; font-weight: bold\">(</span><span style=\"color: #000000; text-decoration-color: #000000; background-color: #c0c0c0\">core, L144, code</span><span style=\"color: #000000; text-decoration-color: #000000; background-color: #c0c0c0; font-weight: bold\">)</span>                                                <a href=\"file:///home/vboxuser/.local/lib/python3.10/site-packages/sbmlutils/validation.py\" target=\"_blank\"><span style=\"color: #7f7f7f; text-decoration-color: #7f7f7f\">validation.py</span></a><span style=\"color: #7f7f7f; text-decoration-color: #7f7f7f\">:</span><a href=\"file:///home/vboxuser/.local/lib/python3.10/site-packages/sbmlutils/validation.py#186\" target=\"_blank\"><span style=\"color: #7f7f7f; text-decoration-color: #7f7f7f\">186</span></a>\n",
       "         <span style=\"color: #d78700; text-decoration-color: #d78700; background-color: #000000; font-weight: bold\">[</span><span style=\"color: #d78700; text-decoration-color: #d78700; background-color: #000000\">Warning</span><span style=\"color: #d78700; text-decoration-color: #d78700; background-color: #000000; font-weight: bold\">]</span><span style=\"color: #d78700; text-decoration-color: #d78700; background-color: #000000\"> It's best to declare units for every parameter in a model</span>                      <span style=\"color: #7f7f7f; text-decoration-color: #7f7f7f\">                 </span>\n",
       "         As a principle of best modeling practice, the units of a <span style=\"font-weight: bold\">&lt;</span><span style=\"color: #ff00ff; text-decoration-color: #ff00ff; font-weight: bold\">parameter</span><span style=\"color: #000000; text-decoration-color: #000000\">&gt; should be declared </span> <span style=\"color: #7f7f7f; text-decoration-color: #7f7f7f\">                 </span>\n",
       "         <span style=\"color: #000000; text-decoration-color: #000000\">rather than be left undefined. Doing so improves the ability of software to check the </span>   <span style=\"color: #7f7f7f; text-decoration-color: #7f7f7f\">                 </span>\n",
       "         <span style=\"color: #000000; text-decoration-color: #000000\">consistency of units and helps make it easier to detect potential errors in models.</span>      <span style=\"color: #7f7f7f; text-decoration-color: #7f7f7f\">                 </span>\n",
       "         <span style=\"color: #000000; text-decoration-color: #000000\"> The &lt;parameter</span><span style=\"font-weight: bold\">&gt;</span> with the id <span style=\"color: #008000; text-decoration-color: #008000\">'tau_mRNA'</span> does not have a <span style=\"color: #008000; text-decoration-color: #008000\">'units'</span> attribute.               <span style=\"color: #7f7f7f; text-decoration-color: #7f7f7f\">                 </span>\n",
       "                                                                                                  <span style=\"color: #7f7f7f; text-decoration-color: #7f7f7f\">                 </span>\n",
       "</pre>\n"
      ],
      "text/plain": [
       "\u001b[31mWARNING \u001b[0m \u001b[30;47mE18: Modeling practice \u001b[0m\u001b[1;30;47m(\u001b[0m\u001b[30;47mcore, L144, code\u001b[0m\u001b[1;30;47m)\u001b[0m                                                \u001b]8;id=509982;file:///home/vboxuser/.local/lib/python3.10/site-packages/sbmlutils/validation.py\u001b\\\u001b[2mvalidation.py\u001b[0m\u001b]8;;\u001b\\\u001b[2m:\u001b[0m\u001b]8;id=258027;file:///home/vboxuser/.local/lib/python3.10/site-packages/sbmlutils/validation.py#186\u001b\\\u001b[2m186\u001b[0m\u001b]8;;\u001b\\\n",
       "         \u001b[1;38;5;172;40m[\u001b[0m\u001b[38;5;172;40mWarning\u001b[0m\u001b[1;38;5;172;40m]\u001b[0m\u001b[38;5;172;40m It's best to declare units for every parameter in a model\u001b[0m                      \u001b[2m                 \u001b[0m\n",
       "         As a principle of best modeling practice, the units of a \u001b[1m<\u001b[0m\u001b[1;95mparameter\u001b[0m\u001b[39m> should be declared \u001b[0m \u001b[2m                 \u001b[0m\n",
       "         \u001b[39mrather than be left undefined. Doing so improves the ability of software to check the \u001b[0m   \u001b[2m                 \u001b[0m\n",
       "         \u001b[39mconsistency of units and helps make it easier to detect potential errors in models.\u001b[0m      \u001b[2m                 \u001b[0m\n",
       "         \u001b[39m The <parameter\u001b[0m\u001b[1m>\u001b[0m with the id \u001b[32m'tau_mRNA'\u001b[0m does not have a \u001b[32m'units'\u001b[0m attribute.               \u001b[2m                 \u001b[0m\n",
       "                                                                                                  \u001b[2m                 \u001b[0m\n"
      ]
     },
     "metadata": {},
     "output_type": "display_data"
    },
    {
     "data": {
      "text/html": [
       "<pre style=\"white-space:pre;overflow-x:auto;line-height:normal;font-family:Menlo,'DejaVu Sans Mono',consolas,'Courier New',monospace\"><span style=\"color: #800000; text-decoration-color: #800000\">WARNING </span> <span style=\"color: #000000; text-decoration-color: #000000; background-color: #c0c0c0\">E19: Modeling practice </span><span style=\"color: #000000; text-decoration-color: #000000; background-color: #c0c0c0; font-weight: bold\">(</span><span style=\"color: #000000; text-decoration-color: #000000; background-color: #c0c0c0\">core, L145, code</span><span style=\"color: #000000; text-decoration-color: #000000; background-color: #c0c0c0; font-weight: bold\">)</span>                                                <a href=\"file:///home/vboxuser/.local/lib/python3.10/site-packages/sbmlutils/validation.py\" target=\"_blank\"><span style=\"color: #7f7f7f; text-decoration-color: #7f7f7f\">validation.py</span></a><span style=\"color: #7f7f7f; text-decoration-color: #7f7f7f\">:</span><a href=\"file:///home/vboxuser/.local/lib/python3.10/site-packages/sbmlutils/validation.py#186\" target=\"_blank\"><span style=\"color: #7f7f7f; text-decoration-color: #7f7f7f\">186</span></a>\n",
       "         <span style=\"color: #d78700; text-decoration-color: #d78700; background-color: #000000; font-weight: bold\">[</span><span style=\"color: #d78700; text-decoration-color: #d78700; background-color: #000000\">Warning</span><span style=\"color: #d78700; text-decoration-color: #d78700; background-color: #000000; font-weight: bold\">]</span><span style=\"color: #d78700; text-decoration-color: #d78700; background-color: #000000\"> It's best to declare units for every parameter in a model</span>                      <span style=\"color: #7f7f7f; text-decoration-color: #7f7f7f\">                 </span>\n",
       "         As a principle of best modeling practice, the units of a <span style=\"font-weight: bold\">&lt;</span><span style=\"color: #ff00ff; text-decoration-color: #ff00ff; font-weight: bold\">parameter</span><span style=\"color: #000000; text-decoration-color: #000000\">&gt; should be declared </span> <span style=\"color: #7f7f7f; text-decoration-color: #7f7f7f\">                 </span>\n",
       "         <span style=\"color: #000000; text-decoration-color: #000000\">rather than be left undefined. Doing so improves the ability of software to check the </span>   <span style=\"color: #7f7f7f; text-decoration-color: #7f7f7f\">                 </span>\n",
       "         <span style=\"color: #000000; text-decoration-color: #000000\">consistency of units and helps make it easier to detect potential errors in models.</span>      <span style=\"color: #7f7f7f; text-decoration-color: #7f7f7f\">                 </span>\n",
       "         <span style=\"color: #000000; text-decoration-color: #000000\"> The &lt;parameter</span><span style=\"font-weight: bold\">&gt;</span> with the id <span style=\"color: #008000; text-decoration-color: #008000\">'kd_mRNA'</span> does not have a <span style=\"color: #008000; text-decoration-color: #008000\">'units'</span> attribute.                <span style=\"color: #7f7f7f; text-decoration-color: #7f7f7f\">                 </span>\n",
       "                                                                                                  <span style=\"color: #7f7f7f; text-decoration-color: #7f7f7f\">                 </span>\n",
       "</pre>\n"
      ],
      "text/plain": [
       "\u001b[31mWARNING \u001b[0m \u001b[30;47mE19: Modeling practice \u001b[0m\u001b[1;30;47m(\u001b[0m\u001b[30;47mcore, L145, code\u001b[0m\u001b[1;30;47m)\u001b[0m                                                \u001b]8;id=529967;file:///home/vboxuser/.local/lib/python3.10/site-packages/sbmlutils/validation.py\u001b\\\u001b[2mvalidation.py\u001b[0m\u001b]8;;\u001b\\\u001b[2m:\u001b[0m\u001b]8;id=138977;file:///home/vboxuser/.local/lib/python3.10/site-packages/sbmlutils/validation.py#186\u001b\\\u001b[2m186\u001b[0m\u001b]8;;\u001b\\\n",
       "         \u001b[1;38;5;172;40m[\u001b[0m\u001b[38;5;172;40mWarning\u001b[0m\u001b[1;38;5;172;40m]\u001b[0m\u001b[38;5;172;40m It's best to declare units for every parameter in a model\u001b[0m                      \u001b[2m                 \u001b[0m\n",
       "         As a principle of best modeling practice, the units of a \u001b[1m<\u001b[0m\u001b[1;95mparameter\u001b[0m\u001b[39m> should be declared \u001b[0m \u001b[2m                 \u001b[0m\n",
       "         \u001b[39mrather than be left undefined. Doing so improves the ability of software to check the \u001b[0m   \u001b[2m                 \u001b[0m\n",
       "         \u001b[39mconsistency of units and helps make it easier to detect potential errors in models.\u001b[0m      \u001b[2m                 \u001b[0m\n",
       "         \u001b[39m The <parameter\u001b[0m\u001b[1m>\u001b[0m with the id \u001b[32m'kd_mRNA'\u001b[0m does not have a \u001b[32m'units'\u001b[0m attribute.                \u001b[2m                 \u001b[0m\n",
       "                                                                                                  \u001b[2m                 \u001b[0m\n"
      ]
     },
     "metadata": {},
     "output_type": "display_data"
    },
    {
     "data": {
      "text/html": [
       "<pre style=\"white-space:pre;overflow-x:auto;line-height:normal;font-family:Menlo,'DejaVu Sans Mono',consolas,'Courier New',monospace\"><span style=\"color: #800000; text-decoration-color: #800000\">WARNING </span> <span style=\"color: #000000; text-decoration-color: #000000; background-color: #c0c0c0\">E20: Modeling practice </span><span style=\"color: #000000; text-decoration-color: #000000; background-color: #c0c0c0; font-weight: bold\">(</span><span style=\"color: #000000; text-decoration-color: #000000; background-color: #c0c0c0\">core, L158, code</span><span style=\"color: #000000; text-decoration-color: #000000; background-color: #c0c0c0; font-weight: bold\">)</span>                                                <a href=\"file:///home/vboxuser/.local/lib/python3.10/site-packages/sbmlutils/validation.py\" target=\"_blank\"><span style=\"color: #7f7f7f; text-decoration-color: #7f7f7f\">validation.py</span></a><span style=\"color: #7f7f7f; text-decoration-color: #7f7f7f\">:</span><a href=\"file:///home/vboxuser/.local/lib/python3.10/site-packages/sbmlutils/validation.py#186\" target=\"_blank\"><span style=\"color: #7f7f7f; text-decoration-color: #7f7f7f\">186</span></a>\n",
       "         <span style=\"color: #d78700; text-decoration-color: #d78700; background-color: #000000; font-weight: bold\">[</span><span style=\"color: #d78700; text-decoration-color: #d78700; background-color: #000000\">Warning</span><span style=\"color: #d78700; text-decoration-color: #d78700; background-color: #000000; font-weight: bold\">]</span><span style=\"color: #d78700; text-decoration-color: #d78700; background-color: #000000\"> It's best to declare units for every parameter in a model</span>                      <span style=\"color: #7f7f7f; text-decoration-color: #7f7f7f\">                 </span>\n",
       "         As a principle of best modeling practice, the units of a <span style=\"font-weight: bold\">&lt;</span><span style=\"color: #ff00ff; text-decoration-color: #ff00ff; font-weight: bold\">parameter</span><span style=\"color: #000000; text-decoration-color: #000000\">&gt; should be declared </span> <span style=\"color: #7f7f7f; text-decoration-color: #7f7f7f\">                 </span>\n",
       "         <span style=\"color: #000000; text-decoration-color: #000000\">rather than be left undefined. Doing so improves the ability of software to check the </span>   <span style=\"color: #7f7f7f; text-decoration-color: #7f7f7f\">                 </span>\n",
       "         <span style=\"color: #000000; text-decoration-color: #000000\">consistency of units and helps make it easier to detect potential errors in models.</span>      <span style=\"color: #7f7f7f; text-decoration-color: #7f7f7f\">                 </span>\n",
       "         <span style=\"color: #000000; text-decoration-color: #000000\"> The &lt;parameter</span><span style=\"font-weight: bold\">&gt;</span> with the id <span style=\"color: #008000; text-decoration-color: #008000\">'k_tl'</span> does not have a <span style=\"color: #008000; text-decoration-color: #008000\">'units'</span> attribute.                   <span style=\"color: #7f7f7f; text-decoration-color: #7f7f7f\">                 </span>\n",
       "                                                                                                  <span style=\"color: #7f7f7f; text-decoration-color: #7f7f7f\">                 </span>\n",
       "</pre>\n"
      ],
      "text/plain": [
       "\u001b[31mWARNING \u001b[0m \u001b[30;47mE20: Modeling practice \u001b[0m\u001b[1;30;47m(\u001b[0m\u001b[30;47mcore, L158, code\u001b[0m\u001b[1;30;47m)\u001b[0m                                                \u001b]8;id=550283;file:///home/vboxuser/.local/lib/python3.10/site-packages/sbmlutils/validation.py\u001b\\\u001b[2mvalidation.py\u001b[0m\u001b]8;;\u001b\\\u001b[2m:\u001b[0m\u001b]8;id=612472;file:///home/vboxuser/.local/lib/python3.10/site-packages/sbmlutils/validation.py#186\u001b\\\u001b[2m186\u001b[0m\u001b]8;;\u001b\\\n",
       "         \u001b[1;38;5;172;40m[\u001b[0m\u001b[38;5;172;40mWarning\u001b[0m\u001b[1;38;5;172;40m]\u001b[0m\u001b[38;5;172;40m It's best to declare units for every parameter in a model\u001b[0m                      \u001b[2m                 \u001b[0m\n",
       "         As a principle of best modeling practice, the units of a \u001b[1m<\u001b[0m\u001b[1;95mparameter\u001b[0m\u001b[39m> should be declared \u001b[0m \u001b[2m                 \u001b[0m\n",
       "         \u001b[39mrather than be left undefined. Doing so improves the ability of software to check the \u001b[0m   \u001b[2m                 \u001b[0m\n",
       "         \u001b[39mconsistency of units and helps make it easier to detect potential errors in models.\u001b[0m      \u001b[2m                 \u001b[0m\n",
       "         \u001b[39m The <parameter\u001b[0m\u001b[1m>\u001b[0m with the id \u001b[32m'k_tl'\u001b[0m does not have a \u001b[32m'units'\u001b[0m attribute.                   \u001b[2m                 \u001b[0m\n",
       "                                                                                                  \u001b[2m                 \u001b[0m\n"
      ]
     },
     "metadata": {},
     "output_type": "display_data"
    },
    {
     "data": {
      "text/html": [
       "<pre style=\"white-space:pre;overflow-x:auto;line-height:normal;font-family:Menlo,'DejaVu Sans Mono',consolas,'Courier New',monospace\"><span style=\"color: #800000; text-decoration-color: #800000\">WARNING </span> <span style=\"color: #000000; text-decoration-color: #000000; background-color: #c0c0c0\">E21: Modeling practice </span><span style=\"color: #000000; text-decoration-color: #000000; background-color: #c0c0c0; font-weight: bold\">(</span><span style=\"color: #000000; text-decoration-color: #000000; background-color: #c0c0c0\">core, L171, code</span><span style=\"color: #000000; text-decoration-color: #000000; background-color: #c0c0c0; font-weight: bold\">)</span>                                                <a href=\"file:///home/vboxuser/.local/lib/python3.10/site-packages/sbmlutils/validation.py\" target=\"_blank\"><span style=\"color: #7f7f7f; text-decoration-color: #7f7f7f\">validation.py</span></a><span style=\"color: #7f7f7f; text-decoration-color: #7f7f7f\">:</span><a href=\"file:///home/vboxuser/.local/lib/python3.10/site-packages/sbmlutils/validation.py#186\" target=\"_blank\"><span style=\"color: #7f7f7f; text-decoration-color: #7f7f7f\">186</span></a>\n",
       "         <span style=\"color: #d78700; text-decoration-color: #d78700; background-color: #000000; font-weight: bold\">[</span><span style=\"color: #d78700; text-decoration-color: #d78700; background-color: #000000\">Warning</span><span style=\"color: #d78700; text-decoration-color: #d78700; background-color: #000000; font-weight: bold\">]</span><span style=\"color: #d78700; text-decoration-color: #d78700; background-color: #000000\"> It's best to declare units for every parameter in a model</span>                      <span style=\"color: #7f7f7f; text-decoration-color: #7f7f7f\">                 </span>\n",
       "         As a principle of best modeling practice, the units of a <span style=\"font-weight: bold\">&lt;</span><span style=\"color: #ff00ff; text-decoration-color: #ff00ff; font-weight: bold\">parameter</span><span style=\"color: #000000; text-decoration-color: #000000\">&gt; should be declared </span> <span style=\"color: #7f7f7f; text-decoration-color: #7f7f7f\">                 </span>\n",
       "         <span style=\"color: #000000; text-decoration-color: #000000\">rather than be left undefined. Doing so improves the ability of software to check the </span>   <span style=\"color: #7f7f7f; text-decoration-color: #7f7f7f\">                 </span>\n",
       "         <span style=\"color: #000000; text-decoration-color: #000000\">consistency of units and helps make it easier to detect potential errors in models.</span>      <span style=\"color: #7f7f7f; text-decoration-color: #7f7f7f\">                 </span>\n",
       "         <span style=\"color: #000000; text-decoration-color: #000000\"> The &lt;parameter</span><span style=\"font-weight: bold\">&gt;</span> with the id <span style=\"color: #008000; text-decoration-color: #008000\">'t_ave'</span> does not have a <span style=\"color: #008000; text-decoration-color: #008000\">'units'</span> attribute.                  <span style=\"color: #7f7f7f; text-decoration-color: #7f7f7f\">                 </span>\n",
       "                                                                                                  <span style=\"color: #7f7f7f; text-decoration-color: #7f7f7f\">                 </span>\n",
       "</pre>\n"
      ],
      "text/plain": [
       "\u001b[31mWARNING \u001b[0m \u001b[30;47mE21: Modeling practice \u001b[0m\u001b[1;30;47m(\u001b[0m\u001b[30;47mcore, L171, code\u001b[0m\u001b[1;30;47m)\u001b[0m                                                \u001b]8;id=282299;file:///home/vboxuser/.local/lib/python3.10/site-packages/sbmlutils/validation.py\u001b\\\u001b[2mvalidation.py\u001b[0m\u001b]8;;\u001b\\\u001b[2m:\u001b[0m\u001b]8;id=210259;file:///home/vboxuser/.local/lib/python3.10/site-packages/sbmlutils/validation.py#186\u001b\\\u001b[2m186\u001b[0m\u001b]8;;\u001b\\\n",
       "         \u001b[1;38;5;172;40m[\u001b[0m\u001b[38;5;172;40mWarning\u001b[0m\u001b[1;38;5;172;40m]\u001b[0m\u001b[38;5;172;40m It's best to declare units for every parameter in a model\u001b[0m                      \u001b[2m                 \u001b[0m\n",
       "         As a principle of best modeling practice, the units of a \u001b[1m<\u001b[0m\u001b[1;95mparameter\u001b[0m\u001b[39m> should be declared \u001b[0m \u001b[2m                 \u001b[0m\n",
       "         \u001b[39mrather than be left undefined. Doing so improves the ability of software to check the \u001b[0m   \u001b[2m                 \u001b[0m\n",
       "         \u001b[39mconsistency of units and helps make it easier to detect potential errors in models.\u001b[0m      \u001b[2m                 \u001b[0m\n",
       "         \u001b[39m The <parameter\u001b[0m\u001b[1m>\u001b[0m with the id \u001b[32m't_ave'\u001b[0m does not have a \u001b[32m'units'\u001b[0m attribute.                  \u001b[2m                 \u001b[0m\n",
       "                                                                                                  \u001b[2m                 \u001b[0m\n"
      ]
     },
     "metadata": {},
     "output_type": "display_data"
    },
    {
     "data": {
      "text/html": [
       "<pre style=\"white-space:pre;overflow-x:auto;line-height:normal;font-family:Menlo,'DejaVu Sans Mono',consolas,'Courier New',monospace\"><span style=\"color: #800000; text-decoration-color: #800000\">WARNING </span> <span style=\"color: #000000; text-decoration-color: #000000; background-color: #c0c0c0\">E22: Modeling practice </span><span style=\"color: #000000; text-decoration-color: #000000; background-color: #c0c0c0; font-weight: bold\">(</span><span style=\"color: #000000; text-decoration-color: #000000; background-color: #c0c0c0\">core, L184, code</span><span style=\"color: #000000; text-decoration-color: #000000; background-color: #c0c0c0; font-weight: bold\">)</span>                                                <a href=\"file:///home/vboxuser/.local/lib/python3.10/site-packages/sbmlutils/validation.py\" target=\"_blank\"><span style=\"color: #7f7f7f; text-decoration-color: #7f7f7f\">validation.py</span></a><span style=\"color: #7f7f7f; text-decoration-color: #7f7f7f\">:</span><a href=\"file:///home/vboxuser/.local/lib/python3.10/site-packages/sbmlutils/validation.py#186\" target=\"_blank\"><span style=\"color: #7f7f7f; text-decoration-color: #7f7f7f\">186</span></a>\n",
       "         <span style=\"color: #d78700; text-decoration-color: #d78700; background-color: #000000; font-weight: bold\">[</span><span style=\"color: #d78700; text-decoration-color: #d78700; background-color: #000000\">Warning</span><span style=\"color: #d78700; text-decoration-color: #d78700; background-color: #000000; font-weight: bold\">]</span><span style=\"color: #d78700; text-decoration-color: #d78700; background-color: #000000\"> It's best to declare units for every parameter in a model</span>                      <span style=\"color: #7f7f7f; text-decoration-color: #7f7f7f\">                 </span>\n",
       "         As a principle of best modeling practice, the units of a <span style=\"font-weight: bold\">&lt;</span><span style=\"color: #ff00ff; text-decoration-color: #ff00ff; font-weight: bold\">parameter</span><span style=\"color: #000000; text-decoration-color: #000000\">&gt; should be declared </span> <span style=\"color: #7f7f7f; text-decoration-color: #7f7f7f\">                 </span>\n",
       "         <span style=\"color: #000000; text-decoration-color: #000000\">rather than be left undefined. Doing so improves the ability of software to check the </span>   <span style=\"color: #7f7f7f; text-decoration-color: #7f7f7f\">                 </span>\n",
       "         <span style=\"color: #000000; text-decoration-color: #000000\">consistency of units and helps make it easier to detect potential errors in models.</span>      <span style=\"color: #7f7f7f; text-decoration-color: #7f7f7f\">                 </span>\n",
       "         <span style=\"color: #000000; text-decoration-color: #000000\"> The &lt;parameter</span><span style=\"font-weight: bold\">&gt;</span> with the id <span style=\"color: #008000; text-decoration-color: #008000\">'eff'</span> does not have a <span style=\"color: #008000; text-decoration-color: #008000\">'units'</span> attribute.                    <span style=\"color: #7f7f7f; text-decoration-color: #7f7f7f\">                 </span>\n",
       "                                                                                                  <span style=\"color: #7f7f7f; text-decoration-color: #7f7f7f\">                 </span>\n",
       "</pre>\n"
      ],
      "text/plain": [
       "\u001b[31mWARNING \u001b[0m \u001b[30;47mE22: Modeling practice \u001b[0m\u001b[1;30;47m(\u001b[0m\u001b[30;47mcore, L184, code\u001b[0m\u001b[1;30;47m)\u001b[0m                                                \u001b]8;id=527079;file:///home/vboxuser/.local/lib/python3.10/site-packages/sbmlutils/validation.py\u001b\\\u001b[2mvalidation.py\u001b[0m\u001b]8;;\u001b\\\u001b[2m:\u001b[0m\u001b]8;id=718091;file:///home/vboxuser/.local/lib/python3.10/site-packages/sbmlutils/validation.py#186\u001b\\\u001b[2m186\u001b[0m\u001b]8;;\u001b\\\n",
       "         \u001b[1;38;5;172;40m[\u001b[0m\u001b[38;5;172;40mWarning\u001b[0m\u001b[1;38;5;172;40m]\u001b[0m\u001b[38;5;172;40m It's best to declare units for every parameter in a model\u001b[0m                      \u001b[2m                 \u001b[0m\n",
       "         As a principle of best modeling practice, the units of a \u001b[1m<\u001b[0m\u001b[1;95mparameter\u001b[0m\u001b[39m> should be declared \u001b[0m \u001b[2m                 \u001b[0m\n",
       "         \u001b[39mrather than be left undefined. Doing so improves the ability of software to check the \u001b[0m   \u001b[2m                 \u001b[0m\n",
       "         \u001b[39mconsistency of units and helps make it easier to detect potential errors in models.\u001b[0m      \u001b[2m                 \u001b[0m\n",
       "         \u001b[39m The <parameter\u001b[0m\u001b[1m>\u001b[0m with the id \u001b[32m'eff'\u001b[0m does not have a \u001b[32m'units'\u001b[0m attribute.                    \u001b[2m                 \u001b[0m\n",
       "                                                                                                  \u001b[2m                 \u001b[0m\n"
      ]
     },
     "metadata": {},
     "output_type": "display_data"
    },
    {
     "data": {
      "text/html": [
       "<pre style=\"white-space:pre;overflow-x:auto;line-height:normal;font-family:Menlo,'DejaVu Sans Mono',consolas,'Courier New',monospace\"><span style=\"color: #800000; text-decoration-color: #800000\">WARNING </span> <span style=\"color: #000000; text-decoration-color: #000000; background-color: #c0c0c0\">E23: Modeling practice </span><span style=\"color: #000000; text-decoration-color: #000000; background-color: #c0c0c0; font-weight: bold\">(</span><span style=\"color: #000000; text-decoration-color: #000000; background-color: #c0c0c0\">core, L185, code</span><span style=\"color: #000000; text-decoration-color: #000000; background-color: #c0c0c0; font-weight: bold\">)</span>                                                <a href=\"file:///home/vboxuser/.local/lib/python3.10/site-packages/sbmlutils/validation.py\" target=\"_blank\"><span style=\"color: #7f7f7f; text-decoration-color: #7f7f7f\">validation.py</span></a><span style=\"color: #7f7f7f; text-decoration-color: #7f7f7f\">:</span><a href=\"file:///home/vboxuser/.local/lib/python3.10/site-packages/sbmlutils/validation.py#186\" target=\"_blank\"><span style=\"color: #7f7f7f; text-decoration-color: #7f7f7f\">186</span></a>\n",
       "         <span style=\"color: #d78700; text-decoration-color: #d78700; background-color: #000000; font-weight: bold\">[</span><span style=\"color: #d78700; text-decoration-color: #d78700; background-color: #000000\">Warning</span><span style=\"color: #d78700; text-decoration-color: #d78700; background-color: #000000; font-weight: bold\">]</span><span style=\"color: #d78700; text-decoration-color: #d78700; background-color: #000000\"> It's best to declare units for every parameter in a model</span>                      <span style=\"color: #7f7f7f; text-decoration-color: #7f7f7f\">                 </span>\n",
       "         As a principle of best modeling practice, the units of a <span style=\"font-weight: bold\">&lt;</span><span style=\"color: #ff00ff; text-decoration-color: #ff00ff; font-weight: bold\">parameter</span><span style=\"color: #000000; text-decoration-color: #000000\">&gt; should be declared </span> <span style=\"color: #7f7f7f; text-decoration-color: #7f7f7f\">                 </span>\n",
       "         <span style=\"color: #000000; text-decoration-color: #000000\">rather than be left undefined. Doing so improves the ability of software to check the </span>   <span style=\"color: #7f7f7f; text-decoration-color: #7f7f7f\">                 </span>\n",
       "         <span style=\"color: #000000; text-decoration-color: #000000\">consistency of units and helps make it easier to detect potential errors in models.</span>      <span style=\"color: #7f7f7f; text-decoration-color: #7f7f7f\">                 </span>\n",
       "         <span style=\"color: #000000; text-decoration-color: #000000\"> The &lt;parameter</span><span style=\"font-weight: bold\">&gt;</span> with the id <span style=\"color: #008000; text-decoration-color: #008000\">'kd_prot'</span> does not have a <span style=\"color: #008000; text-decoration-color: #008000\">'units'</span> attribute.                <span style=\"color: #7f7f7f; text-decoration-color: #7f7f7f\">                 </span>\n",
       "                                                                                                  <span style=\"color: #7f7f7f; text-decoration-color: #7f7f7f\">                 </span>\n",
       "</pre>\n"
      ],
      "text/plain": [
       "\u001b[31mWARNING \u001b[0m \u001b[30;47mE23: Modeling practice \u001b[0m\u001b[1;30;47m(\u001b[0m\u001b[30;47mcore, L185, code\u001b[0m\u001b[1;30;47m)\u001b[0m                                                \u001b]8;id=390537;file:///home/vboxuser/.local/lib/python3.10/site-packages/sbmlutils/validation.py\u001b\\\u001b[2mvalidation.py\u001b[0m\u001b]8;;\u001b\\\u001b[2m:\u001b[0m\u001b]8;id=832941;file:///home/vboxuser/.local/lib/python3.10/site-packages/sbmlutils/validation.py#186\u001b\\\u001b[2m186\u001b[0m\u001b]8;;\u001b\\\n",
       "         \u001b[1;38;5;172;40m[\u001b[0m\u001b[38;5;172;40mWarning\u001b[0m\u001b[1;38;5;172;40m]\u001b[0m\u001b[38;5;172;40m It's best to declare units for every parameter in a model\u001b[0m                      \u001b[2m                 \u001b[0m\n",
       "         As a principle of best modeling practice, the units of a \u001b[1m<\u001b[0m\u001b[1;95mparameter\u001b[0m\u001b[39m> should be declared \u001b[0m \u001b[2m                 \u001b[0m\n",
       "         \u001b[39mrather than be left undefined. Doing so improves the ability of software to check the \u001b[0m   \u001b[2m                 \u001b[0m\n",
       "         \u001b[39mconsistency of units and helps make it easier to detect potential errors in models.\u001b[0m      \u001b[2m                 \u001b[0m\n",
       "         \u001b[39m The <parameter\u001b[0m\u001b[1m>\u001b[0m with the id \u001b[32m'kd_prot'\u001b[0m does not have a \u001b[32m'units'\u001b[0m attribute.                \u001b[2m                 \u001b[0m\n",
       "                                                                                                  \u001b[2m                 \u001b[0m\n"
      ]
     },
     "metadata": {},
     "output_type": "display_data"
    },
    {
     "data": {
      "text/html": [
       "<pre style=\"white-space:pre;overflow-x:auto;line-height:normal;font-family:Menlo,'DejaVu Sans Mono',consolas,'Courier New',monospace\"><span style=\"color: #800000; text-decoration-color: #800000\">WARNING </span> <span style=\"color: #000000; text-decoration-color: #000000; background-color: #c0c0c0\">E24: Modeling practice </span><span style=\"color: #000000; text-decoration-color: #000000; background-color: #c0c0c0; font-weight: bold\">(</span><span style=\"color: #000000; text-decoration-color: #000000; background-color: #c0c0c0\">core, L198, code</span><span style=\"color: #000000; text-decoration-color: #000000; background-color: #c0c0c0; font-weight: bold\">)</span>                                                <a href=\"file:///home/vboxuser/.local/lib/python3.10/site-packages/sbmlutils/validation.py\" target=\"_blank\"><span style=\"color: #7f7f7f; text-decoration-color: #7f7f7f\">validation.py</span></a><span style=\"color: #7f7f7f; text-decoration-color: #7f7f7f\">:</span><a href=\"file:///home/vboxuser/.local/lib/python3.10/site-packages/sbmlutils/validation.py#186\" target=\"_blank\"><span style=\"color: #7f7f7f; text-decoration-color: #7f7f7f\">186</span></a>\n",
       "         <span style=\"color: #d78700; text-decoration-color: #d78700; background-color: #000000; font-weight: bold\">[</span><span style=\"color: #d78700; text-decoration-color: #d78700; background-color: #000000\">Warning</span><span style=\"color: #d78700; text-decoration-color: #d78700; background-color: #000000; font-weight: bold\">]</span><span style=\"color: #d78700; text-decoration-color: #d78700; background-color: #000000\"> It's best to declare units for every parameter in a model</span>                      <span style=\"color: #7f7f7f; text-decoration-color: #7f7f7f\">                 </span>\n",
       "         As a principle of best modeling practice, the units of a <span style=\"font-weight: bold\">&lt;</span><span style=\"color: #ff00ff; text-decoration-color: #ff00ff; font-weight: bold\">parameter</span><span style=\"color: #000000; text-decoration-color: #000000\">&gt; should be declared </span> <span style=\"color: #7f7f7f; text-decoration-color: #7f7f7f\">                 </span>\n",
       "         <span style=\"color: #000000; text-decoration-color: #000000\">rather than be left undefined. Doing so improves the ability of software to check the </span>   <span style=\"color: #7f7f7f; text-decoration-color: #7f7f7f\">                 </span>\n",
       "         <span style=\"color: #000000; text-decoration-color: #000000\">consistency of units and helps make it easier to detect potential errors in models.</span>      <span style=\"color: #7f7f7f; text-decoration-color: #7f7f7f\">                 </span>\n",
       "         <span style=\"color: #000000; text-decoration-color: #000000\"> The &lt;parameter</span><span style=\"font-weight: bold\">&gt;</span> with the id <span style=\"color: #008000; text-decoration-color: #008000\">'tau_prot'</span> does not have a <span style=\"color: #008000; text-decoration-color: #008000\">'units'</span> attribute.               <span style=\"color: #7f7f7f; text-decoration-color: #7f7f7f\">                 </span>\n",
       "                                                                                                  <span style=\"color: #7f7f7f; text-decoration-color: #7f7f7f\">                 </span>\n",
       "</pre>\n"
      ],
      "text/plain": [
       "\u001b[31mWARNING \u001b[0m \u001b[30;47mE24: Modeling practice \u001b[0m\u001b[1;30;47m(\u001b[0m\u001b[30;47mcore, L198, code\u001b[0m\u001b[1;30;47m)\u001b[0m                                                \u001b]8;id=486207;file:///home/vboxuser/.local/lib/python3.10/site-packages/sbmlutils/validation.py\u001b\\\u001b[2mvalidation.py\u001b[0m\u001b]8;;\u001b\\\u001b[2m:\u001b[0m\u001b]8;id=149138;file:///home/vboxuser/.local/lib/python3.10/site-packages/sbmlutils/validation.py#186\u001b\\\u001b[2m186\u001b[0m\u001b]8;;\u001b\\\n",
       "         \u001b[1;38;5;172;40m[\u001b[0m\u001b[38;5;172;40mWarning\u001b[0m\u001b[1;38;5;172;40m]\u001b[0m\u001b[38;5;172;40m It's best to declare units for every parameter in a model\u001b[0m                      \u001b[2m                 \u001b[0m\n",
       "         As a principle of best modeling practice, the units of a \u001b[1m<\u001b[0m\u001b[1;95mparameter\u001b[0m\u001b[39m> should be declared \u001b[0m \u001b[2m                 \u001b[0m\n",
       "         \u001b[39mrather than be left undefined. Doing so improves the ability of software to check the \u001b[0m   \u001b[2m                 \u001b[0m\n",
       "         \u001b[39mconsistency of units and helps make it easier to detect potential errors in models.\u001b[0m      \u001b[2m                 \u001b[0m\n",
       "         \u001b[39m The <parameter\u001b[0m\u001b[1m>\u001b[0m with the id \u001b[32m'tau_prot'\u001b[0m does not have a \u001b[32m'units'\u001b[0m attribute.               \u001b[2m                 \u001b[0m\n",
       "                                                                                                  \u001b[2m                 \u001b[0m\n"
      ]
     },
     "metadata": {},
     "output_type": "display_data"
    },
    {
     "data": {
      "text/html": [
       "<pre style=\"white-space:pre;overflow-x:auto;line-height:normal;font-family:Menlo,'DejaVu Sans Mono',consolas,'Courier New',monospace\"><span style=\"color: #800000; text-decoration-color: #800000\">WARNING </span> <span style=\"color: #000000; text-decoration-color: #000000; background-color: #c0c0c0\">E25: Modeling practice </span><span style=\"color: #000000; text-decoration-color: #000000; background-color: #c0c0c0; font-weight: bold\">(</span><span style=\"color: #000000; text-decoration-color: #000000; background-color: #c0c0c0\">core, L199, code</span><span style=\"color: #000000; text-decoration-color: #000000; background-color: #c0c0c0; font-weight: bold\">)</span>                                                <a href=\"file:///home/vboxuser/.local/lib/python3.10/site-packages/sbmlutils/validation.py\" target=\"_blank\"><span style=\"color: #7f7f7f; text-decoration-color: #7f7f7f\">validation.py</span></a><span style=\"color: #7f7f7f; text-decoration-color: #7f7f7f\">:</span><a href=\"file:///home/vboxuser/.local/lib/python3.10/site-packages/sbmlutils/validation.py#186\" target=\"_blank\"><span style=\"color: #7f7f7f; text-decoration-color: #7f7f7f\">186</span></a>\n",
       "         <span style=\"color: #d78700; text-decoration-color: #d78700; background-color: #000000; font-weight: bold\">[</span><span style=\"color: #d78700; text-decoration-color: #d78700; background-color: #000000\">Warning</span><span style=\"color: #d78700; text-decoration-color: #d78700; background-color: #000000; font-weight: bold\">]</span><span style=\"color: #d78700; text-decoration-color: #d78700; background-color: #000000\"> It's best to declare units for every parameter in a model</span>                      <span style=\"color: #7f7f7f; text-decoration-color: #7f7f7f\">                 </span>\n",
       "         As a principle of best modeling practice, the units of a <span style=\"font-weight: bold\">&lt;</span><span style=\"color: #ff00ff; text-decoration-color: #ff00ff; font-weight: bold\">parameter</span><span style=\"color: #000000; text-decoration-color: #000000\">&gt; should be declared </span> <span style=\"color: #7f7f7f; text-decoration-color: #7f7f7f\">                 </span>\n",
       "         <span style=\"color: #000000; text-decoration-color: #000000\">rather than be left undefined. Doing so improves the ability of software to check the </span>   <span style=\"color: #7f7f7f; text-decoration-color: #7f7f7f\">                 </span>\n",
       "         <span style=\"color: #000000; text-decoration-color: #000000\">consistency of units and helps make it easier to detect potential errors in models.</span>      <span style=\"color: #7f7f7f; text-decoration-color: #7f7f7f\">                 </span>\n",
       "         <span style=\"color: #000000; text-decoration-color: #000000\"> The &lt;parameter</span><span style=\"font-weight: bold\">&gt;</span> with the id <span style=\"color: #008000; text-decoration-color: #008000\">'a0_tr'</span> does not have a <span style=\"color: #008000; text-decoration-color: #008000\">'units'</span> attribute.                  <span style=\"color: #7f7f7f; text-decoration-color: #7f7f7f\">                 </span>\n",
       "                                                                                                  <span style=\"color: #7f7f7f; text-decoration-color: #7f7f7f\">                 </span>\n",
       "</pre>\n"
      ],
      "text/plain": [
       "\u001b[31mWARNING \u001b[0m \u001b[30;47mE25: Modeling practice \u001b[0m\u001b[1;30;47m(\u001b[0m\u001b[30;47mcore, L199, code\u001b[0m\u001b[1;30;47m)\u001b[0m                                                \u001b]8;id=700173;file:///home/vboxuser/.local/lib/python3.10/site-packages/sbmlutils/validation.py\u001b\\\u001b[2mvalidation.py\u001b[0m\u001b]8;;\u001b\\\u001b[2m:\u001b[0m\u001b]8;id=584003;file:///home/vboxuser/.local/lib/python3.10/site-packages/sbmlutils/validation.py#186\u001b\\\u001b[2m186\u001b[0m\u001b]8;;\u001b\\\n",
       "         \u001b[1;38;5;172;40m[\u001b[0m\u001b[38;5;172;40mWarning\u001b[0m\u001b[1;38;5;172;40m]\u001b[0m\u001b[38;5;172;40m It's best to declare units for every parameter in a model\u001b[0m                      \u001b[2m                 \u001b[0m\n",
       "         As a principle of best modeling practice, the units of a \u001b[1m<\u001b[0m\u001b[1;95mparameter\u001b[0m\u001b[39m> should be declared \u001b[0m \u001b[2m                 \u001b[0m\n",
       "         \u001b[39mrather than be left undefined. Doing so improves the ability of software to check the \u001b[0m   \u001b[2m                 \u001b[0m\n",
       "         \u001b[39mconsistency of units and helps make it easier to detect potential errors in models.\u001b[0m      \u001b[2m                 \u001b[0m\n",
       "         \u001b[39m The <parameter\u001b[0m\u001b[1m>\u001b[0m with the id \u001b[32m'a0_tr'\u001b[0m does not have a \u001b[32m'units'\u001b[0m attribute.                  \u001b[2m                 \u001b[0m\n",
       "                                                                                                  \u001b[2m                 \u001b[0m\n"
      ]
     },
     "metadata": {},
     "output_type": "display_data"
    },
    {
     "data": {
      "text/html": [
       "<pre style=\"white-space:pre;overflow-x:auto;line-height:normal;font-family:Menlo,'DejaVu Sans Mono',consolas,'Courier New',monospace\"><span style=\"color: #800000; text-decoration-color: #800000\">WARNING </span> <span style=\"color: #000000; text-decoration-color: #000000; background-color: #c0c0c0\">E26: Modeling practice </span><span style=\"color: #000000; text-decoration-color: #000000; background-color: #c0c0c0; font-weight: bold\">(</span><span style=\"color: #000000; text-decoration-color: #000000; background-color: #c0c0c0\">core, L212, code</span><span style=\"color: #000000; text-decoration-color: #000000; background-color: #c0c0c0; font-weight: bold\">)</span>                                                <a href=\"file:///home/vboxuser/.local/lib/python3.10/site-packages/sbmlutils/validation.py\" target=\"_blank\"><span style=\"color: #7f7f7f; text-decoration-color: #7f7f7f\">validation.py</span></a><span style=\"color: #7f7f7f; text-decoration-color: #7f7f7f\">:</span><a href=\"file:///home/vboxuser/.local/lib/python3.10/site-packages/sbmlutils/validation.py#186\" target=\"_blank\"><span style=\"color: #7f7f7f; text-decoration-color: #7f7f7f\">186</span></a>\n",
       "         <span style=\"color: #d78700; text-decoration-color: #d78700; background-color: #000000; font-weight: bold\">[</span><span style=\"color: #d78700; text-decoration-color: #d78700; background-color: #000000\">Warning</span><span style=\"color: #d78700; text-decoration-color: #d78700; background-color: #000000; font-weight: bold\">]</span><span style=\"color: #d78700; text-decoration-color: #d78700; background-color: #000000\"> It's best to declare units for every parameter in a model</span>                      <span style=\"color: #7f7f7f; text-decoration-color: #7f7f7f\">                 </span>\n",
       "         As a principle of best modeling practice, the units of a <span style=\"font-weight: bold\">&lt;</span><span style=\"color: #ff00ff; text-decoration-color: #ff00ff; font-weight: bold\">parameter</span><span style=\"color: #000000; text-decoration-color: #000000\">&gt; should be declared </span> <span style=\"color: #7f7f7f; text-decoration-color: #7f7f7f\">                 </span>\n",
       "         <span style=\"color: #000000; text-decoration-color: #000000\">rather than be left undefined. Doing so improves the ability of software to check the </span>   <span style=\"color: #7f7f7f; text-decoration-color: #7f7f7f\">                 </span>\n",
       "         <span style=\"color: #000000; text-decoration-color: #000000\">consistency of units and helps make it easier to detect potential errors in models.</span>      <span style=\"color: #7f7f7f; text-decoration-color: #7f7f7f\">                 </span>\n",
       "         <span style=\"color: #000000; text-decoration-color: #000000\"> The &lt;parameter</span><span style=\"font-weight: bold\">&gt;</span> with the id <span style=\"color: #008000; text-decoration-color: #008000\">'ps_0'</span> does not have a <span style=\"color: #008000; text-decoration-color: #008000\">'units'</span> attribute.                   <span style=\"color: #7f7f7f; text-decoration-color: #7f7f7f\">                 </span>\n",
       "                                                                                                  <span style=\"color: #7f7f7f; text-decoration-color: #7f7f7f\">                 </span>\n",
       "</pre>\n"
      ],
      "text/plain": [
       "\u001b[31mWARNING \u001b[0m \u001b[30;47mE26: Modeling practice \u001b[0m\u001b[1;30;47m(\u001b[0m\u001b[30;47mcore, L212, code\u001b[0m\u001b[1;30;47m)\u001b[0m                                                \u001b]8;id=846805;file:///home/vboxuser/.local/lib/python3.10/site-packages/sbmlutils/validation.py\u001b\\\u001b[2mvalidation.py\u001b[0m\u001b]8;;\u001b\\\u001b[2m:\u001b[0m\u001b]8;id=980516;file:///home/vboxuser/.local/lib/python3.10/site-packages/sbmlutils/validation.py#186\u001b\\\u001b[2m186\u001b[0m\u001b]8;;\u001b\\\n",
       "         \u001b[1;38;5;172;40m[\u001b[0m\u001b[38;5;172;40mWarning\u001b[0m\u001b[1;38;5;172;40m]\u001b[0m\u001b[38;5;172;40m It's best to declare units for every parameter in a model\u001b[0m                      \u001b[2m                 \u001b[0m\n",
       "         As a principle of best modeling practice, the units of a \u001b[1m<\u001b[0m\u001b[1;95mparameter\u001b[0m\u001b[39m> should be declared \u001b[0m \u001b[2m                 \u001b[0m\n",
       "         \u001b[39mrather than be left undefined. Doing so improves the ability of software to check the \u001b[0m   \u001b[2m                 \u001b[0m\n",
       "         \u001b[39mconsistency of units and helps make it easier to detect potential errors in models.\u001b[0m      \u001b[2m                 \u001b[0m\n",
       "         \u001b[39m The <parameter\u001b[0m\u001b[1m>\u001b[0m with the id \u001b[32m'ps_0'\u001b[0m does not have a \u001b[32m'units'\u001b[0m attribute.                   \u001b[2m                 \u001b[0m\n",
       "                                                                                                  \u001b[2m                 \u001b[0m\n"
      ]
     },
     "metadata": {},
     "output_type": "display_data"
    },
    {
     "data": {
      "text/html": [
       "<pre style=\"white-space:pre;overflow-x:auto;line-height:normal;font-family:Menlo,'DejaVu Sans Mono',consolas,'Courier New',monospace\"><span style=\"color: #800000; text-decoration-color: #800000\">WARNING </span> <span style=\"color: #000000; text-decoration-color: #000000; background-color: #c0c0c0\">E27: Modeling practice </span><span style=\"color: #000000; text-decoration-color: #000000; background-color: #c0c0c0; font-weight: bold\">(</span><span style=\"color: #000000; text-decoration-color: #000000; background-color: #c0c0c0\">core, L213, code</span><span style=\"color: #000000; text-decoration-color: #000000; background-color: #c0c0c0; font-weight: bold\">)</span>                                                <a href=\"file:///home/vboxuser/.local/lib/python3.10/site-packages/sbmlutils/validation.py\" target=\"_blank\"><span style=\"color: #7f7f7f; text-decoration-color: #7f7f7f\">validation.py</span></a><span style=\"color: #7f7f7f; text-decoration-color: #7f7f7f\">:</span><a href=\"file:///home/vboxuser/.local/lib/python3.10/site-packages/sbmlutils/validation.py#186\" target=\"_blank\"><span style=\"color: #7f7f7f; text-decoration-color: #7f7f7f\">186</span></a>\n",
       "         <span style=\"color: #d78700; text-decoration-color: #d78700; background-color: #000000; font-weight: bold\">[</span><span style=\"color: #d78700; text-decoration-color: #d78700; background-color: #000000\">Warning</span><span style=\"color: #d78700; text-decoration-color: #d78700; background-color: #000000; font-weight: bold\">]</span><span style=\"color: #d78700; text-decoration-color: #d78700; background-color: #000000\"> It's best to declare units for every parameter in a model</span>                      <span style=\"color: #7f7f7f; text-decoration-color: #7f7f7f\">                 </span>\n",
       "         As a principle of best modeling practice, the units of a <span style=\"font-weight: bold\">&lt;</span><span style=\"color: #ff00ff; text-decoration-color: #ff00ff; font-weight: bold\">parameter</span><span style=\"color: #000000; text-decoration-color: #000000\">&gt; should be declared </span> <span style=\"color: #7f7f7f; text-decoration-color: #7f7f7f\">                 </span>\n",
       "         <span style=\"color: #000000; text-decoration-color: #000000\">rather than be left undefined. Doing so improves the ability of software to check the </span>   <span style=\"color: #7f7f7f; text-decoration-color: #7f7f7f\">                 </span>\n",
       "         <span style=\"color: #000000; text-decoration-color: #000000\">consistency of units and helps make it easier to detect potential errors in models.</span>      <span style=\"color: #7f7f7f; text-decoration-color: #7f7f7f\">                 </span>\n",
       "         <span style=\"color: #000000; text-decoration-color: #000000\"> The &lt;parameter</span><span style=\"font-weight: bold\">&gt;</span> with the id <span style=\"color: #008000; text-decoration-color: #008000\">'ps_a'</span> does not have a <span style=\"color: #008000; text-decoration-color: #008000\">'units'</span> attribute.                   <span style=\"color: #7f7f7f; text-decoration-color: #7f7f7f\">                 </span>\n",
       "                                                                                                  <span style=\"color: #7f7f7f; text-decoration-color: #7f7f7f\">                 </span>\n",
       "</pre>\n"
      ],
      "text/plain": [
       "\u001b[31mWARNING \u001b[0m \u001b[30;47mE27: Modeling practice \u001b[0m\u001b[1;30;47m(\u001b[0m\u001b[30;47mcore, L213, code\u001b[0m\u001b[1;30;47m)\u001b[0m                                                \u001b]8;id=605537;file:///home/vboxuser/.local/lib/python3.10/site-packages/sbmlutils/validation.py\u001b\\\u001b[2mvalidation.py\u001b[0m\u001b]8;;\u001b\\\u001b[2m:\u001b[0m\u001b]8;id=743387;file:///home/vboxuser/.local/lib/python3.10/site-packages/sbmlutils/validation.py#186\u001b\\\u001b[2m186\u001b[0m\u001b]8;;\u001b\\\n",
       "         \u001b[1;38;5;172;40m[\u001b[0m\u001b[38;5;172;40mWarning\u001b[0m\u001b[1;38;5;172;40m]\u001b[0m\u001b[38;5;172;40m It's best to declare units for every parameter in a model\u001b[0m                      \u001b[2m                 \u001b[0m\n",
       "         As a principle of best modeling practice, the units of a \u001b[1m<\u001b[0m\u001b[1;95mparameter\u001b[0m\u001b[39m> should be declared \u001b[0m \u001b[2m                 \u001b[0m\n",
       "         \u001b[39mrather than be left undefined. Doing so improves the ability of software to check the \u001b[0m   \u001b[2m                 \u001b[0m\n",
       "         \u001b[39mconsistency of units and helps make it easier to detect potential errors in models.\u001b[0m      \u001b[2m                 \u001b[0m\n",
       "         \u001b[39m The <parameter\u001b[0m\u001b[1m>\u001b[0m with the id \u001b[32m'ps_a'\u001b[0m does not have a \u001b[32m'units'\u001b[0m attribute.                   \u001b[2m                 \u001b[0m\n",
       "                                                                                                  \u001b[2m                 \u001b[0m\n"
      ]
     },
     "metadata": {},
     "output_type": "display_data"
    },
    {
     "data": {
      "text/html": [
       "<pre style=\"white-space:pre;overflow-x:auto;line-height:normal;font-family:Menlo,'DejaVu Sans Mono',consolas,'Courier New',monospace\"><span style=\"color: #800000; text-decoration-color: #800000\">WARNING </span> <span style=\"color: #000000; text-decoration-color: #000000; background-color: #c0c0c0\">E28: Modeling practice </span><span style=\"color: #000000; text-decoration-color: #000000; background-color: #c0c0c0; font-weight: bold\">(</span><span style=\"color: #000000; text-decoration-color: #000000; background-color: #c0c0c0\">core, L214, code</span><span style=\"color: #000000; text-decoration-color: #000000; background-color: #c0c0c0; font-weight: bold\">)</span>                                                <a href=\"file:///home/vboxuser/.local/lib/python3.10/site-packages/sbmlutils/validation.py\" target=\"_blank\"><span style=\"color: #7f7f7f; text-decoration-color: #7f7f7f\">validation.py</span></a><span style=\"color: #7f7f7f; text-decoration-color: #7f7f7f\">:</span><a href=\"file:///home/vboxuser/.local/lib/python3.10/site-packages/sbmlutils/validation.py#186\" target=\"_blank\"><span style=\"color: #7f7f7f; text-decoration-color: #7f7f7f\">186</span></a>\n",
       "         <span style=\"color: #d78700; text-decoration-color: #d78700; background-color: #000000; font-weight: bold\">[</span><span style=\"color: #d78700; text-decoration-color: #d78700; background-color: #000000\">Warning</span><span style=\"color: #d78700; text-decoration-color: #d78700; background-color: #000000; font-weight: bold\">]</span><span style=\"color: #d78700; text-decoration-color: #d78700; background-color: #000000\"> It's best to declare units for every parameter in a model</span>                      <span style=\"color: #7f7f7f; text-decoration-color: #7f7f7f\">                 </span>\n",
       "         As a principle of best modeling practice, the units of a <span style=\"font-weight: bold\">&lt;</span><span style=\"color: #ff00ff; text-decoration-color: #ff00ff; font-weight: bold\">parameter</span><span style=\"color: #000000; text-decoration-color: #000000\">&gt; should be declared </span> <span style=\"color: #7f7f7f; text-decoration-color: #7f7f7f\">                 </span>\n",
       "         <span style=\"color: #000000; text-decoration-color: #000000\">rather than be left undefined. Doing so improves the ability of software to check the </span>   <span style=\"color: #7f7f7f; text-decoration-color: #7f7f7f\">                 </span>\n",
       "         <span style=\"color: #000000; text-decoration-color: #000000\">consistency of units and helps make it easier to detect potential errors in models.</span>      <span style=\"color: #7f7f7f; text-decoration-color: #7f7f7f\">                 </span>\n",
       "         <span style=\"color: #000000; text-decoration-color: #000000\"> The &lt;parameter</span><span style=\"font-weight: bold\">&gt;</span> with the id <span style=\"color: #008000; text-decoration-color: #008000\">'KM'</span> does not have a <span style=\"color: #008000; text-decoration-color: #008000\">'units'</span> attribute.                     <span style=\"color: #7f7f7f; text-decoration-color: #7f7f7f\">                 </span>\n",
       "                                                                                                  <span style=\"color: #7f7f7f; text-decoration-color: #7f7f7f\">                 </span>\n",
       "</pre>\n"
      ],
      "text/plain": [
       "\u001b[31mWARNING \u001b[0m \u001b[30;47mE28: Modeling practice \u001b[0m\u001b[1;30;47m(\u001b[0m\u001b[30;47mcore, L214, code\u001b[0m\u001b[1;30;47m)\u001b[0m                                                \u001b]8;id=151177;file:///home/vboxuser/.local/lib/python3.10/site-packages/sbmlutils/validation.py\u001b\\\u001b[2mvalidation.py\u001b[0m\u001b]8;;\u001b\\\u001b[2m:\u001b[0m\u001b]8;id=309030;file:///home/vboxuser/.local/lib/python3.10/site-packages/sbmlutils/validation.py#186\u001b\\\u001b[2m186\u001b[0m\u001b]8;;\u001b\\\n",
       "         \u001b[1;38;5;172;40m[\u001b[0m\u001b[38;5;172;40mWarning\u001b[0m\u001b[1;38;5;172;40m]\u001b[0m\u001b[38;5;172;40m It's best to declare units for every parameter in a model\u001b[0m                      \u001b[2m                 \u001b[0m\n",
       "         As a principle of best modeling practice, the units of a \u001b[1m<\u001b[0m\u001b[1;95mparameter\u001b[0m\u001b[39m> should be declared \u001b[0m \u001b[2m                 \u001b[0m\n",
       "         \u001b[39mrather than be left undefined. Doing so improves the ability of software to check the \u001b[0m   \u001b[2m                 \u001b[0m\n",
       "         \u001b[39mconsistency of units and helps make it easier to detect potential errors in models.\u001b[0m      \u001b[2m                 \u001b[0m\n",
       "         \u001b[39m The <parameter\u001b[0m\u001b[1m>\u001b[0m with the id \u001b[32m'KM'\u001b[0m does not have a \u001b[32m'units'\u001b[0m attribute.                     \u001b[2m                 \u001b[0m\n",
       "                                                                                                  \u001b[2m                 \u001b[0m\n"
      ]
     },
     "metadata": {},
     "output_type": "display_data"
    },
    {
     "data": {
      "text/html": [
       "<pre style=\"white-space:pre;overflow-x:auto;line-height:normal;font-family:Menlo,'DejaVu Sans Mono',consolas,'Courier New',monospace\"><span style=\"color: #800000; text-decoration-color: #800000\">WARNING </span> <span style=\"color: #000000; text-decoration-color: #000000; background-color: #c0c0c0\">E29: Modeling practice </span><span style=\"color: #000000; text-decoration-color: #000000; background-color: #c0c0c0; font-weight: bold\">(</span><span style=\"color: #000000; text-decoration-color: #000000; background-color: #c0c0c0\">core, L215, code</span><span style=\"color: #000000; text-decoration-color: #000000; background-color: #c0c0c0; font-weight: bold\">)</span>                                                <a href=\"file:///home/vboxuser/.local/lib/python3.10/site-packages/sbmlutils/validation.py\" target=\"_blank\"><span style=\"color: #7f7f7f; text-decoration-color: #7f7f7f\">validation.py</span></a><span style=\"color: #7f7f7f; text-decoration-color: #7f7f7f\">:</span><a href=\"file:///home/vboxuser/.local/lib/python3.10/site-packages/sbmlutils/validation.py#186\" target=\"_blank\"><span style=\"color: #7f7f7f; text-decoration-color: #7f7f7f\">186</span></a>\n",
       "         <span style=\"color: #d78700; text-decoration-color: #d78700; background-color: #000000; font-weight: bold\">[</span><span style=\"color: #d78700; text-decoration-color: #d78700; background-color: #000000\">Warning</span><span style=\"color: #d78700; text-decoration-color: #d78700; background-color: #000000; font-weight: bold\">]</span><span style=\"color: #d78700; text-decoration-color: #d78700; background-color: #000000\"> It's best to declare units for every parameter in a model</span>                      <span style=\"color: #7f7f7f; text-decoration-color: #7f7f7f\">                 </span>\n",
       "         As a principle of best modeling practice, the units of a <span style=\"font-weight: bold\">&lt;</span><span style=\"color: #ff00ff; text-decoration-color: #ff00ff; font-weight: bold\">parameter</span><span style=\"color: #000000; text-decoration-color: #000000\">&gt; should be declared </span> <span style=\"color: #7f7f7f; text-decoration-color: #7f7f7f\">                 </span>\n",
       "         <span style=\"color: #000000; text-decoration-color: #000000\">rather than be left undefined. Doing so improves the ability of software to check the </span>   <span style=\"color: #7f7f7f; text-decoration-color: #7f7f7f\">                 </span>\n",
       "         <span style=\"color: #000000; text-decoration-color: #000000\">consistency of units and helps make it easier to detect potential errors in models.</span>      <span style=\"color: #7f7f7f; text-decoration-color: #7f7f7f\">                 </span>\n",
       "         <span style=\"color: #000000; text-decoration-color: #000000\"> The &lt;parameter</span><span style=\"font-weight: bold\">&gt;</span> with the id <span style=\"color: #008000; text-decoration-color: #008000\">'n'</span> does not have a <span style=\"color: #008000; text-decoration-color: #008000\">'units'</span> attribute.                      <span style=\"color: #7f7f7f; text-decoration-color: #7f7f7f\">                 </span>\n",
       "                                                                                                  <span style=\"color: #7f7f7f; text-decoration-color: #7f7f7f\">                 </span>\n",
       "</pre>\n"
      ],
      "text/plain": [
       "\u001b[31mWARNING \u001b[0m \u001b[30;47mE29: Modeling practice \u001b[0m\u001b[1;30;47m(\u001b[0m\u001b[30;47mcore, L215, code\u001b[0m\u001b[1;30;47m)\u001b[0m                                                \u001b]8;id=201305;file:///home/vboxuser/.local/lib/python3.10/site-packages/sbmlutils/validation.py\u001b\\\u001b[2mvalidation.py\u001b[0m\u001b]8;;\u001b\\\u001b[2m:\u001b[0m\u001b]8;id=455407;file:///home/vboxuser/.local/lib/python3.10/site-packages/sbmlutils/validation.py#186\u001b\\\u001b[2m186\u001b[0m\u001b]8;;\u001b\\\n",
       "         \u001b[1;38;5;172;40m[\u001b[0m\u001b[38;5;172;40mWarning\u001b[0m\u001b[1;38;5;172;40m]\u001b[0m\u001b[38;5;172;40m It's best to declare units for every parameter in a model\u001b[0m                      \u001b[2m                 \u001b[0m\n",
       "         As a principle of best modeling practice, the units of a \u001b[1m<\u001b[0m\u001b[1;95mparameter\u001b[0m\u001b[39m> should be declared \u001b[0m \u001b[2m                 \u001b[0m\n",
       "         \u001b[39mrather than be left undefined. Doing so improves the ability of software to check the \u001b[0m   \u001b[2m                 \u001b[0m\n",
       "         \u001b[39mconsistency of units and helps make it easier to detect potential errors in models.\u001b[0m      \u001b[2m                 \u001b[0m\n",
       "         \u001b[39m The <parameter\u001b[0m\u001b[1m>\u001b[0m with the id \u001b[32m'n'\u001b[0m does not have a \u001b[32m'units'\u001b[0m attribute.                      \u001b[2m                 \u001b[0m\n",
       "                                                                                                  \u001b[2m                 \u001b[0m\n"
      ]
     },
     "metadata": {},
     "output_type": "display_data"
    },
    {
     "data": {
      "text/html": [
       "<pre style=\"white-space:pre;overflow-x:auto;line-height:normal;font-family:Menlo,'DejaVu Sans Mono',consolas,'Courier New',monospace\"><span style=\"color: #800000; text-decoration-color: #800000\">WARNING </span> <span style=\"color: #000000; text-decoration-color: #000000; background-color: #c0c0c0\">E30: Modeling practice </span><span style=\"color: #000000; text-decoration-color: #000000; background-color: #c0c0c0; font-weight: bold\">(</span><span style=\"color: #000000; text-decoration-color: #000000; background-color: #c0c0c0\">core, L216, code</span><span style=\"color: #000000; text-decoration-color: #000000; background-color: #c0c0c0; font-weight: bold\">)</span>                                                <a href=\"file:///home/vboxuser/.local/lib/python3.10/site-packages/sbmlutils/validation.py\" target=\"_blank\"><span style=\"color: #7f7f7f; text-decoration-color: #7f7f7f\">validation.py</span></a><span style=\"color: #7f7f7f; text-decoration-color: #7f7f7f\">:</span><a href=\"file:///home/vboxuser/.local/lib/python3.10/site-packages/sbmlutils/validation.py#186\" target=\"_blank\"><span style=\"color: #7f7f7f; text-decoration-color: #7f7f7f\">186</span></a>\n",
       "         <span style=\"color: #d78700; text-decoration-color: #d78700; background-color: #000000; font-weight: bold\">[</span><span style=\"color: #d78700; text-decoration-color: #d78700; background-color: #000000\">Warning</span><span style=\"color: #d78700; text-decoration-color: #d78700; background-color: #000000; font-weight: bold\">]</span><span style=\"color: #d78700; text-decoration-color: #d78700; background-color: #000000\"> It's best to declare units for every parameter in a model</span>                      <span style=\"color: #7f7f7f; text-decoration-color: #7f7f7f\">                 </span>\n",
       "         As a principle of best modeling practice, the units of a <span style=\"font-weight: bold\">&lt;</span><span style=\"color: #ff00ff; text-decoration-color: #ff00ff; font-weight: bold\">parameter</span><span style=\"color: #000000; text-decoration-color: #000000\">&gt; should be declared </span> <span style=\"color: #7f7f7f; text-decoration-color: #7f7f7f\">                 </span>\n",
       "         <span style=\"color: #000000; text-decoration-color: #000000\">rather than be left undefined. Doing so improves the ability of software to check the </span>   <span style=\"color: #7f7f7f; text-decoration-color: #7f7f7f\">                 </span>\n",
       "         <span style=\"color: #000000; text-decoration-color: #000000\">consistency of units and helps make it easier to detect potential errors in models.</span>      <span style=\"color: #7f7f7f; text-decoration-color: #7f7f7f\">                 </span>\n",
       "         <span style=\"color: #000000; text-decoration-color: #000000\"> The &lt;parameter</span><span style=\"font-weight: bold\">&gt;</span> with the id <span style=\"color: #008000; text-decoration-color: #008000\">'a_tr'</span> does not have a <span style=\"color: #008000; text-decoration-color: #008000\">'units'</span> attribute.                   <span style=\"color: #7f7f7f; text-decoration-color: #7f7f7f\">                 </span>\n",
       "                                                                                                  <span style=\"color: #7f7f7f; text-decoration-color: #7f7f7f\">                 </span>\n",
       "</pre>\n"
      ],
      "text/plain": [
       "\u001b[31mWARNING \u001b[0m \u001b[30;47mE30: Modeling practice \u001b[0m\u001b[1;30;47m(\u001b[0m\u001b[30;47mcore, L216, code\u001b[0m\u001b[1;30;47m)\u001b[0m                                                \u001b]8;id=866495;file:///home/vboxuser/.local/lib/python3.10/site-packages/sbmlutils/validation.py\u001b\\\u001b[2mvalidation.py\u001b[0m\u001b]8;;\u001b\\\u001b[2m:\u001b[0m\u001b]8;id=327844;file:///home/vboxuser/.local/lib/python3.10/site-packages/sbmlutils/validation.py#186\u001b\\\u001b[2m186\u001b[0m\u001b]8;;\u001b\\\n",
       "         \u001b[1;38;5;172;40m[\u001b[0m\u001b[38;5;172;40mWarning\u001b[0m\u001b[1;38;5;172;40m]\u001b[0m\u001b[38;5;172;40m It's best to declare units for every parameter in a model\u001b[0m                      \u001b[2m                 \u001b[0m\n",
       "         As a principle of best modeling practice, the units of a \u001b[1m<\u001b[0m\u001b[1;95mparameter\u001b[0m\u001b[39m> should be declared \u001b[0m \u001b[2m                 \u001b[0m\n",
       "         \u001b[39mrather than be left undefined. Doing so improves the ability of software to check the \u001b[0m   \u001b[2m                 \u001b[0m\n",
       "         \u001b[39mconsistency of units and helps make it easier to detect potential errors in models.\u001b[0m      \u001b[2m                 \u001b[0m\n",
       "         \u001b[39m The <parameter\u001b[0m\u001b[1m>\u001b[0m with the id \u001b[32m'a_tr'\u001b[0m does not have a \u001b[32m'units'\u001b[0m attribute.                   \u001b[2m                 \u001b[0m\n",
       "                                                                                                  \u001b[2m                 \u001b[0m\n"
      ]
     },
     "metadata": {},
     "output_type": "display_data"
    },
    {
     "data": {
      "text/html": [
       "<pre style=\"white-space:pre;overflow-x:auto;line-height:normal;font-family:Menlo,'DejaVu Sans Mono',consolas,'Courier New',monospace\"><span style=\"color: #c0c0c0; text-decoration-color: #c0c0c0\">───────────────────────────────────────────────────────────────────────────────────────────────────────────────────</span>\n",
       "</pre>\n"
      ],
      "text/plain": [
       "\u001b[37m───────────────────────────────────────────────────────────────────────────────────────────────────────────────────\u001b[0m\n"
      ]
     },
     "metadata": {},
     "output_type": "display_data"
    },
    {
     "data": {
      "text/html": [
       "<pre style=\"white-space:pre;overflow-x:auto;line-height:normal;font-family:Menlo,'DejaVu Sans Mono',consolas,'Courier New',monospace\"><span style=\"color: #c0c0c0; text-decoration-color: #c0c0c0\">───────────────────────────────────────────────────────────────────────────────────────────────────────────────────</span>\n",
       "</pre>\n"
      ],
      "text/plain": [
       "\u001b[37m───────────────────────────────────────────────────────────────────────────────────────────────────────────────────\u001b[0m\n"
      ]
     },
     "metadata": {},
     "output_type": "display_data"
    }
   ],
   "source": [
    "if __name__ == \"__main__\":\n",
    "    # RESOURCES_DIR: Path = Path(__file__).parent / \"resources\"\n",
    "    # RESULTS_DIR: Path = RESOURCES_DIR / \"results\"\n",
    "\n",
    "    sbml_path = RESULTS_DIR / \"repressilator_sbml_sbmlutils.xml\"\n",
    "    os.makedirs(os.path.dirname(str(sbml_path)), exist_ok=True)\n",
    "    create_repressilator(sbml_path=sbml_path)"
   ]
  }
 ],
 "metadata": {
  "jupytext": {
   "cell_metadata_filter": "-all",
   "main_language": "python",
   "notebook_metadata_filter": "-all"
  },
  "kernelspec": {
   "display_name": "Python 3",
   "language": "python",
   "name": "python3"
  },
  "language_info": {
   "codemirror_mode": {
    "name": "ipython",
    "version": 3
   },
   "file_extension": ".py",
   "mimetype": "text/x-python",
   "name": "python",
   "nbconvert_exporter": "python",
   "pygments_lexer": "ipython3",
   "version": "3.10.6"
  }
 },
 "nbformat": 4,
 "nbformat_minor": 5
}
