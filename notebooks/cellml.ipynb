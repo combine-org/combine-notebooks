{
 "cells": [
  {
   "attachments": {},
   "cell_type": "markdown",
   "metadata": {},
   "source": [
    "[![Binder](https://mybinder.org/badge_logo.svg)](https://mybinder.org/v2/gh/combine-org/combine-notebooks/main?labpath=notebooks%2Fcellml.ipynb)\n",
    "<a href=\"https://colab.research.google.com/github/combine-org/combine-notebooks/blob/main/notebooks/cellml.ipynb\" target=\"_parent\"><img src=\"https://colab.research.google.com/assets/colab-badge.svg\" alt=\"Open In Colab\\\"/></a>"
   ]
  },
  {
   "attachments": {},
   "cell_type": "markdown",
   "metadata": {},
   "source": [
    "# Simple CellML example\n"
   ]
  },
  {
   "attachments": {},
   "cell_type": "markdown",
   "metadata": {},
   "source": [
    "This notebook creates a simple model in [CellML version 2](https://www.cellml.org/specifications/cellml_2.0/cellml_2_0_normative_specification.pdf) for illustration.  It is based on the libCellML tutorial series which can be found [here](https://libcellml.org/documentation/v0.4.0/user/tutorials/index).  The CellML we create here is a simple model for the growth in the number of cancer cells over time.  The libCellML library is used to build the model (including mathmatical formulations) and then simulate it.  The result of that simulation can be seen below.\n",
    "\n",
    "<center>\n",
    "<img src=\"./results/cellml_plot.png\" alt=\"CellML Simulation Plot\">\n",
    "</center>"
   ]
  },
  {
   "attachments": {},
   "cell_type": "markdown",
   "metadata": {
    "editable": true,
    "slideshow": {
     "slide_type": ""
    },
    "tags": []
   },
   "source": [
    "## 1) Including libraries and helper functions\n",
    "\n",
    "Note: if the cell below is hidden, click on the dost to the left to view."
   ]
  },
  {
   "cell_type": "code",
   "execution_count": 1,
   "metadata": {
    "editable": true,
    "jupyter": {
     "source_hidden": true
    },
    "slideshow": {
     "slide_type": ""
    },
    "tags": [
     "hide-input"
    ]
   },
   "outputs": [
    {
     "name": "stdout",
     "output_type": "stream",
     "text": [
      "Results will be saved in /Users/padraig/git/combine-notebooks/notebooks/results\n"
     ]
    }
   ],
   "source": [
    "#note: metadata hides this cell on binder but it doesn't get hidden on colab\n",
    "from pathlib import Path\n",
    "\n",
    "#determine if we're running on colab\n",
    "try:\n",
    "  import google.colab\n",
    "  exec_env = \"colab\"      #we seem to be on colab\n",
    "  print(\"Assuming this notebook is running on Google Colab\")\n",
    "except:\n",
    "  exec_env = \"binder\"     #assume it's binder\n",
    "\n",
    "if exec_env == \"colab\":\n",
    "  working_dir = f\"{Path.cwd()}/combine-notebooks/notebooks/results\"\n",
    "  !git clone https://github.com/combine-org/combine-notebooks\n",
    "  %cd combine-notebooks\n",
    "  !pip install .\n",
    "  %mkdir -p {working_dir}\n",
    "\n",
    "else:\n",
    "  #binder starts off in the notebook's folder\n",
    "  working_dir = f\"{Path.cwd()}/results\"\n",
    "\n",
    "import os\n",
    "os.chdir(working_dir)\n",
    "\n",
    "print(\"Results will be saved in %s\"%working_dir)"
   ]
  },
  {
   "cell_type": "code",
   "execution_count": 2,
   "metadata": {},
   "outputs": [],
   "source": [
    "from pathlib import Path\n",
    "\n",
    "import importlib.util\n",
    "from libcellml import Analyser, Component, Generator, GeneratorProfile, Model, Printer, Units, Validator, Variable\n",
    "import matplotlib.pyplot as plt\n",
    "\n",
    "from combine_notebooks.cellml_utilities import print_model, print_issues"
   ]
  },
  {
   "cell_type": "code",
   "execution_count": 3,
   "metadata": {},
   "outputs": [],
   "source": [
    "def pretty_print(model : Model, old_model : Model = None):\n",
    "    # Print the new model.\n",
    "    printer = Printer()\n",
    "    new_model_xml = printer.printModel(model)\n",
    "    # Print the entire model in red.\n",
    "    if old_model == None:\n",
    "        print(\"\\x1b[31m\" + new_model_xml + \"\\x1b[0m\") # ANSI escape used to print colours here.\n",
    "    # If an old model is also given, highlight the lines that have changed.\n",
    "    else:\n",
    "        # Print the old model\n",
    "        old_model_xml = printer.printModel(old_model)\n",
    "        # Iterate over each new line\n",
    "        old_model_xml_lines = old_model_xml.split('\\n')\n",
    "        for new_model_line in new_model_xml.split('\\n'):\n",
    "            # Print any new lines in red, otherwise print normally.\n",
    "            if new_model_line in old_model_xml_lines:\n",
    "                print(new_model_line)\n",
    "            else:\n",
    "                print(\"\\x1b[31m\" + new_model_line + \"\\x1b[0m\") # ANSI escape used to print colours here."
   ]
  },
  {
   "attachments": {},
   "cell_type": "markdown",
   "metadata": {},
   "source": [
    "## 2) Declaring the CellML model"
   ]
  },
  {
   "attachments": {},
   "cell_type": "markdown",
   "metadata": {},
   "source": [
    "We want to encode the following model in CellML:\n",
    "\n",
    "$$\\frac{dx}{dt} = C t$$\n",
    " \n",
    "where $x$ is the total number of cancer cells, $t$ is time, and $C$ is some constant.\n",
    "\n",
    "But, first, we need to create a `Model` object."
   ]
  },
  {
   "cell_type": "code",
   "execution_count": 4,
   "metadata": {},
   "outputs": [
    {
     "name": "stdout",
     "output_type": "stream",
     "text": [
      "\u001b[31m<?xml version=\"1.0\" encoding=\"UTF-8\"?>\n",
      "<model xmlns=\"http://www.cellml.org/cellml/2.0#\"/>\n",
      "\u001b[0m\n"
     ]
    }
   ],
   "source": [
    "model = Model()\n",
    "\n",
    "pretty_print(model)"
   ]
  },
  {
   "attachments": {},
   "cell_type": "markdown",
   "metadata": {},
   "source": [
    "All CellML elements must have a name, which is set using `setName()`. A CellML element can also have an id assigned to it using `setId()`. (An id is needed if you want to annotate a CellML element.)"
   ]
  },
  {
   "cell_type": "code",
   "execution_count": 5,
   "metadata": {},
   "outputs": [
    {
     "name": "stdout",
     "output_type": "stream",
     "text": [
      "<?xml version=\"1.0\" encoding=\"UTF-8\"?>\n",
      "\u001b[31m<model xmlns=\"http://www.cellml.org/cellml/2.0#\" name=\"tutorial_model\" id=\"tutorial_model_id\"/>\u001b[0m\n",
      "\n"
     ]
    }
   ],
   "source": [
    "old_model = model.clone()\n",
    "\n",
    "model.setName(\"tutorial_model\")\n",
    "model.setId(\"tutorial_model_id\")\n",
    "\n",
    "pretty_print(model, old_model)"
   ]
  },
  {
   "attachments": {},
   "cell_type": "markdown",
   "metadata": {},
   "source": [
    "Next, we need to create some units so that we can specify the units of our variables. Units are used to ensure that equations are dimensionally consistent. For example, if we have a variable $x$ which is a length, and another variable $t$ which is a time, then we cannot add them together. However, if we multiply $t$ by a velocity, then we can add it to $x$.\n",
    "\n",
    "CellML comes with some built-in units comprising of [SI base units](https://en.wikipedia.org/wiki/SI_base_unit) (e.g., `ampere`, `metre`, and `second`), [SI derived units](https://en.wikipedia.org/wiki/SI_derived_unit) (e.g., `coulomb`, `joule`, and `volt`), and some convenience units (`dimensionless`, `gram`, and `litre`). We can use these units to create new units, as well as create new base units.\n",
    "\n",
    "For our model, we will create a new base unit `cell` for `x`, use the SI base unit `second` for $t$, and create a new derived unit `cell_per_second2` for $C$."
   ]
  },
  {
   "cell_type": "code",
   "execution_count": 6,
   "metadata": {},
   "outputs": [
    {
     "name": "stdout",
     "output_type": "stream",
     "text": [
      "<?xml version=\"1.0\" encoding=\"UTF-8\"?>\n",
      "\u001b[31m<model xmlns=\"http://www.cellml.org/cellml/2.0#\" name=\"tutorial_model\" id=\"tutorial_model_id\">\u001b[0m\n",
      "\u001b[31m  <units name=\"cell\"/>\u001b[0m\n",
      "\u001b[31m  <units name=\"cell_per_second2\">\u001b[0m\n",
      "\u001b[31m    <unit units=\"cell\"/>\u001b[0m\n",
      "\u001b[31m    <unit exponent=\"-2\" units=\"second\"/>\u001b[0m\n",
      "\u001b[31m  </units>\u001b[0m\n",
      "\u001b[31m</model>\u001b[0m\n",
      "\n"
     ]
    }
   ],
   "source": [
    "old_model = model.clone()\n",
    "\n",
    "cell_unit = Units(\"cell\")\n",
    "model.addUnits(cell_unit)\n",
    "\n",
    "cell_per_second2_unit = Units()\n",
    "cell_per_second2_unit.setName(\"cell_per_second2\")\n",
    "cell_per_second2_unit.addUnit(\"cell\")\n",
    "cell_per_second2_unit.addUnit(\"second\", -2)\n",
    "model.addUnits(cell_per_second2_unit)\n",
    "\n",
    "pretty_print(model, old_model)"
   ]
  },
  {
   "attachments": {},
   "cell_type": "markdown",
   "metadata": {},
   "source": [
    "Next, we create a wrapper component which purpose is to encapsulate (and therefore hide) other components. This makes it easier to reuse models since the connections between the encapsulated components will not need to be re-established. Note that the constructor for all named CellML elements is overloaded, so you can pass its name at the time of creation."
   ]
  },
  {
   "cell_type": "code",
   "execution_count": 7,
   "metadata": {},
   "outputs": [],
   "source": [
    "component = Component(\"cancer_cells_component\")"
   ]
  },
  {
   "attachments": {},
   "cell_type": "markdown",
   "metadata": {},
   "source": [
    "This done, we need to add the component to the model. This sets it at the top-level of the components' encapsulation hierarchy. All other components need to be added to this component, rather than the model."
   ]
  },
  {
   "cell_type": "code",
   "execution_count": 8,
   "metadata": {},
   "outputs": [
    {
     "name": "stdout",
     "output_type": "stream",
     "text": [
      "<?xml version=\"1.0\" encoding=\"UTF-8\"?>\n",
      "<model xmlns=\"http://www.cellml.org/cellml/2.0#\" name=\"tutorial_model\" id=\"tutorial_model_id\">\n",
      "  <units name=\"cell\"/>\n",
      "  <units name=\"cell_per_second2\">\n",
      "    <unit units=\"cell\"/>\n",
      "    <unit exponent=\"-2\" units=\"second\"/>\n",
      "  </units>\n",
      "\u001b[31m  <component name=\"cancer_cells_component\"/>\u001b[0m\n",
      "</model>\n",
      "\n"
     ]
    }
   ],
   "source": [
    "old_model = model.clone()\n",
    "\n",
    "model.addComponent(component)\n",
    "\n",
    "pretty_print(model, old_model)"
   ]
  },
  {
   "attachments": {},
   "cell_type": "markdown",
   "metadata": {},
   "source": [
    "Now that we have a component, we can declare the variables that we need to compute our model."
   ]
  },
  {
   "cell_type": "code",
   "execution_count": 9,
   "metadata": {},
   "outputs": [
    {
     "name": "stdout",
     "output_type": "stream",
     "text": [
      "<?xml version=\"1.0\" encoding=\"UTF-8\"?>\n",
      "<model xmlns=\"http://www.cellml.org/cellml/2.0#\" name=\"tutorial_model\" id=\"tutorial_model_id\">\n",
      "  <units name=\"cell\"/>\n",
      "  <units name=\"cell_per_second2\">\n",
      "    <unit units=\"cell\"/>\n",
      "    <unit exponent=\"-2\" units=\"second\"/>\n",
      "  </units>\n",
      "\u001b[31m  <component name=\"cancer_cells_component\">\u001b[0m\n",
      "\u001b[31m    <variable name=\"x\" units=\"cell\"/>\u001b[0m\n",
      "\u001b[31m    <variable name=\"t\" units=\"second\"/>\u001b[0m\n",
      "\u001b[31m    <variable name=\"C\" units=\"cell_per_second2\"/>\u001b[0m\n",
      "\u001b[31m  </component>\u001b[0m\n",
      "</model>\n",
      "\n"
     ]
    }
   ],
   "source": [
    "old_model = model.clone()\n",
    "\n",
    "x = Variable(\"x\")\n",
    "x.setUnits(cell_unit)\n",
    "component.addVariable(x)\n",
    "\n",
    "t = Variable(\"t\")\n",
    "t.setUnits(\"second\")\n",
    "component.addVariable(t)\n",
    "\n",
    "C = Variable(\"C\")\n",
    "C.setUnits(cell_per_second2_unit)\n",
    "component.addVariable(C)\n",
    "\n",
    "pretty_print(model, old_model)"
   ]
  },
  {
   "attachments": {},
   "cell_type": "markdown",
   "metadata": {},
   "source": [
    "Equations are modelled using [MathML 2](https://www.w3.org/TR/MathML2/) strings."
   ]
  },
  {
   "cell_type": "code",
   "execution_count": 10,
   "metadata": {},
   "outputs": [],
   "source": [
    "# Create the MathML 2 string representing the governing equations.  \n",
    "equation = \\\n",
    "  \"\"\"\n",
    "  <math xmlns=\"http://www.w3.org/1998/Math/MathML\" xmlns:cellml=\"http://www.cellml.org/cellml/2.0#\">\n",
    "    <apply><eq/>\n",
    "      <apply><diff/>\n",
    "        <bvar><ci>t</ci></bvar>\n",
    "        <ci>x</ci>\n",
    "      </apply>\n",
    "      <apply><times/>\n",
    "        <ci>C</ci>\n",
    "        <ci>t</ci>\n",
    "      </apply>\n",
    "    </apply>\n",
    "  </math>\n",
    "  \"\"\""
   ]
  },
  {
   "attachments": {},
   "cell_type": "markdown",
   "metadata": {},
   "source": [
    "Include the MathML 2 string in the component."
   ]
  },
  {
   "cell_type": "code",
   "execution_count": 11,
   "metadata": {},
   "outputs": [
    {
     "name": "stdout",
     "output_type": "stream",
     "text": [
      "<?xml version=\"1.0\" encoding=\"UTF-8\"?>\n",
      "<model xmlns=\"http://www.cellml.org/cellml/2.0#\" name=\"tutorial_model\" id=\"tutorial_model_id\">\n",
      "  <units name=\"cell\"/>\n",
      "  <units name=\"cell_per_second2\">\n",
      "    <unit units=\"cell\"/>\n",
      "    <unit exponent=\"-2\" units=\"second\"/>\n",
      "  </units>\n",
      "  <component name=\"cancer_cells_component\">\n",
      "    <variable name=\"x\" units=\"cell\"/>\n",
      "    <variable name=\"t\" units=\"second\"/>\n",
      "    <variable name=\"C\" units=\"cell_per_second2\"/>\n",
      "\u001b[31m    <math xmlns=\"http://www.w3.org/1998/Math/MathML\" xmlns:cellml=\"http://www.cellml.org/cellml/2.0#\">\u001b[0m\n",
      "\u001b[31m      <apply>\u001b[0m\n",
      "\u001b[31m        <eq/>\u001b[0m\n",
      "\u001b[31m        <apply>\u001b[0m\n",
      "\u001b[31m          <diff/>\u001b[0m\n",
      "\u001b[31m          <bvar>\u001b[0m\n",
      "\u001b[31m            <ci>t</ci>\u001b[0m\n",
      "\u001b[31m          </bvar>\u001b[0m\n",
      "\u001b[31m          <ci>x</ci>\u001b[0m\n",
      "\u001b[31m        </apply>\u001b[0m\n",
      "\u001b[31m        <apply>\u001b[0m\n",
      "\u001b[31m          <times/>\u001b[0m\n",
      "\u001b[31m          <ci>C</ci>\u001b[0m\n",
      "\u001b[31m          <ci>t</ci>\u001b[0m\n",
      "\u001b[31m        </apply>\u001b[0m\n",
      "\u001b[31m      </apply>\u001b[0m\n",
      "\u001b[31m    </math>\u001b[0m\n",
      "  </component>\n",
      "</model>\n",
      "\n"
     ]
    }
   ],
   "source": [
    "old_model = model.clone()\n",
    "\n",
    "component.setMath(equation)\n",
    "\n",
    "pretty_print(model, old_model)"
   ]
  },
  {
   "attachments": {},
   "cell_type": "markdown",
   "metadata": {},
   "source": [
    "## 3) Write, print, and validate the generated model"
   ]
  },
  {
   "attachments": {},
   "cell_type": "markdown",
   "metadata": {},
   "source": [
    "Print the model to using the `print_model()` helper function and check that it is what we would expect."
   ]
  },
  {
   "cell_type": "code",
   "execution_count": 12,
   "metadata": {},
   "outputs": [
    {
     "name": "stdout",
     "output_type": "stream",
     "text": [
      "MODEL: 'tutorial_model', id: 'tutorial_model_id'\n",
      "    UNITS: 2 custom units\n",
      "        [0]: cell\n",
      "        [1]: cell_per_second2\n",
      "    COMPONENTS: 1 components\n",
      "        [0]: 'cancer_cells_component'\n",
      "            VARIABLES: 3 variables\n",
      "                [0]: x [cell]\n",
      "                [1]: t [second]\n",
      "                [2]: C [cell_per_second2]\n"
     ]
    }
   ],
   "source": [
    "print_model(model)"
   ]
  },
  {
   "attachments": {},
   "cell_type": "markdown",
   "metadata": {},
   "source": [
    "Create a validator and use it to check the model for issues."
   ]
  },
  {
   "cell_type": "code",
   "execution_count": 13,
   "metadata": {},
   "outputs": [
    {
     "name": "stdout",
     "output_type": "stream",
     "text": [
      "Recorded 0 issues!\n",
      "\n"
     ]
    }
   ],
   "source": [
    "validator = Validator()\n",
    "validator.validateModel(model)\n",
    "print_issues(validator)"
   ]
  },
  {
   "attachments": {},
   "cell_type": "markdown",
   "metadata": {},
   "source": [
    "Save the model to a `.cellml` file and print the raw CellML text."
   ]
  },
  {
   "cell_type": "code",
   "execution_count": 14,
   "metadata": {},
   "outputs": [
    {
     "name": "stdout",
     "output_type": "stream",
     "text": [
      "<?xml version=\"1.0\" encoding=\"UTF-8\"?>\n",
      "<model xmlns=\"http://www.cellml.org/cellml/2.0#\" name=\"tutorial_model\" id=\"tutorial_model_id\">\n",
      "  <units name=\"cell\"/>\n",
      "  <units name=\"cell_per_second2\">\n",
      "    <unit units=\"cell\"/>\n",
      "    <unit exponent=\"-2\" units=\"second\"/>\n",
      "  </units>\n",
      "  <component name=\"cancer_cells_component\">\n",
      "    <variable name=\"x\" units=\"cell\"/>\n",
      "    <variable name=\"t\" units=\"second\"/>\n",
      "    <variable name=\"C\" units=\"cell_per_second2\"/>\n",
      "    <math xmlns=\"http://www.w3.org/1998/Math/MathML\" xmlns:cellml=\"http://www.cellml.org/cellml/2.0#\">\n",
      "      <apply>\n",
      "        <eq/>\n",
      "        <apply>\n",
      "          <diff/>\n",
      "          <bvar>\n",
      "            <ci>t</ci>\n",
      "          </bvar>\n",
      "          <ci>x</ci>\n",
      "        </apply>\n",
      "        <apply>\n",
      "          <times/>\n",
      "          <ci>C</ci>\n",
      "          <ci>t</ci>\n",
      "        </apply>\n",
      "      </apply>\n",
      "    </math>\n",
      "  </component>\n",
      "</model>\n",
      "\n"
     ]
    }
   ],
   "source": [
    "printer = Printer()\n",
    "serialised_model = printer.printModel(model)\n",
    "# Write the serialised string to a file.\n",
    "f = Path(working_dir) / \"tutorial_model.cellml\"\n",
    "write_file = open(f, \"w\")\n",
    "write_file.write(serialised_model)\n",
    "write_file.close()\n",
    "print(serialised_model)\n"
   ]
  },
  {
   "attachments": {},
   "cell_type": "markdown",
   "metadata": {},
   "source": [
    "## 4) Simulate the model"
   ]
  },
  {
   "attachments": {},
   "cell_type": "markdown",
   "metadata": {},
   "source": [
    "Now, we simulate our model using libCellML and with $x_0=1 [cell]$ and $C=1 [\\frac{cell}{second^2}]$. But, first, we need to check that our model is mathematically sound."
   ]
  },
  {
   "cell_type": "code",
   "execution_count": 15,
   "metadata": {},
   "outputs": [
    {
     "name": "stdout",
     "output_type": "stream",
     "text": [
      "Recorded 0 issues!\n",
      "\n"
     ]
    }
   ],
   "source": [
    "analyser = Analyser()\n",
    "analyser.analyseModel(model)\n",
    "\n",
    "x.setInitialValue(1)\n",
    "C.setInitialValue(1)\n",
    "\n",
    "analyser.analyseModel(model)\n",
    "print_issues(analyser)"
   ]
  },
  {
   "attachments": {},
   "cell_type": "markdown",
   "metadata": {},
   "source": [
    "Next, we generate some Python for our model. This code, saved in the `tutorial_model.py` file, can then be used to run our simulation."
   ]
  },
  {
   "cell_type": "code",
   "execution_count": 16,
   "metadata": {},
   "outputs": [],
   "source": [
    "generator = Generator()\n",
    "generator.setModel(analyser.model())\n",
    "\n",
    "profile = GeneratorProfile(GeneratorProfile.Profile.PYTHON)\n",
    "generator.setProfile(profile)\n",
    "\n",
    "implementation_code = generator.implementationCode()\n",
    "f_py = f = Path(working_dir) / \"tutorial_model.py\"\n",
    "with open(f, \"w\") as f:\n",
    "    f.write(implementation_code)\n"
   ]
  },
  {
   "attachments": {},
   "cell_type": "markdown",
   "metadata": {},
   "source": [
    "Finally, we must load the Python file that we have just created, initalise the model, and then run the simulation. Running the simulation itself is done by iterating over 10 time steps and integrating the model at each time step. Outputs are then saved into some simple Python lists and plotted."
   ]
  },
  {
   "cell_type": "code",
   "execution_count": 17,
   "metadata": {},
   "outputs": [
    {
     "data": {
      "image/png": "[encoded data removed]",
      "text/plain": [
       "<Figure size 640x480 with 1 Axes>"
      ]
     },
     "metadata": {},
     "output_type": "display_data"
    }
   ],
   "source": [
    "# Use the importlib functionality to open the generated code file.\n",
    "spec = importlib.util.spec_from_file_location(\"tutorial_model\", str(f_py))\n",
    "model = importlib.util.module_from_spec(spec)\n",
    "\n",
    "# Load the module.\n",
    "spec.loader.exec_module(model)\n",
    "\n",
    "# Create some arrays to hold the variables, states, and rates.\n",
    "states = model.create_states_array()\n",
    "rates = model.create_states_array()\n",
    "variables = model.create_variables_array()\n",
    "\n",
    "# A couple of arrays to hold the solution.\n",
    "times = []\n",
    "cancer_cells = []\n",
    "\n",
    "# Initialise our model at t = 0.0 seconds. For the current model, only the call to initialise_variables() is needed.\n",
    "# However, some models will also need compute_computed_constants(), compute_rates(), and compute_variables() to be\n",
    "# called to be fully initialised. So, although they are not needed here, they are included for completeness.\n",
    "t = 0.0\n",
    "model.initialise_variables(states, variables)\n",
    "# Note: a new version of libCellML is soon to be released, which will require the above line to be deleted and the below\n",
    "# line to be uncommented.\n",
    "# model.initialise_variables(states, rates, variables)\n",
    "model.compute_computed_constants(variables)\n",
    "model.compute_rates(t, states, rates, variables)\n",
    "model.compute_variables(t, states, rates, variables)\n",
    "\n",
    "# Keep track of the initial solution.\n",
    "times.append(t)\n",
    "cancer_cells.append(states[0])\n",
    "\n",
    "# Create variables which control how the solution will run, representing the step size and the number of steps to take.\n",
    "step_size = 0.1\n",
    "step_count = 100\n",
    "\n",
    "for step in range(1, step_count + 1):\n",
    "    t = step * step_size\n",
    "\n",
    "    # Compute the rates at this step.\n",
    "    model.compute_rates(t, states, rates, variables)\n",
    "\n",
    "    # Compute the states.\n",
    "    for s in range(0, model.STATE_COUNT):\n",
    "        states[s] = states[s] + rates[s] * step_size\n",
    "\n",
    "    # Compute the variables that depend on the rates and states. For the current model, this is not needed, but some \n",
    "    # models may need it. So, although it is not needed here, it is included for completeness.\n",
    "    model.compute_variables(t, states, rates, variables)\n",
    "\n",
    "    # Keep track of the solution.\n",
    "    times.append(t)\n",
    "    cancer_cells.append(states[0])\n",
    "plt.title('Example CellML Simulation Result')\n",
    "plt.xlabel('Time (seconds)')\n",
    "plt.ylabel('Number of cancer cells')\n",
    "plt.plot(times, cancer_cells)\n",
    "plt.savefig(str(working_dir) + '/cellml_plot.png')\n"
   ]
  },
  {
   "attachments": {},
   "cell_type": "markdown",
   "metadata": {
    "editable": true,
    "slideshow": {
     "slide_type": ""
    },
    "tags": []
   },
   "source": [
    "At this stage, you might want to modify the model to also compute the analatycal solution, i.e.\n",
    "\n",
    "$$x(t) = x_0 + \\frac{C t^2}{2}$$\n",
    "\n",
    "where $x_0$ is the initial number of cancer cells.\n",
    "\n",
    "From there, you should find out that the two solutions are very close. (To get a more accurate solution for the ordinary differential equation, use a smaller time step.)"
   ]
  }
 ],
 "metadata": {
  "kernelspec": {
   "display_name": "Python 3 (ipykernel)",
   "language": "python",
   "name": "python3"
  },
  "language_info": {
   "codemirror_mode": {
    "name": "ipython",
    "version": 3
   },
   "file_extension": ".py",
   "mimetype": "text/x-python",
   "name": "python",
   "nbconvert_exporter": "python",
   "pygments_lexer": "ipython3",
   "version": "3.9.16"
  }
 },
 "nbformat": 4,
 "nbformat_minor": 4
}
