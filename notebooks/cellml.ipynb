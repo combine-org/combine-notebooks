{
 "cells": [
  {
   "attachments": {},
   "cell_type": "markdown",
   "metadata": {},
   "source": [
    "https://libcellml.org/documentation/v0.4.0/user/tutorials/hh_tutorial1/index"
   ]
  },
  {
   "cell_type": "code",
   "execution_count": 7,
   "metadata": {},
   "outputs": [],
   "source": [
    "from libcellml import Analyser, Component, Model, Printer, Units, Validator, Variable, cellmlElementTypeAsString\n",
    "from utilities import print_issues, print_model, get_issue_level_from_enum"
   ]
  },
  {
   "attachments": {},
   "cell_type": "markdown",
   "metadata": {},
   "source": [
    "Setup the model"
   ]
  },
  {
   "cell_type": "code",
   "execution_count": 8,
   "metadata": {},
   "outputs": [
    {
     "name": "stdout",
     "output_type": "stream",
     "text": [
      "MODEL: 'GateModel'\n",
      "    UNITS: 0 custom units\n",
      "    COMPONENTS: 1 components\n",
      "        [0]: 'gate'\n",
      "            VARIABLES: 0 variables\n"
     ]
    }
   ],
   "source": [
    "#  Setup useful things.\n",
    "math_header = '<math xmlns=\"http://www.w3.org/1998/Math/MathML\" xmlns:cellml=\"http://www.cellml.org/cellml/2.0#\">\\n'\n",
    "math_footer = '</math>'\n",
    "\n",
    "# The first step is to create a Model item which will later contain the component and \n",
    "# the units it needs.  \n",
    "model = Model()\n",
    "\n",
    "# Each CellML element must have a name, which is set using the setName() function.\n",
    "model.setName('GateModel')\n",
    "\n",
    "# We'll create a wrapper component whose only job is to encapsulate the other components.\n",
    "# This makes is a lot easier for this model to be reused, as the connections between\n",
    "# components internal to this one won't need to be re-established.\n",
    "# Note that the constructor for all named CellML entities is overloaded, so \n",
    "# you can pass it the name string at the time of creation.\n",
    "# Create a component named 'gate'.\n",
    "gate = Component('gate')\n",
    "\n",
    "# Finally we need to add the component to the model.  This sets it at the top-level of \n",
    "# the components' encapsulation hierarchy.  All other components need to be added \n",
    "# to this component, rather than the model.\n",
    "# Add the component to the model using the Model::addComponent() function.\n",
    "model.addComponent(gate)\n",
    "\n",
    "# Print the model to the terminal using the print_model helper function and \n",
    "# check it is what you'd expect.\n",
    "print_model(model)\n"
   ]
  },
  {
   "attachments": {},
   "cell_type": "markdown",
   "metadata": {},
   "source": [
    "Create the gateEquations component"
   ]
  },
  {
   "cell_type": "code",
   "execution_count": 9,
   "metadata": {},
   "outputs": [
    {
     "name": "stdout",
     "output_type": "stream",
     "text": [
      "MODEL: 'GateModel'\n",
      "    UNITS: 0 custom units\n",
      "    COMPONENTS: 1 components\n",
      "        [0]: 'gate'\n",
      "            VARIABLES: 0 variables\n",
      "            COMPONENT gate has 1 child components:\n",
      "                [0]: 'gateEquations'\n",
      "                    VARIABLES: 0 variables\n",
      "                  Maths in the component is:\n",
      "<math xmlns=\"http://www.w3.org/1998/Math/MathML\" xmlns:cellml=\"http://www.cellml.org/cellml/2.0#\">\n",
      "  <apply><eq/>\n",
      "    <apply><diff/>\n",
      "      <bvar><ci>t</ci></bvar>\n",
      "      <ci>X</ci>\n",
      "    </apply>\n",
      "    <apply><minus/>\n",
      "      <apply><times/>\n",
      "        <ci>alpha_X</ci>\n",
      "        <apply><minus/>\n",
      "          <cn cellml:units=\"dimensionless\">1</cn>\n",
      "          <ci>X</ci>\n",
      "        </apply>\n",
      "      </apply>\n",
      "      <apply><times/>\n",
      "        <ci>beta_X</ci>\n",
      "        <ci>X</ci>\n",
      "      </apply>\n",
      "    </apply>\n",
      "  </apply>\n",
      "</math>\n"
     ]
    }
   ],
   "source": [
    "\n",
    "# Create a gateEquations component and name it 'gateEquations'.\n",
    "gateEquations = Component('gateEquations')\n",
    "\n",
    "# Add the new gateEquations component to the gate component.\n",
    "gate.addComponent(gateEquations)\n",
    "\n",
    "# Add the mathematics to the gateEquations component.\n",
    "equation = \\\n",
    "    '  <apply><eq/>\\n'\\\n",
    "    '    <apply><diff/>\\n'\\\n",
    "    '      <bvar><ci>t</ci></bvar>\\n'\\\n",
    "    '      <ci>X</ci>\\n'\\\n",
    "    '    </apply>\\n'\\\n",
    "    '    <apply><minus/>\\n'\\\n",
    "    '      <apply><times/>\\n'\\\n",
    "    '        <ci>alpha_X</ci>\\n'\\\n",
    "    '        <apply><minus/>\\n'\\\n",
    "    '          <cn cellml:units=\"dimensionless\">1</cn>\\n'\\\n",
    "    '          <ci>X</ci>\\n'\\\n",
    "    '        </apply>\\n'\\\n",
    "    '      </apply>\\n'\\\n",
    "    '      <apply><times/>\\n'\\\n",
    "    '        <ci>beta_X</ci>\\n'\\\n",
    "    '        <ci>X</ci>\\n'\\\n",
    "    '      </apply>\\n'\\\n",
    "    '    </apply>\\n'\\\n",
    "    '  </apply>\\n'\n",
    "\n",
    "gateEquations.setMath(math_header)\n",
    "gateEquations.appendMath(equation)\n",
    "gateEquations.appendMath(math_footer)\n",
    "\n",
    "#      Print the model to the terminal using the print_model helper function and \n",
    "#      check it is what you'd expect.  Include the second argument as True so that \n",
    "#      the maths is included.\n",
    "print_model(model, True)\n",
    "\n",
    "#  Once the mathematics has been added to the component, and the component to the \n",
    "#  model, we can make use of the diagnostic messages within the Validator class\n",
    "#  to tell us what else needs to be done.  "
   ]
  },
  {
   "attachments": {},
   "cell_type": "markdown",
   "metadata": {},
   "source": [
    "Validate the model"
   ]
  },
  {
   "cell_type": "code",
   "execution_count": 11,
   "metadata": {},
   "outputs": [
    {
     "name": "stdout",
     "output_type": "stream",
     "text": [
      "Recorded 6 issues:\n",
      "Issue 0 is an ERROR:\n",
      "    Description: MathML ci element has the child text 't' which does not correspond with any variable names present in component 'gateEquations'.\n",
      "    See section 2.12.3 in the CellML specification.\n",
      "    More information is available at: https://cellml-specification.readthedocs.io/en/latest/reference/formal_and_informative/specB12.html?issue=MATH_CI_VARIABLE_REF\n",
      "    Stored item type: math\n",
      "Issue 1 is an ERROR:\n",
      "    Description: MathML ci element has the child text 'X' which does not correspond with any variable names present in component 'gateEquations'.\n",
      "    See section 2.12.3 in the CellML specification.\n",
      "    More information is available at: https://cellml-specification.readthedocs.io/en/latest/reference/formal_and_informative/specB12.html?issue=MATH_CI_VARIABLE_REF\n",
      "    Stored item type: math\n",
      "Issue 2 is an ERROR:\n",
      "    Description: MathML ci element has the child text 'alpha_X' which does not correspond with any variable names present in component 'gateEquations'.\n",
      "    See section 2.12.3 in the CellML specification.\n",
      "    More information is available at: https://cellml-specification.readthedocs.io/en/latest/reference/formal_and_informative/specB12.html?issue=MATH_CI_VARIABLE_REF\n",
      "    Stored item type: math\n",
      "Issue 3 is an ERROR:\n",
      "    Description: MathML ci element has the child text 'X' which does not correspond with any variable names present in component 'gateEquations'.\n",
      "    See section 2.12.3 in the CellML specification.\n",
      "    More information is available at: https://cellml-specification.readthedocs.io/en/latest/reference/formal_and_informative/specB12.html?issue=MATH_CI_VARIABLE_REF\n",
      "    Stored item type: math\n",
      "Issue 4 is an ERROR:\n",
      "    Description: MathML ci element has the child text 'beta_X' which does not correspond with any variable names present in component 'gateEquations'.\n",
      "    See section 2.12.3 in the CellML specification.\n",
      "    More information is available at: https://cellml-specification.readthedocs.io/en/latest/reference/formal_and_informative/specB12.html?issue=MATH_CI_VARIABLE_REF\n",
      "    Stored item type: math\n",
      "Issue 5 is an ERROR:\n",
      "    Description: MathML ci element has the child text 'X' which does not correspond with any variable names present in component 'gateEquations'.\n",
      "    See section 2.12.3 in the CellML specification.\n",
      "    More information is available at: https://cellml-specification.readthedocs.io/en/latest/reference/formal_and_informative/specB12.html?issue=MATH_CI_VARIABLE_REF\n",
      "    Stored item type: math\n",
      "\n"
     ]
    }
   ],
   "source": [
    "# Create a Validator instance, and pass it your model for processing using the \n",
    "# validateModel function.  \n",
    "validator = Validator()\n",
    "validator.validateModel(model)\n",
    "print_issues(validator)\n"
   ]
  },
  {
   "attachments": {},
   "cell_type": "markdown",
   "metadata": {},
   "source": [
    "Add the variables"
   ]
  },
  {
   "cell_type": "code",
   "execution_count": 12,
   "metadata": {},
   "outputs": [
    {
     "name": "stdout",
     "output_type": "stream",
     "text": [
      "Recorded 4 issues:\n",
      "Issue 0 is an ERROR:\n",
      "    Description: Variable 't' in component 'gateEquations' does not have any units specified.\n",
      "    See section 2.8.1.2 in the CellML specification.\n",
      "    More information is available at: https://cellml-specification.readthedocs.io/en/latest/reference/formal_and_informative/specB08.html?issue=VARIABLE_UNITS\n",
      "    Stored item type: variable\n",
      "Issue 1 is an ERROR:\n",
      "    Description: Variable 'alpha_X' in component 'gateEquations' does not have any units specified.\n",
      "    See section 2.8.1.2 in the CellML specification.\n",
      "    More information is available at: https://cellml-specification.readthedocs.io/en/latest/reference/formal_and_informative/specB08.html?issue=VARIABLE_UNITS\n",
      "    Stored item type: variable\n",
      "Issue 2 is an ERROR:\n",
      "    Description: Variable 'beta_X' in component 'gateEquations' does not have any units specified.\n",
      "    See section 2.8.1.2 in the CellML specification.\n",
      "    More information is available at: https://cellml-specification.readthedocs.io/en/latest/reference/formal_and_informative/specB08.html?issue=VARIABLE_UNITS\n",
      "    Stored item type: variable\n",
      "Issue 3 is an ERROR:\n",
      "    Description: Variable 'X' in component 'gateEquations' does not have any units specified.\n",
      "    See section 2.8.1.2 in the CellML specification.\n",
      "    More information is available at: https://cellml-specification.readthedocs.io/en/latest/reference/formal_and_informative/specB08.html?issue=VARIABLE_UNITS\n",
      "    Stored item type: variable\n",
      "\n"
     ]
    }
   ],
   "source": [
    "# Create items for the missing variables and add them to the gateEquations component.\n",
    "# You will need to be sure to give them names which match exactly those reported by the\n",
    "# validator, or are present in the MathML string.  \n",
    "gateEquations.addVariable(Variable('t'))\n",
    "gateEquations.addVariable(Variable('alpha_X'))\n",
    "gateEquations.addVariable(Variable('beta_X'))\n",
    "gateEquations.addVariable(Variable('X'))\n",
    "\n",
    "# Validate again, and expect errors relating to missing units.\n",
    "# Note that you can use the helper function print_issues(validator) to print your\n",
    "# issues to the screen instead of repeating the code from 3.b.\n",
    "validator.validateModel(model)\n",
    "print_issues(validator)"
   ]
  },
  {
   "attachments": {},
   "cell_type": "markdown",
   "metadata": {},
   "source": [
    "Add the units"
   ]
  },
  {
   "cell_type": "code",
   "execution_count": 13,
   "metadata": {},
   "outputs": [
    {
     "name": "stdout",
     "output_type": "stream",
     "text": [
      "Recorded 0 issues!\n",
      "\n",
      "MODEL: 'GateModel'\n",
      "    UNITS: 2 custom units\n",
      "        [0]: ms\n",
      "        [1]: per_ms\n",
      "    COMPONENTS: 1 components\n",
      "        [0]: 'gate'\n",
      "            VARIABLES: 0 variables\n",
      "            COMPONENT gate has 1 child components:\n",
      "                [0]: 'gateEquations'\n",
      "                    VARIABLES: 4 variables\n",
      "                        [0]: t [ms]\n",
      "                        [1]: alpha_X [per_ms]\n",
      "                        [2]: beta_X [per_ms]\n",
      "                        [3]: X [dimensionless]\n",
      "                  Maths in the component is:\n",
      "<math xmlns=\"http://www.w3.org/1998/Math/MathML\" xmlns:cellml=\"http://www.cellml.org/cellml/2.0#\">\n",
      "  <apply><eq/>\n",
      "    <apply><diff/>\n",
      "      <bvar><ci>t</ci></bvar>\n",
      "      <ci>X</ci>\n",
      "    </apply>\n",
      "    <apply><minus/>\n",
      "      <apply><times/>\n",
      "        <ci>alpha_X</ci>\n",
      "        <apply><minus/>\n",
      "          <cn cellml:units=\"dimensionless\">1</cn>\n",
      "          <ci>X</ci>\n",
      "        </apply>\n",
      "      </apply>\n",
      "      <apply><times/>\n",
      "        <ci>beta_X</ci>\n",
      "        <ci>X</ci>\n",
      "      </apply>\n",
      "    </apply>\n",
      "  </apply>\n",
      "</math>\n"
     ]
    }
   ],
   "source": [
    "#  The validator has reported that the four variables are missing units attributes.  \n",
    "#  In this example none of the units exist yet, so we need to create all of them. \n",
    "#  The variables' units should be:\n",
    "#      - t, time has units of *milliseconds*\n",
    "#      - X, gate status has units of *dimensionless*\n",
    "#      - alpha_X and beta_X, rates, have units of *per millisecond*.\n",
    "\n",
    "# Create the units which will be needed by your variables and add them to the model.\n",
    "ms = Units('ms')\n",
    "per_ms = Units('per_ms')\n",
    "\n",
    "# Add Unit items to the units you created to define them.\n",
    "ms.addUnit('second', 'milli')\n",
    "per_ms.addUnit('second', 'milli', -1)\n",
    "\n",
    "# Add the Units to the model (not the component) so that other components can make \n",
    "# use of them too.\n",
    "model.addUnits(ms)\n",
    "model.addUnits(per_ms)\n",
    "\n",
    "# Use the setUnits function to associate them with the appropriate variables.  \n",
    "gateEquations.variable('t').setUnits(ms)\n",
    "gateEquations.variable('alpha_X').setUnits(per_ms)\n",
    "gateEquations.variable('beta_X').setUnits(per_ms)\n",
    "gateEquations.variable('X').setUnits('dimensionless')\n",
    "\n",
    "# Validate again, and expect no errors.\n",
    "validator.validateModel(model)\n",
    "print_issues(validator)\n",
    "\n",
    "# Print the model to the terminal and include the optional second argument of true\n",
    "# to include the MathML.\n",
    "print_model(model, True)"
   ]
  },
  {
   "attachments": {},
   "cell_type": "markdown",
   "metadata": {},
   "source": [
    "Analyse the model"
   ]
  },
  {
   "cell_type": "code",
   "execution_count": 14,
   "metadata": {},
   "outputs": [
    {
     "name": "stdout",
     "output_type": "stream",
     "text": [
      "Recorded 3 issues:\n",
      "Issue 0 is an ERROR:\n",
      "    Description: Variable 'X' in component 'gateEquations' is used in an ODE, but it is not initialised.\n",
      "    More information is available at: https://libcellml.org/documentation/guides/latest/runtime_codes/index?issue=ANALYSER_STATE_NOT_INITIALISED\n",
      "    Stored item type: variable\n",
      "Issue 1 is an ERROR:\n",
      "    Description: Variable 'alpha_X' in component 'gateEquations' is unused.\n",
      "    More information is available at: https://libcellml.org/documentation/guides/latest/runtime_codes/index?issue=ANALYSER_VARIABLE_UNUSED\n",
      "    Stored item type: variable\n",
      "Issue 2 is an ERROR:\n",
      "    Description: Variable 'beta_X' in component 'gateEquations' is unused.\n",
      "    More information is available at: https://libcellml.org/documentation/guides/latest/runtime_codes/index?issue=ANALYSER_VARIABLE_UNUSED\n",
      "    Stored item type: variable\n",
      "\n",
      "Recorded 6 issues:\n",
      "Issue 0 is an ERROR:\n",
      "    Description: Variable 'alpha_X' in component 'gateEquations' has no interface type set. The interface type required is 'public'.\n",
      "    See section 3.10.8 in the CellML specification.\n",
      "    More information is available at: https://cellml-specification.readthedocs.io/en/latest/reference/formal_and_informative/specC10.html?issue=MAP_VARIABLES_AVAILABLE_INTERFACE\n",
      "    Stored item type: variable\n",
      "Issue 1 is an ERROR:\n",
      "    Description: Variable 'beta_X' in component 'gateEquations' has no interface type set. The interface type required is 'public'.\n",
      "    See section 3.10.8 in the CellML specification.\n",
      "    More information is available at: https://cellml-specification.readthedocs.io/en/latest/reference/formal_and_informative/specC10.html?issue=MAP_VARIABLES_AVAILABLE_INTERFACE\n",
      "    Stored item type: variable\n",
      "Issue 2 is an ERROR:\n",
      "    Description: Variable 'X' in component 'gateEquations' has no interface type set. The interface type required is 'public'.\n",
      "    See section 3.10.8 in the CellML specification.\n",
      "    More information is available at: https://cellml-specification.readthedocs.io/en/latest/reference/formal_and_informative/specC10.html?issue=MAP_VARIABLES_AVAILABLE_INTERFACE\n",
      "    Stored item type: variable\n",
      "Issue 3 is an ERROR:\n",
      "    Description: Variable 'X' in component 'gateParameters' has no interface type set. The interface type required is 'public'.\n",
      "    See section 3.10.8 in the CellML specification.\n",
      "    More information is available at: https://cellml-specification.readthedocs.io/en/latest/reference/formal_and_informative/specC10.html?issue=MAP_VARIABLES_AVAILABLE_INTERFACE\n",
      "    Stored item type: variable\n",
      "Issue 4 is an ERROR:\n",
      "    Description: Variable 'alpha' in component 'gateParameters' has no interface type set. The interface type required is 'public'.\n",
      "    See section 3.10.8 in the CellML specification.\n",
      "    More information is available at: https://cellml-specification.readthedocs.io/en/latest/reference/formal_and_informative/specC10.html?issue=MAP_VARIABLES_AVAILABLE_INTERFACE\n",
      "    Stored item type: variable\n",
      "Issue 5 is an ERROR:\n",
      "    Description: Variable 'beta' in component 'gateParameters' has no interface type set. The interface type required is 'public'.\n",
      "    See section 3.10.8 in the CellML specification.\n",
      "    More information is available at: https://cellml-specification.readthedocs.io/en/latest/reference/formal_and_informative/specC10.html?issue=MAP_VARIABLES_AVAILABLE_INTERFACE\n",
      "    Stored item type: variable\n",
      "\n",
      "Recorded 0 issues!\n",
      "\n",
      "Recorded 0 issues!\n",
      "\n"
     ]
    }
   ],
   "source": [
    "# Create an Analyser item and submit the model for processing. \n",
    "analyser = Analyser()\n",
    "analyser.analyseModel(model)\n",
    "\n",
    "# Just like the Validator class, the Analyser class keeps track of issues. \n",
    "# Retrieve these and print to the terminal. Expect errors related to \n",
    "# un-computed variables and missing initial values.\n",
    "print_issues(analyser)\n",
    "\n",
    "# In order to avoid hard-coding values here, we will need to connect to external \n",
    "# values to initialise the X variable and provide the value for alpha_X and beta_X.\n",
    "# This means that:\n",
    "#      - we need to create an external component to hold variable values\n",
    "#      - we need to create external variables in that component \n",
    "#      - we need to specify the connections between variables and\n",
    "#      - we need to permit external connections on the variables.\n",
    "\n",
    "# Create a component which will store the hard-coded values for initialisation.\n",
    "# Name it 'gateParameters', and add it to the top-level gate component as a sibling\n",
    "# of the gateEquations component.\n",
    "gateParameters = Component('gateParameters')\n",
    "gate.addComponent(gateParameters)\n",
    "\n",
    "#      Create appropriate variables in this component, and set their units.\n",
    "#      Use the setInitialValue function to initialise them.\n",
    "X = Variable('X')\n",
    "X.setUnits('dimensionless')\n",
    "X.setInitialValue(0)\n",
    "gateParameters.addVariable(X)\n",
    "\n",
    "alpha = Variable('alpha')\n",
    "alpha.setUnits(per_ms)\n",
    "alpha.setInitialValue(0.1)\n",
    "gateParameters.addVariable(alpha)\n",
    "\n",
    "beta = Variable('beta')\n",
    "beta.setUnits(per_ms)\n",
    "beta.setInitialValue(0.5)\n",
    "gateParameters.addVariable(beta)\n",
    "\n",
    "# Specify a variable equivalence between the gateEquations variables and the parameter variables.\n",
    "# Validate the model again, expecting errors related to the variable interface types.\n",
    "Variable.addEquivalence(gateEquations.variable('X'), gateParameters.variable('X'))\n",
    "Variable.addEquivalence(gateEquations.variable('alpha_X'), gateParameters.variable('alpha'))\n",
    "Variable.addEquivalence(gateEquations.variable('beta_X'), gateParameters.variable('beta'))\n",
    "\n",
    "validator.validateModel(model)\n",
    "print_issues(validator)\n",
    "\n",
    "# Set the variable interface type according to the recommendation from the validator.\n",
    "# This can either be done individually using the Variable::setInterfaceType() function, or \n",
    "# en masse for all the model's interfaces using the Model::fixVariableInterfaces() function.\n",
    "# Validate and analyse again, expecting no errors. \n",
    "model.fixVariableInterfaces()\n",
    "\n",
    "validator.validateModel(model)\n",
    "print_issues(validator)\n",
    "\n",
    "analyser.analyseModel(model)\n",
    "print_issues(analyser)"
   ]
  },
  {
   "attachments": {},
   "cell_type": "markdown",
   "metadata": {},
   "source": [
    "Sanity check"
   ]
  },
  {
   "cell_type": "code",
   "execution_count": 15,
   "metadata": {},
   "outputs": [
    {
     "name": "stdout",
     "output_type": "stream",
     "text": [
      "MODEL: 'GateModel'\n",
      "    UNITS: 2 custom units\n",
      "        [0]: ms\n",
      "        [1]: per_ms\n",
      "    COMPONENTS: 1 components\n",
      "        [0]: 'gate'\n",
      "            VARIABLES: 0 variables\n",
      "            COMPONENT gate has 2 child components:\n",
      "                [0]: 'gateEquations'\n",
      "                    VARIABLES: 4 variables\n",
      "                        [0]: t [ms]\n",
      "                        [1]: alpha_X [per_ms]\n",
      "                              └──> gateParameters:alpha [per_ms]\n",
      "                        [2]: beta_X [per_ms]\n",
      "                              └──> gateParameters:beta [per_ms]\n",
      "                        [3]: X [dimensionless]\n",
      "                              └──> gateParameters:X [dimensionless]\n",
      "                [1]: 'gateParameters'\n",
      "                    VARIABLES: 3 variables\n",
      "                        [0]: X [dimensionless], initial = 0\n",
      "                              └──> gateEquations:X [dimensionless]\n",
      "                        [1]: alpha [per_ms], initial = 0.1\n",
      "                              └──> gateEquations:alpha_X [per_ms]\n",
      "                        [2]: beta [per_ms], initial = 0.5\n",
      "                              └──> gateEquations:beta_X [per_ms]\n",
      "Recorded 0 issues!\n",
      "\n",
      "Recorded 1 issues:\n",
      "Issue 0 is an ERROR:\n",
      "    Description: The model has units which are not linked together.\n",
      "    More information is available at: https://libcellml.org/documentation/guides/latest/runtime_codes/index?issue=ANALYSER_UNLINKED_UNITS\n",
      "    Stored item type: undefined\n",
      "\n"
     ]
    }
   ],
   "source": [
    "# Print the model to the terminal using the helper function print_model.\n",
    "print_model(model)\n",
    "\n",
    "# Looking at the printout we see that the top-level component has no variables.  \n",
    "# Even though this is clearly a valid situation (as proved by 4.f), it's not\n",
    "# going to make this model easy to reuse.  We need to make sure that any input and\n",
    "# output variables are also connected into the top level gate component.  \n",
    "\n",
    "# Create intermediate variables for time t and gate status X in the gate component,\n",
    "# and ensure they have a public and private interface to enable two-way connection.\n",
    "# You may also need to set a public and private connection onto t and X in the\n",
    "# equations component too.\n",
    "gate.addVariable(gateEquations.variable('t').clone())\n",
    "gate.addVariable(gateEquations.variable('X').clone())\n",
    "\n",
    "gate.variable('t').setInterfaceType('public_and_private')\n",
    "gate.variable('X').setInterfaceType('public_and_private')\n",
    "gateEquations.variable('t').setInterfaceType('public_and_private')\n",
    "gateEquations.variable('X').setInterfaceType('public_and_private')\n",
    "\n",
    "# Connect the intermediate variables to their respective partners in the equations\n",
    "# component, and recheck the model.\n",
    "Variable.addEquivalence(gate.variable('t'), gateEquations.variable('t'))\n",
    "Variable.addEquivalence(gate.variable('X'), gateEquations.variable('X'))\n",
    "\n",
    "validator.validateModel(model)\n",
    "print_issues(validator)\n",
    "analyser.analyseModel(model)\n",
    "print_issues(analyser)"
   ]
  },
  {
   "attachments": {},
   "cell_type": "markdown",
   "metadata": {},
   "source": [
    "Serialise and output the model"
   ]
  },
  {
   "cell_type": "code",
   "execution_count": 17,
   "metadata": {},
   "outputs": [
    {
     "name": "stdout",
     "output_type": "stream",
     "text": [
      "The created model has been written to GateModel.cellml\n"
     ]
    }
   ],
   "source": [
    "# Create a Printer instance and use it to serialise the model.  This creates a string\n",
    "# containing the CellML-formatted version of the model.  Write this to a file called\n",
    "# 'cellml.cellml'.\n",
    "printer = Printer()\n",
    "write_file = open('cellml.cellml', 'w')\n",
    "write_file.write(printer.printModel(model))\n",
    "write_file.close()\n",
    "\n",
    "print('The created model has been written to GateModel.cellml')"
   ]
  }
 ],
 "metadata": {
  "kernelspec": {
   "display_name": "Python 3",
   "language": "python",
   "name": "python3"
  },
  "language_info": {
   "codemirror_mode": {
    "name": "ipython",
    "version": 3
   },
   "file_extension": ".py",
   "mimetype": "text/x-python",
   "name": "python",
   "nbconvert_exporter": "python",
   "pygments_lexer": "ipython3",
   "version": "3.11.1"
  },
  "orig_nbformat": 4
 },
 "nbformat": 4,
 "nbformat_minor": 2
}
