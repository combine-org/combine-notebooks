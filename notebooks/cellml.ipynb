{
 "cells": [
  {
   "attachments": {},
   "cell_type": "markdown",
   "metadata": {},
   "source": [
    "# Simple CellML example\n"
   ]
  },
  {
   "attachments": {},
   "cell_type": "markdown",
   "metadata": {},
   "source": [
    "This notebook creates a simple model in [CellML version 2](https://www.cellml.org/specifications/cellml_2.0/cellml_2_0_normative_specification.pdf) for illustration.  It is based on the libCellML tutorial series which can found [here](https://libcellml.org/documentation/v0.4.0/user/tutorials/index)."
   ]
  },
  {
   "attachments": {},
   "cell_type": "markdown",
   "metadata": {},
   "source": [
    "## 1) Including libraries"
   ]
  },
  {
   "cell_type": "code",
   "execution_count": 23,
   "metadata": {},
   "outputs": [],
   "source": [
    "from libcellml import Analyser, Component, Model, Printer, Units, Validator, Variable, cellmlElementTypeAsString\n",
    "from combine_notebooks.cellml_utilities import print_model, print_issues\n",
    "from combine_notebooks import RESULTS_DIR"
   ]
  },
  {
   "attachments": {},
   "cell_type": "markdown",
   "metadata": {},
   "source": [
    "## 2) Declaring the CellML model"
   ]
  },
  {
   "attachments": {},
   "cell_type": "markdown",
   "metadata": {},
   "source": [
    "The first step is to create a Model item which will later contain the component and the units it needs."
   ]
  },
  {
   "cell_type": "code",
   "execution_count": 24,
   "metadata": {},
   "outputs": [],
   "source": [
    "model = Model()"
   ]
  },
  {
   "attachments": {},
   "cell_type": "markdown",
   "metadata": {},
   "source": [
    "Each CellML element must have a name, which is set using the setName() function."
   ]
  },
  {
   "cell_type": "code",
   "execution_count": 25,
   "metadata": {},
   "outputs": [],
   "source": [
    "model.setName('tutorial_1_model')\n",
    "model.setId('tutorial_1_model_id_is_here')"
   ]
  },
  {
   "attachments": {},
   "cell_type": "markdown",
   "metadata": {},
   "source": [
    "We'll create a wrapper component whose only job is to encapsulate the other components. This makes is a lot easier for this model to be reused, as the connections between components internal to this one won't need to be re-established. Note that the constructor for all named CellML entities is overloaded, so you can pass it the name string at the time of creation."
   ]
  },
  {
   "cell_type": "code",
   "execution_count": 26,
   "metadata": {},
   "outputs": [],
   "source": [
    "component = Component('i_am_a_component')\n",
    "component.setId('my_component_id')"
   ]
  },
  {
   "attachments": {},
   "cell_type": "markdown",
   "metadata": {},
   "source": [
    "Finally we need to add the component to the model.  This sets it at the top-level of \n",
    "the components' encapsulation hierarchy.  All other components need to be added \n",
    "to this component, rather than the model."
   ]
  },
  {
   "cell_type": "code",
   "execution_count": 27,
   "metadata": {},
   "outputs": [
    {
     "data": {
      "text/plain": [
       "True"
      ]
     },
     "execution_count": 27,
     "metadata": {},
     "output_type": "execute_result"
    }
   ],
   "source": [
    "model.addComponent(component)"
   ]
  },
  {
   "attachments": {},
   "cell_type": "markdown",
   "metadata": {},
   "source": [
    " In order to actually model anything, we need to include the mathematical equations which represent the physical situation of interest.  To do this we will start by creating the variables $a$, $b$, and $c$."
   ]
  },
  {
   "cell_type": "code",
   "execution_count": 28,
   "metadata": {},
   "outputs": [
    {
     "name": "stdout",
     "output_type": "stream",
     "text": [
      "MODEL: 'tutorial_1_model', id: 'tutorial_1_model_id_is_here'\n",
      "    UNITS: 0 custom units\n",
      "    COMPONENTS: 1 components\n",
      "        [0]: 'i_am_a_component', id: 'my_component_id'\n",
      "            VARIABLES: 3 variables\n",
      "                [0]: a [dimensionless], initial = b\n",
      "                [1]: b [dimensionless]\n",
      "                [2]: c [dimensionless]\n"
     ]
    }
   ],
   "source": [
    "a = Variable(\"a\")\n",
    "a.setUnits(\"dimensionless\")\n",
    "a.setInitialValue(\"b\")\n",
    "a.setInterfaceType(\"public_and_private\")\n",
    "component.addVariable(a)\n",
    "\n",
    "b = Variable(\"b\")\n",
    "b.setUnits(\"dimensionless\")\n",
    "b.setInterfaceType(\"public_and_private\")\n",
    "component.addVariable(b)\n",
    "\n",
    "c = Variable(\"c\")\n",
    "c.setUnits(\"dimensionless\")\n",
    "c.setInterfaceType(\"public_and_private\")\n",
    "component.addVariable(c)\n",
    "\n",
    "print_model(model)"
   ]
  },
  {
   "attachments": {},
   "cell_type": "markdown",
   "metadata": {},
   "source": [
    "Equations are modelled using MathML2 strings.  Here we are create MathML to model the simple equation ; $ a = b + c $."
   ]
  },
  {
   "cell_type": "code",
   "execution_count": 29,
   "metadata": {},
   "outputs": [],
   "source": [
    "# Add the header and footer strings.\n",
    "math_header = '<math xmlns=\"http://www.w3.org/1998/Math/MathML\" xmlns:cellml=\"http://www.cellml.org/cellml/2.0#\">'\n",
    "math_footer = '</math>'\n",
    "\n",
    "# Create the MathML2 string representing the governing equations.  \n",
    "equation1 = \\\n",
    "    \"   <apply>\"\\\n",
    "    \"       <eq/>\"\\\n",
    "    \"       <ci>a</ci>\"\\\n",
    "    \"       <apply>\"\\\n",
    "    \"           <plus/>\"\\\n",
    "    \"           <ci>b</ci>\"\\\n",
    "    \"           <ci>c</ci>\"\\\n",
    "    \"       </apply>\"\\\n",
    "    \"   </apply>\""
   ]
  },
  {
   "attachments": {},
   "cell_type": "markdown",
   "metadata": {},
   "source": [
    "Include the MathML strings in the component."
   ]
  },
  {
   "cell_type": "code",
   "execution_count": 30,
   "metadata": {},
   "outputs": [],
   "source": [
    "component.setMath(math_header)\n",
    "component.appendMath(equation1)\n",
    "component.appendMath(math_footer)"
   ]
  },
  {
   "attachments": {},
   "cell_type": "markdown",
   "metadata": {},
   "source": [
    "## 3) Write, print and validate the generated model"
   ]
  },
  {
   "attachments": {},
   "cell_type": "markdown",
   "metadata": {},
   "source": [
    "Print the model to using the print_model helper function and \n",
    "check it is what you'd expect."
   ]
  },
  {
   "cell_type": "code",
   "execution_count": 31,
   "metadata": {},
   "outputs": [
    {
     "name": "stdout",
     "output_type": "stream",
     "text": [
      "MODEL: 'tutorial_1_model', id: 'tutorial_1_model_id_is_here'\n",
      "    UNITS: 0 custom units\n",
      "    COMPONENTS: 1 components\n",
      "        [0]: 'i_am_a_component', id: 'my_component_id'\n",
      "            VARIABLES: 3 variables\n",
      "                [0]: a [dimensionless], initial = b\n",
      "                [1]: b [dimensionless]\n",
      "                [2]: c [dimensionless]\n"
     ]
    }
   ],
   "source": [
    "print_model(model)"
   ]
  },
  {
   "cell_type": "markdown",
   "metadata": {},
   "source": [
    "Create a validator and use it to check the model for issues."
   ]
  },
  {
   "cell_type": "code",
   "execution_count": 32,
   "metadata": {},
   "outputs": [
    {
     "name": "stdout",
     "output_type": "stream",
     "text": [
      "Recorded 0 issues!\n",
      "\n"
     ]
    }
   ],
   "source": [
    "validator = Validator()\n",
    "validator.validateModel(model)\n",
    "print_issues(validator)"
   ]
  },
  {
   "attachments": {},
   "cell_type": "markdown",
   "metadata": {},
   "source": [
    "Save the model to a .cellml file and print the raw cellml text."
   ]
  },
  {
   "cell_type": "code",
   "execution_count": 36,
   "metadata": {},
   "outputs": [
    {
     "name": "stdout",
     "output_type": "stream",
     "text": [
      "<?xml version=\"1.0\" encoding=\"UTF-8\"?>\n",
      "<model xmlns=\"http://www.cellml.org/cellml/2.0#\" name=\"tutorial_1_model\" id=\"tutorial_1_model_id_is_here\">\n",
      "  <component name=\"i_am_a_component\" id=\"my_component_id\">\n",
      "    <variable name=\"a\" units=\"dimensionless\" initial_value=\"b\" interface=\"public_and_private\"/>\n",
      "    <variable name=\"b\" units=\"dimensionless\" interface=\"public_and_private\"/>\n",
      "    <variable name=\"c\" units=\"dimensionless\" interface=\"public_and_private\"/>\n",
      "    <math xmlns=\"http://www.w3.org/1998/Math/MathML\" xmlns:cellml=\"http://www.cellml.org/cellml/2.0#\">\n",
      "      <apply>\n",
      "        <eq/>\n",
      "        <ci>a</ci>\n",
      "        <apply>\n",
      "          <plus/>\n",
      "          <ci>b</ci>\n",
      "          <ci>c</ci>\n",
      "        </apply>\n",
      "      </apply>\n",
      "    </math>\n",
      "  </component>\n",
      "</model>\n",
      "\n"
     ]
    }
   ],
   "source": [
    "printer = Printer()\n",
    "serialised_model = printer.printModel(model)\n",
    "# Write the serialised string to a file.\n",
    "file_loc = str(RESULTS_DIR) + \"/hello_world_cellml.cellml\"\n",
    "write_file = open(file_loc, \"w\")\n",
    "write_file.write(serialised_model)\n",
    "xml = open(file_loc).read()\n",
    "print(xml)"
   ]
  },
  {
   "attachments": {},
   "cell_type": "markdown",
   "metadata": {},
   "source": [
    "## 4) Simulating the model"
   ]
  }
 ],
 "metadata": {
  "kernelspec": {
   "display_name": "Python 3",
   "language": "python",
   "name": "python3"
  },
  "language_info": {
   "codemirror_mode": {
    "name": "ipython",
    "version": 3
   },
   "file_extension": ".py",
   "mimetype": "text/x-python",
   "name": "python",
   "nbconvert_exporter": "python",
   "pygments_lexer": "ipython3",
   "version": "3.11.1"
  },
  "orig_nbformat": 4
 },
 "nbformat": 4,
 "nbformat_minor": 2
}
