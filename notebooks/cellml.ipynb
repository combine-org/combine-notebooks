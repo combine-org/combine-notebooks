{
 "cells": [
  {
   "attachments": {},
   "cell_type": "markdown",
   "metadata": {},
   "source": [
    "[![Binder](https://mybinder.org/badge_logo.svg)](https://mybinder.org/v2/gh/combine-org/combine-notebooks/main?labpath=notebooks%2Fcellml.ipynb)\n",
    "<a href=\"https://colab.research.google.com/github/combine-org/combine-notebooks/blob/main/notebooks/cellml.ipynb\" target=\"_parent\"><img src=\"https://colab.research.google.com/assets/colab-badge.svg\" alt=\"Open In Colab\\\"/></a>"
   ]
  },
  {
   "attachments": {},
   "cell_type": "markdown",
   "metadata": {},
   "source": [
    "# Simple CellML example\n"
   ]
  },
  {
   "attachments": {},
   "cell_type": "markdown",
   "metadata": {},
   "source": [
    "This notebook creates a simple model in [CellML version 2](https://www.cellml.org/specifications/cellml_2.0/cellml_2_0_normative_specification.pdf) for illustration.  It is based on the libCellML tutorial series which can found [here](https://libcellml.org/documentation/v0.4.0/user/tutorials/index)."
   ]
  },
  {
   "attachments": {},
   "cell_type": "markdown",
   "metadata": {},
   "source": [
    "## 1) Including libraries"
   ]
  },
  {
   "cell_type": "code",
   "execution_count": 1,
   "metadata": {},
   "outputs": [],
   "source": [
    "from libcellml import Analyser, Component, Model, Printer, Units, Validator, Variable, cellmlElementTypeAsString\n",
    "from combine_notebooks.cellml_utilities import print_model, print_issues\n",
    "from combine_notebooks import RESULTS_DIR"
   ]
  },
  {
   "attachments": {},
   "cell_type": "markdown",
   "metadata": {},
   "source": [
    "## 2) Declaring the CellML model"
   ]
  },
  {
   "attachments": {},
   "cell_type": "markdown",
   "metadata": {},
   "source": [
    "The first step is to create a Model item which will later contain the component and the units it needs."
   ]
  },
  {
   "cell_type": "code",
   "execution_count": 2,
   "metadata": {},
   "outputs": [],
   "source": [
    "model = Model()"
   ]
  },
  {
   "attachments": {},
   "cell_type": "markdown",
   "metadata": {},
   "source": [
    "Each CellML element must have a name, which is set using the setName() function."
   ]
  },
  {
   "cell_type": "code",
   "execution_count": 3,
   "metadata": {},
   "outputs": [],
   "source": [
    "model.setName('tutorial_1_model')\n",
    "model.setId('tutorial_1_model_id_is_here')"
   ]
  },
  {
   "attachments": {},
   "cell_type": "markdown",
   "metadata": {},
   "source": [
    "We'll create a wrapper component whose only job is to encapsulate the other components. This makes is a lot easier for this model to be reused, as the connections between components internal to this one won't need to be re-established. Note that the constructor for all named CellML entities is overloaded, so you can pass it the name string at the time of creation."
   ]
  },
  {
   "cell_type": "code",
   "execution_count": 4,
   "metadata": {},
   "outputs": [],
   "source": [
    "component = Component('i_am_a_component')\n",
    "component.setId('my_component_id')"
   ]
  },
  {
   "attachments": {},
   "cell_type": "markdown",
   "metadata": {},
   "source": [
    "Finally we need to add the component to the model.  This sets it at the top-level of \n",
    "the components' encapsulation hierarchy.  All other components need to be added \n",
    "to this component, rather than the model."
   ]
  },
  {
   "cell_type": "code",
   "execution_count": 5,
   "metadata": {},
   "outputs": [
    {
     "data": {
      "text/plain": [
       "True"
      ]
     },
     "execution_count": 5,
     "metadata": {},
     "output_type": "execute_result"
    }
   ],
   "source": [
    "model.addComponent(component)"
   ]
  },
  {
   "attachments": {},
   "cell_type": "markdown",
   "metadata": {},
   "source": [
    " In order to actually model anything, we need to include the mathematical equations which represent the physical situation of interest.  To do this we will start by creating the variables $a$, $b$, and $c$."
   ]
  },
  {
   "cell_type": "code",
   "execution_count": 6,
   "metadata": {},
   "outputs": [
    {
     "name": "stdout",
     "output_type": "stream",
     "text": [
      "MODEL: 'tutorial_1_model', id: 'tutorial_1_model_id_is_here'\n",
      "    UNITS: 0 custom units\n",
      "    COMPONENTS: 1 components\n",
      "        [0]: 'i_am_a_component', id: 'my_component_id'\n",
      "            VARIABLES: 3 variables\n",
      "                [0]: a [dimensionless], initial = b\n",
      "                [1]: b [dimensionless]\n",
      "                [2]: c [dimensionless]\n"
     ]
    }
   ],
   "source": [
    "a = Variable(\"a\")\n",
    "a.setUnits(\"dimensionless\")\n",
    "a.setInitialValue(\"b\")\n",
    "a.setInterfaceType(\"public_and_private\")\n",
    "component.addVariable(a)\n",
    "\n",
    "b = Variable(\"b\")\n",
    "b.setUnits(\"dimensionless\")\n",
    "b.setInterfaceType(\"public_and_private\")\n",
    "component.addVariable(b)\n",
    "\n",
    "c = Variable(\"c\")\n",
    "c.setUnits(\"dimensionless\")\n",
    "c.setInterfaceType(\"public_and_private\")\n",
    "component.addVariable(c)\n",
    "\n",
    "print_model(model)"
   ]
  },
  {
   "attachments": {},
   "cell_type": "markdown",
   "metadata": {},
   "source": [
    "Equations are modelled using MathML2 strings.  Here we are create MathML to model the simple equation ; $ a = b + c $."
   ]
  },
  {
   "cell_type": "code",
   "execution_count": 7,
   "metadata": {},
   "outputs": [],
   "source": [
    "# Add the header and footer strings.\n",
    "math_header = '<math xmlns=\"http://www.w3.org/1998/Math/MathML\" xmlns:cellml=\"http://www.cellml.org/cellml/2.0#\">'\n",
    "math_footer = '</math>'\n",
    "\n",
    "# Create the MathML2 string representing the governing equations.  \n",
    "equation1 = \\\n",
    "    \"   <apply>\"\\\n",
    "    \"       <eq/>\"\\\n",
    "    \"       <ci>a</ci>\"\\\n",
    "    \"       <apply>\"\\\n",
    "    \"           <plus/>\"\\\n",
    "    \"           <ci>b</ci>\"\\\n",
    "    \"           <ci>c</ci>\"\\\n",
    "    \"       </apply>\"\\\n",
    "    \"   </apply>\""
   ]
  },
  {
   "attachments": {},
   "cell_type": "markdown",
   "metadata": {},
   "source": [
    "Include the MathML strings in the component."
   ]
  },
  {
   "cell_type": "code",
   "execution_count": 8,
   "metadata": {},
   "outputs": [],
   "source": [
    "component.setMath(math_header)\n",
    "component.appendMath(equation1)\n",
    "component.appendMath(math_footer)"
   ]
  },
  {
   "attachments": {},
   "cell_type": "markdown",
   "metadata": {},
   "source": [
    "## 3) Write, print and validate the generated model"
   ]
  },
  {
   "attachments": {},
   "cell_type": "markdown",
   "metadata": {},
   "source": [
    "Print the model to using the print_model helper function and \n",
    "check it is what you'd expect."
   ]
  },
  {
   "cell_type": "code",
   "execution_count": 9,
   "metadata": {},
   "outputs": [
    {
     "name": "stdout",
     "output_type": "stream",
     "text": [
      "MODEL: 'tutorial_1_model', id: 'tutorial_1_model_id_is_here'\n",
      "    UNITS: 0 custom units\n",
      "    COMPONENTS: 1 components\n",
      "        [0]: 'i_am_a_component', id: 'my_component_id'\n",
      "            VARIABLES: 3 variables\n",
      "                [0]: a [dimensionless], initial = b\n",
      "                [1]: b [dimensionless]\n",
      "                [2]: c [dimensionless]\n"
     ]
    }
   ],
   "source": [
    "print_model(model)"
   ]
  },
  {
   "cell_type": "markdown",
   "metadata": {},
   "source": [
    "Create a validator and use it to check the model for issues."
   ]
  },
  {
   "cell_type": "code",
   "execution_count": 10,
   "metadata": {},
   "outputs": [
    {
     "name": "stdout",
     "output_type": "stream",
     "text": [
      "Recorded 0 issues!\n",
      "\n"
     ]
    }
   ],
   "source": [
    "validator = Validator()\n",
    "validator.validateModel(model)\n",
    "print_issues(validator)"
   ]
  },
  {
   "attachments": {},
   "cell_type": "markdown",
   "metadata": {},
   "source": [
    "Save the model to a .cellml file and print the raw cellml text."
   ]
  },
  {
   "cell_type": "code",
   "execution_count": 11,
   "metadata": {},
   "outputs": [
    {
     "name": "stdout",
     "output_type": "stream",
     "text": [
      "\n"
     ]
    }
   ],
   "source": [
    "printer = Printer()\n",
    "serialised_model = printer.printModel(model)\n",
    "# Write the serialised string to a file.\n",
    "file_loc = str(RESULTS_DIR) + \"/hello_world_cellml.cellml\"\n",
    "write_file = open(file_loc, \"w\")\n",
    "write_file.write(serialised_model)\n",
    "xml = open(file_loc).read()\n",
    "print(xml)"
   ]
  },
  {
   "attachments": {},
   "cell_type": "markdown",
   "metadata": {},
   "source": [
    "## 4) Simulating the model"
   ]
  },
  {
   "cell_type": "code",
   "execution_count": 17,
   "metadata": {},
   "outputs": [
    {
     "name": "stdout",
     "output_type": "stream",
     "text": [
      "---  load using roadrunner ---\n"
     ]
    },
    {
     "data": {
      "image/png": "[encoded data removed]",
      "text/plain": [
       "<Figure size 600x400 with 1 Axes>"
      ]
     },
     "metadata": {},
     "output_type": "display_data"
    },
    {
     "ename": "NotImplementedError",
     "evalue": "CellML support was not compiled into Antimony, so conversion is not available.",
     "output_type": "error",
     "traceback": [
      "\u001b[1;31m---------------------------------------------------------------------------\u001b[0m",
      "\u001b[1;31mNotImplementedError\u001b[0m                       Traceback (most recent call last)",
      "Cell \u001b[1;32mIn[17], line 19\u001b[0m\n\u001b[0;32m     17\u001b[0m result \u001b[39m=\u001b[39m r\u001b[39m.\u001b[39msimulate(\u001b[39m0\u001b[39m, \u001b[39m10\u001b[39m, \u001b[39m100\u001b[39m)\n\u001b[0;32m     18\u001b[0m r\u001b[39m.\u001b[39mplot(result)\n\u001b[1;32m---> 19\u001b[0m cellml_model \u001b[39m=\u001b[39m te\u001b[39m.\u001b[39;49msbmlToCellML(sbml_model)\n\u001b[0;32m     21\u001b[0m \u001b[39m# The method loada is simply a shortcut to loadAntimonyModel\u001b[39;00m\n\u001b[0;32m     22\u001b[0m \u001b[39mprint\u001b[39m(\u001b[39m'\u001b[39m\u001b[39m---  load using tellurium ---\u001b[39m\u001b[39m'\u001b[39m)\n",
      "File \u001b[1;32mc:\\Users\\Harvey Mannering\\AppData\\Local\\Programs\\Python\\Python311\\Lib\\site-packages\\tellurium\\tellurium.py:662\u001b[0m, in \u001b[0;36msbmlToCellML\u001b[1;34m(sbml)\u001b[0m\n\u001b[0;32m    654\u001b[0m \u001b[39m\u001b[39m\u001b[39m\"\"\" Convert SBML to CellML string.\u001b[39;00m\n\u001b[0;32m    655\u001b[0m \n\u001b[0;32m    656\u001b[0m \u001b[39m:param sbml: SBML string or file\u001b[39;00m\n\u001b[1;32m   (...)\u001b[0m\n\u001b[0;32m    659\u001b[0m \u001b[39m:rtype: str\u001b[39;00m\n\u001b[0;32m    660\u001b[0m \u001b[39m\"\"\"\u001b[39;00m\n\u001b[0;32m    661\u001b[0m \u001b[39mif\u001b[39;00m \u001b[39mnot\u001b[39;00m \u001b[39mhasattr\u001b[39m(antimony, \u001b[39m\"\u001b[39m\u001b[39mloadCellMLString\u001b[39m\u001b[39m\"\u001b[39m):\n\u001b[1;32m--> 662\u001b[0m     \u001b[39mraise\u001b[39;00m \u001b[39mNotImplementedError\u001b[39;00m(\u001b[39m\"\u001b[39m\u001b[39mCellML support was not compiled into Antimony, so conversion is not available.\u001b[39m\u001b[39m\"\u001b[39m)\n\u001b[0;32m    663\u001b[0m antimony\u001b[39m.\u001b[39mclearPreviousLoads()\n\u001b[0;32m    664\u001b[0m antimony\u001b[39m.\u001b[39mfreeAll()\n",
      "\u001b[1;31mNotImplementedError\u001b[0m: CellML support was not compiled into Antimony, so conversion is not available."
     ]
    }
   ],
   "source": [
    "import tellurium as te\n",
    "\n",
    "# Load an antimony model\n",
    "ant_model = '''\n",
    "    S1 -> S2; k1*S1;\n",
    "    S2 -> S3; k2*S2;\n",
    "\n",
    "    k1= 0.1; k2 = 0.2;\n",
    "    S1 = 10; S2 = 0; S3 = 0;\n",
    "'''\n",
    "# At the most basic level one can load the SBML model directly using libRoadRunner\n",
    "print('---  load using roadrunner ---')\n",
    "import roadrunner\n",
    "# convert to SBML model\n",
    "sbml_model = te.antimonyToSBML(ant_model)\n",
    "r = roadrunner.RoadRunner(sbml_model)\n",
    "result = r.simulate(0, 10, 100)\n",
    "r.plot(result)\n",
    "cellml_model = te.sbmlToCellML(sbml_model)\n",
    "\n",
    "# The method loada is simply a shortcut to loadAntimonyModel\n",
    "print('---  load using tellurium ---')\n",
    "r = te.loada(ant_model)\n",
    "result = r.simulate (0, 10, 100)\n",
    "r.plot(result)\n",
    "\n",
    "# same like\n",
    "r = te.loadAntimonyModel(ant_model)"
   ]
  },
  {
   "cell_type": "code",
   "execution_count": 19,
   "metadata": {},
   "outputs": [
    {
     "ename": "PermissionError",
     "evalue": "[Errno 13] Permission denied: 'C:\\\\Users\\\\HARVEY~1\\\\AppData\\\\Local\\\\Temp\\\\tmp94bj3937.cellml'",
     "output_type": "error",
     "traceback": [
      "\u001b[1;31m---------------------------------------------------------------------------\u001b[0m",
      "\u001b[1;31mPermissionError\u001b[0m                           Traceback (most recent call last)",
      "Cell \u001b[1;32mIn[19], line 10\u001b[0m\n\u001b[0;32m      7\u001b[0m f_cellml \u001b[39m=\u001b[39m tempfile\u001b[39m.\u001b[39mNamedTemporaryFile(suffix\u001b[39m=\u001b[39m\u001b[39m\"\u001b[39m\u001b[39m.cellml\u001b[39m\u001b[39m\"\u001b[39m)\n\u001b[0;32m      9\u001b[0m \u001b[39m# export current model state\u001b[39;00m\n\u001b[1;32m---> 10\u001b[0m r\u001b[39m.\u001b[39;49mexportToCellML(f_cellml\u001b[39m.\u001b[39;49mname)\n\u001b[0;32m     12\u001b[0m \u001b[39m# to export the initial state when the model was loaded\u001b[39;00m\n\u001b[0;32m     13\u001b[0m \u001b[39m# set the current argument to False\u001b[39;00m\n\u001b[0;32m     14\u001b[0m r\u001b[39m.\u001b[39mexportToCellML(f_cellml\u001b[39m.\u001b[39mname, current\u001b[39m=\u001b[39m\u001b[39mFalse\u001b[39;00m)\n",
      "File \u001b[1;32mc:\\Users\\Harvey Mannering\\AppData\\Local\\Programs\\Python\\Python311\\Lib\\site-packages\\tellurium\\roadrunner\\extended_roadrunner.py:207\u001b[0m, in \u001b[0;36mExtendedRoadRunner.exportToCellML\u001b[1;34m(self, filePath, current)\u001b[0m\n\u001b[0;32m    199\u001b[0m \u001b[39mdef\u001b[39;00m \u001b[39mexportToCellML\u001b[39m(\u001b[39mself\u001b[39m, filePath, current\u001b[39m=\u001b[39m\u001b[39mTrue\u001b[39;00m):\n\u001b[0;32m    200\u001b[0m \u001b[39m    \u001b[39m\u001b[39m\"\"\" Save current model as CellML file.\u001b[39;00m\n\u001b[0;32m    201\u001b[0m \n\u001b[0;32m    202\u001b[0m \u001b[39m    :param current: export current model state\u001b[39;00m\n\u001b[1;32m   (...)\u001b[0m\n\u001b[0;32m    205\u001b[0m \u001b[39m    :type filePath: str\u001b[39;00m\n\u001b[0;32m    206\u001b[0m \u001b[39m    \"\"\"\u001b[39;00m\n\u001b[1;32m--> 207\u001b[0m     \u001b[39mwith\u001b[39;00m \u001b[39mopen\u001b[39;49m(filePath, \u001b[39m'\u001b[39;49m\u001b[39mw\u001b[39;49m\u001b[39m'\u001b[39;49m, encoding\u001b[39m=\u001b[39;49m\u001b[39m\"\u001b[39;49m\u001b[39mutf-8\u001b[39;49m\u001b[39m\"\u001b[39;49m) \u001b[39mas\u001b[39;00m f:\n\u001b[0;32m    208\u001b[0m         f\u001b[39m.\u001b[39mwrite(\u001b[39mself\u001b[39m\u001b[39m.\u001b[39mgetCellML(current))\n",
      "\u001b[1;31mPermissionError\u001b[0m: [Errno 13] Permission denied: 'C:\\\\Users\\\\HARVEY~1\\\\AppData\\\\Local\\\\Temp\\\\tmp94bj3937.cellml'"
     ]
    }
   ],
   "source": [
    "import tellurium as te\n",
    "import tempfile\n",
    "\n",
    "# load model\n",
    "r = te.loada('S1 -> S2; k1*S1; k1 = 0.1; S1 = 10')\n",
    "# file for export\n",
    "f_cellml = tempfile.NamedTemporaryFile(suffix=\".cellml\")\n",
    "\n",
    "# export current model state\n",
    "r.exportToCellML(f_cellml.name)\n",
    "\n",
    "# to export the initial state when the model was loaded\n",
    "# set the current argument to False\n",
    "r.exportToCellML(f_cellml.name, current=False)\n",
    "\n",
    "# The string representations of the current model are available via\n",
    "str_cellml = r.getCurrentCellML()\n",
    "\n",
    "# and of the initial state when the model was loaded via\n",
    "str_cellml = r.getCellML()\n",
    "print(str_cellml)"
   ]
  },
  {
   "cell_type": "code",
   "execution_count": 1,
   "metadata": {},
   "outputs": [
    {
     "name": "stdout",
     "output_type": "stream",
     "text": [
      "sbml_model\n",
      "********************************************************************************\n",
      "<?xml version=\"1.0\" encoding=\"UTF-8\"?>\n",
      "<!-- Created by libAntimony version v2.13.2 with libSBML version 5.19.5. -->\n",
      "<sbml xmlns=\"http://www.sbml.org/sbml/level3/version1/core\" level=\"3\" version=\"1\">\n",
      "  <model metaid=\"__main\" id=\"__main\">\n",
      "    <listOfCompartments>\n",
      "      <compartment sboTerm=\"SBO:0000410\" id=\"default_compartment\" spatialDimensions=\"3\" size=\"1\" constant=\"true\"/>\n",
      "    </listOfCompartments>\n",
      "    <listOfSpecies>\n",
      "      <species id=\"S1\" compartment=\"default_compartment\" initialConcentration=\"10\" hasOnlySubstanceUnits=\"false\" boundaryCondition=\"false\" constant=\"false\"/>\n",
      "      <species id=\"S2\" compartment=\"default_compartment\" initialConcentration=\"0\" hasOnlySubstanceUnits=\"false\" boundaryCondition=\"false\" constant=\"false\"/>\n",
      "...\n"
     ]
    },
    {
     "ename": "AttributeError",
     "evalue": "module 'antimony' has no attribute 'getCellMLString'",
     "output_type": "error",
     "traceback": [
      "\u001b[1;31m---------------------------------------------------------------------------\u001b[0m",
      "\u001b[1;31mAttributeError\u001b[0m                            Traceback (most recent call last)",
      "Cell \u001b[1;32mIn[1], line 22\u001b[0m\n\u001b[0;32m     19\u001b[0m \u001b[39mprint\u001b[39m(\u001b[39m'\u001b[39m\u001b[39m...\u001b[39m\u001b[39m'\u001b[39m)\n\u001b[0;32m     21\u001b[0m \u001b[39m# convert to CellML\u001b[39;00m\n\u001b[1;32m---> 22\u001b[0m cellml_model \u001b[39m=\u001b[39m te\u001b[39m.\u001b[39;49mantimonyToCellML(ant_model)\n\u001b[0;32m     23\u001b[0m \u001b[39mprint\u001b[39m(\u001b[39m'\u001b[39m\u001b[39mcellml_model (from Antimony)\u001b[39m\u001b[39m'\u001b[39m)\n\u001b[0;32m     24\u001b[0m \u001b[39mprint\u001b[39m(\u001b[39m'\u001b[39m\u001b[39m*\u001b[39m\u001b[39m'\u001b[39m\u001b[39m*\u001b[39m\u001b[39m80\u001b[39m)\n",
      "File \u001b[1;32mc:\\Users\\Harvey Mannering\\AppData\\Local\\Programs\\Python\\Python311\\Lib\\site-packages\\tellurium\\tellurium.py:627\u001b[0m, in \u001b[0;36mantimonyToCellML\u001b[1;34m(ant)\u001b[0m\n\u001b[0;32m    625\u001b[0m _checkAntimonyReturnCode(code)\n\u001b[0;32m    626\u001b[0m mid \u001b[39m=\u001b[39m antimony\u001b[39m.\u001b[39mgetMainModuleName()\n\u001b[1;32m--> 627\u001b[0m \u001b[39mreturn\u001b[39;00m antimony\u001b[39m.\u001b[39;49mgetCellMLString(mid)\n",
      "\u001b[1;31mAttributeError\u001b[0m: module 'antimony' has no attribute 'getCellMLString'"
     ]
    }
   ],
   "source": [
    "import tellurium as te\n",
    "\n",
    "# antimony model\n",
    "ant_model = \"\"\"\n",
    "    S1 -> S2; k1*S1;\n",
    "    S2 -> S3; k2*S2;\n",
    "\n",
    "    k1= 0.1; k2 = 0.2;\n",
    "    S1 = 10; S2 = 0; S3 = 0;\n",
    "\"\"\"\n",
    "\n",
    "# convert to SBML\n",
    "sbml_model = te.antimonyToSBML(ant_model)\n",
    "print('sbml_model')\n",
    "print('*'*80)\n",
    "# print first 10 lines\n",
    "for line in list(sbml_model.splitlines())[:10]:\n",
    "    print(line)\n",
    "print('...')\n",
    "\n",
    "# convert to CellML\n",
    "cellml_model = te.antimonyToCellML(ant_model)\n",
    "print('cellml_model (from Antimony)')\n",
    "print('*'*80)\n",
    "# print first 10 lines\n",
    "for line in list(cellml_model.splitlines())[:10]:\n",
    "    print(line)\n",
    "print('...')\n",
    "\n",
    "# or from the sbml\n",
    "cellml_model = te.sbmlToCellML(sbml_model)\n",
    "print('cellml_model (from SBML)')\n",
    "print('*'*80)\n",
    "# print first 10 lines\n",
    "for line in list(cellml_model.splitlines())[:10]:\n",
    "    print(line)\n",
    "print('...')"
   ]
  },
  {
   "cell_type": "code",
   "execution_count": null,
   "metadata": {},
   "outputs": [],
   "source": []
  }
 ],
 "metadata": {
  "kernelspec": {
   "display_name": "Python 3",
   "language": "python",
   "name": "python3"
  },
  "language_info": {
   "codemirror_mode": {
    "name": "ipython",
    "version": 3
   },
   "file_extension": ".py",
   "mimetype": "text/x-python",
   "name": "python",
   "nbconvert_exporter": "python",
   "pygments_lexer": "ipython3",
   "version": "3.11.1"
  },
  "orig_nbformat": 4
 },
 "nbformat": 4,
 "nbformat_minor": 2
}
