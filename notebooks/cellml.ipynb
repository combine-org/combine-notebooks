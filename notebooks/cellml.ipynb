{
 "cells": [
  {
   "attachments": {},
   "cell_type": "markdown",
   "metadata": {},
   "source": [
    "[![Binder](https://mybinder.org/badge_logo.svg)](https://mybinder.org/v2/gh/combine-org/combine-notebooks/binder_colab_testing?labpath=%2Fnotebooks%2Fcellml.ipynb)\n",
    "<a href=\"https://colab.research.google.com/github/combine-org/combine-notebooks/blob/main/notebooks/cellml.ipynb\" target=\"_parent\"><img src=\"https://colab.research.google.com/assets/colab-badge.svg\" alt=\"Open In Colab\\\"/></a>"
   ]
  },
  {
   "attachments": {},
   "cell_type": "markdown",
   "metadata": {},
   "source": [
    "# Simple CellML example\n"
   ]
  },
  {
   "attachments": {},
   "cell_type": "markdown",
   "metadata": {},
   "source": [
    "This notebook creates a simple model in [CellML version 2](https://www.cellml.org/specifications/cellml_2.0/cellml_2_0_normative_specification.pdf) for illustration.  It is based on the libCellML tutorial series which can found [here](https://libcellml.org/documentation/v0.4.0/user/tutorials/index)."
   ]
  },
  {
   "attachments": {},
   "cell_type": "markdown",
   "metadata": {},
   "source": [
    "## 1) Including libraries and helper functions"
   ]
  },
  {
   "cell_type": "code",
   "execution_count": 84,
   "metadata": {},
   "outputs": [],
   "source": [
    "import importlib.util\n",
    "from libcellml import Analyser, Component, Model, Printer, Units, Validator, Variable, Generator, GeneratorProfile\n",
    "import matplotlib.pyplot as plt\n",
    "\n",
    "from combine_notebooks.cellml_utilities import print_model, print_issues\n",
    "from combine_notebooks import RESULTS_DIR"
   ]
  },
  {
   "cell_type": "code",
   "execution_count": 85,
   "metadata": {},
   "outputs": [],
   "source": [
    "def pretty_print(model_before : Model, model_after : Model = None):\n",
    "    # Break the original CellML into lines\n",
    "    printer = Printer()\n",
    "    original_model = printer.printModel(model_before)\n",
    "    original_model_lines = original_model.split('\\n')\n",
    "    # Print the entire model in red\n",
    "    if model_after == None:\n",
    "        original_document = '\\n'.join(original_model_lines)\n",
    "        print(\"\\x1b[31m\" + original_document + \"\\x1b[0m\") # ANSI escape used to print colours here\n",
    "    # If a new model is also given, highlight the lines that have changed\n",
    "    else:\n",
    "        # Split the updated CellML into lines\n",
    "        new_model = printer.printModel(model_after)\n",
    "        new_model_lines = new_model.split('\\n')\n",
    "        # Iterate over each new line\n",
    "        for new_line in new_model_lines:\n",
    "            # Print any new lines in red, otherwise print normally\n",
    "            if new_line in original_model_lines:\n",
    "                print(new_line)\n",
    "            else:\n",
    "                print(\"\\x1b[31m\" + new_line + \"\\x1b[0m\") # ANSI escape used to print colours here"
   ]
  },
  {
   "attachments": {},
   "cell_type": "markdown",
   "metadata": {},
   "source": [
    "## 2) Declaring the CellML model"
   ]
  },
  {
   "attachments": {},
   "cell_type": "markdown",
   "metadata": {},
   "source": [
    "The first step is to create a Model item which will later contain the component and the units it needs."
   ]
  },
  {
   "cell_type": "code",
   "execution_count": 86,
   "metadata": {},
   "outputs": [
    {
     "name": "stdout",
     "output_type": "stream",
     "text": [
      "\u001b[31m<?xml version=\"1.0\" encoding=\"UTF-8\"?>\n",
      "<model xmlns=\"http://www.cellml.org/cellml/2.0#\"/>\n",
      "\u001b[0m\n"
     ]
    }
   ],
   "source": [
    "model = Model()\n",
    "\n",
    "pretty_print(model)"
   ]
  },
  {
   "attachments": {},
   "cell_type": "markdown",
   "metadata": {},
   "source": [
    "Each CellML element must have a name, which is set using the setName() function."
   ]
  },
  {
   "cell_type": "code",
   "execution_count": 87,
   "metadata": {},
   "outputs": [
    {
     "name": "stdout",
     "output_type": "stream",
     "text": [
      "<?xml version=\"1.0\" encoding=\"UTF-8\"?>\n",
      "\u001b[31m<model xmlns=\"http://www.cellml.org/cellml/2.0#\" name=\"tutorial_model\" id=\"tutorial_model_id_is_here\"/>\u001b[0m\n",
      "\n"
     ]
    }
   ],
   "source": [
    "start_model = model.clone()\n",
    "\n",
    "model.setName('tutorial_model')\n",
    "model.setId('tutorial_model_id_is_here')\n",
    "\n",
    "pretty_print(start_model, model)"
   ]
  },
  {
   "attachments": {},
   "cell_type": "markdown",
   "metadata": {},
   "source": [
    "Now create units for our model, these could be any measure (e.g. grams, liters, miles per hour).  The variables we define later on will be simple quantites, so we need to define a simple \"quantity\" or \"number\" units."
   ]
  },
  {
   "cell_type": "code",
   "execution_count": 88,
   "metadata": {},
   "outputs": [
    {
     "name": "stdout",
     "output_type": "stream",
     "text": [
      "<?xml version=\"1.0\" encoding=\"UTF-8\"?>\n",
      "\u001b[31m<model xmlns=\"http://www.cellml.org/cellml/2.0#\" name=\"tutorial_model\" id=\"tutorial_model_id_is_here\">\u001b[0m\n",
      "\u001b[31m  <units name=\"number\"/>\u001b[0m\n",
      "\u001b[31m  <units name=\"per_number\">\u001b[0m\n",
      "\u001b[31m    <unit exponent=\"-1\" units=\"number\"/>\u001b[0m\n",
      "\u001b[31m  </units>\u001b[0m\n",
      "\u001b[31m</model>\u001b[0m\n",
      "\n"
     ]
    }
   ],
   "source": [
    "start_model = model.clone()\n",
    "\n",
    "unit1 = Units(\"number\")\n",
    "model.addUnits(unit1)\n",
    "\n",
    "unit2 = Units()\n",
    "unit2.setName(\"per_number\")\n",
    "unit2.addUnit(\"number\", -1)\n",
    "model.addUnits(unit2)\n",
    "\n",
    "pretty_print(start_model, model)"
   ]
  },
  {
   "attachments": {},
   "cell_type": "markdown",
   "metadata": {},
   "source": [
    "We'll create a wrapper component whose only job is to encapsulate the other components. This makes is a lot easier for this model to be reused, as the connections between components internal to this one won't need to be re-established. Note that the constructor for all named CellML entities is overloaded, so you can pass it the name string at the time of creation."
   ]
  },
  {
   "cell_type": "code",
   "execution_count": 89,
   "metadata": {},
   "outputs": [],
   "source": [
    "component = Component()\n",
    "component.setName(\"cancer_cells_component\")\n",
    "component.setId('my_component_id')"
   ]
  },
  {
   "attachments": {},
   "cell_type": "markdown",
   "metadata": {},
   "source": [
    "Finally we need to add the component to the model.  This sets it at the top-level of \n",
    "the components' encapsulation hierarchy.  All other components need to be added \n",
    "to this component, rather than the model."
   ]
  },
  {
   "cell_type": "code",
   "execution_count": 90,
   "metadata": {},
   "outputs": [
    {
     "name": "stdout",
     "output_type": "stream",
     "text": [
      "<?xml version=\"1.0\" encoding=\"UTF-8\"?>\n",
      "<model xmlns=\"http://www.cellml.org/cellml/2.0#\" name=\"tutorial_model\" id=\"tutorial_model_id_is_here\">\n",
      "  <units name=\"number\"/>\n",
      "  <units name=\"per_number\">\n",
      "    <unit exponent=\"-1\" units=\"number\"/>\n",
      "  </units>\n",
      "\u001b[31m  <component name=\"cancer_cells_component\" id=\"my_component_id\"/>\u001b[0m\n",
      "</model>\n",
      "\n"
     ]
    }
   ],
   "source": [
    "start_model = model.clone()\n",
    "\n",
    "model.addComponent(component)\n",
    "\n",
    "pretty_print(start_model, model)"
   ]
  },
  {
   "attachments": {},
   "cell_type": "markdown",
   "metadata": {},
   "source": [
    " In order to actually model anything, we need to include the mathematical equations which represent the physical situation of interest.  To do this we will start by creating the variables $x$, $y$, and $c$."
   ]
  },
  {
   "cell_type": "code",
   "execution_count": 91,
   "metadata": {},
   "outputs": [
    {
     "name": "stdout",
     "output_type": "stream",
     "text": [
      "<?xml version=\"1.0\" encoding=\"UTF-8\"?>\n",
      "<model xmlns=\"http://www.cellml.org/cellml/2.0#\" name=\"tutorial_model\" id=\"tutorial_model_id_is_here\">\n",
      "  <units name=\"number\"/>\n",
      "  <units name=\"per_number\">\n",
      "    <unit exponent=\"-1\" units=\"number\"/>\n",
      "  </units>\n",
      "\u001b[31m  <component name=\"cancer_cells_component\" id=\"my_component_id\">\u001b[0m\n",
      "\u001b[31m    <variable name=\"rounds_of_cell_division\" units=\"number\"/>\u001b[0m\n",
      "\u001b[31m    <variable name=\"total_cancer_cells\" units=\"number\"/>\u001b[0m\n",
      "\u001b[31m    <variable name=\"c\" units=\"per_number\"/>\u001b[0m\n",
      "\u001b[31m  </component>\u001b[0m\n",
      "</model>\n",
      "\n"
     ]
    }
   ],
   "source": [
    "start_model = model.clone()\n",
    "\n",
    "x = Variable(\"rounds_of_cell_division\")\n",
    "x.setUnits(unit1)\n",
    "component.addVariable(x)\n",
    "\n",
    "y = Variable(\"total_cancer_cells\")\n",
    "y.setUnits(unit1)\n",
    "component.addVariable(y)\n",
    "\n",
    "c = Variable(\"c\")\n",
    "c.setUnits(unit2)\n",
    "component.addVariable(c)\n",
    "\n",
    "pretty_print(start_model, model)"
   ]
  },
  {
   "attachments": {},
   "cell_type": "markdown",
   "metadata": {},
   "source": [
    "Equations are modelled using MathML2 strings.  Here we are create MathML to model the simple differential equation \n",
    "\n",
    "$$\\frac{dy}{dx} = c x$$\n",
    "\n",
    "where $x$ is time, $y$ is the total number of cancer cells, and $c$ is a constant.  If we were to intergrate this we would get\n",
    "\n",
    "$$y = \\frac{c x ^ 2}{2}$$"
   ]
  },
  {
   "cell_type": "code",
   "execution_count": 92,
   "metadata": {},
   "outputs": [],
   "source": [
    "# Add the header and footer strings.\n",
    "math_header = '<math xmlns=\"http://www.w3.org/1998/Math/MathML\" xmlns:cellml=\"http://www.cellml.org/cellml/2.0#\">'\n",
    "math_footer = '</math>'\n",
    "\n",
    "# Create the MathML2 string representing the governing equations.  \n",
    "equation1 = \\\n",
    "    \"  <apply><eq/>\"\\\n",
    "    \"    <apply><diff/>\"\\\n",
    "    \"      <bvar><ci>total_cancer_cells</ci></bvar>\"\\\n",
    "    \"      <ci>rounds_of_cell_division</ci>\"\\\n",
    "    \"    </apply>\"\\\n",
    "    \"    <apply><times/>\"\\\n",
    "    \"      <ci>c</ci>\"\\\n",
    "    \"      <ci>rounds_of_cell_division</ci>\"\\\n",
    "    \"    </apply>\"\\\n",
    "    \"  </apply>\""
   ]
  },
  {
   "attachments": {},
   "cell_type": "markdown",
   "metadata": {},
   "source": [
    "Include the MathML strings in the component."
   ]
  },
  {
   "cell_type": "code",
   "execution_count": 93,
   "metadata": {},
   "outputs": [
    {
     "name": "stdout",
     "output_type": "stream",
     "text": [
      "<?xml version=\"1.0\" encoding=\"UTF-8\"?>\n",
      "<model xmlns=\"http://www.cellml.org/cellml/2.0#\" name=\"tutorial_model\" id=\"tutorial_model_id_is_here\">\n",
      "  <units name=\"number\"/>\n",
      "  <units name=\"per_number\">\n",
      "    <unit exponent=\"-1\" units=\"number\"/>\n",
      "  </units>\n",
      "  <component name=\"cancer_cells_component\" id=\"my_component_id\">\n",
      "    <variable name=\"rounds_of_cell_division\" units=\"number\"/>\n",
      "    <variable name=\"total_cancer_cells\" units=\"number\"/>\n",
      "    <variable name=\"c\" units=\"per_number\"/>\n",
      "\u001b[31m    <math xmlns=\"http://www.w3.org/1998/Math/MathML\" xmlns:cellml=\"http://www.cellml.org/cellml/2.0#\">\u001b[0m\n",
      "\u001b[31m      <apply>\u001b[0m\n",
      "\u001b[31m        <eq/>\u001b[0m\n",
      "\u001b[31m        <apply>\u001b[0m\n",
      "\u001b[31m          <diff/>\u001b[0m\n",
      "\u001b[31m          <bvar>\u001b[0m\n",
      "\u001b[31m            <ci>total_cancer_cells</ci>\u001b[0m\n",
      "\u001b[31m          </bvar>\u001b[0m\n",
      "\u001b[31m          <ci>rounds_of_cell_division</ci>\u001b[0m\n",
      "\u001b[31m        </apply>\u001b[0m\n",
      "\u001b[31m        <apply>\u001b[0m\n",
      "\u001b[31m          <times/>\u001b[0m\n",
      "\u001b[31m          <ci>c</ci>\u001b[0m\n",
      "\u001b[31m          <ci>rounds_of_cell_division</ci>\u001b[0m\n",
      "\u001b[31m        </apply>\u001b[0m\n",
      "\u001b[31m      </apply>\u001b[0m\n",
      "\u001b[31m    </math>\u001b[0m\n",
      "  </component>\n",
      "</model>\n",
      "\n"
     ]
    }
   ],
   "source": [
    "start_model = model.clone()\n",
    "\n",
    "component.setMath(math_header)\n",
    "component.appendMath(equation1)\n",
    "component.appendMath(math_footer)\n",
    "\n",
    "pretty_print(start_model, model)"
   ]
  },
  {
   "attachments": {},
   "cell_type": "markdown",
   "metadata": {},
   "source": [
    "## 3) Write, print and validate the generated model"
   ]
  },
  {
   "attachments": {},
   "cell_type": "markdown",
   "metadata": {},
   "source": [
    "Print the model to using the print_model helper function and \n",
    "check it is what you'd expect."
   ]
  },
  {
   "cell_type": "code",
   "execution_count": 94,
   "metadata": {},
   "outputs": [
    {
     "name": "stdout",
     "output_type": "stream",
     "text": [
      "MODEL: 'tutorial_model', id: 'tutorial_model_id_is_here'\n",
      "    UNITS: 2 custom units\n",
      "        [0]: number\n",
      "        [1]: per_number\n",
      "    COMPONENTS: 1 components\n",
      "        [0]: 'cancer_cells_component', id: 'my_component_id'\n",
      "            VARIABLES: 3 variables\n",
      "                [0]: rounds_of_cell_division [number]\n",
      "                [1]: total_cancer_cells [number]\n",
      "                [2]: c [per_number]\n"
     ]
    }
   ],
   "source": [
    "print_model(model)"
   ]
  },
  {
   "attachments": {},
   "cell_type": "markdown",
   "metadata": {},
   "source": [
    "Create a validator and use it to check the model for issues."
   ]
  },
  {
   "cell_type": "code",
   "execution_count": 95,
   "metadata": {},
   "outputs": [
    {
     "name": "stdout",
     "output_type": "stream",
     "text": [
      "Recorded 0 issues!\n",
      "\n"
     ]
    }
   ],
   "source": [
    "validator = Validator()\n",
    "validator.validateModel(model)\n",
    "print_issues(validator)"
   ]
  },
  {
   "attachments": {},
   "cell_type": "markdown",
   "metadata": {},
   "source": [
    "Save the model to a .cellml file and print the raw cellml text."
   ]
  },
  {
   "cell_type": "code",
   "execution_count": 96,
   "metadata": {},
   "outputs": [
    {
     "name": "stdout",
     "output_type": "stream",
     "text": [
      "<?xml version=\"1.0\" encoding=\"UTF-8\"?>\n",
      "<model xmlns=\"http://www.cellml.org/cellml/2.0#\" name=\"tutorial_model\" id=\"tutorial_model_id_is_here\">\n",
      "  <units name=\"number\"/>\n",
      "  <units name=\"per_number\">\n",
      "    <unit exponent=\"-1\" units=\"number\"/>\n",
      "  </units>\n",
      "  <component name=\"cancer_cells_component\" id=\"my_component_id\">\n",
      "    <variable name=\"rounds_of_cell_division\" units=\"number\"/>\n",
      "    <variable name=\"total_cancer_cells\" units=\"number\"/>\n",
      "    <variable name=\"c\" units=\"per_number\"/>\n",
      "    <math xmlns=\"http://www.w3.org/1998/Math/MathML\" xmlns:cellml=\"http://www.cellml.org/cellml/2.0#\">\n",
      "      <apply>\n",
      "        <eq/>\n",
      "        <apply>\n",
      "          <diff/>\n",
      "          <bvar>\n",
      "            <ci>total_cancer_cells</ci>\n",
      "          </bvar>\n",
      "          <ci>rounds_of_cell_division</ci>\n",
      "        </apply>\n",
      "        <apply>\n",
      "          <times/>\n",
      "          <ci>c</ci>\n",
      "          <ci>rounds_of_cell_division</ci>\n",
      "        </apply>\n",
      "      </apply>\n",
      "    </math>\n",
      "  </component>\n",
      "</model>\n",
      "\n"
     ]
    }
   ],
   "source": [
    "printer = Printer()\n",
    "serialised_model = printer.printModel(model)\n",
    "# Write the serialised string to a file.\n",
    "file_loc = str(RESULTS_DIR) + \"/hello_world_cellml.cellml\"\n",
    "\n",
    "write_file = open(file_loc, \"w\")\n",
    "write_file.write(serialised_model)\n",
    "write_file.close()\n",
    "print(serialised_model)"
   ]
  },
  {
   "attachments": {},
   "cell_type": "markdown",
   "metadata": {},
   "source": [
    "## 4) Simulating the model"
   ]
  },
  {
   "attachments": {},
   "cell_type": "markdown",
   "metadata": {},
   "source": [
    "Now we will simulate our model using the libCellML library.  First, we create an `Analyser` object and use it to set the inital values of our variables."
   ]
  },
  {
   "cell_type": "code",
   "execution_count": 97,
   "metadata": {},
   "outputs": [],
   "source": [
    "analyser = Analyser()\n",
    "analyser.analyseModel(model)\n",
    "\n",
    "x.setInitialValue(1)\n",
    "c.setInitialValue(1)\n",
    "\n",
    "analyser.analyseModel(model)"
   ]
  },
  {
   "attachments": {},
   "cell_type": "markdown",
   "metadata": {},
   "source": [
    "The next step is to use our CellML model to generate Python code.  This code, saved in the \"exponential.py\" file, can then be used to run our simulation."
   ]
  },
  {
   "cell_type": "code",
   "execution_count": 98,
   "metadata": {},
   "outputs": [],
   "source": [
    "generator = Generator()\n",
    "generator.setModel(analyser.model())\n",
    "\n",
    "profile = GeneratorProfile(GeneratorProfile.Profile.PYTHON)\n",
    "generator.setProfile(profile)\n",
    "\n",
    "implementation_code_python = generator.implementationCode()\n",
    "with open(\"exponential.py\", \"w\") as f:\n",
    "    f.write(implementation_code_python)\n"
   ]
  },
  {
   "attachments": {},
   "cell_type": "markdown",
   "metadata": {},
   "source": [
    "Finally, we must load the python file we just created, initalize variables in the simulation, and then run the simulation.  Running the simulation itself is done by iterating over 10 time steps and executing `compute_rates` for each time step.  Outputs can then be saved into simple python lists and then plotted."
   ]
  },
  {
   "cell_type": "code",
   "execution_count": 99,
   "metadata": {},
   "outputs": [
    {
     "data": {
      "text/plain": [
       "[<matplotlib.lines.Line2D at 0x25e0d8f0050>]"
      ]
     },
     "execution_count": 99,
     "metadata": {},
     "output_type": "execute_result"
    },
    {
     "data": {
      "image/png": "[encoded data removed]",
      "text/plain": [
       "<Figure size 640x480 with 1 Axes>"
      ]
     },
     "metadata": {},
     "output_type": "display_data"
    }
   ],
   "source": [
    "# Use the importlib functionality to open the generated code file.\n",
    "spec = importlib.util.spec_from_file_location('exponential', 'exponential.py')\n",
    "model = importlib.util.module_from_spec(spec)\n",
    "\n",
    "# Load module.\n",
    "spec.loader.exec_module(model)\n",
    "\n",
    "my_variables = model.create_variables_array()\n",
    "my_state_variables = model.create_states_array()\n",
    "my_rates = model.create_states_array()\n",
    "division_number = 0.0\n",
    "\n",
    "# Use the functions provided to initialise the arrays you created\n",
    "model.initialise_variables(my_state_variables, my_variables)\n",
    "\n",
    "# Create variables which control how the solution will run, representing the step size and \n",
    "# the number of steps to take.\n",
    "step_size = 1\n",
    "step_count = 10\n",
    "\n",
    "cancer_cells = []\n",
    "divisions = []\n",
    "for step in range(0, step_count):\n",
    "    division_number = step * step_size\n",
    "\n",
    "    # Compute the rates at this step using the given function.\n",
    "    model.compute_rates(division_number, my_state_variables, my_rates, my_variables)\n",
    "\n",
    "    # Compute the states.\n",
    "    for s in range(0, model.STATE_COUNT):\n",
    "        my_state_variables[s] = my_state_variables[s] + my_rates[s] * step_size\n",
    "\n",
    "    # A results to a list\n",
    "    divisions.append(division_number)\n",
    "    cancer_cells.append(my_state_variables[0])\n",
    "\n",
    "plt.plot(divisions, cancer_cells)\n"
   ]
  },
  {
   "cell_type": "code",
   "execution_count": null,
   "metadata": {},
   "outputs": [],
   "source": []
  }
 ],
 "metadata": {
  "kernelspec": {
   "display_name": "Python 3",
   "language": "python",
   "name": "python3"
  },
  "language_info": {
   "codemirror_mode": {
    "name": "ipython",
    "version": 3
   },
   "file_extension": ".py",
   "mimetype": "text/x-python",
   "name": "python",
   "nbconvert_exporter": "python",
   "pygments_lexer": "ipython3",
   "version": "3.11.1"
  },
  "orig_nbformat": 4
 },
 "nbformat": 4,
 "nbformat_minor": 2
}
