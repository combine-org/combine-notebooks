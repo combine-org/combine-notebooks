{
 "cells": [
  {
   "cell_type": "code",
   "execution_count": 1,
   "id": "103d5650",
   "metadata": {
    "collapsed": false
   },
   "outputs": [
    {
     "name": "stderr",
     "output_type": "stream",
     "text": [
      "/home/vboxuser/.local/lib/python3.10/site-packages/tqdm/auto.py:21: TqdmWarning: IProgress not found. Please update jupyter and ipywidgets. See https://ipywidgets.readthedocs.io/en/stable/user_install.html\n",
      "  from .autonotebook import tqdm as notebook_tqdm\n"
     ]
    },
    {
     "name": "stdout",
     "output_type": "stream",
     "text": [
      "<?xml version=\"1.0\" encoding=\"UTF-8\"?>\n",
      "<!-- Created by COPASI version 4.39.272 (Source) on 2023-05-03 10:07 with libSBML version 5.19.4. -->\n",
      "<sbml xmlns=\"http://www.sbml.org/sbml/level2/version4\" level=\"2\" version=\"4\">\n",
      "  <model metaid=\"COPASI0\" id=\"New_Model\" name=\"New Model\">\n",
      "    <annotation>\n",
      "      <copasi:COPASI xmlns:copasi=\"http://www.copasi.org/static/sbml\">\n",
      "        <rdf:RDF xmlns:dcterms=\"http://purl.org/dc/terms/\" xmlns:rdf=\"http://www.w3.org/1999/02/22-rdf-syntax-ns#\">\n",
      "          <rdf:Description rdf:about=\"#COPASI0\">\n",
      "            <dcterms:created>\n",
      "              <rdf:Description>\n",
      "                <dcterms:W3CDTF>2023-05-03T09:07:41Z</dcterms:W3CDTF>\n",
      "              </rdf:Description>\n",
      "            </dcterms:created>\n",
      "          </rdf:Description>\n",
      "        </rdf:RDF>\n",
      "      </copasi:COPASI>\n",
      "    </annotation>\n",
      "    <listOfUnitDefinitions>\n",
      "      <unitDefinition id=\"length\" name=\"length\">\n",
      "        <listOfUnits>\n",
      "          <unit kind=\"metre\" exponent=\"1\" scale=\"0\" multiplier=\"1\"/>\n",
      "        </listOfUnits>\n",
      "      </unitDefinition>\n",
      "      <unitDefinition id=\"area\" name=\"area\">\n",
      "        <listOfUnits>\n",
      "          <unit kind=\"metre\" exponent=\"2\" scale=\"0\" multiplier=\"1\"/>\n",
      "        </listOfUnits>\n",
      "      </unitDefinition>\n",
      "      <unitDefinition id=\"volume\" name=\"volume\">\n",
      "        <listOfUnits>\n",
      "          <unit kind=\"litre\" exponent=\"1\" scale=\"0\" multiplier=\"1\"/>\n",
      "        </listOfUnits>\n",
      "      </unitDefinition>\n",
      "      <unitDefinition id=\"time\" name=\"time\">\n",
      "        <listOfUnits>\n",
      "          <unit kind=\"second\" exponent=\"1\" scale=\"0\" multiplier=\"1\"/>\n",
      "        </listOfUnits>\n",
      "      </unitDefinition>\n",
      "      <unitDefinition id=\"substance\" name=\"substance\">\n",
      "        <listOfUnits>\n",
      "          <unit kind=\"mole\" exponent=\"1\" scale=\"0\" multiplier=\"1\"/>\n",
      "        </listOfUnits>\n",
      "      </unitDefinition>\n",
      "    </listOfUnitDefinitions>\n",
      "    <listOfCompartments>\n",
      "      <compartment id=\"compartment\" name=\"compartment\" spatialDimensions=\"3\" size=\"1\" constant=\"true\"/>\n",
      "    </listOfCompartments>\n",
      "    <listOfSpecies>\n",
      "      <species id=\"A\" name=\"A\" compartment=\"compartment\" initialConcentration=\"1\" boundaryCondition=\"false\" constant=\"false\"/>\n",
      "    </listOfSpecies>\n",
      "    <listOfReactions>\n",
      "      <reaction id=\"r1\" name=\"r1\" reversible=\"false\">\n",
      "        <listOfReactants>\n",
      "          <speciesReference species=\"A\" stoichiometry=\"1\"/>\n",
      "        </listOfReactants>\n",
      "        <kineticLaw>\n",
      "          <math xmlns=\"http://www.w3.org/1998/Math/MathML\">\n",
      "            <apply>\n",
      "              <times/>\n",
      "              <ci> compartment </ci>\n",
      "              <ci> k1 </ci>\n",
      "              <ci> A </ci>\n",
      "            </apply>\n",
      "          </math>\n",
      "          <listOfParameters>\n",
      "            <parameter id=\"k1\" name=\"k1\" value=\"0.1\"/>\n",
      "          </listOfParameters>\n",
      "        </kineticLaw>\n",
      "      </reaction>\n",
      "    </listOfReactions>\n",
      "  </model>\n",
      "</sbml>\n",
      "\n"
     ]
    },
    {
     "data": {
      "text/plain": [
       "<Axes: xlabel='Time'>"
      ]
     },
     "execution_count": 1,
     "metadata": {},
     "output_type": "execute_result"
    },
    {
     "data": {
      "image/png": "[encoded data removed]",
      "text/plain": [
       "<Figure size 640x480 with 1 Axes>"
      ]
     },
     "metadata": {},
     "output_type": "display_data"
    }
   ],
   "source": [
    "# %% [markdown]\n",
    "# Here we show how to create a basic SBML model using basiCO, and simulating it. We start as usual by importing basiCO.\n",
    "\n",
    "# %%\n",
    "from basico import *\n",
    "\n",
    "# %% [markdown]\n",
    "# Lets create a new model, passing along the name that we want to give it.\n",
    "\n",
    "# %%\n",
    "new_model(name=\"New Model\") \n",
    "\n",
    "# %% [markdown]\n",
    "# Now we add a basic reaction of a metabolite A degrading.  \n",
    "\n",
    "# %%\n",
    "add_reaction('r1', 'A -> ')\n",
    "\n",
    "# %% [markdown]\n",
    "# We export the model to an sbml format and print it.\n",
    "\n",
    "# %%\n",
    "from combine_notebooks import RESULTS_DIR\n",
    "\n",
    "sbml_file = str(RESULTS_DIR) + '/hello_world_sbml.xml'\n",
    "save_model(sbml_file, type='sbml')\n",
    "xml = open(sbml_file).read()\n",
    "print(xml)\n",
    "\n",
    "# %% [markdown]\n",
    "# To change the initial concentration, we use set_species, and specify which property we want to change.\n",
    "\n",
    "# %%\n",
    "set_species('A', initial_concentration=10)\n",
    "get_species().initial_concentration\n",
    "\n",
    "# %%\n",
    "result = run_time_course(duration=50)\n",
    "result.plot()\n",
    "\n",
    "# %%\n",
    "\n",
    "        # <markdowncell>\n",
    "        "
   ]
  },
  {
   "cell_type": "code",
   "execution_count": null,
   "id": "07bfe041",
   "metadata": {},
   "outputs": [],
   "source": []
  }
 ],
 "metadata": {
  "kernelspec": {
   "display_name": "Python 3",
   "language": "python",
   "name": "python3"
  },
  "language_info": {
   "codemirror_mode": {
    "name": "ipython",
    "version": 3
   },
   "file_extension": ".py",
   "mimetype": "text/x-python",
   "name": "python",
   "nbconvert_exporter": "python",
   "pygments_lexer": "ipython3",
   "version": "3.10.6"
  }
 },
 "nbformat": 4,
 "nbformat_minor": 5
}
