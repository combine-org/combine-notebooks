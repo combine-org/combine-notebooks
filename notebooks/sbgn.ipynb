{
 "cells": [
  {
   "cell_type": "code",
   "execution_count": 10,
   "metadata": {},
   "outputs": [],
   "source": [
    "from pathlib import Path\n",
    "import IPython\n",
    "import libsbgnpy.libsbgn as libsbgn\n",
    "from IPython.core.display import HTML\n",
    "from IPython.display import Image\n",
    "from libsbgnpy.libsbgnTypes import ArcClass, GlyphClass, Language, Orientation\n",
    "from pygments import highlight\n",
    "from pygments.formatters import HtmlFormatter\n",
    "from pygments.lexers import PythonLexer\n",
    "from combine_notebooks import RESULTS_DIR"
   ]
  },
  {
   "cell_type": "code",
   "execution_count": 25,
   "metadata": {},
   "outputs": [],
   "source": [
    "def pprint_xml(xml_str: str) -> None:\n",
    "    \"\"\"Create highlighted xml.\"\"\"\n",
    "    IPython.display.display(\n",
    "        HTML(\n",
    "            '<style type=\"text/css\">{}</style>{}'.format(\n",
    "                HtmlFormatter().get_style_defs(\".highlight\"),\n",
    "                highlight(xml_str, PythonLexer(), HtmlFormatter()),\n",
    "            )\n",
    "        )\n",
    "    )"
   ]
  },
  {
   "cell_type": "code",
   "execution_count": 40,
   "metadata": {},
   "outputs": [
    {
     "ename": "PermissionError",
     "evalue": "[Errno 13] Permission denied: 'C:\\\\Users\\\\HARVEY~1\\\\AppData\\\\Local\\\\Temp\\\\tmpp0w76g0f.sbgn'",
     "output_type": "error",
     "traceback": [
      "\u001b[1;31m---------------------------------------------------------------------------\u001b[0m",
      "\u001b[1;31mPermissionError\u001b[0m                           Traceback (most recent call last)",
      "Cell \u001b[1;32mIn[40], line 443\u001b[0m\n\u001b[0;32m    440\u001b[0m \u001b[39mfrom\u001b[39;00m \u001b[39mlibsbgnpy\u001b[39;00m \u001b[39mimport\u001b[39;00m render\n\u001b[0;32m    442\u001b[0m f_png: \u001b[39mstr\u001b[39m \u001b[39m=\u001b[39m \u001b[39m\"\u001b[39m\u001b[39mhello_world.png\u001b[39m\u001b[39m\"\u001b[39m\n\u001b[1;32m--> 443\u001b[0m render\u001b[39m.\u001b[39;49mrender_sbgn(sbgn, image_file\u001b[39m=\u001b[39;49mf_png, file_format\u001b[39m=\u001b[39;49m\u001b[39m\"\u001b[39;49m\u001b[39mpng\u001b[39;49m\u001b[39m\"\u001b[39;49m)\n\u001b[0;32m    444\u001b[0m Image(f_png, width\u001b[39m=\u001b[39m\u001b[39m300\u001b[39m)\n",
      "File \u001b[1;32mc:\\Users\\Harvey Mannering\\AppData\\Local\\Programs\\Python\\Python311\\Lib\\site-packages\\libsbgnpy-0.2.2-py3.11.egg\\libsbgnpy\\render.py:42\u001b[0m, in \u001b[0;36mrender_sbgn\u001b[1;34m(sbgn, image_file, file_format)\u001b[0m\n\u001b[0;32m     40\u001b[0m \u001b[39m# Create temporary file\u001b[39;00m\n\u001b[0;32m     41\u001b[0m f_in \u001b[39m=\u001b[39m tempfile\u001b[39m.\u001b[39mNamedTemporaryFile(suffix\u001b[39m=\u001b[39m\u001b[39m\"\u001b[39m\u001b[39m.sbgn\u001b[39m\u001b[39m\"\u001b[39m)\n\u001b[1;32m---> 42\u001b[0m utils\u001b[39m.\u001b[39;49mwrite_to_file(sbgn, f_in\u001b[39m.\u001b[39;49mname)\n\u001b[0;32m     44\u001b[0m \u001b[39m# Call webservice for rendering\u001b[39;00m\n\u001b[0;32m     45\u001b[0m files \u001b[39m=\u001b[39m [\n\u001b[0;32m     46\u001b[0m     (\u001b[39m\"\u001b[39m\u001b[39mfile\u001b[39m\u001b[39m\"\u001b[39m, \u001b[39mopen\u001b[39m(f_in\u001b[39m.\u001b[39mname, \u001b[39m\"\u001b[39m\u001b[39mrb\u001b[39m\u001b[39m\"\u001b[39m)),\n\u001b[0;32m     47\u001b[0m ]\n",
      "File \u001b[1;32mc:\\Users\\Harvey Mannering\\AppData\\Local\\Programs\\Python\\Python311\\Lib\\site-packages\\libsbgnpy-0.2.2-py3.11.egg\\libsbgnpy\\utils.py:27\u001b[0m, in \u001b[0;36mwrite_to_file\u001b[1;34m(sbgn, f)\u001b[0m\n\u001b[0;32m     20\u001b[0m \u001b[39mdef\u001b[39;00m \u001b[39mwrite_to_file\u001b[39m(sbgn, f):\n\u001b[0;32m     21\u001b[0m \u001b[39m    \u001b[39m\u001b[39m\"\"\"Write sbgn object to file.\u001b[39;00m\n\u001b[0;32m     22\u001b[0m \n\u001b[0;32m     23\u001b[0m \u001b[39m    :param sbgn:\u001b[39;00m\n\u001b[0;32m     24\u001b[0m \u001b[39m    :param f:\u001b[39;00m\n\u001b[0;32m     25\u001b[0m \u001b[39m    :return:\u001b[39;00m\n\u001b[0;32m     26\u001b[0m \u001b[39m    \"\"\"\u001b[39;00m\n\u001b[1;32m---> 27\u001b[0m     sbgn\u001b[39m.\u001b[39;49mwrite_file(f)\n",
      "File \u001b[1;32mc:\\Users\\Harvey Mannering\\AppData\\Local\\Programs\\Python\\Python311\\Lib\\site-packages\\libsbgnpy-0.2.2-py3.11.egg\\libsbgnpy\\libsbgn.py:794\u001b[0m, in \u001b[0;36mSBGNBase.write_file\u001b[1;34m(self, outfile, namespace)\u001b[0m\n\u001b[0;32m    785\u001b[0m \u001b[39mdef\u001b[39;00m \u001b[39mwrite_file\u001b[39m(\u001b[39mself\u001b[39m, outfile, namespace\u001b[39m=\u001b[39m\u001b[39m\"\u001b[39m\u001b[39msbgn\u001b[39m\u001b[39m\"\u001b[39m):\n\u001b[0;32m    786\u001b[0m \u001b[39m    \u001b[39m\u001b[39m\"\"\"Write SBGN to file.\u001b[39;00m\n\u001b[0;32m    787\u001b[0m \n\u001b[0;32m    788\u001b[0m \u001b[39m    This also fixes the issues of the sbgn namespace prefix.\u001b[39;00m\n\u001b[1;32m   (...)\u001b[0m\n\u001b[0;32m    792\u001b[0m \u001b[39m    :return:\u001b[39;00m\n\u001b[0;32m    793\u001b[0m \u001b[39m    \"\"\"\u001b[39;00m\n\u001b[1;32m--> 794\u001b[0m     f \u001b[39m=\u001b[39m \u001b[39mopen\u001b[39m(outfile, \u001b[39m\"\u001b[39m\u001b[39mw\u001b[39m\u001b[39m\"\u001b[39m)\n\u001b[0;32m    795\u001b[0m     f\u001b[39m.\u001b[39mwrite(\u001b[39m'\u001b[39m\u001b[39m<?xml version=\u001b[39m\u001b[39m\"\u001b[39m\u001b[39m1.0\u001b[39m\u001b[39m\"\u001b[39m\u001b[39m encoding=\u001b[39m\u001b[39m\"\u001b[39m\u001b[39mUTF-8\u001b[39m\u001b[39m\"\u001b[39m\u001b[39m?>\u001b[39m\u001b[39m\\n\u001b[39;00m\u001b[39m'\u001b[39m)\n\u001b[0;32m    796\u001b[0m     \u001b[39mself\u001b[39m\u001b[39m.\u001b[39mexport(f, level\u001b[39m=\u001b[39m\u001b[39m0\u001b[39m, namespace_\u001b[39m=\u001b[39m\u001b[39m\"\u001b[39m\u001b[39msbgn\u001b[39m\u001b[39m\"\u001b[39m, name_\u001b[39m=\u001b[39m\u001b[39m\"\u001b[39m\u001b[39m\"\u001b[39m)\n",
      "\u001b[1;31mPermissionError\u001b[0m: [Errno 13] Permission denied: 'C:\\\\Users\\\\HARVEY~1\\\\AppData\\\\Local\\\\Temp\\\\tmpp0w76g0f.sbgn'"
     ]
    }
   ],
   "source": [
    "# create empty sbgn\n",
    "sbgn: libsbgn.sbgn = libsbgn.sbgn()\n",
    "#sbgn_path = RESULTS_DIR / \"hello_world.sbgn\"\n",
    "sbgn_path = \"hello_world.sbgn\"\n",
    "\n",
    "# create map, set language and set in sbgn\n",
    "map = libsbgn.map()\n",
    "map.set_language(Language.PD)\n",
    "sbgn.set_map(map)\n",
    "\n",
    "# create some glyphs\n",
    "# glyphs with labels\n",
    "g = libsbgn.glyph(class_=GlyphClass.MACROMOLECULE, id=\"glyph4\")\n",
    "g.set_label(libsbgn.label(text=\"Hexokinase\"))\n",
    "g.set_bbox(libsbgn.bbox(x=110.0, y=10.0, w=90.0, h=40.0))\n",
    "map.add_glyph(g)\n",
    "\n",
    "g = libsbgn.glyph(class_=GlyphClass.SIMPLE_CHEMICAL, id=\"glyph3\")\n",
    "g.set_label(libsbgn.label(text=\"Glucose-6P\"))\n",
    "g.set_bbox(libsbgn.bbox(x=210.0, y=95.0, w=90.0, h=40.0))\n",
    "map.add_glyph(g)\n",
    "\n",
    "g = libsbgn.glyph(class_=GlyphClass.SIMPLE_CHEMICAL, id=\"glyph1\")\n",
    "g.set_label(libsbgn.label(text=\"ADP\"))\n",
    "g.set_bbox(libsbgn.bbox(x=190.0, y=150.0, w=60.0, h=60.0))\n",
    "map.add_glyph(g)\n",
    "\n",
    "g = libsbgn.glyph(class_=GlyphClass.SIMPLE_CHEMICAL, id=\"glyph0\")\n",
    "g.set_label(libsbgn.label(text=\"Glucose\"))\n",
    "g.set_bbox(libsbgn.bbox(x=10.0, y=95.0, w=90.0, h=40.0))\n",
    "map.add_glyph(g)\n",
    "\n",
    "g = libsbgn.glyph(class_=GlyphClass.SIMPLE_CHEMICAL, id=\"glyph2\")\n",
    "g.set_label(libsbgn.label(text=\"ATP\"))\n",
    "g.set_bbox(libsbgn.bbox(x=60.0, y=150.0, w=60.0, h=60.0))\n",
    "map.add_glyph(g)\n",
    "\n",
    "g = libsbgn.glyph(class_=GlyphClass.PROCESS, id=\"glyph5\")\n",
    "g.set_bbox(libsbgn.bbox(x=143.0, y=103.0, w=24.0, h=24.0))\n",
    "g.add_port(libsbgn.port(y=\"115.0\", x=\"179.0\", id=\"glyph5.2\"))\n",
    "g.add_port(libsbgn.port(y=\"115.0\", x=\"131.0\", id=\"glyph5.1\"))\n",
    "map.add_glyph(g)\n",
    "\n",
    "# Add arcs linking the glyphs together\n",
    "a = libsbgn.arc(\n",
    "    class_=ArcClass.CATALYSIS,\n",
    "    target=\"glyph5\",\n",
    "    source=\"glyph4\",\n",
    "    id=\"arc0\",\n",
    ")\n",
    "a.set_start(libsbgn.startType(y=\"50.0\", x=\"155.0\"))\n",
    "a.set_end(libsbgn.endType(y=\"103.0\", x=\"155.0\"))\n",
    "map.add_arc(a)\n",
    "\n",
    "a = libsbgn.arc(\n",
    "    class_=ArcClass.PRODUCTION,\n",
    "    target=\"glyph3\",\n",
    "    source=\"glyph5.2\",\n",
    "    id=\"arc3\",\n",
    ")\n",
    "a.set_start(libsbgn.startType(y=\"115.0\", x=\"179.0\"))\n",
    "a.set_end(libsbgn.endType(y=\"115.0\", x=\"210.0\"))\n",
    "map.add_arc(a)\n",
    "\n",
    "a = libsbgn.arc(\n",
    "    class_=ArcClass.PRODUCTION,\n",
    "    target=\"glyph1\",\n",
    "    source=\"glyph5.2\",\n",
    "    id=\"arc4\",\n",
    ")\n",
    "a.set_start(libsbgn.startType(y=\"115.0\", x=\"179.0\"))\n",
    "a.set_end(libsbgn.endType(y=\"158.78679\", x=\"198.78679\"))\n",
    "map.add_arc(a)\n",
    "\n",
    "a = libsbgn.arc(\n",
    "    class_=ArcClass.CONSUMPTION,\n",
    "    target=\"glyph5.1\",\n",
    "    source=\"glyph0\",\n",
    "    id=\"arc1\",\n",
    ")\n",
    "a.set_start(libsbgn.startType(y=\"115.0\", x=\"100.0\"))\n",
    "a.set_end(libsbgn.endType(y=\"115.0\", x=\"131.0\"))\n",
    "map.add_arc(a)\n",
    "\n",
    "a = libsbgn.arc(\n",
    "    class_=ArcClass.CONSUMPTION,\n",
    "    target=\"glyph5.1\",\n",
    "    source=\"glyph2\",\n",
    "    id=\"arc2\",\n",
    ")\n",
    "a.set_start(libsbgn.startType(y=\"154.62607\", x=\"106.0051\"))\n",
    "a.set_end(libsbgn.endType(y=\"115.0\", x=\"131.0\"))\n",
    "map.add_arc(a)\n",
    "\n",
    "\n",
    "f_out = str(sbgn_path)\n",
    "sbgn.write_file(f_out)\n",
    "\n",
    "# render SBGN\n",
    "from libsbgnpy import render\n",
    "\n",
    "f_png: str = \"hello_world.png\"\n",
    "render.render_sbgn(sbgn, image_file=f_png, file_format=\"png\")\n",
    "Image(f_png, width=300)"
   ]
  },
  {
   "cell_type": "code",
   "execution_count": 37,
   "metadata": {},
   "outputs": [
    {
     "data": {
      "text/plain": [
       "'c:\\\\users\\\\harvey mannering\\\\documents\\\\compbiolibs\\\\original_repo\\\\combine-notebooks\\\\results'"
      ]
     },
     "execution_count": 37,
     "metadata": {},
     "output_type": "execute_result"
    }
   ],
   "source": []
  },
  {
   "cell_type": "code",
   "execution_count": null,
   "metadata": {},
   "outputs": [],
   "source": []
  }
 ],
 "metadata": {
  "kernelspec": {
   "display_name": "Python 3",
   "language": "python",
   "name": "python3"
  },
  "language_info": {
   "codemirror_mode": {
    "name": "ipython",
    "version": 3
   },
   "file_extension": ".py",
   "mimetype": "text/x-python",
   "name": "python",
   "nbconvert_exporter": "python",
   "pygments_lexer": "ipython3",
   "version": "3.11.1"
  },
  "orig_nbformat": 4
 },
 "nbformat": 4,
 "nbformat_minor": 2
}
