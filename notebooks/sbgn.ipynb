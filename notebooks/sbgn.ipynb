{
 "cells": [
  {
   "cell_type": "code",
   "execution_count": 2,
   "metadata": {},
   "outputs": [],
   "source": [
    "from pathlib import Path\n",
    "import IPython\n",
    "import libsbgnpy.libsbgn as libsbgn\n",
    "from IPython.core.display import HTML\n",
    "from IPython.display import Image\n",
    "from libsbgnpy.libsbgnTypes import ArcClass, GlyphClass, Language, Orientation\n",
    "from pygments import highlight\n",
    "from pygments.formatters import HtmlFormatter\n",
    "from pygments.lexers import PythonLexer\n",
    "from combine_notebooks import RESULTS_DIR"
   ]
  },
  {
   "cell_type": "code",
   "execution_count": 3,
   "metadata": {},
   "outputs": [],
   "source": [
    "def pprint_xml(xml_str: str) -> None:\n",
    "    \"\"\"Create highlighted xml.\"\"\"\n",
    "    IPython.display.display(\n",
    "        HTML(\n",
    "            '<style type=\"text/css\">{}</style>{}'.format(\n",
    "                HtmlFormatter().get_style_defs(\".highlight\"),\n",
    "                highlight(xml_str, PythonLexer(), HtmlFormatter()),\n",
    "            )\n",
    "        )\n",
    "    )"
   ]
  },
  {
   "cell_type": "code",
   "execution_count": 5,
   "metadata": {},
   "outputs": [
    {
     "name": "stdout",
     "output_type": "stream",
     "text": [
      "SBGN rendered: /home/vboxuser/Documents/compbiolibs/combine-notebooks/results/hello_world_sbgn.png\n"
     ]
    },
    {
     "data": {
      "image/png": "[encoded data removed]",
      "text/plain": [
       "<IPython.core.display.Image object>"
      ]
     },
     "execution_count": 5,
     "metadata": {
      "image/png": {
       "width": 300
      }
     },
     "output_type": "execute_result"
    }
   ],
   "source": [
    "# create empty sbgn\n",
    "sbgn: libsbgn.sbgn = libsbgn.sbgn()\n",
    "\n",
    "# create map, set language and set in sbgn\n",
    "map = libsbgn.map()\n",
    "map.set_language(Language.PD)\n",
    "sbgn.set_map(map)\n",
    "\n",
    "# create some glyphs\n",
    "# glyphs with labels\n",
    "g = libsbgn.glyph(class_=GlyphClass.SIMPLE_CHEMICAL, id=\"glyph0\")\n",
    "g.set_label(libsbgn.label(text=\"S1\"))\n",
    "g.set_bbox(libsbgn.bbox(y=\"105.0\", x=\"25.0\", h=\"60.0\", w=\"60.0\"))\n",
    "map.add_glyph(g)\n",
    "\n",
    "g = libsbgn.glyph(class_=GlyphClass.MACROMOLECULE, id=\"glyph2\")\n",
    "g.set_label(libsbgn.label(text=\"enzyme\"))\n",
    "g.set_bbox(libsbgn.bbox(y=\"30.0\", x=\"115.0\", h=\"40.0\", w=\"80.0\"))\n",
    "map.add_glyph(g)\n",
    "\n",
    "g = libsbgn.glyph(class_=GlyphClass.PROCESS, id=\"glyph3\")\n",
    "g.set_bbox(libsbgn.bbox(y=\"123.0\", x=\"143.0\", h=\"24.0\", w=\"24.0\"))\n",
    "g.add_port(libsbgn.port(y=\"135.0\", x=\"131.0\", id=\"glyph3.1\"))\n",
    "g.add_port(libsbgn.port(y=\"135.0\", x=\"179.0\", id=\"glyph3.2\"))\n",
    "map.add_glyph(g)\n",
    "\n",
    "g = libsbgn.glyph(class_=GlyphClass.SIMPLE_CHEMICAL, id=\"glyph1\")\n",
    "g.set_label(libsbgn.label(text=\"P1\"))\n",
    "g.set_bbox(libsbgn.bbox(y=\"105.0\", x=\"225.0\", h=\"60.0\", w=\"60.0\"))\n",
    "map.add_glyph(g)\n",
    "\n",
    "# Add arcs linking the glyphs together\n",
    "a = libsbgn.arc(\n",
    "    class_=ArcClass.CONSUMPTION,\n",
    "    target=\"glyph3.1\",\n",
    "    source=\"glyph0\",\n",
    "    id=\"arc0\",\n",
    ")\n",
    "a.set_start(libsbgn.startType(y=\"135.0\", x=\"85.0\"))\n",
    "a.set_end(libsbgn.endType(y=\"135.0\", x=\"131.0\"))\n",
    "map.add_arc(a)\n",
    "\n",
    "a = libsbgn.arc(\n",
    "    class_=ArcClass.CATALYSIS,\n",
    "    target=\"glyph3\",\n",
    "    source=\"glyph2\",\n",
    "    id=\"arc1\",\n",
    ")\n",
    "a.set_start(libsbgn.startType(y=\"70.0\", x=\"155.0\"))\n",
    "a.set_end(libsbgn.endType(y=\"123.0\", x=\"155.0\"))\n",
    "map.add_arc(a)\n",
    "\n",
    "a = libsbgn.arc(\n",
    "    class_=ArcClass.PRODUCTION,\n",
    "    target=\"glyph1\",\n",
    "    source=\"glyph3.2\",\n",
    "    id=\"arc2\",\n",
    ")\n",
    "a.set_start(libsbgn.startType(y=\"135.0\", x=\"179.0\"))\n",
    "a.set_end(libsbgn.endType(y=\"135.0\", x=\"225.0\"))\n",
    "map.add_arc(a)\n",
    "\n",
    "from combine_notebooks import RESULTS_DIR\n",
    "\n",
    "sbgn_path = str(RESULTS_DIR) + \"/hello_world_sbgn.sbgn\"\n",
    "f_out = sbgn_path\n",
    "sbgn.write_file(f_out)\n",
    "\n",
    "# render SBGN\n",
    "from libsbgnpy import render\n",
    "\n",
    "f_png: str = str(RESULTS_DIR) + '/hello_world_sbgn.png'\n",
    "render.render_sbgn(sbgn, image_file=f_png, file_format=\"png\")\n",
    "Image(f_png, width=300)"
   ]
  },
  {
   "cell_type": "code",
   "execution_count": null,
   "metadata": {},
   "outputs": [],
   "source": []
  }
 ],
 "metadata": {
  "kernelspec": {
   "display_name": "Python 3",
   "language": "python",
   "name": "python3"
  },
  "language_info": {
   "codemirror_mode": {
    "name": "ipython",
    "version": 3
   },
   "file_extension": ".py",
   "mimetype": "text/x-python",
   "name": "python",
   "nbconvert_exporter": "python",
   "pygments_lexer": "ipython3",
   "version": "3.10.6"
  },
  "orig_nbformat": 4
 },
 "nbformat": 4,
 "nbformat_minor": 2
}
