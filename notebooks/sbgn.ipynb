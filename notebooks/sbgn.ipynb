{
 "cells": [
  {
   "attachments": {},
   "cell_type": "markdown",
   "metadata": {},
   "source": [
    "[![Binder](https://mybinder.org/badge_logo.svg)](https://mybinder.org/v2/gh/combine-org/combine-notebooks/main?labpath=notebooks%2Fsbgn.ipynb)\n",
    "<a href=\"https://colab.research.google.com/github/combine-org/combine-notebooks/blob/main/notebooks/sbgn.ipynb\" target=\"_parent\"><img src=\"https://colab.research.google.com/assets/colab-badge.svg\" alt=\"Open In Colab\\\"/></a>"
   ]
  },
  {
   "attachments": {},
   "cell_type": "markdown",
   "metadata": {},
   "source": [
    "# Simple SBGN example"
   ]
  },
  {
   "attachments": {},
   "cell_type": "markdown",
   "metadata": {},
   "source": [
    "This notebook creates a simple model in [SBGN](https://sbgn.github.io/specifications). It models an irreversible reacton. The enzyme catalyses an irreversible metabolic process which consumes substrate S1 and produces product P1. The enzyme is a represented as a macromolecule connected to the process glyph by a catalysis arc. The substrate and the product of the biochemical reaction are represented by simple chemical glyphs. Then we renders a graphical representation and print the SBGN xml."
   ]
  },
  {
   "attachments": {},
   "cell_type": "markdown",
   "metadata": {},
   "source": [
    "## 1) Including libraries"
   ]
  },
  {
   "attachments": {},
   "cell_type": "markdown",
   "metadata": {},
   "source": [
    "Note: Please uncomment the line below if you use the Google Colab."
   ]
  },
  {
   "cell_type": "code",
   "execution_count": null,
   "metadata": {},
   "outputs": [],
   "source": [
    "#%pip install git+https://github.com/combine-org/combine-notebooks"
   ]
  },
  {
   "cell_type": "code",
   "execution_count": 1,
   "metadata": {},
   "outputs": [],
   "source": [
    "from pathlib import Path\n",
    "\n",
    "from IPython.display import Image\n",
    "import libsbgnpy.libsbgn as libsbgn\n",
    "from libsbgnpy.libsbgnTypes import ArcClass, GlyphClass, Language\n",
    "from libsbgnpy import render\n",
    "import copy\n",
    "\n",
    "from combine_notebooks import RESULTS_DIR"
   ]
  },
  {
   "cell_type": "code",
   "execution_count": 2,
   "metadata": {},
   "outputs": [],
   "source": [
    "def get_sbgn_string(doc_before : libsbgn.sbgn):\n",
    "    # Creates temporary sbgn file to extract xml as a string\n",
    "    RESULTS_DIR.mkdir(parents=True, exist_ok=True)\n",
    "    sbgn_path = RESULTS_DIR / \"temp.sbgn\"\n",
    "    f_out = sbgn_path\n",
    "    doc_before.write_file(f_out)\n",
    "    xml = open(f_out).read()\n",
    "    Path.unlink(sbgn_path) \n",
    "    return xml\n",
    "\n",
    "def pretty_print(sbgn_before : libsbgn.sbgn, sbgn_after : libsbgn.sbgn = None):\n",
    "    # Break the original SBML into lines\n",
    "    original_sbgn = get_sbgn_string(sbgn_before)\n",
    "    original_sbgn_lines = original_sbgn.split('\\n')\n",
    "    # Print the entire document in red\n",
    "    if sbgn_after == None:\n",
    "        original_document = '\\n'.join(original_sbgn_lines)\n",
    "        print(\"\\x1b[31m\" + original_document + \"\\x1b[0m\") # ANSI escape used to print colours here\n",
    "    # If a new document is also given, highlight the lines that have changed\n",
    "    else:\n",
    "        # Split the updated SBML into lines\n",
    "        new_sbgn = get_sbgn_string(sbgn_after)\n",
    "        new_sbgn_lines = new_sbgn.split('\\n')\n",
    "        # Iterate over each new line\n",
    "        for new_line in new_sbgn_lines:\n",
    "            # Print any new lines in red, otherwise print normally\n",
    "            if new_line in original_sbgn_lines:\n",
    "                print(new_line)\n",
    "            else:\n",
    "                print(\"\\x1b[31m\" + new_line + \"\\x1b[0m\") # ANSI escape used to print colours here"
   ]
  },
  {
   "attachments": {},
   "cell_type": "markdown",
   "metadata": {},
   "source": [
    "## 2) Declaring the SBGN model"
   ]
  },
  {
   "attachments": {},
   "cell_type": "markdown",
   "metadata": {},
   "source": [
    "Create empty sbgn."
   ]
  },
  {
   "cell_type": "code",
   "execution_count": 3,
   "metadata": {},
   "outputs": [
    {
     "name": "stdout",
     "output_type": "stream",
     "text": [
      "\u001b[31m<?xml version=\"1.0\" encoding=\"UTF-8\"?>\n",
      "<sbgn/>\n",
      "\u001b[0m\n"
     ]
    }
   ],
   "source": [
    "sbgn: libsbgn.sbgn = libsbgn.sbgn()\n",
    "\n",
    "pretty_print(sbgn)"
   ]
  },
  {
   "attachments": {},
   "cell_type": "markdown",
   "metadata": {},
   "source": [
    "Create map, set language and set in sbgn."
   ]
  },
  {
   "cell_type": "code",
   "execution_count": 4,
   "metadata": {},
   "outputs": [
    {
     "name": "stdout",
     "output_type": "stream",
     "text": [
      "<?xml version=\"1.0\" encoding=\"UTF-8\"?>\n",
      "\u001b[31m<sbgn xmlns=\"http://sbgn.org/libsbgn/0.2\">\u001b[0m\n",
      "\u001b[31m    <map language=\"process description\"/>\u001b[0m\n",
      "\u001b[31m</sbgn>\u001b[0m\n",
      "\n"
     ]
    }
   ],
   "source": [
    "start_sbgn = copy.deepcopy(sbgn)\n",
    "\n",
    "map = libsbgn.map()\n",
    "map.set_language(Language.PD)\n",
    "sbgn.set_map(map)\n",
    "\n",
    "pretty_print(start_sbgn, sbgn)"
   ]
  },
  {
   "attachments": {},
   "cell_type": "markdown",
   "metadata": {},
   "source": [
    "Create four glyphs.  We label three of the glyphs as S1, P1, and enzyme."
   ]
  },
  {
   "cell_type": "code",
   "execution_count": 5,
   "metadata": {},
   "outputs": [
    {
     "name": "stdout",
     "output_type": "stream",
     "text": [
      "<?xml version=\"1.0\" encoding=\"UTF-8\"?>\n",
      "<sbgn xmlns=\"http://sbgn.org/libsbgn/0.2\">\n",
      "\u001b[31m    <map language=\"process description\">\u001b[0m\n",
      "\u001b[31m        <glyph class=\"simple chemical\" id=\"glyph0\">\u001b[0m\n",
      "\u001b[31m            <label text=\"S1\"/>\u001b[0m\n",
      "\u001b[31m            <bbox w=\"60.\" h=\"60.\" x=\"25.\" y=\"105.\"/>\u001b[0m\n",
      "\u001b[31m        </glyph>\u001b[0m\n",
      "\u001b[31m        <glyph class=\"macromolecule\" id=\"glyph2\">\u001b[0m\n",
      "\u001b[31m            <label text=\"enzyme\"/>\u001b[0m\n",
      "\u001b[31m            <bbox w=\"80.\" h=\"40.\" x=\"115.\" y=\"30.\"/>\u001b[0m\n",
      "\u001b[31m        </glyph>\u001b[0m\n",
      "\u001b[31m        <glyph class=\"process\" id=\"glyph3\">\u001b[0m\n",
      "\u001b[31m            <bbox w=\"24.\" h=\"24.\" x=\"143.\" y=\"123.\"/>\u001b[0m\n",
      "\u001b[31m            <port id=\"glyph3.1\" x=\"131.\" y=\"135.\"/>\u001b[0m\n",
      "\u001b[31m            <port id=\"glyph3.2\" x=\"179.\" y=\"135.\"/>\u001b[0m\n",
      "\u001b[31m        </glyph>\u001b[0m\n",
      "\u001b[31m        <glyph class=\"simple chemical\" id=\"glyph1\">\u001b[0m\n",
      "\u001b[31m            <label text=\"P1\"/>\u001b[0m\n",
      "\u001b[31m            <bbox w=\"60.\" h=\"60.\" x=\"225.\" y=\"105.\"/>\u001b[0m\n",
      "\u001b[31m        </glyph>\u001b[0m\n",
      "\u001b[31m    </map>\u001b[0m\n",
      "</sbgn>\n",
      "\n"
     ]
    }
   ],
   "source": [
    "start_sbgn = copy.deepcopy(sbgn)\n",
    "\n",
    "g = libsbgn.glyph(class_=GlyphClass.SIMPLE_CHEMICAL, id=\"glyph0\")\n",
    "g.set_label(libsbgn.label(text=\"S1\"))\n",
    "g.set_bbox(libsbgn.bbox(y=\"105.0\", x=\"25.0\", h=\"60.0\", w=\"60.0\"))\n",
    "map.add_glyph(g)\n",
    "\n",
    "g = libsbgn.glyph(class_=GlyphClass.MACROMOLECULE, id=\"glyph2\")\n",
    "g.set_label(libsbgn.label(text=\"enzyme\"))\n",
    "g.set_bbox(libsbgn.bbox(y=\"30.0\", x=\"115.0\", h=\"40.0\", w=\"80.0\"))\n",
    "map.add_glyph(g)\n",
    "\n",
    "g = libsbgn.glyph(class_=GlyphClass.PROCESS, id=\"glyph3\")\n",
    "g.set_bbox(libsbgn.bbox(y=\"123.0\", x=\"143.0\", h=\"24.0\", w=\"24.0\"))\n",
    "g.add_port(libsbgn.port(y=\"135.0\", x=\"131.0\", id=\"glyph3.1\"))\n",
    "g.add_port(libsbgn.port(y=\"135.0\", x=\"179.0\", id=\"glyph3.2\"))\n",
    "map.add_glyph(g)\n",
    "\n",
    "g = libsbgn.glyph(class_=GlyphClass.SIMPLE_CHEMICAL, id=\"glyph1\")\n",
    "g.set_label(libsbgn.label(text=\"P1\"))\n",
    "g.set_bbox(libsbgn.bbox(y=\"105.0\", x=\"225.0\", h=\"60.0\", w=\"60.0\"))\n",
    "map.add_glyph(g)\n",
    "\n",
    "pretty_print(start_sbgn, sbgn)"
   ]
  },
  {
   "attachments": {},
   "cell_type": "markdown",
   "metadata": {},
   "source": [
    "Add three arcs linking the glyphs together."
   ]
  },
  {
   "cell_type": "code",
   "execution_count": 6,
   "metadata": {},
   "outputs": [
    {
     "name": "stdout",
     "output_type": "stream",
     "text": [
      "<?xml version=\"1.0\" encoding=\"UTF-8\"?>\n",
      "<sbgn xmlns=\"http://sbgn.org/libsbgn/0.2\">\n",
      "    <map language=\"process description\">\n",
      "        <glyph class=\"simple chemical\" id=\"glyph0\">\n",
      "            <label text=\"S1\"/>\n",
      "            <bbox w=\"60.\" h=\"60.\" x=\"25.\" y=\"105.\"/>\n",
      "        </glyph>\n",
      "        <glyph class=\"macromolecule\" id=\"glyph2\">\n",
      "            <label text=\"enzyme\"/>\n",
      "            <bbox w=\"80.\" h=\"40.\" x=\"115.\" y=\"30.\"/>\n",
      "        </glyph>\n",
      "        <glyph class=\"process\" id=\"glyph3\">\n",
      "            <bbox w=\"24.\" h=\"24.\" x=\"143.\" y=\"123.\"/>\n",
      "            <port id=\"glyph3.1\" x=\"131.\" y=\"135.\"/>\n",
      "            <port id=\"glyph3.2\" x=\"179.\" y=\"135.\"/>\n",
      "        </glyph>\n",
      "        <glyph class=\"simple chemical\" id=\"glyph1\">\n",
      "            <label text=\"P1\"/>\n",
      "            <bbox w=\"60.\" h=\"60.\" x=\"225.\" y=\"105.\"/>\n",
      "        </glyph>\n",
      "\u001b[31m        <arc class=\"consumption\" id=\"arc0\" source=\"glyph0\" target=\"glyph3.1\">\u001b[0m\n",
      "\u001b[31m            <start x=\"85.\" y=\"135.\"/>\u001b[0m\n",
      "\u001b[31m            <end x=\"131.\" y=\"135.\"/>\u001b[0m\n",
      "\u001b[31m        </arc>\u001b[0m\n",
      "\u001b[31m        <arc class=\"catalysis\" id=\"arc1\" source=\"glyph2\" target=\"glyph3\">\u001b[0m\n",
      "\u001b[31m            <start x=\"155.\" y=\"70.\"/>\u001b[0m\n",
      "\u001b[31m            <end x=\"155.\" y=\"123.\"/>\u001b[0m\n",
      "\u001b[31m        </arc>\u001b[0m\n",
      "\u001b[31m        <arc class=\"production\" id=\"arc2\" source=\"glyph3.2\" target=\"glyph1\">\u001b[0m\n",
      "\u001b[31m            <start x=\"179.\" y=\"135.\"/>\u001b[0m\n",
      "\u001b[31m            <end x=\"225.\" y=\"135.\"/>\u001b[0m\n",
      "\u001b[31m        </arc>\u001b[0m\n",
      "    </map>\n",
      "</sbgn>\n",
      "\n"
     ]
    }
   ],
   "source": [
    "start_sbgn = copy.deepcopy(sbgn)\n",
    "\n",
    "a = libsbgn.arc(class_=ArcClass.CONSUMPTION, target=\"glyph3.1\", source=\"glyph0\", id=\"arc0\")\n",
    "a.set_start(libsbgn.startType(y=\"135.0\", x=\"85.0\"))\n",
    "a.set_end(libsbgn.endType(y=\"135.0\", x=\"131.0\"))\n",
    "map.add_arc(a)\n",
    "\n",
    "a = libsbgn.arc(class_=ArcClass.CATALYSIS, target=\"glyph3\", source=\"glyph2\", id=\"arc1\")\n",
    "a.set_start(libsbgn.startType(y=\"70.0\", x=\"155.0\"))\n",
    "a.set_end(libsbgn.endType(y=\"123.0\", x=\"155.0\"))\n",
    "map.add_arc(a)\n",
    "\n",
    "a = libsbgn.arc(class_=ArcClass.PRODUCTION, target=\"glyph1\", source=\"glyph3.2\", id=\"arc2\")\n",
    "a.set_start(libsbgn.startType(y=\"135.0\", x=\"179.0\"))\n",
    "a.set_end(libsbgn.endType(y=\"135.0\", x=\"225.0\"))\n",
    "map.add_arc(a)\n",
    "\n",
    "pretty_print(start_sbgn, sbgn)"
   ]
  },
  {
   "attachments": {},
   "cell_type": "markdown",
   "metadata": {},
   "source": [
    "## 3) Write, print and render the generated file "
   ]
  },
  {
   "attachments": {},
   "cell_type": "markdown",
   "metadata": {},
   "source": [
    "Save SBGN model as text and then print that model."
   ]
  },
  {
   "cell_type": "code",
   "execution_count": 7,
   "metadata": {},
   "outputs": [
    {
     "name": "stdout",
     "output_type": "stream",
     "text": [
      "<?xml version=\"1.0\" encoding=\"UTF-8\"?>\n",
      "<sbgn xmlns=\"http://sbgn.org/libsbgn/0.2\">\n",
      "    <map language=\"process description\">\n",
      "        <glyph class=\"simple chemical\" id=\"glyph0\">\n",
      "            <label text=\"S1\"/>\n",
      "            <bbox w=\"60.\" h=\"60.\" x=\"25.\" y=\"105.\"/>\n",
      "        </glyph>\n",
      "        <glyph class=\"macromolecule\" id=\"glyph2\">\n",
      "            <label text=\"enzyme\"/>\n",
      "            <bbox w=\"80.\" h=\"40.\" x=\"115.\" y=\"30.\"/>\n",
      "        </glyph>\n",
      "        <glyph class=\"process\" id=\"glyph3\">\n",
      "            <bbox w=\"24.\" h=\"24.\" x=\"143.\" y=\"123.\"/>\n",
      "            <port id=\"glyph3.1\" x=\"131.\" y=\"135.\"/>\n",
      "            <port id=\"glyph3.2\" x=\"179.\" y=\"135.\"/>\n",
      "        </glyph>\n",
      "        <glyph class=\"simple chemical\" id=\"glyph1\">\n",
      "            <label text=\"P1\"/>\n",
      "            <bbox w=\"60.\" h=\"60.\" x=\"225.\" y=\"105.\"/>\n",
      "        </glyph>\n",
      "        <arc class=\"consumption\" id=\"arc0\" source=\"glyph0\" target=\"glyph3.1\">\n",
      "            <start x=\"85.\" y=\"135.\"/>\n",
      "            <end x=\"131.\" y=\"135.\"/>\n",
      "        </arc>\n",
      "        <arc class=\"catalysis\" id=\"arc1\" source=\"glyph2\" target=\"glyph3\">\n",
      "            <start x=\"155.\" y=\"70.\"/>\n",
      "            <end x=\"155.\" y=\"123.\"/>\n",
      "        </arc>\n",
      "        <arc class=\"production\" id=\"arc2\" source=\"glyph3.2\" target=\"glyph1\">\n",
      "            <start x=\"179.\" y=\"135.\"/>\n",
      "            <end x=\"225.\" y=\"135.\"/>\n",
      "        </arc>\n",
      "    </map>\n",
      "</sbgn>\n",
      "\n"
     ]
    }
   ],
   "source": [
    "RESULTS_DIR.mkdir(parents=True, exist_ok=True)\n",
    "sbgn_path = RESULTS_DIR / \"hello_world_sbgn.sbgn\"\n",
    "f_out = sbgn_path\n",
    "sbgn.write_file(f_out)\n",
    "xml = open(f_out).read()\n",
    "print(xml)"
   ]
  },
  {
   "attachments": {},
   "cell_type": "markdown",
   "metadata": {},
   "source": [
    "Render the SBGN model."
   ]
  },
  {
   "cell_type": "code",
   "execution_count": null,
   "metadata": {},
   "outputs": [],
   "source": [
    "# render SBGN\n",
    "f_png = RESULTS_DIR / 'hello_world_sbgn.png'\n",
    "render.render_sbgn(sbgn, image_file=str(f_png), file_format=\"png\")\n",
    "Image(f_png, width=300)"
   ]
  }
 ],
 "metadata": {
  "kernelspec": {
   "display_name": "Python 3",
   "language": "python",
   "name": "python3"
  },
  "language_info": {
   "codemirror_mode": {
    "name": "ipython",
    "version": 3
   },
   "file_extension": ".py",
   "mimetype": "text/x-python",
   "name": "python",
   "nbconvert_exporter": "python",
   "pygments_lexer": "ipython3",
   "version": "3.11.1"
  },
  "orig_nbformat": 4
 },
 "nbformat": 4,
 "nbformat_minor": 2
}
