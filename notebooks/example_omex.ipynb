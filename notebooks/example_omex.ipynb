{
 "cells": [
  {
   "cell_type": "markdown",
   "id": "5e99734b",
   "metadata": {},
   "source": [
    "Example for creating a COMBINE archive."
   ]
  },
  {
   "cell_type": "code",
   "execution_count": null,
   "id": "86458f3d",
   "metadata": {
    "collapsed": false
   },
   "outputs": [],
   "source": [
    "# from pathlib import Path\n",
    "from pymetadata.console import console\n",
    "from pymetadata.omex import EntryFormat, ManifestEntry, Omex\n",
    "\n",
    "from combine_notebooks import RESULTS_DIR"
   ]
  },
  {
   "cell_type": "markdown",
   "id": "05ca01c8",
   "metadata": {},
   "source": [
    "Creating an empty archive and adding entry for SBML."
   ]
  },
  {
   "cell_type": "code",
   "execution_count": null,
   "id": "201b83a3",
   "metadata": {
    "collapsed": false
   },
   "outputs": [],
   "source": [
    "# create new archive\n",
    "omex = Omex()\n",
    "omex.add_entry(\n",
    "    entry=ManifestEntry(\n",
    "        location=\"./sbml/repressilator_libsbml.xml\",\n",
    "        format=EntryFormat.SBML_L3V2,\n",
    "        master=False,\n",
    "    ),\n",
    "    entry_path=RESULTS_DIR / \"repressilator_libsbml.xml\",\n",
    ")"
   ]
  },
  {
   "cell_type": "code",
   "execution_count": null,
   "id": "bec028c4",
   "metadata": {
    "collapsed": false
   },
   "outputs": [],
   "source": [
    "omex.add_entry(\n",
    "    entry=ManifestEntry(\n",
    "        location=\"./sbml/repressilator_antimony.xml\",\n",
    "        format=EntryFormat.SBML_L3V2,\n",
    "        master=False,\n",
    "    ),\n",
    "    entry_path=RESULTS_DIR / \"repressilator_antimony.xml\",\n",
    ")"
   ]
  },
  {
   "cell_type": "code",
   "execution_count": null,
   "id": "9b929e40",
   "metadata": {
    "collapsed": false
   },
   "outputs": [],
   "source": [
    "omex.add_entry(\n",
    "    entry=ManifestEntry(\n",
    "        location=\"./sbml/repressilator_sbmlutils.xml\",\n",
    "        format=EntryFormat.SBML_L3V2,\n",
    "        master=False,\n",
    "    ),\n",
    "    entry_path=RESULTS_DIR / \"repressilator_sbmlutils.xml\",\n",
    ")"
   ]
  },
  {
   "cell_type": "code",
   "execution_count": null,
   "id": "20f80a97",
   "metadata": {
    "collapsed": false
   },
   "outputs": [],
   "source": [
    "omex.add_entry(\n",
    "    entry=ManifestEntry(\n",
    "        location=\"./cellml/repressilator.cellml\",\n",
    "        format=EntryFormat.CELLML,\n",
    "        master=False,\n",
    "    ),\n",
    "    entry_path=RESULTS_DIR / \"repressilator.cellml\",\n",
    ")"
   ]
  },
  {
   "cell_type": "code",
   "execution_count": null,
   "id": "3b42a463",
   "metadata": {
    "collapsed": false
   },
   "outputs": [],
   "source": [
    "omex.add_entry(\n",
    "    entry=ManifestEntry(\n",
    "        location=\"./biopax/biopax.owl\", format=EntryFormat.BIOPAX, master=False\n",
    "    ),\n",
    "    entry_path=RESULTS_DIR / \"biopax.owl\",\n",
    ")"
   ]
  },
  {
   "cell_type": "code",
   "execution_count": null,
   "id": "eb843b73",
   "metadata": {
    "collapsed": false
   },
   "outputs": [],
   "source": [
    "omex.add_entry(\n",
    "    entry=ManifestEntry(\n",
    "        location=\"./sbgn/repressilator_sbgn.sbgn\", format=EntryFormat.SBGN, master=False\n",
    "    ),\n",
    "    entry_path=RESULTS_DIR / \"repressilator_sbgn.sbgn\",\n",
    ")"
   ]
  },
  {
   "cell_type": "code",
   "execution_count": null,
   "id": "c306cc3e",
   "metadata": {
    "collapsed": false
   },
   "outputs": [],
   "source": [
    "omex.add_entry(\n",
    "    entry=ManifestEntry(\n",
    "        location=\"./sedml/repressilator_sedml.xml\",\n",
    "        format=EntryFormat.SEDML,\n",
    "        master=False,\n",
    "    ),\n",
    "    entry_path=RESULTS_DIR / \"repressilator_sedml.xml\"\n",
    "    # FIXME: add the model relative and test\n",
    ")"
   ]
  },
  {
   "cell_type": "code",
   "execution_count": null,
   "id": "ca380e2a",
   "metadata": {
    "collapsed": false
   },
   "outputs": [],
   "source": [
    "console.print(omex)\n",
    "omex.to_omex(RESULTS_DIR / \"combine_notebooks.omex\")\n",
    "\n",
    "        # <markdowncell>\n",
    "        "
   ]
  }
 ],
 "metadata": {},
 "nbformat": 4,
 "nbformat_minor": 5
}
