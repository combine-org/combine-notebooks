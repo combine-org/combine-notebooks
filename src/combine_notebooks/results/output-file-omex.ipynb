{
 "cells": [
  {
   "cell_type": "markdown",
   "id": "6f56eb67",
   "metadata": {},
   "source": [
    "Example for creating a combine archive."
   ]
  },
  {
   "cell_type": "code",
   "execution_count": null,
   "id": "5a7e9ea7",
   "metadata": {
    "collapsed": false
   },
   "outputs": [],
   "source": [
    "# from pathlib import Path\n",
    "from combine_notebooks import RESULTS_DIR\n",
    "# RESOURCES_DIR: Path = Path(__file__).parent\n",
    "# RESULTS_DIR: Path = RESOURCES_DIR / \"results\"\n",
    "from pymetadata.omex import Omex, ManifestEntry, EntryFormat\n",
    "from pymetadata.console import console"
   ]
  },
  {
   "cell_type": "code",
   "execution_count": null,
   "id": "c82f1816",
   "metadata": {
    "collapsed": false
   },
   "outputs": [],
   "source": [
    "# create new archive\n",
    "omex = Omex()\n",
    "omex.add_entry(\n",
    "    entry=ManifestEntry(\n",
    "        location=\"./repressilator.xml\",\n",
    "        format=EntryFormat.SBML_L3V2,\n",
    "        master=False\n",
    "    ),\n",
    "    entry_path=RESULTS_DIR / \"repressilator_libsbml.xml\"\n",
    "    # entry_path=RESULTS_DIR / \"repressilator_libsbml.xml\"\n",
    ")\n",
    "console.print(omex)"
   ]
  },
  {
   "cell_type": "code",
   "execution_count": null,
   "id": "adb1cc94",
   "metadata": {
    "collapsed": false
   },
   "outputs": [],
   "source": [
    "omex.add_entry(\n",
    "    entry=ManifestEntry(\n",
    "        location=\"./repressilator.xml\",\n",
    "        format=EntryFormat.SBML_L3V2,\n",
    "        master=False\n",
    "    ),\n",
    "    entry_path=RESULTS_DIR / \"repressilator_antimony.xml\"\n",
    "    # entry_path=RESULTS_DIR / \"repressilator_libsbml.xml\"\n",
    ")\n",
    "console.print(omex)"
   ]
  },
  {
   "cell_type": "code",
   "execution_count": null,
   "id": "183b2f95",
   "metadata": {
    "collapsed": false
   },
   "outputs": [],
   "source": [
    "omex.add_entry(\n",
    "    entry=ManifestEntry(\n",
    "        location=\"./repressilator.xml\",\n",
    "        format=EntryFormat.SBML_L3V2,\n",
    "        master=False\n",
    "    ),\n",
    "    entry_path=RESULTS_DIR / \"repressilator_sbmlutils.xml\"\n",
    "    # entry_path=RESULTS_DIR / \"repressilator_libsbml.xml\"\n",
    ")\n",
    "console.print(omex)"
   ]
  },
  {
   "cell_type": "code",
   "execution_count": null,
   "id": "98ba241a",
   "metadata": {
    "collapsed": false
   },
   "outputs": [],
   "source": [
    "omex.add_entry(\n",
    "    entry=ManifestEntry(\n",
    "        location=\"./repressilator.xml\",\n",
    "        format=EntryFormat.CELLML,\n",
    "        master=False\n",
    "    ),\n",
    "    entry_path=RESULTS_DIR / \"repressilator.cellml\"\n",
    "    # entry_path=RESULTS_DIR / \"repressilator_libsbml.xml\"\n",
    ")\n",
    "console.print(omex)"
   ]
  },
  {
   "cell_type": "code",
   "execution_count": null,
   "id": "83f77961",
   "metadata": {
    "collapsed": false
   },
   "outputs": [],
   "source": [
    "omex.add_entry(\n",
    "    entry=ManifestEntry(\n",
    "        location=\"./repressilator.xml\",\n",
    "        format=EntryFormat.BIOPAX,\n",
    "        master=False\n",
    "    ),\n",
    "    entry_path=RESULTS_DIR / \"biopax.owl\"\n",
    "    # entry_path=RESULTS_DIR / \"repressilator_libsbml.xml\"\n",
    ")\n",
    "console.print(omex)"
   ]
  },
  {
   "cell_type": "code",
   "execution_count": null,
   "id": "8346296e",
   "metadata": {
    "collapsed": false
   },
   "outputs": [],
   "source": [
    "omex.add_entry(\n",
    "    entry=ManifestEntry(\n",
    "        location=\"./repressilator.xml\",\n",
    "        format=EntryFormat.SBGN,\n",
    "        master=False\n",
    "    ),\n",
    "    entry_path=RESULTS_DIR / \"repressilator_sbgn.sbgn\"\n",
    "    # entry_path=RESULTS_DIR / \"repressilator_libsbml.xml\"\n",
    ")\n",
    "console.print(omex)"
   ]
  },
  {
   "cell_type": "code",
   "execution_count": null,
   "id": "52d3f168",
   "metadata": {
    "collapsed": false
   },
   "outputs": [],
   "source": [
    "omex.add_entry(\n",
    "    entry=ManifestEntry(\n",
    "        location=\"./repressilator.xml\",\n",
    "        format=EntryFormat.SEDML,\n",
    "        master=False\n",
    "    ),\n",
    "    entry_path=RESULTS_DIR / \"repressilator_sedml.xml\"\n",
    "    # entry_path=RESULTS_DIR / \"repressilator_libsbml.xml\"\n",
    ")\n",
    "console.print(omex)"
   ]
  },
  {
   "cell_type": "code",
   "execution_count": null,
   "id": "aaa6f47c",
   "metadata": {
    "collapsed": false
   },
   "outputs": [],
   "source": [
    "omex.to_omex(RESULTS_DIR / \"combine_notebooks.omex\")"
   ]
  }
 ],
 "metadata": {},
 "nbformat": 4,
 "nbformat_minor": 5
}
