{
 "cells": [
  {
   "cell_type": "markdown",
   "id": "f2f8cd88",
   "metadata": {},
   "source": [
    "Example for creating a COMBINE archive."
   ]
  },
  {
   "cell_type": "code",
   "execution_count": null,
   "id": "39e23fb8",
   "metadata": {
    "collapsed": false
   },
   "outputs": [],
   "source": [
    "# from pathlib import Path\n",
    "from pymetadata.console import console\n",
    "from pymetadata.omex import EntryFormat, ManifestEntry, Omex\n",
    "\n",
    "from combine_notebooks import RESULTS_DIR"
   ]
  },
  {
   "cell_type": "markdown",
   "id": "f18aa797",
   "metadata": {},
   "source": [
    "Creating an empty archive and adding entry for SBML."
   ]
  },
  {
   "cell_type": "code",
   "execution_count": null,
   "id": "a375b910",
   "metadata": {
    "collapsed": false
   },
   "outputs": [],
   "source": [
    "# create new archive\n",
    "omex = Omex()\n",
    "omex.add_entry(\n",
    "    entry=ManifestEntry(\n",
    "        location=\"./sbml/repressilator_libsbml.xml\",\n",
    "        format=EntryFormat.SBML_L3V2,\n",
    "        master=False,\n",
    "    ),\n",
    "    entry_path=RESULTS_DIR / \"repressilator_libsbml.xml\",\n",
    ")"
   ]
  },
  {
   "cell_type": "code",
   "execution_count": null,
   "id": "095d6c59",
   "metadata": {
    "collapsed": false
   },
   "outputs": [],
   "source": [
    "omex.add_entry(\n",
    "    entry=ManifestEntry(\n",
    "        location=\"./sbml/repressilator_antimony.xml\",\n",
    "        format=EntryFormat.SBML_L3V2,\n",
    "        master=False,\n",
    "    ),\n",
    "    entry_path=RESULTS_DIR / \"repressilator_antimony.xml\",\n",
    ")"
   ]
  },
  {
   "cell_type": "code",
   "execution_count": null,
   "id": "3f2a8fe1",
   "metadata": {
    "collapsed": false
   },
   "outputs": [],
   "source": [
    "omex.add_entry(\n",
    "    entry=ManifestEntry(\n",
    "        location=\"./sbml/repressilator_sbmlutils.xml\",\n",
    "        format=EntryFormat.SBML_L3V2,\n",
    "        master=False,\n",
    "    ),\n",
    "    entry_path=RESULTS_DIR / \"repressilator_sbmlutils.xml\",\n",
    ")"
   ]
  },
  {
   "cell_type": "code",
   "execution_count": null,
   "id": "c31afdff",
   "metadata": {
    "collapsed": false
   },
   "outputs": [],
   "source": [
    "omex.add_entry(\n",
    "    entry=ManifestEntry(\n",
    "        location=\"./cellml/repressilator.cellml\",\n",
    "        format=EntryFormat.CELLML,\n",
    "        master=False,\n",
    "    ),\n",
    "    entry_path=RESULTS_DIR / \"repressilator.cellml\",\n",
    ")"
   ]
  },
  {
   "cell_type": "code",
   "execution_count": null,
   "id": "da5b1050",
   "metadata": {
    "collapsed": false
   },
   "outputs": [],
   "source": [
    "omex.add_entry(\n",
    "    entry=ManifestEntry(\n",
    "        location=\"./biopax/biopax.owl\", format=EntryFormat.BIOPAX, master=False\n",
    "    ),\n",
    "    entry_path=RESULTS_DIR / \"biopax.owl\",\n",
    ")"
   ]
  },
  {
   "cell_type": "code",
   "execution_count": null,
   "id": "71b80703",
   "metadata": {
    "collapsed": false
   },
   "outputs": [],
   "source": [
    "omex.add_entry(\n",
    "    entry=ManifestEntry(\n",
    "        location=\"./sbgn/repressilator_sbgn.sbgn\", format=EntryFormat.SBGN, master=False\n",
    "    ),\n",
    "    entry_path=RESULTS_DIR / \"repressilator_sbgn.sbgn\",\n",
    ")"
   ]
  },
  {
   "cell_type": "code",
   "execution_count": null,
   "id": "8b6a1a69",
   "metadata": {
    "collapsed": false
   },
   "outputs": [],
   "source": [
    "omex.add_entry(\n",
    "    entry=ManifestEntry(\n",
    "        location=\"./sedml/repressilator_sedml.xml\",\n",
    "        format=EntryFormat.SEDML,\n",
    "        master=False,\n",
    "    ),\n",
    "    entry_path=RESULTS_DIR / \"repressilator_sedml.xml\"\n",
    "    # FIXME: add the model relative and test\n",
    ")"
   ]
  },
  {
   "cell_type": "code",
   "execution_count": null,
   "id": "b3d7778e",
   "metadata": {
    "collapsed": false
   },
   "outputs": [],
   "source": [
    "console.print(omex)\n",
    "omex.to_omex(RESULTS_DIR / \"combine_notebooks.omex\")\n",
    "\n",
    "    # <markdowncell>\n",
    "\n",
    "    # If you can read this, reads_py() is no longer broken! \n",
    "    "
   ]
  }
 ],
 "metadata": {},
 "nbformat": 4,
 "nbformat_minor": 5
}
