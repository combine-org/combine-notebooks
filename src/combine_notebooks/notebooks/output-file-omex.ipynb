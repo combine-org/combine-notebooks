{
 "cells": [
  {
   "cell_type": "markdown",
   "id": "ffb62a47",
   "metadata": {},
   "source": [
    "Example for creating a combine archive."
   ]
  },
  {
   "cell_type": "code",
   "execution_count": null,
   "id": "dae5b6b6",
   "metadata": {
    "collapsed": false
   },
   "outputs": [],
   "source": [
    "# from pathlib import Path\n",
    "from combine_notebooks import RESULTS_DIR\n",
    "# RESOURCES_DIR: Path = Path(__file__).parent\n",
    "# RESULTS_DIR: Path = RESOURCES_DIR / \"results\"\n",
    "from pymetadata.omex import Omex, ManifestEntry, EntryFormat\n",
    "from pymetadata.console import console"
   ]
  },
  {
   "cell_type": "code",
   "execution_count": null,
   "id": "ceebbbab",
   "metadata": {
    "collapsed": false
   },
   "outputs": [],
   "source": [
    "# create new archive\n",
    "omex = Omex()\n",
    "omex.add_entry(\n",
    "    entry=ManifestEntry(\n",
    "        location=\"./repressilator.xml\",\n",
    "        format=EntryFormat.SBML_L3V2,\n",
    "        master=False\n",
    "    ),\n",
    "    entry_path=RESULTS_DIR / \"repressilator_libsbml.xml\"\n",
    "    # entry_path=RESULTS_DIR / \"repressilator_libsbml.xml\"\n",
    ")\n",
    "console.print(omex)"
   ]
  },
  {
   "cell_type": "code",
   "execution_count": null,
   "id": "852c7531",
   "metadata": {
    "collapsed": false
   },
   "outputs": [],
   "source": [
    "omex.add_entry(\n",
    "    entry=ManifestEntry(\n",
    "        location=\"./repressilator.xml\",\n",
    "        format=EntryFormat.SBML_L3V2,\n",
    "        master=False\n",
    "    ),\n",
    "    entry_path=RESULTS_DIR / \"repressilator_antimony.xml\"\n",
    "    # entry_path=RESULTS_DIR / \"repressilator_libsbml.xml\"\n",
    ")\n",
    "console.print(omex)"
   ]
  },
  {
   "cell_type": "code",
   "execution_count": null,
   "id": "cc04eb10",
   "metadata": {
    "collapsed": false
   },
   "outputs": [],
   "source": [
    "omex.add_entry(\n",
    "    entry=ManifestEntry(\n",
    "        location=\"./repressilator.xml\",\n",
    "        format=EntryFormat.SBML_L3V2,\n",
    "        master=False\n",
    "    ),\n",
    "    entry_path=RESULTS_DIR / \"repressilator_sbmlutils.xml\"\n",
    "    # entry_path=RESULTS_DIR / \"repressilator_libsbml.xml\"\n",
    ")\n",
    "console.print(omex)"
   ]
  },
  {
   "cell_type": "code",
   "execution_count": null,
   "id": "5d9c1e37",
   "metadata": {
    "collapsed": false
   },
   "outputs": [],
   "source": [
    "omex.add_entry(\n",
    "    entry=ManifestEntry(\n",
    "        location=\"./repressilator.xml\",\n",
    "        format=EntryFormat.CELLML,\n",
    "        master=False\n",
    "    ),\n",
    "    entry_path=RESULTS_DIR / \"repressilator.cellml\"\n",
    "    # entry_path=RESULTS_DIR / \"repressilator_libsbml.xml\"\n",
    ")\n",
    "console.print(omex)"
   ]
  },
  {
   "cell_type": "code",
   "execution_count": null,
   "id": "429108f7",
   "metadata": {
    "collapsed": false
   },
   "outputs": [],
   "source": [
    "omex.add_entry(\n",
    "    entry=ManifestEntry(\n",
    "        location=\"./repressilator.xml\",\n",
    "        format=EntryFormat.BIOPAX,\n",
    "        master=False\n",
    "    ),\n",
    "    entry_path=RESULTS_DIR / \"biopax.owl\"\n",
    "    # entry_path=RESULTS_DIR / \"repressilator_libsbml.xml\"\n",
    ")\n",
    "console.print(omex)"
   ]
  },
  {
   "cell_type": "code",
   "execution_count": null,
   "id": "1d61c4f3",
   "metadata": {
    "collapsed": false
   },
   "outputs": [],
   "source": [
    "omex.add_entry(\n",
    "    entry=ManifestEntry(\n",
    "        location=\"./repressilator.xml\",\n",
    "        format=EntryFormat.SBGN,\n",
    "        master=False\n",
    "    ),\n",
    "    entry_path=RESULTS_DIR / \"repressilator_sbgn.sbgn\"\n",
    "    # entry_path=RESULTS_DIR / \"repressilator_libsbml.xml\"\n",
    ")\n",
    "console.print(omex)"
   ]
  },
  {
   "cell_type": "code",
   "execution_count": null,
   "id": "edc5def3",
   "metadata": {
    "collapsed": false
   },
   "outputs": [],
   "source": [
    "omex.add_entry(\n",
    "    entry=ManifestEntry(\n",
    "        location=\"./repressilator.xml\",\n",
    "        format=EntryFormat.SEDML,\n",
    "        master=False\n",
    "    ),\n",
    "    entry_path=RESULTS_DIR / \"repressilator_sedml.xml\"\n",
    "    # entry_path=RESULTS_DIR / \"repressilator_libsbml.xml\"\n",
    ")\n",
    "console.print(omex)"
   ]
  },
  {
   "cell_type": "code",
   "execution_count": null,
   "id": "56767c6b",
   "metadata": {
    "collapsed": false
   },
   "outputs": [],
   "source": [
    "omex.to_omex(RESULTS_DIR / \"combine_notebooks.omex\")"
   ]
  }
 ],
 "metadata": {},
 "nbformat": 4,
 "nbformat_minor": 5
}
