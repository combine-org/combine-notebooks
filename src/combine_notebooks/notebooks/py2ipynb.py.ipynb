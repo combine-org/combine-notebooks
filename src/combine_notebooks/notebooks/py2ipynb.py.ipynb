{
 "cells": [
  {
   "cell_type": "code",
   "execution_count": null,
   "id": "ffc29d95",
   "metadata": {
    "collapsed": false
   },
   "outputs": [],
   "source": [
    "\"\"\"Convert python files to notebooks.\"\"\"\n",
    "\n",
    "from pathlib import Path\n",
    "\n",
    "from nbformat import v3, v4\n",
    "\n",
    "import codecs\n",
    "import ntpath\n",
    "RESOURCES_DIR: Path = Path(__file__).parent\n",
    "RESULTS_DIR: Path = RESOURCES_DIR / \"notebooks\"\n",
    "\n",
    "# files = Path(RESOURCES_DIR).glob('*')\n",
    "l=list(RESOURCES_DIR.glob('**/*.py'))\n",
    "for file in l:\n",
    "\n",
    "    # if file.endswith(\".py\"):\n",
    "    # with open(Path(__file__).parent / file, 'r', encoding='utf-8',\n",
    "    #                  errors='ignore') as fpin:\n",
    "    with open(file) as fpin:\n",
    "        text = fpin.read()\n",
    "    text += \"\"\"\n",
    "    # <markdowncell>\n",
    "\n",
    "    # If you can read this, reads_py() is no longer broken!\n",
    "    \"\"\"\n",
    "    nbook = v3.reads_py(text)\n",
    "    nbook = v4.upgrade(nbook)  # Upgrade v3 to v4\n",
    "\n",
    "    jsonform = v4.writes(nbook) + \"\\n\"\n",
    "    filename=str(ntpath.basename(file))+\".ipynb\"\n",
    "    filename=RESULTS_DIR / filename\n",
    "    print(filename)\n",
    "    with open(filename, \"w\") as fpout:\n",
    "        fpout.write(jsonform)\n",
    "\n",
    "    # <markdowncell>\n",
    "\n",
    "    # If you can read this, reads_py() is no longer broken!\n",
    "    "
   ]
  }
 ],
 "metadata": {},
 "nbformat": 4,
 "nbformat_minor": 5
}
