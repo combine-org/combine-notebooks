{
 "cells": [
  {
   "cell_type": "markdown",
   "id": "74206cb9",
   "metadata": {},
   "source": [
    "Create repressilator with antimony.\n",
    "\n",
    "http://antimony.sourceforge.net/\n",
    "https://tellurium.readthedocs.io/en/latest/antimony.html"
   ]
  },
  {
   "cell_type": "code",
   "execution_count": null,
   "id": "7d1cdc15",
   "metadata": {
    "collapsed": false
   },
   "outputs": [],
   "source": [
    "from pathlib import Path\n",
    "\n",
    "import antimony\n",
    "import libsbml\n",
    "\n",
    "from combine_notebooks.validation_sbml import validate_sbml"
   ]
  },
  {
   "cell_type": "code",
   "execution_count": null,
   "id": "bccc7007",
   "metadata": {
    "collapsed": false
   },
   "outputs": [],
   "source": [
    "def create_repressilator(sbml_path: Path) -> libsbml.SBMLDocument:\n",
    "    \"\"\"Create repressilator with antimony.\"\"\"\n",
    "    model: str = \"\"\"\n",
    "        model antimony_repressilator\n",
    "            # compartment\n",
    "            compartment cell = 1\n",
    "            # species\n",
    "            species PX = 0\n",
    "            species PY = 0\n",
    "            species PZ = 0\n",
    "            species X = 0\n",
    "            species Y = 20\n",
    "            species Z = 0\n",
    "            # parameters\n",
    "            beta = 0.2\n",
    "            alpha0 = 0.2164\n",
    "            alpha = 216.404\n",
    "            eff = 20\n",
    "            n = 2\n",
    "            KM = 40\n",
    "            tau_mRNA = 2\n",
    "            tau_prot = 10\n",
    "            ps_a = 0.5\n",
    "            ps_0 = 0.0005\n",
    "            # assignment rules\n",
    "            t_ave := tau_mRNA/ln(2);\n",
    "            beta := tau_mRNA/tau_prot;\n",
    "            k_tl := eff/t_ave;\n",
    "            a_tr := (ps_a - ps_0)*60;\n",
    "            a0_tr := ps_0*60;\n",
    "            kd_prot := ln(2)/tau_prot;\n",
    "            kd_mRNA := ln(2)/tau_mRNA;\n",
    "            alpha := a_tr*eff*tau_prot/(ln(2)*KM);\n",
    "            alpha0 := (a0_tr*eff*tau_prot)/(ln(2)*KM);\n",
    "\n",
    "            # reactions\n",
    "            X ->; kd_mRNA*X;\n",
    "            Y ->; kd_mRNA*Y;\n",
    "            Z ->; kd_mRNA*Z;\n",
    "            -> PX; k_tl*X;\n",
    "            -> PY; k_tl*Y;\n",
    "            -> PZ; k_tl*Z;\n",
    "            PX ->; kd_prot*PX;\n",
    "            PY ->; kd_prot*PY;\n",
    "            PZ ->; kd_prot*PZ;\n",
    "            -> X; a0_tr +a_tr *KM^n/(KM^n +PZ ^n);\n",
    "            -> Y; a0_tr +a_tr *KM^n/(KM^n +PX ^n);\n",
    "            -> Z; a0_tr +a_tr *KM^n/(KM^n +PY ^n);\n",
    "        end\n",
    "    \"\"\"\n",
    "    print(model)\n",
    "\n",
    "    status = antimony.loadAntimonyString(model)\n",
    "    print(f\"Antimony status: {status}\")\n",
    "    print(antimony.getLastError())\n",
    "    sbml_str = antimony.getSBMLString()\n",
    "    print(sbml_str)\n",
    "    print(antimony.getSBMLWarnings())\n",
    "\n",
    "    # validation\n",
    "    import libsbml\n",
    "\n",
    "    doc = libsbml.readSBMLFromString(sbml_str)\n",
    "    validate_sbml(doc)\n",
    "\n",
    "    # write SBML\n",
    "    libsbml.writeSBMLToFile(doc, str(sbml_path))\n",
    "\n",
    "    return doc"
   ]
  },
  {
   "cell_type": "code",
   "execution_count": null,
   "id": "25891667",
   "metadata": {
    "collapsed": false
   },
   "outputs": [],
   "source": [
    "if __name__ == \"__main__\":\n",
    "    # print(model)\n",
    "    RESOURCES_DIR: Path = Path(__file__).parent / \"resources\"\n",
    "    RESULTS_DIR: Path = RESOURCES_DIR / \"results\"\n",
    "    # from combine_notebooks import RESULTS_DIR\n",
    "\n",
    "    create_repressilator(sbml_path=RESULTS_DIR / \"repressilator_antimony.xml\")"
   ]
  }
 ],
 "metadata": {},
 "nbformat": 4,
 "nbformat_minor": 5
}
