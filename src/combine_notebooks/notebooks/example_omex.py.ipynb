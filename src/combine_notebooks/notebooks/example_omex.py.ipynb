{
 "cells": [
  {
   "cell_type": "markdown",
   "id": "2d6201ca",
   "metadata": {},
   "source": [
    "Example for creating a COMBINE archive."
   ]
  },
  {
   "cell_type": "code",
   "execution_count": null,
   "id": "abad1f35",
   "metadata": {
    "collapsed": false
   },
   "outputs": [],
   "source": [
    "# from pathlib import Path\n",
    "from pymetadata.console import console\n",
    "from pymetadata.omex import EntryFormat, ManifestEntry, Omex\n",
    "\n",
    "from combine_notebooks import RESULTS_DIR"
   ]
  },
  {
   "cell_type": "markdown",
   "id": "72ab1ca8",
   "metadata": {},
   "source": [
    "Creating an empty archive and adding entry for SBML."
   ]
  },
  {
   "cell_type": "code",
   "execution_count": null,
   "id": "68cc125c",
   "metadata": {
    "collapsed": false
   },
   "outputs": [],
   "source": [
    "# create new archive\n",
    "omex = Omex()\n",
    "omex.add_entry(\n",
    "    entry=ManifestEntry(\n",
    "        location=\"./sbml/repressilator_libsbml.xml\",\n",
    "        format=EntryFormat.SBML_L3V2,\n",
    "        master=False,\n",
    "    ),\n",
    "    entry_path=RESULTS_DIR / \"repressilator_libsbml.xml\",\n",
    ")"
   ]
  },
  {
   "cell_type": "code",
   "execution_count": null,
   "id": "aef9a6c2",
   "metadata": {
    "collapsed": false
   },
   "outputs": [],
   "source": [
    "omex.add_entry(\n",
    "    entry=ManifestEntry(\n",
    "        location=\"./sbml/repressilator_antimony.xml\",\n",
    "        format=EntryFormat.SBML_L3V2,\n",
    "        master=False,\n",
    "    ),\n",
    "    entry_path=RESULTS_DIR / \"repressilator_antimony.xml\",\n",
    ")"
   ]
  },
  {
   "cell_type": "code",
   "execution_count": null,
   "id": "2c5a678d",
   "metadata": {
    "collapsed": false
   },
   "outputs": [],
   "source": [
    "omex.add_entry(\n",
    "    entry=ManifestEntry(\n",
    "        location=\"./sbml/repressilator_sbmlutils.xml\",\n",
    "        format=EntryFormat.SBML_L3V2,\n",
    "        master=False,\n",
    "    ),\n",
    "    entry_path=RESULTS_DIR / \"repressilator_sbmlutils.xml\",\n",
    ")"
   ]
  },
  {
   "cell_type": "code",
   "execution_count": null,
   "id": "2a6da38d",
   "metadata": {
    "collapsed": false
   },
   "outputs": [],
   "source": [
    "omex.add_entry(\n",
    "    entry=ManifestEntry(\n",
    "        location=\"./cellml/repressilator.cellml\",\n",
    "        format=EntryFormat.CELLML,\n",
    "        master=False,\n",
    "    ),\n",
    "    entry_path=RESULTS_DIR / \"repressilator.cellml\",\n",
    ")"
   ]
  },
  {
   "cell_type": "code",
   "execution_count": null,
   "id": "300810dc",
   "metadata": {
    "collapsed": false
   },
   "outputs": [],
   "source": [
    "omex.add_entry(\n",
    "    entry=ManifestEntry(\n",
    "        location=\"./biopax/biopax.owl\", format=EntryFormat.BIOPAX, master=False\n",
    "    ),\n",
    "    entry_path=RESULTS_DIR / \"biopax.owl\",\n",
    ")"
   ]
  },
  {
   "cell_type": "code",
   "execution_count": null,
   "id": "5bfb9986",
   "metadata": {
    "collapsed": false
   },
   "outputs": [],
   "source": [
    "omex.add_entry(\n",
    "    entry=ManifestEntry(\n",
    "        location=\"./sbgn/repressilator_sbgn.sbgn\", format=EntryFormat.SBGN, master=False\n",
    "    ),\n",
    "    entry_path=RESULTS_DIR / \"repressilator_sbgn.sbgn\",\n",
    ")"
   ]
  },
  {
   "cell_type": "code",
   "execution_count": null,
   "id": "7922d993",
   "metadata": {
    "collapsed": false
   },
   "outputs": [],
   "source": [
    "omex.add_entry(\n",
    "    entry=ManifestEntry(\n",
    "        location=\"./sedml/repressilator_sedml.xml\",\n",
    "        format=EntryFormat.SEDML,\n",
    "        master=False,\n",
    "    ),\n",
    "    entry_path=RESULTS_DIR / \"repressilator_sedml.xml\"\n",
    "    # FIXME: add the model relative and test\n",
    ")"
   ]
  },
  {
   "cell_type": "code",
   "execution_count": null,
   "id": "f96bf9d4",
   "metadata": {
    "collapsed": false
   },
   "outputs": [],
   "source": [
    "console.print(omex)\n",
    "omex.to_omex(RESULTS_DIR / \"combine_notebooks.omex\")\n",
    "\n",
    "    # <markdowncell>\n",
    "\n",
    "    # If you can read this, reads_py() is no longer broken!\n",
    "    "
   ]
  }
 ],
 "metadata": {},
 "nbformat": 4,
 "nbformat_minor": 5
}
