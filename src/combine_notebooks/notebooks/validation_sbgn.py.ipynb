{
 "cells": [
  {
   "cell_type": "code",
   "execution_count": null,
   "id": "61d46883",
   "metadata": {
    "collapsed": false
   },
   "outputs": [],
   "source": [
    "\"\"\"Validation from libsbgn-python.\n",
    "\n",
    "see https://github.com/matthiaskoenig/libsbgn-python/blob/develop/src/libsbgnpy/validation/validator.py\n",
    "\"\"\"\n",
    "from libsbgnpy.validation.validator import validate_schematron, validate_xsd\n",
    "\n",
    "from combine_notebooks import RESULTS_DIR\n",
    "\n",
    "\n",
    "f_sbgn = str(RESULTS_DIR / \"repressilator_sbgn.sbgn\")\n",
    "# f = \"error-test-files/PD/pd10101-pass.sbgn\"\n",
    "# f = \"../examples/sbgn/glycolysis.sbgn\"\n",
    "\n",
    "xsd_valid = validate_xsd(f_sbgn) is None\n",
    "print(\"XSD valid ({}): {}\".format(f_sbgn, xsd_valid))\n",
    "\n",
    "    # <markdowncell>\n",
    "\n",
    "    # If you can read this, reads_py() is no longer broken!\n",
    "    "
   ]
  }
 ],
 "metadata": {},
 "nbformat": 4,
 "nbformat_minor": 5
}
