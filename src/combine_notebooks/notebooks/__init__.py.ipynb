{
 "cells": [
  {
   "cell_type": "code",
   "execution_count": null,
   "id": "fe451e8c",
   "metadata": {
    "collapsed": false
   },
   "outputs": [],
   "source": [
    "\"\"\"combine_notebooks - COMBINE jupyter notebooks in python.\"\"\"\n",
    "from pathlib import Path\n",
    "\n",
    "__version__ = \"0.0.1\"\n",
    "\n",
    "\n",
    "RESOURCES_DIR: Path = Path(__file__).parent / \"resources\"\n",
    "RESULTS_DIR: Path = Path(__file__).parent / \"results\"\n",
    "\n",
    "    # <markdowncell>\n",
    "\n",
    "    # If you can read this, reads_py() is no longer broken!\n",
    "    "
   ]
  }
 ],
 "metadata": {},
 "nbformat": 4,
 "nbformat_minor": 5
}
